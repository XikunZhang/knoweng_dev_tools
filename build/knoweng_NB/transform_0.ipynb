{
 "cells": [
  {
   "cell_type": "code",
   "execution_count": null,
   "metadata": {
    "collapsed": true
   },
   "outputs": [],
   "source": [
    "# Use the \"magic\" run command\n",
    "%run ../src/tk_transform.py"
   ]
  },
  {
   "cell_type": "code",
   "execution_count": null,
   "metadata": {
    "collapsed": true
   },
   "outputs": [],
   "source": [
    "# Use the os.system command line call\n",
    "import os\n",
    "os.system('python3 ../src/tk_transform.py')"
   ]
  },
  {
   "cell_type": "markdown",
   "metadata": {},
   "source": [
    "# Transpose a spreadsheet by three methods - demo.\n",
    "* Use the \"magic\" run command\n",
    "* Use the os.system command line call\n",
    "* Enter the file name using this notebook and call its function"
   ]
  },
  {
   "cell_type": "code",
   "execution_count": 1,
   "metadata": {
    "collapsed": true
   },
   "outputs": [],
   "source": [
    "# This cell must be run ( control-return or Cell - Run Cells ) before the next cells will work\n",
    "\n",
    "import os\n",
    "import pandas as pd\n",
    "\n",
    "def read_copy_transpose_write_df(full_file_name, output_file_name):\n",
    "    \"\"\" \n",
    "    Args:\n",
    "        full_file_name:\n",
    "        output_file_name:\n",
    "    Return:\n",
    "    \"\"\"\n",
    "    try:\n",
    "        spreadsheet_df = pd.read_csv(full_file_name, sep='\\t', index_col=0, header=0)\n",
    "        spreadsheet_df = spreadsheet_df.transpose()\n",
    "        spreadsheet_df.to_csv(output_file_name, sep='\\t', index=True, header=True)\n",
    "        return True\n",
    "    except:\n",
    "        pass\n",
    "        return False\n"
   ]
  },
  {
   "cell_type": "code",
   "execution_count": 2,
   "metadata": {},
   "outputs": [
    {
     "data": {
      "text/plain": [
       "['.DS_Store',\n",
       " 'Hsap.dream11.G.exome_mut.binary.df',\n",
       " 'Hsap.dream11.G.gene_cn.pos.df',\n",
       " 'Hsap.dream11.G.probe_expr.pos.df',\n",
       " 'Hsap.dream11.P.avg_ic50.pos.df',\n",
       " 'Hsap.dream11.P.cell_line_info.mixed.df',\n",
       " 'tcga_ucec_somatic_mutation_data.df',\n",
       " 'UCEC_phenotype.txt',\n",
       " 'UCEC_phenotype_T.tsv',\n",
       " 'UCEC_phenotype_TT.txt']"
      ]
     },
     "execution_count": 2,
     "metadata": {},
     "output_type": "execute_result"
    }
   ],
   "source": [
    "# Enter a relative directory name and show it below this cell\n",
    "data_source_directory = './transform_data'\n",
    "os.listdir(data_source_directory)"
   ]
  },
  {
   "cell_type": "code",
   "execution_count": 4,
   "metadata": {},
   "outputs": [
    {
     "name": "stdout",
     "output_type": "stream",
     "text": [
      "The transformation was successfull =  True\n"
     ]
    }
   ],
   "source": [
    "# Enter the file name using this notebook and call its function\n",
    "full_file_name = os.path.join(data_source_directory, 'UCEC_phenotype.txt')\n",
    "output_file_name = os.path.join(data_source_directory, 'UCEC_phenotype_TT.txt')\n",
    "SUCCESS = read_copy_transpose_write_df(full_file_name, output_file_name)\n",
    "print('The transformation was successfull =', SUCCESS)"
   ]
  },
  {
   "cell_type": "code",
   "execution_count": null,
   "metadata": {
    "collapsed": true
   },
   "outputs": [],
   "source": []
  },
  {
   "cell_type": "code",
   "execution_count": 1,
   "metadata": {},
   "outputs": [
    {
     "data": {
      "text/plain": [
       "['.ipynb_checkpoints',\n",
       " 'Dockerfile',\n",
       " 'Find_and_View.ipynb',\n",
       " 'gui_transpose.ipynb',\n",
       " 'tk_gui.ipynb',\n",
       " 'transform_0.ipynb',\n",
       " 'transform_1.ipynb',\n",
       " 'transform_2.ipynb',\n",
       " 'transform_3.ipynb',\n",
       " 'transform_4.ipynb',\n",
       " 'transform_5.ipynb',\n",
       " 'transpose_module.py']"
      ]
     },
     "execution_count": 1,
     "metadata": {},
     "output_type": "execute_result"
    }
   ],
   "source": [
    "import os\n",
    "os.listdir()"
   ]
  },
  {
   "cell_type": "code",
   "execution_count": 2,
   "metadata": {
    "collapsed": true
   },
   "outputs": [],
   "source": [
    "import sys\n",
    "sys.path.insert(1, '../src')"
   ]
  },
  {
   "cell_type": "code",
   "execution_count": null,
   "metadata": {
    "collapsed": true
   },
   "outputs": [],
   "source": []
  },
  {
   "cell_type": "code",
   "execution_count": null,
   "metadata": {
    "collapsed": true
   },
   "outputs": [],
   "source": []
  }
 ],
 "metadata": {
  "kernelspec": {
   "display_name": "Python 3",
   "language": "python",
   "name": "python3"
  },
  "language_info": {
   "codemirror_mode": {
    "name": "ipython",
    "version": 3
   },
   "file_extension": ".py",
   "mimetype": "text/x-python",
   "name": "python",
   "nbconvert_exporter": "python",
   "pygments_lexer": "ipython3",
   "version": "3.5.2"
  }
 },
 "nbformat": 4,
 "nbformat_minor": 2
}
