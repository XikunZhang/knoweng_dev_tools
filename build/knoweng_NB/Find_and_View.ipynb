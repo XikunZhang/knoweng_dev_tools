{
 "cells": [
  {
   "cell_type": "markdown",
   "metadata": {},
   "source": [
    "# Figure out if a file is tab, comma or space and convert to \".tsv\""
   ]
  },
  {
   "cell_type": "code",
   "execution_count": 2,
   "metadata": {
    "collapsed": true
   },
   "outputs": [],
   "source": [
    "from IPython.display import display\n",
    "import os\n",
    "import pandas as pd"
   ]
  },
  {
   "cell_type": "markdown",
   "metadata": {},
   "source": [
    "##### Find the data file.\n",
    "* if the \"spreadsheet_file\" variable is \" '' \" or non-existant a listing of the directory will appear.\n",
    "* you may copy and paste from the directory listing"
   ]
  },
  {
   "cell_type": "code",
   "execution_count": 3,
   "metadata": {},
   "outputs": [
    {
     "name": "stdout",
     "output_type": "stream",
     "text": [
      "contents\n",
      " ../../data \n",
      "\n",
      ".DS_Store\n",
      "spreadsheet_A_df.tsv\n",
      "spreadsheet_A_df.xls\n",
      "spreadsheet_A_df_T.tsv\n",
      "spreadsheet_ALPHA_data_df.tsv\n",
      "spreadsheet_B_df.tsv\n",
      "spreadsheet_duplicate_cols_df.tsv\n",
      "spreadsheet_duplicate_rows__df.tsv\n",
      "spreadsheet_duplicate_rows_AND_cols_df.tsv\n",
      "spreadsheet_EMPTY_cols_df.tsv\n",
      "spreadsheet_EMPTY_rows_df.tsv\n",
      "spreadsheet_NA_cols_df.tsv\n",
      "spreadsheet_NA_rows_and_cols_df.tsv\n",
      "spreadsheet_NA_rows_df.tsv\n",
      "spreadsheet_NAN_data_df.tsv\n",
      "spreadsheet_Negative_data_df.tsv\n",
      "\n",
      " spreadsheet_A_df.xlsPP \n",
      " File not found.\n"
     ]
    }
   ],
   "source": [
    "data_directory = '../../data'\n",
    "spreadsheet_file = 'spreadsheet_A_df.xlsPP'\n",
    "\n",
    "if os.path.isdir(data_directory):\n",
    "    full_file_name = os.path.join(data_directory, spreadsheet_file)\n",
    "    if not os.path.isfile(full_file_name):\n",
    "        print('contents\\n', data_directory, '\\n')\n",
    "        dir_list = os.listdir(data_directory)\n",
    "        for item_name in dir_list:\n",
    "            print(item_name)\n",
    "        print('\\n', spreadsheet_file, '\\n File not found.')\n",
    "    else:\n",
    "        full_file_name = os.path.abspath(full_file_name)\n",
    "        print('The file:', full_file_name)\n",
    "        print('is referenced by:\\n\\t', data_directory, '\\n\\t',spreadsheet_file,'\\n')\n",
    "else:\n",
    "    print(data_directory, '\\ndirectory not found.')"
   ]
  },
  {
   "cell_type": "markdown",
   "metadata": {},
   "source": [
    "##### Function: View the data.\n",
    "* Usage:   view_spreadsheet_file_AS(data_directory, spreadsheet_file)\n",
    "    * any place in the notebook after the function definition cell has been executed."
   ]
  },
  {
   "cell_type": "code",
   "execution_count": 47,
   "metadata": {
    "collapsed": true
   },
   "outputs": [],
   "source": [
    "def view_or_Write_spreadsheet_file_AS(data_directory, spreadsheet_file, FORMAT_TYPE):\n",
    "    DOWRITE=False\n",
    "    separator_char = 'null'\n",
    "    full_file_name = os.path.join(data_directory, spreadsheet_file)\n",
    "    if os.path.isfile(full_file_name):\n",
    "        \n",
    "        print(spreadsheet_file, 'AS input format type', FORMAT_TYPE, '\\n\\n')\n",
    "        \n",
    "        if FORMAT_TYPE is None or FORMAT_TYPE == 'tab':\n",
    "            separator_char = '\\t'\n",
    "            \n",
    "        elif FORMAT_TYPE == 'comma':\n",
    "            separator_char = ','\n",
    "            \n",
    "        elif FORMAT_TYPE == 'semicolon':\n",
    "            separator_char = ';'\n",
    "            \n",
    "        elif FORMAT_TYPE == 'space':\n",
    "            separator_char = ' '\n",
    "\n",
    "        try:\n",
    "            if FORMAT_TYPE == 'excel':\n",
    "                spreadsheet_df = pd.read_excel(full_file_name, sheetname=0 )\n",
    "            else:\n",
    "                spreadsheet_df = pd.read_csv(full_file_name, sep=separator_char, index_col=0, header=0)\n",
    "\n",
    "            print(full_file_name, 'contains:')\n",
    "            display(spreadsheet_df)\n",
    "            print('\\nwhen opend with',FORMAT_TYPE,'separator characters\\n')\n",
    "            var = input('Save as tab separated file? > Y/N (capital letter Y will write)')\n",
    "            \n",
    "            if var == 'Y':\n",
    "                if separator_char != '\\t':\n",
    "                    print('\\nFile is already tab separated\\n')\n",
    "                else:\n",
    "                    full_file_name, null_ext = os.path.splitext(full_file_name)\n",
    "                    spreadsheet_df.to_csv(full_file_name + '_AS.tsv', sep='\\t')\n",
    "        except:\n",
    "            pass\n",
    "\n",
    "    return "
   ]
  },
  {
   "cell_type": "markdown",
   "metadata": {},
   "source": [
    "#### Call the function to view the file - if the file is not displayed then the format option type is incorrect.\n",
    "#### If the spacing and order of the displayed segment of the spreadsheet look correct answer \"Y\" to write to \".tsv\""
   ]
  },
  {
   "cell_type": "code",
   "execution_count": 48,
   "metadata": {},
   "outputs": [
    {
     "name": "stdout",
     "output_type": "stream",
     "text": [
      "spreadsheet_A_df.xls AS input format type excel \n",
      "\n",
      "\n",
      "../../data/spreadsheet_A_df.xls contains:\n"
     ]
    },
    {
     "data": {
      "text/html": [
       "<div>\n",
       "<table border=\"1\" class=\"dataframe\">\n",
       "  <thead>\n",
       "    <tr style=\"text-align: right;\">\n",
       "      <th></th>\n",
       "      <th>IIDFJ</th>\n",
       "      <th>BYGAO</th>\n",
       "      <th>ARADC</th>\n",
       "      <th>RMMAJ</th>\n",
       "      <th>RNZEA</th>\n",
       "    </tr>\n",
       "  </thead>\n",
       "  <tbody>\n",
       "    <tr>\n",
       "      <th>ENSG00000000003</th>\n",
       "      <td>0</td>\n",
       "      <td>1</td>\n",
       "      <td>1</td>\n",
       "      <td>0</td>\n",
       "      <td>0</td>\n",
       "    </tr>\n",
       "    <tr>\n",
       "      <th>ENSG00000000005</th>\n",
       "      <td>0</td>\n",
       "      <td>1</td>\n",
       "      <td>0</td>\n",
       "      <td>1</td>\n",
       "      <td>0</td>\n",
       "    </tr>\n",
       "    <tr>\n",
       "      <th>ENSG00000000419</th>\n",
       "      <td>0</td>\n",
       "      <td>1</td>\n",
       "      <td>1</td>\n",
       "      <td>0</td>\n",
       "      <td>0</td>\n",
       "    </tr>\n",
       "    <tr>\n",
       "      <th>ENSG00000000457</th>\n",
       "      <td>0</td>\n",
       "      <td>0</td>\n",
       "      <td>0</td>\n",
       "      <td>0</td>\n",
       "      <td>1</td>\n",
       "    </tr>\n",
       "    <tr>\n",
       "      <th>ENSG00000000460</th>\n",
       "      <td>1</td>\n",
       "      <td>1</td>\n",
       "      <td>0</td>\n",
       "      <td>0</td>\n",
       "      <td>0</td>\n",
       "    </tr>\n",
       "  </tbody>\n",
       "</table>\n",
       "</div>"
      ],
      "text/plain": [
       "                 IIDFJ  BYGAO  ARADC  RMMAJ  RNZEA\n",
       "ENSG00000000003      0      1      1      0      0\n",
       "ENSG00000000005      0      1      0      1      0\n",
       "ENSG00000000419      0      1      1      0      0\n",
       "ENSG00000000457      0      0      0      0      1\n",
       "ENSG00000000460      1      1      0      0      0"
      ]
     },
     "metadata": {},
     "output_type": "display_data"
    },
    {
     "name": "stdout",
     "output_type": "stream",
     "text": [
      "\n",
      "when opend with excel separator characters\n",
      "\n",
      "Save as tab separated file? >> Y/N (capital letter Y)False\n"
     ]
    }
   ],
   "source": [
    "FORMAT_TYPE_OPTIONS = ['tab', 'comma', 'semicolon', 'space', 'excel'] # copy one into FORMAT_TYPE\n",
    "FORMAT_TYPE = 'excel'\n",
    "view_or_Write_spreadsheet_file_AS(data_directory, spreadsheet_file, FORMAT_TYPE)"
   ]
  },
  {
   "cell_type": "markdown",
   "metadata": {},
   "source": [
    "#### If the file cannot be viewed correctly with the above function then it is beyond the capacity of this notebook to fix."
   ]
  },
  {
   "cell_type": "code",
   "execution_count": 4,
   "metadata": {
    "collapsed": true
   },
   "outputs": [],
   "source": [
    "input_form = \"\"\"\n",
    "<div style=\"border:solid navy; padding:20px;\">\n",
    "<input type=\"file\" id=\"file_selector\" name=\"files[]\"/>\n",
    "<output id=\"list\"></output>\n",
    "</div>\n",
    "\"\"\"\n",
    "\n",
    "javascript = \"\"\"\n",
    "<script type=\"text/Javascript\">\n",
    "  function handleFileSelect(evt) {\n",
    "    var kernel = IPython.notebook.kernel;\n",
    "    var files = evt.target.files; // FileList object\n",
    "    console.log('Executing orig')\n",
    "    console.log(files)\n",
    "    // files is a FileList of File objects. List some properties.\n",
    "    var output = [];\n",
    "    var f = files[0]\n",
    "    output.push('<li><strong>', escape(f.name), '</strong> (', f.type || 'n/a', ') - ',\n",
    "                  f.size, ' bytes, last modified: ',\n",
    "                  f.lastModifiedDate ? f.lastModifiedDate.toLocaleDateString() : 'n/a',\n",
    "                  '</_Mli>');\n",
    "    document.getElementById('list').innerHTML = '<ul>' + output.join('') + '</ul>';\n",
    "    var command = 'fname = \"' + f.name + '\"'\n",
    "    console.log(command)\n",
    "    kernel.execute(command);\n",
    "  }\n",
    "\n",
    "  document.getElementById('file_selector').addEventListener('change', handleFileSelect, false);\n",
    "</script>\n",
    "\"\"\"\n",
    "\n",
    "def file_selector():\n",
    "    from IPython.display import HTML, display\n",
    "    display(HTML(input_form + javascript))"
   ]
  },
  {
   "cell_type": "code",
   "execution_count": 5,
   "metadata": {},
   "outputs": [
    {
     "data": {
      "text/html": [
       "\n",
       "<div style=\"border:solid navy; padding:20px;\">\n",
       "<input type=\"file\" id=\"file_selector\" name=\"files[]\"/>\n",
       "<output id=\"list\"></output>\n",
       "</div>\n",
       "\n",
       "<script type=\"text/Javascript\">\n",
       "  function handleFileSelect(evt) {\n",
       "    var kernel = IPython.notebook.kernel;\n",
       "    var files = evt.target.files; // FileList object\n",
       "    console.log('Executing orig')\n",
       "    console.log(files)\n",
       "    // files is a FileList of File objects. List some properties.\n",
       "    var output = [];\n",
       "    var f = files[0]\n",
       "    output.push('<li><strong>', escape(f.name), '</strong> (', f.type || 'n/a', ') - ',\n",
       "                  f.size, ' bytes, last modified: ',\n",
       "                  f.lastModifiedDate ? f.lastModifiedDate.toLocaleDateString() : 'n/a',\n",
       "                  '</_Mli>');\n",
       "    document.getElementById('list').innerHTML = '<ul>' + output.join('') + '</ul>';\n",
       "    var command = 'fname = \"' + f.name + '\"'\n",
       "    console.log(command)\n",
       "    kernel.execute(command);\n",
       "  }\n",
       "\n",
       "  document.getElementById('file_selector').addEventListener('change', handleFileSelect, false);\n",
       "</script>\n"
      ],
      "text/plain": [
       "<IPython.core.display.HTML object>"
      ]
     },
     "metadata": {},
     "output_type": "display_data"
    },
    {
     "name": "stdout",
     "output_type": "stream",
     "text": [
      "\n"
     ]
    }
   ],
   "source": [
    "fname = ''\n",
    "file_selector()\n",
    "print(fname)"
   ]
  },
  {
   "cell_type": "code",
   "execution_count": 6,
   "metadata": {},
   "outputs": [
    {
     "data": {
      "text/plain": [
       "str"
      ]
     },
     "execution_count": 6,
     "metadata": {},
     "output_type": "execute_result"
    }
   ],
   "source": [
    "type(fname)"
   ]
  },
  {
   "cell_type": "code",
   "execution_count": 7,
   "metadata": {},
   "outputs": [
    {
     "data": {
      "text/plain": [
       "'Decoupling.1.1.pdf'"
      ]
     },
     "execution_count": 7,
     "metadata": {},
     "output_type": "execute_result"
    }
   ],
   "source": [
    "fname"
   ]
  },
  {
   "cell_type": "code",
   "execution_count": null,
   "metadata": {
    "collapsed": true
   },
   "outputs": [],
   "source": []
  }
 ],
 "metadata": {
  "kernelspec": {
   "display_name": "Python 3",
   "language": "python",
   "name": "python3"
  },
  "language_info": {
   "codemirror_mode": {
    "name": "ipython",
    "version": 3
   },
   "file_extension": ".py",
   "mimetype": "text/x-python",
   "name": "python",
   "nbconvert_exporter": "python",
   "pygments_lexer": "ipython3",
   "version": "3.5.3"
  }
 },
 "nbformat": 4,
 "nbformat_minor": 2
}
