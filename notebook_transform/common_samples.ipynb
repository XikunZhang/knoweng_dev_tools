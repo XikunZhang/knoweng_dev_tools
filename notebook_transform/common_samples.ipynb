{
 "cells": [
  {
   "cell_type": "markdown",
   "metadata": {},
   "source": [
    "## Two spreadsheets with common sample names returned as common samples only.\n",
    "* Samples x Phenotypes (SxP) spreadsheets may have different phenotypes.\n",
    "* They must have some sample names in common.\n",
    "##### aka  transform_1"
   ]
  },
  {
   "cell_type": "code",
   "execution_count": 1,
   "metadata": {
    "collapsed": true
   },
   "outputs": [],
   "source": [
    "# Prepare ipython:       (Shift-Enter on this cell before any others)\n",
    "\n",
    "import os\n",
    "import sys\n",
    "sys.path.insert(1,'../src')\n",
    "from transformation_toolbox import read_get_common_samples_write"
   ]
  },
  {
   "cell_type": "markdown",
   "metadata": {},
   "source": [
    "#### Type (or paste) the file names here."
   ]
  },
  {
   "cell_type": "code",
   "execution_count": 2,
   "metadata": {
    "collapsed": true
   },
   "outputs": [],
   "source": [
    "#               construct the input data structure as a python dictionary\n",
    "input_directory = '../data/transform_data'\n",
    "full_file_name_1 = 'spreadsheet_One.txt'\n",
    "full_file_name_2 = 'spreadsheet_Two.txt'\n",
    "\n",
    "output_directory = '../test'\n",
    "out_file_name_1 = 'spreadsheet_One_T1.txt'\n",
    "out_file_name_2 = 'spreadsheet_Two_T1.txt'\n",
    "\n",
    "run_parameters = {'method': 'get_common_samples'}\n",
    "run_parameters['full_file_name_1'] = os.path.join(input_directory, full_file_name_1)\n",
    "run_parameters['full_file_name_2'] = os.path.join(input_directory, full_file_name_2)\n",
    "run_parameters['out_file_name_1'] = os.path.join(output_directory, out_file_name_1)\n",
    "run_parameters['out_file_name_2'] = os.path.join(output_directory, out_file_name_2)"
   ]
  },
  {
   "cell_type": "code",
   "execution_count": 3,
   "metadata": {},
   "outputs": [
    {
     "name": "stdout",
     "output_type": "stream",
     "text": [
      "Common Samples operation exception\n",
      "Check output files.\n"
     ]
    }
   ],
   "source": [
    "#               Transpose and write the file (or get and exception message)\n",
    "\n",
    "STATUS = read_get_common_samples_write(run_parameters)\n",
    "if STATUS != 0:\n",
    "    print('Common Samples operation exception\\nCheck output files.')"
   ]
  },
  {
   "cell_type": "code",
   "execution_count": 4,
   "metadata": {},
   "outputs": [
    {
     "ename": "FileNotFoundError",
     "evalue": "[Errno 2] No such file or directory: './test'",
     "output_type": "error",
     "traceback": [
      "\u001b[0;31m---------------------------------------------------------------------------\u001b[0m",
      "\u001b[0;31mFileNotFoundError\u001b[0m                         Traceback (most recent call last)",
      "\u001b[0;32m<ipython-input-4-7c55802a60e7>\u001b[0m in \u001b[0;36m<module>\u001b[0;34m()\u001b[0m\n\u001b[1;32m      1\u001b[0m \u001b[0;31m#               View the output directory\u001b[0m\u001b[0;34m\u001b[0m\u001b[0;34m\u001b[0m\u001b[0m\n\u001b[0;32m----> 2\u001b[0;31m \u001b[0mos\u001b[0m\u001b[0;34m.\u001b[0m\u001b[0mlistdir\u001b[0m\u001b[0;34m(\u001b[0m\u001b[0moutput_directory\u001b[0m\u001b[0;34m)\u001b[0m\u001b[0;34m\u001b[0m\u001b[0m\n\u001b[0m",
      "\u001b[0;31mFileNotFoundError\u001b[0m: [Errno 2] No such file or directory: './test'"
     ]
    }
   ],
   "source": [
    "#               View the output directory\n",
    "os.listdir(output_directory)"
   ]
  },
  {
   "cell_type": "code",
   "execution_count": null,
   "metadata": {
    "collapsed": true
   },
   "outputs": [],
   "source": []
  },
  {
   "cell_type": "code",
   "execution_count": null,
   "metadata": {
    "collapsed": true
   },
   "outputs": [],
   "source": []
  }
 ],
 "metadata": {
  "kernelspec": {
   "display_name": "Python 3",
   "language": "python",
   "name": "python3"
  },
  "language_info": {
   "codemirror_mode": {
    "name": "ipython",
    "version": 3
   },
   "file_extension": ".py",
   "mimetype": "text/x-python",
   "name": "python",
   "nbconvert_exporter": "python",
   "pygments_lexer": "ipython3",
   "version": "3.5.3"
  }
 },
 "nbformat": 4,
 "nbformat_minor": 2
}
