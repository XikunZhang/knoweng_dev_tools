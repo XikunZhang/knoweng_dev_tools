{
 "cells": [
  {
   "cell_type": "markdown",
   "metadata": {},
   "source": [
    "## Two spreadsheets with common sample names returned as common samples only.\n",
    "* Samples x Phenotypes (SxP) spreadsheets may have different phenotypes.\n",
    "* They must have some sample names in common.\n",
    "##### aka  transform_1"
   ]
  },
  {
   "cell_type": "code",
   "execution_count": 1,
   "metadata": {
    "collapsed": true
   },
   "outputs": [],
   "source": [
    "# Prepare ipython:       (Shift-Enter on this cell before any others)\n",
    "\n",
    "import os\n",
    "import sys\n",
    "sys.path.insert(1,'../src')\n",
    "from transformation_toolbox import read_get_common_samples_write"
   ]
  },
  {
   "cell_type": "markdown",
   "metadata": {},
   "source": [
    "#### Type (or paste) the file names here."
   ]
  },
  {
   "cell_type": "code",
   "execution_count": 2,
   "metadata": {
    "collapsed": true
   },
   "outputs": [],
   "source": [
    "#               construct the input data structure as a python dictionary\n",
    "input_directory = './transform_data'\n",
    "full_file_name_1 = 'spreadsheet_One.txt'\n",
    "full_file_name_2 = 'spreadsheet_Two.txt'\n",
    "\n",
    "output_directory = './transform_data'\n",
    "out_file_name_1 = 'spreadsheet_One_T1.txt'\n",
    "out_file_name_2 = 'spreadsheet_Two_T1.txt'\n",
    "\n",
    "run_parameters = {'method': 'get_common_samples'}\n",
    "run_parameters['full_file_name_1'] = os.path.join(input_directory, full_file_name_1)\n",
    "run_parameters['full_file_name_2'] = os.path.join(input_directory, full_file_name_2)\n",
    "run_parameters['out_file_name_1'] = os.path.join(output_directory, out_file_name_1)\n",
    "run_parameters['out_file_name_2'] = os.path.join(output_directory, out_file_name_2)"
   ]
  },
  {
   "cell_type": "code",
   "execution_count": 3,
   "metadata": {},
   "outputs": [],
   "source": [
    "#               Transpose and write the file (or get and exception message)\n",
    "\n",
    "STATUS = read_get_common_samples_write(run_parameters)\n",
    "if STATUS != 0:\n",
    "    print('Common Samples operation exception\\nCheck output files.')"
   ]
  },
  {
   "cell_type": "code",
   "execution_count": 4,
   "metadata": {},
   "outputs": [
    {
     "data": {
      "text/plain": [
       "['.DS_Store',\n",
       " 'gene_samples_1.tsv',\n",
       " 'gene_samples_small.tsv',\n",
       " 'gene_samples_small_labels.tsv',\n",
       " 'Hsap.dream11.G.exome_mut.binary.df',\n",
       " 'Hsap.dream11.G.gene_cn.pos.df',\n",
       " 'Hsap.dream11.G.probe_expr.pos.df',\n",
       " 'Hsap.dream11.P.avg_ic50.pos.df',\n",
       " 'Hsap.dream11.P.cell_line_info.mixed.df',\n",
       " 'spreadsheet_One.txt',\n",
       " 'spreadsheet_One_T1.txt',\n",
       " 'spreadsheet_One_T3.txt',\n",
       " 'spreadsheet_Two.txt',\n",
       " 'spreadsheet_Two_T1.txt',\n",
       " 'tcga_ucec_somatic_mutation_data.df',\n",
       " 'transform_5_spreadsheet.tsv',\n",
       " 'UCEC_phenotype.txt',\n",
       " 'UCEC_phenotype_T.tsv']"
      ]
     },
     "execution_count": 4,
     "metadata": {},
     "output_type": "execute_result"
    }
   ],
   "source": [
    "#               View the output directory\n",
    "os.listdir(output_directory)"
   ]
  },
  {
   "cell_type": "code",
   "execution_count": null,
   "metadata": {
    "collapsed": true
   },
   "outputs": [],
   "source": []
  },
  {
   "cell_type": "code",
   "execution_count": null,
   "metadata": {
    "collapsed": true
   },
   "outputs": [],
   "source": []
  }
 ],
 "metadata": {
  "kernelspec": {
   "display_name": "Python 3",
   "language": "python",
   "name": "python3"
  },
  "language_info": {
   "codemirror_mode": {
    "name": "ipython",
    "version": 3
   },
   "file_extension": ".py",
   "mimetype": "text/x-python",
   "name": "python",
   "nbconvert_exporter": "python",
   "pygments_lexer": "ipython3",
   "version": "3.5.3"
  }
 },
 "nbformat": 4,
 "nbformat_minor": 2
}
