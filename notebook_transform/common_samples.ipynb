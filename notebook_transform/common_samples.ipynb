{
 "cells": [
  {
   "cell_type": "markdown",
   "metadata": {},
   "source": [
    "# Transformation     # 1\n",
    "\n",
    "## Two spreadsheets with sample names in common are returned with only the common samples in each.\n",
    "* Samples x Phenotypes (SxP) spreadsheets may have different phenotypes.\n",
    "* They must have some sample names in common."
   ]
  },
  {
   "cell_type": "code",
   "execution_count": 1,
   "metadata": {},
   "outputs": [],
   "source": [
    "# Manually enter the directories and filenames of both the input file and the output file. \n",
    "input_directory = './transform_data/'\n",
    "input_file_name1 = 'spreadsheet_One.txt'\n",
    "input_file_name2 = 'spreadsheet_Two.txt'\n",
    "output_directory = './transform_data/'\n",
    "output_file_name1 = 'spreadsheet_One_T1.txt'\n",
    "output_file_name2 = 'spreadsheet_Two_T1.txt'"
   ]
  },
  {
   "cell_type": "code",
   "execution_count": 2,
   "metadata": {},
   "outputs": [],
   "source": [
    "import os\n",
    "from transformations import gui\n",
    "\n",
    "input_full_path1 = os.path.join(input_directory,input_file_name1)\n",
    "input_full_path2 = os.path.join(input_directory,input_file_name2)\n",
    "output_full_path1 = os.path.join(output_directory,output_file_name1)\n",
    "output_full_path2 = os.path.join(output_directory,output_file_name2)\n",
    "#transform_func = transpose    #function defined in module notebook_transformations.py"
   ]
  },
  {
   "cell_type": "code",
   "execution_count": 3,
   "metadata": {},
   "outputs": [],
   "source": [
    "gui(input_full_path1,input_full_path2,output_full_path1,output_full_path2,num=1)"
   ]
  },
  {
   "cell_type": "code",
   "execution_count": null,
   "metadata": {},
   "outputs": [],
   "source": []
  },
  {
   "cell_type": "code",
   "execution_count": null,
   "metadata": {},
   "outputs": [],
   "source": []
  }
 ],
 "metadata": {
  "kernelspec": {
   "display_name": "Python 3",
   "language": "python",
   "name": "python3"
  },
  "language_info": {
   "codemirror_mode": {
    "name": "ipython",
    "version": 3
   },
   "file_extension": ".py",
   "mimetype": "text/x-python",
   "name": "python",
   "nbconvert_exporter": "python",
   "pygments_lexer": "ipython3",
   "version": "3.6.1"
  }
 },
 "nbformat": 4,
 "nbformat_minor": 2
}
