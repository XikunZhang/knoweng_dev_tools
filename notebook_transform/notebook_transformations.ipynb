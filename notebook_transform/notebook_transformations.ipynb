{
 "cells": [
  {
   "cell_type": "markdown",
   "metadata": {},
   "source": [
    "# A module that contains all 6 notebook transformations. \n",
    "* To import this module in other scripts, use: \n",
    "```python\n",
    "import nbfinder\n",
    "from notebook_transformations import *\n",
    "```\n",
    "The link of installing nbfinder is [here](https://github.com/hadim/nbfinder). \n",
    "* An alternative approach is to first import this notebook as python file and then import this as a normal .py module. "
   ]
  },
  {
   "cell_type": "code",
   "execution_count": 1,
   "metadata": {
    "collapsed": true
   },
   "outputs": [],
   "source": [
    "import pandas as pd\n",
    "import knpackage.toolbox as kn"
   ]
  },
  {
   "cell_type": "markdown",
   "metadata": {},
   "source": [
    "## Transform_0:\n",
    "### Transpose a spreansheet\n"
   ]
  },
  {
   "cell_type": "code",
   "execution_count": 2,
   "metadata": {
    "collapsed": true
   },
   "outputs": [],
   "source": [
    "def transpose(spreadsheet_df):\n",
    "    '''\n",
    "    Args:\n",
    "        spreadsheet_df: the input spreadsheet(panda data frame)\n",
    "    Return: \n",
    "        the output data frame that has been transposed\n",
    "    '''\n",
    "    return spreadsheet_df.transpose()"
   ]
  },
  {
   "cell_type": "markdown",
   "metadata": {},
   "source": [
    "## Transform_1:  \n",
    "### Turn two samples-overlapping spreadsheets into two intersection-only spreadsheets.\n",
    "* Samples x Phenotypes (SxP) must have the same phenotypes.\n",
    "* They must have some sample names in common."
   ]
  },
  {
   "cell_type": "code",
   "execution_count": 3,
   "metadata": {
    "collapsed": true
   },
   "outputs": [],
   "source": [
    "def get_common_samples_data_frames(sxp_1_df, sxp_2_df):\n",
    "    \"\"\" \n",
    "    Args:\n",
    "        sxp_1_df:      samples x phenotypes dataframe (sxp_1_df = kn.get_spreadsheet_df(sxp_filename_1))\n",
    "        sxp_2_df:      samples x phenotypes dataframe\n",
    "    Returns:\n",
    "        sxp_1_trim_df: samples x phenotypes with only sample names in both input dataframes\n",
    "        sxp_2_trim_df: samples x phenotypes with only sample names in both input dataframes\n",
    "    \"\"\"\n",
    "    sxp_1_gene_names = kn.extract_spreadsheet_gene_names(sxp_1_df)\n",
    "    sxp_2_gene_names = kn.extract_spreadsheet_gene_names(sxp_2_df)\n",
    "    common_samples_list = kn.find_common_node_names(sxp_1_gene_names, sxp_2_gene_names)\n",
    "    \n",
    "    return sxp_1_df.loc[common_samples_list], sxp_2_df.loc[common_samples_list]"
   ]
  },
  {
   "cell_type": "markdown",
   "metadata": {},
   "source": [
    "## Transform_2: \n",
    "### Turn two spreadsheets into one union-samples, union-phenotypes spreadsheet.\n",
    "* Samples x Phenotypes input files must have the different phenotypes."
   ]
  },
  {
   "cell_type": "code",
   "execution_count": 4,
   "metadata": {
    "collapsed": true
   },
   "outputs": [],
   "source": [
    "def merge_unique_phenotypes_for_all_samples(spreadsheet_1_df, spreadsheet_2_df):\n",
    "    \"\"\" \n",
    "    Args:\n",
    "        spreadsheet_1_df: samples x phenotypes dataframe\n",
    "        spreadsheet_2_df: samples x phenotypes dataframe\n",
    "    Returns:\n",
    "        union_df:         samples x phenotypes dataframe with combined samples and phenotypes\n",
    "    \"\"\"\n",
    "    spreadsheet_1_samples = kn.extract_spreadsheet_gene_names(spreadsheet_1_df)\n",
    "    spreadsheet_2_samples = kn.extract_spreadsheet_gene_names(spreadsheet_2_df)\n",
    "    \n",
    "    all_samples_list = kn.find_unique_node_names(spreadsheet_1_samples, spreadsheet_2_samples)\n",
    "    \n",
    "    spreadsheet_1_phenotypes = list(spreadsheet_1_df.columns)\n",
    "    spreadsheet_2_phenotypes = list(spreadsheet_2_df.columns)\n",
    "    \n",
    "    all_phenotypes_list = kn.find_unique_node_names(spreadsheet_1_phenotypes, spreadsheet_2_phenotypes)\n",
    "    \n",
    "    spreadsheet_X_df = pd.concat([spreadsheet_1_df, spreadsheet_2_df], axis=1)\n",
    "        \n",
    "    return spreadsheet_X_df"
   ]
  },
  {
   "cell_type": "markdown",
   "metadata": {},
   "source": [
    "## Transform_3: \n",
    "### Turn two spreadsheets with gene transformation lists into union spreadsheet"
   ]
  },
  {
   "cell_type": "code",
   "execution_count": 5,
   "metadata": {
    "collapsed": true
   },
   "outputs": [],
   "source": [
    "def select_spreadsheet_genes(spreadsheet_df, gene_select_list):\n",
    "    \"\"\"  \n",
    "    Args:\n",
    "        spreadsheet_df:             genes x samples data frame\n",
    "        gene_select_list:           list of some gene names in the spreadsheet\n",
    "    Returns:\n",
    "        spreadsheet_intersected_df: data frame with only the genes in the intersection of input gene names.\n",
    "    \"\"\"\n",
    "    gene_names = kn.extract_spreadsheet_gene_names(spreadsheet_df)\n",
    "    intersected_names = kn.find_common_node_names(gene_names, gene_select_list)\n",
    "    return spreadsheet_df.loc[intersected_names]"
   ]
  },
  {
   "cell_type": "markdown",
   "metadata": {},
   "source": [
    "## Transform_4:\n",
    "### Return a dataframe of averages for each catagory given a genes x samples dataframe and a samples classification dictionary"
   ]
  },
  {
   "cell_type": "code",
   "execution_count": 6,
   "metadata": {
    "collapsed": true
   },
   "outputs": [],
   "source": [
    "def get_classification_averages_df(spreadsheet_df, labels_df):\n",
    "    \"\"\"\n",
    "    Args:\n",
    "        spreadsheet_df: genes x samples dataframe\n",
    "        labels_df:      samples x catagories dataframe\n",
    "    Returns:\n",
    "        cluster_ave_df: genes x catagories dataframe where data is catagory row average\n",
    "    \"\"\"\n",
    "    labels_dict = labels_df.to_dict()[1]\n",
    "    cluster_numbers = list(np.unique(list(labels_dict.values())))\n",
    "    labels = list(labels_dict.values())\n",
    "    cluster_ave_df = pd.DataFrame({i: spreadsheet_df.iloc[:, labels == i].mean(axis=1) for i in cluster_numbers})\n",
    "    return cluster_ave_df"
   ]
  },
  {
   "cell_type": "markdown",
   "metadata": {
    "collapsed": true
   },
   "source": [
    "## Transform_5:\n",
    "### Select the samples in a phenotype category from a genes x samples spreadsheet and a phenotype"
   ]
  },
  {
   "cell_type": "code",
   "execution_count": 7,
   "metadata": {
    "collapsed": true
   },
   "outputs": [],
   "source": [
    "def get_catagory_dataframes(spreadsheet_df, phenotype_df, phenotype_id, select_category):\n",
    "    \"\"\"  \"\"\"\n",
    "    samples_list = phenotype_df.index[phenotype_df[phenotype_id] == select_category]\n",
    "    phenotype_category_df = phenotype_df.loc[samples_list]\n",
    "    \n",
    "    spreadsheet_category_df = spreadsheet_df[samples_list]\n",
    "    \n",
    "    return spreadsheet_category_df, phenotype_category_df"
   ]
  }
 ],
 "metadata": {
  "kernelspec": {
   "display_name": "Python 3",
   "language": "python",
   "name": "python3"
  },
  "language_info": {
   "codemirror_mode": {
    "name": "ipython",
    "version": 3
   },
   "file_extension": ".py",
   "mimetype": "text/x-python",
   "name": "python",
   "nbconvert_exporter": "python",
   "pygments_lexer": "ipython3",
   "version": "3.6.1"
  }
 },
 "nbformat": 4,
 "nbformat_minor": 2
}
