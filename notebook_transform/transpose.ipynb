{
 "cells": [
  {
   "cell_type": "markdown",
   "metadata": {},
   "source": [
    "# Transform_0:\n",
    "## Transpose a spreadsheet\n",
    "\n",
    "Way to use this notebook:\n",
    "* Manually enter the directories and filenames of both the input file and the output file in the next cell\n",
    "* Click 'Restart & Run All' listed under 'Kernel' on the menu bar "
   ]
  },
  {
   "cell_type": "code",
   "execution_count": 1,
   "metadata": {
    "collapsed": true
   },
   "outputs": [],
   "source": [
    "# Manually enter the directories and filenames of both the input file and the output file. \n",
    "input_directory = './transform_data/'\n",
    "input_file_name = 'spreadsheet_One.txt'\n",
    "output_directory = './transform_data/'\n",
    "output_file_name = 'spreadsheet_One_T1.txt'"
   ]
  },
  {
   "cell_type": "code",
   "execution_count": 2,
   "metadata": {},
   "outputs": [],
   "source": [
    "import os\n",
    "import pandas as pd\n",
    "from notebook_transformations import *\n",
    "from tkinter import Listbox, Scrollbar, Button, Tk, Frame, Label, constants, filedialog, END\n",
    "\n",
    "input_full_path = os.path.join(input_directory,input_file_name)\n",
    "output_full_path = os.path.join(output_directory,output_file_name)\n",
    "\n",
    "transform_func = transpose    #function defined in module notebook_transformations.py"
   ]
  },
  {
   "cell_type": "code",
   "execution_count": 3,
   "metadata": {},
   "outputs": [],
   "source": [
    "# This cell must be run ( control-return or Cell - Run Cells ) before the next cells will work\n",
    "\n",
    "def read_copy_transpose_write_df(full_file_name, output_file_name):\n",
    "    \"\"\" \n",
    "    Args:\n",
    "        full_file_name:\n",
    "        output_file_name:\n",
    "    Return:\n",
    "    \"\"\"\n",
    "    #print(full_file_name,output_file_name)\n",
    "    try:\n",
    "        spreadsheet_df = pd.read_csv(full_file_name, sep='\\t', index_col=0, header=0)\n",
    "        #print(spreadsheet_df.head())\n",
    "        spreadsheet_df = transform_func(spreadsheet_df)\n",
    "        #print(spreadsheet_df.head())\n",
    "        spreadsheet_df.to_csv(output_file_name, sep='\\t', index=True, header=True)\n",
    "        return True\n",
    "    except:\n",
    "        pass\n",
    "        return False\n"
   ]
  },
  {
   "cell_type": "code",
   "execution_count": 4,
   "metadata": {},
   "outputs": [],
   "source": [
    "'''def file_save(input_file_abspath):\n",
    "    f = filedialog.asksaveasfile(mode='w', defaultextension=\".txt\")\n",
    "    if f is None: \n",
    "        return\n",
    "    output_file_abspath = f.name\n",
    "    #print(input_file_abspath,output_file_abspath)\n",
    "    transform_0.read_copy_transpose_write_df(input_file_abspath,output_file_abspath)\n",
    "    f.close()\n",
    "    #return df1,df2'''\n",
    "\n",
    "def transform():\n",
    "    # transform functions HERE\n",
    "    # print(\"transform\")\n",
    "    read_copy_transpose_write_df(input_full_path,output_full_path)\n",
    "    #print('The transformation was successfull =', SUCCESS)\n",
    "'''\n",
    "def file_upload(frame):\n",
    "    # \"file\" is the absolute path of the input file. \n",
    "    file = filedialog.askopenfilename(filetypes = ((\"CSV files\",\"*.csv\"),(\"TXT files\", \"*.txt\")))\n",
    "    \n",
    "    #directory = os.path.abspath(file)\n",
    "\n",
    "    #file_handler = open(directory)\n",
    "    #content = file_handler.read()\n",
    "\n",
    "    Button(frame,text=\"Save as\", command = lambda: file_save(file), font=(\"Helvetica\", 21)).pack()\n",
    "\n",
    "def init_frame(root):\n",
    "    frame = Frame(root)\n",
    "    frame.pack()\n",
    "'''\n",
    "\n",
    "def main():\n",
    "    root = Tk()\n",
    "    root.minsize(width=400, height=247)\n",
    "    root.lift()\n",
    "    root.attributes('-topmost', True)\n",
    "    root.wm_title(\"Trasform\")\n",
    "    \n",
    "    # init_frame(root)\n",
    "    Button(root,text=\"Transform\", command = lambda: transform(), font=(\"Helvetica\", 21)).pack()\n",
    "    root.mainloop()\n",
    "\n",
    "if __name__ == '__main__':\n",
    "    main()\n"
   ]
  },
  {
   "cell_type": "code",
   "execution_count": null,
   "metadata": {},
   "outputs": [],
   "source": []
  },
  {
   "cell_type": "code",
   "execution_count": null,
   "metadata": {},
   "outputs": [],
   "source": []
  },
  {
   "cell_type": "code",
   "execution_count": null,
   "metadata": {},
   "outputs": [],
   "source": []
  }
 ],
 "metadata": {
  "kernelspec": {
   "display_name": "Python 3",
   "language": "python",
   "name": "python3"
  },
  "language_info": {
   "codemirror_mode": {
    "name": "ipython",
    "version": 3
   },
   "file_extension": ".py",
   "mimetype": "text/x-python",
   "name": "python",
   "nbconvert_exporter": "python",
   "pygments_lexer": "ipython3",
   "version": "3.6.1"
  }
 },
 "nbformat": 4,
 "nbformat_minor": 2
}
