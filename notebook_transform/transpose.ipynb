{
 "cells": [
  {
   "cell_type": "markdown",
   "metadata": {},
   "source": [
    "# Transform_0:\n",
    "## Transpose a spreadsheet\n",
    "\n",
    "Way to use this notebook:\n",
    "* Manually enter the directories and filenames of both the input file and the output file in the next cell\n",
    "* Click 'Restart & Run All' listed under 'Kernel' on the menu bar "
   ]
  },
  {
   "cell_type": "code",
   "execution_count": 1,
   "metadata": {
    "collapsed": true
   },
   "outputs": [],
   "source": [
    "# Manually enter the directories and filenames of both the input file and the output file. \n",
    "input_directory = './transform_data/'\n",
    "input_file_name = 'spreadsheet_One.txt'\n",
    "output_directory = './transform_data/'\n",
    "output_file_name = 'spreadsheet_One_T1.txt'"
   ]
  },
  {
   "cell_type": "code",
   "execution_count": 2,
   "metadata": {},
   "outputs": [],
   "source": [
    "import os\n",
    "import pandas as pd\n",
    "from notebook_transformations import *\n",
    "from tkinter import Listbox, Scrollbar, Button, Tk, Frame, Label, constants, filedialog, END\n",
    "\n",
    "input_full_path = os.path.join(input_directory,input_file_name)\n",
    "output_full_path = os.path.join(output_directory,output_file_name)\n",
    "\n",
    "transform_func = transpose    #function defined in module notebook_transformations.py"
   ]
  },
  {
   "cell_type": "code",
   "execution_count": 3,
   "metadata": {},
   "outputs": [],
   "source": [
    "# This cell must be run ( control-return or Cell - Run Cells ) before the next cells will work\n",
    "\n",
    "def read_copy_transpose_write_df(full_file_name, output_file_name):\n",
    "    \"\"\" \n",
    "    Args:\n",
    "        full_file_name:\n",
    "        output_file_name:\n",
    "    Return:\n",
    "    \"\"\"\n",
    "    print(full_file_name,output_file_name)\n",
    "    try:\n",
    "        spreadsheet_df = pd.read_csv(full_file_name, sep='\\t', index_col=0, header=0)\n",
    "        #print(spreadsheet_df.head())\n",
    "        spreadsheet_df = transform_func(spreadsheet_df)\n",
    "        print(spreadsheet_df.head())\n",
    "        spreadsheet_df.to_csv(output_file_name, sep='\\t', index=True, header=True)\n",
    "        return True\n",
    "    except:\n",
    "        pass\n",
    "        return False\n"
   ]
  },
  {
   "cell_type": "code",
   "execution_count": 4,
   "metadata": {},
   "outputs": [
    {
     "name": "stdout",
     "output_type": "stream",
     "text": [
      "./transform_data/spreadsheet_One.txt ./transform_data/spreadsheet_One_T1.txt\n",
      "sample_id     TCGA-A5-A0G1               TCGA-A5-A0G3  \\\n",
      "days_to_death         3251                        NaN   \n",
      "days_to_last           NaN                       1079   \n",
      "days_survival         3251                       1079   \n",
      "diag_age                67                         61   \n",
      "race                 white  black or african american   \n",
      "\n",
      "sample_id                   TCGA-A5-A0G5 TCGA-A5-A0GA TCGA-A5-A0GB  \\\n",
      "days_to_death                        NaN          543          NaN   \n",
      "days_to_last                         790          NaN          275   \n",
      "days_survival                        790          543          275   \n",
      "diag_age                              73           67           65   \n",
      "race           black or african american        white        white   \n",
      "\n",
      "sample_id     TCGA-A5-A0GE               TCGA-A5-A0GG TCGA-A5-A0GI  \\\n",
      "days_to_death          NaN                        NaN          NaN   \n",
      "days_to_last          2717                       2516         1750   \n",
      "days_survival         2717                       2516         1750   \n",
      "diag_age                38                         76           63   \n",
      "race                 asian  black or african american        white   \n",
      "\n",
      "sample_id     TCGA-A5-A0GJ TCGA-A5-A0GN     ...      TCGA-A5-A0GU  \\\n",
      "days_to_death          NaN          NaN     ...               NaN   \n",
      "days_to_last          1447         1477     ...               495   \n",
      "days_survival         1447         1477     ...               495   \n",
      "diag_age                44           65     ...                58   \n",
      "race                 white        white     ...             white   \n",
      "\n",
      "sample_id     TCGA-A5-A0GV TCGA-A5-A0GW TCGA-A5-A0GX TCGA-A5-A0R6  \\\n",
      "days_to_death          NaN          NaN          NaN          NaN   \n",
      "days_to_last           485          385          924          369   \n",
      "days_survival          485          385          924          369   \n",
      "diag_age                67           46           53           64   \n",
      "race                 white        asian        white          NaN   \n",
      "\n",
      "sample_id     TCGA-A5-A0R7 TCGA-A5-A0R8 TCGA-A5-A0R9 TCGA-A5-A0RA TCGA-A5-A0VO  \n",
      "days_to_death          NaN          NaN          NaN          NaN          NaN  \n",
      "days_to_last            40          125          294          555          128  \n",
      "days_survival           40          125          294          555          128  \n",
      "diag_age                55           81           51           68           64  \n",
      "race                 white        white        white        white        white  \n",
      "\n",
      "[5 rows x 22 columns]\n"
     ]
    }
   ],
   "source": [
    "'''def file_save(input_file_abspath):\n",
    "    f = filedialog.asksaveasfile(mode='w', defaultextension=\".txt\")\n",
    "    if f is None: \n",
    "        return\n",
    "    output_file_abspath = f.name\n",
    "    #print(input_file_abspath,output_file_abspath)\n",
    "    transform_0.read_copy_transpose_write_df(input_file_abspath,output_file_abspath)\n",
    "    f.close()\n",
    "    #return df1,df2'''\n",
    "\n",
    "def transform():\n",
    "    # transform functions HERE\n",
    "    # print(\"transform\")\n",
    "    read_copy_transpose_write_df(input_full_path,output_full_path)\n",
    "    #print('The transformation was successfull =', SUCCESS)\n",
    "'''\n",
    "def file_upload(frame):\n",
    "    # \"file\" is the absolute path of the input file. \n",
    "    file = filedialog.askopenfilename(filetypes = ((\"CSV files\",\"*.csv\"),(\"TXT files\", \"*.txt\")))\n",
    "    \n",
    "    #directory = os.path.abspath(file)\n",
    "\n",
    "    #file_handler = open(directory)\n",
    "    #content = file_handler.read()\n",
    "\n",
    "    Button(frame,text=\"Save as\", command = lambda: file_save(file), font=(\"Helvetica\", 21)).pack()\n",
    "\n",
    "def init_frame(root):\n",
    "    frame = Frame(root)\n",
    "    frame.pack()\n",
    "'''\n",
    "\n",
    "def main():\n",
    "    root = Tk()\n",
    "    root.minsize(width=400, height=247)\n",
    "    root.lift()\n",
    "    root.attributes('-topmost', True)\n",
    "    root.wm_title(\"Trasform\")\n",
    "    \n",
    "    # init_frame(root)\n",
    "    Button(root,text=\"Transform\", command = lambda: transform(), font=(\"Helvetica\", 21)).pack()\n",
    "    root.mainloop()\n",
    "\n",
    "if __name__ == '__main__':\n",
    "    main()\n"
   ]
  },
  {
   "cell_type": "code",
   "execution_count": null,
   "metadata": {},
   "outputs": [],
   "source": []
  },
  {
   "cell_type": "code",
   "execution_count": null,
   "metadata": {},
   "outputs": [],
   "source": []
  },
  {
   "cell_type": "code",
   "execution_count": null,
   "metadata": {},
   "outputs": [],
   "source": []
  }
 ],
 "metadata": {
  "kernelspec": {
   "display_name": "Python 3",
   "language": "python",
   "name": "python3"
  },
  "language_info": {
   "codemirror_mode": {
    "name": "ipython",
    "version": 3
   },
   "file_extension": ".py",
   "mimetype": "text/x-python",
   "name": "python",
   "nbconvert_exporter": "python",
   "pygments_lexer": "ipython3",
   "version": "3.6.1"
  }
 },
 "nbformat": 4,
 "nbformat_minor": 2
}
