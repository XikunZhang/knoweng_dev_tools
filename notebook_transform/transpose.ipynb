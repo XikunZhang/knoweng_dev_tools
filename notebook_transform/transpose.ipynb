{
 "cells": [
  {
   "cell_type": "markdown",
   "metadata": {},
   "source": [
    "## Transpose a spreadsheet data frame. \n",
    "* Manually enter the directories and filenames of both the input file and the output file in the next cell.\n",
    "* (Run) Shift - Enter each (cell) box to perform the action shown in the green comment line.\n",
    "##### aka  transform_0"
   ]
  },
  {
   "cell_type": "code",
   "execution_count": 1,
   "metadata": {
    "collapsed": true
   },
   "outputs": [],
   "source": [
    "# Prepare ipython:       (Shift-Enter on this cell before any others)\n",
    "\n",
    "import os\n",
    "import sys\n",
    "sys.path.insert(1,'../src')\n",
    "from transformation_toolbox import read_transpose_write"
   ]
  },
  {
   "cell_type": "markdown",
   "metadata": {},
   "source": [
    "#### Type (or paste) the file name here."
   ]
  },
  {
   "cell_type": "code",
   "execution_count": 2,
   "metadata": {
    "collapsed": true
   },
   "outputs": [],
   "source": [
    "#               construct the input data structure as a python dictionary\n",
    "run_parameters = {'method':'transpose'}\n",
    "\n",
    "input_file_name = 'spreadsheet_One.txt'\n",
    "input_directory = './transform_data'\n",
    "run_parameters['input_file_name'] = os.path.join(input_directory, input_file_name)\n",
    "\n",
    "output_file_name = 'spreadsheet_One_T.txt'\n",
    "output_directory = './transform_data'\n",
    "run_parameters['output_file_name'] = os.path.join(output_directory,output_file_name)"
   ]
  },
  {
   "cell_type": "code",
   "execution_count": 3,
   "metadata": {
    "collapsed": true
   },
   "outputs": [],
   "source": [
    "#               Transpose and write the file (or get and exception message)\n",
    "STATUS = read_transpose_write(run_parameters)\n",
    "if STATUS != 0:\n",
    "    print('Transpose operation exception\\nCheck output file.')"
   ]
  },
  {
   "cell_type": "code",
   "execution_count": 4,
   "metadata": {},
   "outputs": [
    {
     "data": {
      "text/plain": [
       "['.DS_Store',\n",
       " 'gene_samples_1.tsv',\n",
       " 'gene_samples_small.tsv',\n",
       " 'gene_samples_small_labels.tsv',\n",
       " 'Hsap.dream11.G.exome_mut.binary.df',\n",
       " 'Hsap.dream11.G.gene_cn.pos.df',\n",
       " 'Hsap.dream11.G.probe_expr.pos.df',\n",
       " 'Hsap.dream11.P.avg_ic50.pos.df',\n",
       " 'Hsap.dream11.P.cell_line_info.mixed.df',\n",
       " 'spreadsheet_One.txt',\n",
       " 'spreadsheet_One_T.txt',\n",
       " 'spreadsheet_One_T1.txt',\n",
       " 'spreadsheet_One_T3.txt',\n",
       " 'spreadsheet_Two.txt',\n",
       " 'spreadsheet_Two_T1.txt',\n",
       " 'tcga_ucec_somatic_mutation_data.df',\n",
       " 'transform_5_spreadsheet.tsv',\n",
       " 'UCEC_phenotype.txt',\n",
       " 'UCEC_phenotype_T.tsv']"
      ]
     },
     "execution_count": 4,
     "metadata": {},
     "output_type": "execute_result"
    }
   ],
   "source": [
    "#               View the output directory\n",
    "os.listdir(output_directory)"
   ]
  },
  {
   "cell_type": "code",
   "execution_count": null,
   "metadata": {
    "collapsed": true
   },
   "outputs": [],
   "source": []
  },
  {
   "cell_type": "code",
   "execution_count": null,
   "metadata": {
    "collapsed": true
   },
   "outputs": [],
   "source": []
  },
  {
   "cell_type": "code",
   "execution_count": null,
   "metadata": {
    "collapsed": true
   },
   "outputs": [],
   "source": []
  },
  {
   "cell_type": "code",
   "execution_count": null,
   "metadata": {
    "collapsed": true
   },
   "outputs": [],
   "source": []
  }
 ],
 "metadata": {
  "kernelspec": {
   "display_name": "Python 3",
   "language": "python",
   "name": "python3"
  },
  "language_info": {
   "codemirror_mode": {
    "name": "ipython",
    "version": 3
   },
   "file_extension": ".py",
   "mimetype": "text/x-python",
   "name": "python",
   "nbconvert_exporter": "python",
   "pygments_lexer": "ipython3",
   "version": "3.5.3"
  }
 },
 "nbformat": 4,
 "nbformat_minor": 2
}
