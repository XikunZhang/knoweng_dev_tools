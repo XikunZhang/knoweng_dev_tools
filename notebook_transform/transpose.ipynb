{
 "cells": [
  {
   "cell_type": "markdown",
   "metadata": {},
   "source": [
    "## Transpose a spreadsheet data frame. \n",
    "* Manually enter the directories and filenames of both the input file and the output file in the next cell.\n",
    "* (Run) Shift - Enter each (cell) box to perform the action shown in the green comment line.\n",
    "##### aka  transform_0"
   ]
  },
  {
   "cell_type": "code",
   "execution_count": 1,
   "metadata": {
    "collapsed": true
   },
   "outputs": [],
   "source": [
    "# Prepare ipython:       (Shift-Enter on this cell before any others)\n",
    "\n",
    "import os\n",
    "import sys\n",
    "sys.path.insert(1,'../src')\n",
    "from transformation_toolbox import read_transpose_write"
   ]
  },
  {
   "cell_type": "markdown",
   "metadata": {},
   "source": [
    "#### Type (or paste) the file name here."
   ]
  },
  {
   "cell_type": "code",
   "execution_count": 2,
   "metadata": {
    "collapsed": true
   },
   "outputs": [],
   "source": [
    "#               construct the input data structure as a python dictionary\n",
    "run_parameters = {'method':'transpose'}\n",
    "\n",
    "spreadsheet_file_name = 'spreadsheet_One.txt'\n",
    "input_directory = '../data/transform_data'\n",
    "run_parameters['spreadsheet_file_name'] = os.path.join(input_directory, spreadsheet_file_name)\n",
    "\n",
    "spreadsheet_transpose_file_name = 'spreadsheet_One_T.txt'\n",
    "output_directory = '../test'\n",
    "run_parameters['spreadsheet_transpose_file_name'] = os.path.join(output_directory, spreadsheet_transpose_file_name)"
   ]
  },
  {
   "cell_type": "code",
   "execution_count": 3,
   "metadata": {
    "collapsed": true
   },
   "outputs": [],
   "source": [
    "#               Read, transpose and write the file (or get and exception message)\n",
    "STATUS = read_transpose_write(run_parameters)\n",
    "if STATUS != 0:\n",
    "    print('Transpose operation exception\\nCheck output file.')"
   ]
  },
  {
   "cell_type": "code",
   "execution_count": 2,
   "metadata": {},
   "outputs": [
    {
     "ename": "NameError",
     "evalue": "name 'output_directory' is not defined",
     "output_type": "error",
     "traceback": [
      "\u001b[0;31m---------------------------------------------------------------------------\u001b[0m",
      "\u001b[0;31mNameError\u001b[0m                                 Traceback (most recent call last)",
      "\u001b[0;32m<ipython-input-2-7c55802a60e7>\u001b[0m in \u001b[0;36m<module>\u001b[0;34m()\u001b[0m\n\u001b[1;32m      1\u001b[0m \u001b[0;31m#               View the output directory\u001b[0m\u001b[0;34m\u001b[0m\u001b[0;34m\u001b[0m\u001b[0m\n\u001b[0;32m----> 2\u001b[0;31m \u001b[0mos\u001b[0m\u001b[0;34m.\u001b[0m\u001b[0mlistdir\u001b[0m\u001b[0;34m(\u001b[0m\u001b[0moutput_directory\u001b[0m\u001b[0;34m)\u001b[0m\u001b[0;34m\u001b[0m\u001b[0m\n\u001b[0m",
      "\u001b[0;31mNameError\u001b[0m: name 'output_directory' is not defined"
     ]
    }
   ],
   "source": [
    "#               View the output directory\n",
    "os.listdir(output_directory)"
   ]
  },
  {
   "cell_type": "code",
   "execution_count": 3,
   "metadata": {},
   "outputs": [
    {
     "data": {
      "text/plain": [
       "['.anchor.txt',\n",
       " 'gene_samples_1_T3.tsv',\n",
       " 'spreadsheet_One_and2.tsv',\n",
       " 'spreadsheet_One_T.tsv',\n",
       " 'spreadsheet_One_T1.txt',\n",
       " 'spreadsheet_OneTwo.txt',\n",
       " 'spreadsheet_T2.txt',\n",
       " 'spreadsheet_Two_and1.tsv',\n",
       " 'spreadsheet_Two_T1.txt']"
      ]
     },
     "execution_count": 3,
     "metadata": {},
     "output_type": "execute_result"
    }
   ],
   "source": [
    "os.listdir('../test')"
   ]
  },
  {
   "cell_type": "code",
   "execution_count": null,
   "metadata": {
    "collapsed": true
   },
   "outputs": [],
   "source": []
  },
  {
   "cell_type": "code",
   "execution_count": null,
   "metadata": {
    "collapsed": true
   },
   "outputs": [],
   "source": []
  },
  {
   "cell_type": "code",
   "execution_count": null,
   "metadata": {
    "collapsed": true
   },
   "outputs": [],
   "source": []
  }
 ],
 "metadata": {
  "kernelspec": {
   "display_name": "Python 3",
   "language": "python",
   "name": "python3"
  },
  "language_info": {
   "codemirror_mode": {
    "name": "ipython",
    "version": 3
   },
   "file_extension": ".py",
   "mimetype": "text/x-python",
   "name": "python",
   "nbconvert_exporter": "python",
   "pygments_lexer": "ipython3",
   "version": "3.5.3"
  }
 },
 "nbformat": 4,
 "nbformat_minor": 2
}
