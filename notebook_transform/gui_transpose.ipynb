{
 "cells": [
  {
   "cell_type": "markdown",
   "metadata": {
    "collapsed": true
   },
   "source": [
    "Transformations Index page: [Home](transformations_home.ipynb)\n",
    "\n",
    "# Spreadsheet - transpose \n",
    "<img src=\"./images/transpose.png\">\n",
    "\n",
    "### To run this notebook:\n",
    "* **In the jupyter \"Cell\" menu above, select \"Run All\".**\n",
    "    * This will run the background code in file named: **transformers_module.py**\n",
    "    * Shortly thereafter the buttons and text boxes *(or an error message)* will appear below.\n",
    "\n",
    "\n",
    "* **Select your \"Input File\" with the first button.**\n",
    "    * The upper left portion of the file will appear below the \"Input File\" button if it is viable.\n",
    "    * Push the \"Transpose\" button to start the file name dialog, that will transpose and write the file."
   ]
  },
  {
   "cell_type": "code",
   "execution_count": 1,
   "metadata": {},
   "outputs": [
    {
     "data": {
      "application/vnd.jupyter.widget-view+json": {
       "model_id": "e83a4fdb3c5241e79993840509db85e8"
      }
     },
     "metadata": {},
     "output_type": "display_data"
    }
   ],
   "source": [
    "from IPython.display import display;   from ipywidgets.widgets import *\n",
    "import transpose_module as tm;         button_set = tm.Transpose_Notebook_GUI()\n",
    "HBox([button_set.input_file_button,    button_set.input_file_name_display, button_set.input_file_size_display])"
   ]
  },
  {
   "cell_type": "markdown",
   "metadata": {},
   "source": [
    "### If you haven't read the directions and just push \"Transpose\" the \"Input File\" dialog will open first."
   ]
  },
  {
   "cell_type": "code",
   "execution_count": 2,
   "metadata": {},
   "outputs": [
    {
     "data": {
      "application/vnd.jupyter.widget-view+json": {
       "model_id": "23b2d1a2408f4e10892eb2fdc2298a47"
      }
     },
     "metadata": {},
     "output_type": "display_data"
    }
   ],
   "source": [
    "HBox([button_set.output_file_button, button_set.output_file_name_display, button_set.output_file_size_display])"
   ]
  },
  {
   "cell_type": "code",
   "execution_count": null,
   "metadata": {
    "collapsed": true
   },
   "outputs": [],
   "source": []
  }
 ],
 "metadata": {
  "kernelspec": {
   "display_name": "Python 3",
   "language": "python",
   "name": "python3"
  },
  "language_info": {
   "codemirror_mode": {
    "name": "ipython",
    "version": 3
   },
   "file_extension": ".py",
   "mimetype": "text/x-python",
   "name": "python",
   "nbconvert_exporter": "python",
   "pygments_lexer": "ipython3",
   "version": "3.5.3"
  }
 },
 "nbformat": 4,
 "nbformat_minor": 2
}
