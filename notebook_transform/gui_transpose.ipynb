{
 "cells": [
  {
   "cell_type": "markdown",
   "metadata": {
    "collapsed": true
   },
   "source": [
    "Transformations Index page: [Home](transformations_home.ipynb)\n",
    "\n",
    "# Spreadsheet - transpose \n",
    "<img src=\"./images/transpose.png\">\n",
    "\n",
    "### To run this notebook:\n",
    "* **In the jupyter \"Cell\" menu above, select \"Run All\".**\n",
    "    * This will run the background code in file named: **transformers_module.py**\n",
    "    * Shortly thereafter the buttons and text boxes *(or an error message)* will appear below.\n",
    "\n",
    "\n",
    "* **Select your \"Input File\" with the first button.**\n",
    "    * The upper left portion of the file will appear below the \"Input File\" button if it is viable.\n",
    "    * Push the \"Transpose\" button to start the file name dialog, that will transpose and write the file."
   ]
  },
  {
   "cell_type": "code",
   "execution_count": 1,
   "metadata": {},
   "outputs": [
    {
     "data": {
      "application/vnd.jupyter.widget-view+json": {
       "model_id": "fb04cc1bed6f4e67a47be59535e6340b"
      }
     },
     "metadata": {},
     "output_type": "display_data"
    },
    {
     "data": {
      "text/html": [
       "<div>\n",
       "<table border=\"1\" class=\"dataframe\">\n",
       "  <thead>\n",
       "    <tr style=\"text-align: right;\">\n",
       "      <th></th>\n",
       "      <th>1321N1_CENTRAL_NERVOUS_SYSTEM</th>\n",
       "      <th>22RV1_PROSTATE</th>\n",
       "      <th>42MGBA_CENTRAL_NERVOUS_SYSTEM</th>\n",
       "      <th>5637_URINARY_TRACT</th>\n",
       "    </tr>\n",
       "  </thead>\n",
       "  <tbody>\n",
       "    <tr>\n",
       "      <th>17-AAG</th>\n",
       "      <td>0.193677</td>\n",
       "      <td>0.267215</td>\n",
       "      <td>0.052081</td>\n",
       "      <td>0.060907</td>\n",
       "    </tr>\n",
       "    <tr>\n",
       "      <th>AEW541</th>\n",
       "      <td>8.717774</td>\n",
       "      <td>8.165164</td>\n",
       "      <td>1.514508</td>\n",
       "      <td>8.006595</td>\n",
       "    </tr>\n",
       "    <tr>\n",
       "      <th>AZD0530</th>\n",
       "      <td>0.598632</td>\n",
       "      <td>NaN</td>\n",
       "      <td>8.619237</td>\n",
       "      <td>2.464421</td>\n",
       "    </tr>\n",
       "    <tr>\n",
       "      <th>AZD6244</th>\n",
       "      <td>NaN</td>\n",
       "      <td>0.002543</td>\n",
       "      <td>NaN</td>\n",
       "      <td>2.747059</td>\n",
       "    </tr>\n",
       "  </tbody>\n",
       "</table>\n",
       "</div>"
      ],
      "text/plain": [
       "         1321N1_CENTRAL_NERVOUS_SYSTEM  22RV1_PROSTATE  \\\n",
       "17-AAG                        0.193677        0.267215   \n",
       "AEW541                        8.717774        8.165164   \n",
       "AZD0530                       0.598632             NaN   \n",
       "AZD6244                            NaN        0.002543   \n",
       "\n",
       "         42MGBA_CENTRAL_NERVOUS_SYSTEM  5637_URINARY_TRACT  \n",
       "17-AAG                        0.052081            0.060907  \n",
       "AEW541                        1.514508            8.006595  \n",
       "AZD0530                       8.619237            2.464421  \n",
       "AZD6244                            NaN            2.747059  "
      ]
     },
     "metadata": {},
     "output_type": "display_data"
    }
   ],
   "source": [
    "from IPython.display import display;   from ipywidgets.widgets import *\n",
    "import transpose_module as tm;         button_set = tm.Transpose_Notebook_GUI()\n",
    "HBox([button_set.input_file_button,    button_set.input_file_name_display, button_set.input_file_size_display])"
   ]
  },
  {
   "cell_type": "markdown",
   "metadata": {},
   "source": [
    "### If you haven't read the directions and just push \"Transpose\" the \"Input File\" dialog will open first."
   ]
  },
  {
   "cell_type": "code",
   "execution_count": 2,
   "metadata": {},
   "outputs": [
    {
     "data": {
      "application/vnd.jupyter.widget-view+json": {
       "model_id": "b54199ef73a14f7e8962726477908f3f"
      }
     },
     "metadata": {},
     "output_type": "display_data"
    },
    {
     "data": {
      "text/html": [
       "<div>\n",
       "<table border=\"1\" class=\"dataframe\">\n",
       "  <thead>\n",
       "    <tr style=\"text-align: right;\">\n",
       "      <th></th>\n",
       "      <th>17-AAG</th>\n",
       "      <th>AEW541</th>\n",
       "      <th>AZD0530</th>\n",
       "      <th>AZD6244</th>\n",
       "    </tr>\n",
       "  </thead>\n",
       "  <tbody>\n",
       "    <tr>\n",
       "      <th>1321N1_CENTRAL_NERVOUS_SYSTEM</th>\n",
       "      <td>0.193677</td>\n",
       "      <td>8.717774</td>\n",
       "      <td>0.598632</td>\n",
       "      <td>NaN</td>\n",
       "    </tr>\n",
       "    <tr>\n",
       "      <th>22RV1_PROSTATE</th>\n",
       "      <td>0.267215</td>\n",
       "      <td>8.165164</td>\n",
       "      <td>NaN</td>\n",
       "      <td>0.002543</td>\n",
       "    </tr>\n",
       "    <tr>\n",
       "      <th>42MGBA_CENTRAL_NERVOUS_SYSTEM</th>\n",
       "      <td>0.052081</td>\n",
       "      <td>1.514508</td>\n",
       "      <td>8.619237</td>\n",
       "      <td>NaN</td>\n",
       "    </tr>\n",
       "    <tr>\n",
       "      <th>5637_URINARY_TRACT</th>\n",
       "      <td>0.060907</td>\n",
       "      <td>8.006595</td>\n",
       "      <td>2.464421</td>\n",
       "      <td>2.747059</td>\n",
       "    </tr>\n",
       "  </tbody>\n",
       "</table>\n",
       "</div>"
      ],
      "text/plain": [
       "                                 17-AAG    AEW541   AZD0530   AZD6244\n",
       "1321N1_CENTRAL_NERVOUS_SYSTEM  0.193677  8.717774  0.598632       NaN\n",
       "22RV1_PROSTATE                 0.267215  8.165164       NaN  0.002543\n",
       "42MGBA_CENTRAL_NERVOUS_SYSTEM  0.052081  1.514508  8.619237       NaN\n",
       "5637_URINARY_TRACT             0.060907  8.006595  2.464421  2.747059"
      ]
     },
     "metadata": {},
     "output_type": "display_data"
    }
   ],
   "source": [
    "HBox([button_set.output_file_button, button_set.output_file_name_display, button_set.output_file_size_display])"
   ]
  }
 ],
 "metadata": {
  "kernelspec": {
   "display_name": "Python 3",
   "language": "python",
   "name": "python3"
  },
  "language_info": {
   "codemirror_mode": {
    "name": "ipython",
    "version": 3
   },
   "file_extension": ".py",
   "mimetype": "text/x-python",
   "name": "python",
   "nbconvert_exporter": "python",
   "pygments_lexer": "ipython3",
   "version": "3.5.3"
  }
 },
 "nbformat": 4,
 "nbformat_minor": 2
}
