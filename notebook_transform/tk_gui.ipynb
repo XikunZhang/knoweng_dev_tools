{
 "cells": [
  {
   "cell_type": "code",
   "execution_count": 6,
   "metadata": {},
   "outputs": [],
   "source": [
    "from tkinter import Listbox, Scrollbar, Button, Tk, Frame, Label, constants, filedialog, END\n",
    "import os, sys\n",
    "import nbfinder\n",
    "import transform_0\n",
    "\n",
    "def file_save(input_file_abspath):\n",
    "    f = filedialog.asksaveasfile(mode='w', defaultextension=\".txt\")\n",
    "    if f is None: \n",
    "        return\n",
    "    output_file_abspath = f.name\n",
    "    #print(input_file_abspath,output_file_abspath)\n",
    "    transform_0.read_copy_transpose_write_df(input_file_abspath,output_file_abspath)\n",
    "    f.close()\n",
    "    #return df1,df2\n",
    "'''\n",
    "def transform(text):\n",
    "    # transform functions HERE\n",
    "    print(\"transform\")\n",
    "    output = text\n",
    "    \n",
    "    Button(text=\"Save as\", command = lambda: file_save(output), font=(\"Helvetica\", 21)).pack()\n",
    "'''\n",
    "\n",
    "def file_upload(root):\n",
    "    # \"file\" is the absolute path of the input file. \n",
    "    file = filedialog.askopenfilename(filetypes = ((\"CSV files\",\"*.csv\"),(\"TXT files\", \"*.txt\")))\n",
    "    \n",
    "    #directory = os.path.abspath(file)\n",
    "\n",
    "    #file_handler = open(directory)\n",
    "    #content = file_handler.read()\n",
    "\n",
    "    Button(text=\"Save as\", command = lambda: file_save(file), font=(\"Helvetica\", 21)).pack()\n",
    "\n",
    "    # return content\n",
    "\n",
    "def init_frame(root):\n",
    "    frame = Frame(root)\n",
    "    frame.pack()\n",
    "    Button(text=\"Upload\", command = lambda: file_upload(root), font=(\"Helvetica\", 21)).pack()\n",
    "\n",
    "def main():\n",
    "    root = Tk()\n",
    "    root.minsize(width=400, height=247)\n",
    "    root.lift()\n",
    "    root.attributes('-topmost', True)\n",
    "    root.wm_title(\"Upload\")\n",
    "    \n",
    "    init_frame(root)\n",
    "    root.mainloop()\n",
    "\n",
    "if __name__ == '__main__':\n",
    "    main()\n"
   ]
  }
 ],
 "metadata": {
  "kernelspec": {
   "display_name": "Python 3",
   "language": "python",
   "name": "python3"
  },
  "language_info": {
   "codemirror_mode": {
    "name": "ipython",
    "version": 3
   },
   "file_extension": ".py",
   "mimetype": "text/x-python",
   "name": "python",
   "nbconvert_exporter": "python",
   "pygments_lexer": "ipython3",
   "version": "3.6.1"
  }
 },
 "nbformat": 4,
 "nbformat_minor": 2
}
