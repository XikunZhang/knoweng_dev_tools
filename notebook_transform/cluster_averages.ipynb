{
 "cells": [
  {
   "cell_type": "markdown",
   "metadata": {},
   "source": [
    "# Tranformation # 4\n",
    "## One spreadsheet and a clustering return a data frame of averages for each cluster.\n",
    "\n",
    "    "
   ]
  },
  {
   "cell_type": "code",
   "execution_count": 1,
   "metadata": {
    "collapsed": true
   },
   "outputs": [],
   "source": [
    "# Manually enter the directories and filenames of both the input file and the output file. \n",
    "input_directory = './transform_data/'\n",
    "input_file_name1 = 'transform_5_spreadsheet.tsv'\n",
    "input_file_name2 = 'spreadsheet_Two.txt'\n",
    "output_directory = './transform_data/'\n",
    "output_file_name1 = 'transform_5_spreadsheet_T5.txt'\n",
    "output_file_name2 = 'spreadsheet_Two_T5.txt'\n",
    "\n",
    "phenotype_id = 'grade'"
   ]
  },
  {
   "cell_type": "code",
   "execution_count": 2,
   "metadata": {
    "collapsed": true
   },
   "outputs": [],
   "source": [
    "import os\n",
    "from transformations import gui\n",
    "\n",
    "input_full_path1 = os.path.join(input_directory,input_file_name1)\n",
    "input_full_path2 = os.path.join(input_directory,input_file_name2)\n",
    "output_full_path1 = os.path.join(output_directory,output_file_name1)\n",
    "output_full_path2 = os.path.join(output_directory,output_file_name2)\n",
    "#transform_func = transpose    #function defined in module notebook_transformations.py"
   ]
  },
  {
   "cell_type": "code",
   "execution_count": 3,
   "metadata": {
    "collapsed": true
   },
   "outputs": [],
   "source": [
    "import knpackage.toolbox as kn\n",
    "phenotype_df = kn.get_spreadsheet_df(input_full_path2)\n",
    "category_list = list(set(list(phenotype_df[phenotype_id])))\n",
    "select_category = category_list[2]"
   ]
  },
  {
   "cell_type": "code",
   "execution_count": 4,
   "metadata": {
    "collapsed": true
   },
   "outputs": [],
   "source": [
    "gui(input_full_path1,input_full_path2,phenotype_id, select_category,output_full_path1,output_full_path2,num=5)"
   ]
  },
  {
   "cell_type": "code",
   "execution_count": null,
   "metadata": {},
   "outputs": [],
   "source": []
  }
 ],
 "metadata": {
  "kernelspec": {
   "display_name": "Python 3",
   "language": "python",
   "name": "python3"
  },
  "language_info": {
   "codemirror_mode": {
    "name": "ipython",
    "version": 3
   },
   "file_extension": ".py",
   "mimetype": "text/x-python",
   "name": "python",
   "nbconvert_exporter": "python",
   "pygments_lexer": "ipython3",
   "version": "3.6.1"
  }
 },
 "nbformat": 4,
 "nbformat_minor": 2
}
