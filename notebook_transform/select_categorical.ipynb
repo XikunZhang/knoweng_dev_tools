{
 "cells": [
  {
   "cell_type": "markdown",
   "metadata": {},
   "source": [
    "## From a genes x samples spreadsheet and a samples x phenotypes spreadsheet, return both spreadsheets with only the samples corresponding to a category in a phenotype.\n",
    "##### aka  transform_5"
   ]
  },
  {
   "cell_type": "code",
   "execution_count": 1,
   "metadata": {},
   "outputs": [],
   "source": [
    "# Prepare ipython:       (Shift-Enter on this cell before any others)\n",
    "\n",
    "import os\n",
    "import sys\n",
    "sys.path.insert(1,'../src')\n",
    "from transformation_toolbox import read_select_categorical_write"
   ]
  },
  {
   "cell_type": "markdown",
   "metadata": {},
   "source": [
    "#### Type (or paste) the file names here."
   ]
  },
  {
   "cell_type": "code",
   "execution_count": 2,
   "metadata": {},
   "outputs": [],
   "source": [
    "#               construct the input data structure as a python dictionary\n",
    "input_directory = '../data/transform_data'\n",
    "full_file_name_1 = 'transform_5_spreadsheet.tsv'\n",
    "full_file_name_2 = 'spreadsheet_Two.txt'\n",
    "\n",
    "output_directory = '../test'\n",
    "out_file_name_1 = 'transform_5_spreadsheet_T5.tsv'\n",
    "out_file_name_2 = 'spreadsheet_Two_T5.txt'\n",
    "\n",
    "run_parameters = {'method': 'select_categorical'}\n",
    "run_parameters['phenotype_id'] = 'grade'\n",
    "run_parameters['select_category'] = 'grade 3'\n",
    "run_parameters['full_file_name_1'] = os.path.join(input_directory, full_file_name_1)\n",
    "run_parameters['full_file_name_2'] = os.path.join(input_directory, full_file_name_2)\n",
    "run_parameters['out_file_name_1'] = os.path.join(output_directory, out_file_name_1)\n",
    "run_parameters['out_file_name_2'] = os.path.join(output_directory, out_file_name_2)"
   ]
  },
  {
   "cell_type": "code",
   "execution_count": 3,
   "metadata": {},
   "outputs": [
    {
     "ename": "KeyError",
     "evalue": "'select_category'",
     "output_type": "error",
     "traceback": [
      "\u001b[0;31m---------------------------------------------------------------------------\u001b[0m",
      "\u001b[0;31mKeyError\u001b[0m                                  Traceback (most recent call last)",
      "\u001b[0;32m<ipython-input-3-52a977a6c981>\u001b[0m in \u001b[0;36m<module>\u001b[0;34m()\u001b[0m\n\u001b[1;32m      1\u001b[0m \u001b[0;31m#               Read, get common samples, and write the file (or get and exception message)\u001b[0m\u001b[0;34m\u001b[0m\u001b[0;34m\u001b[0m\u001b[0m\n\u001b[1;32m      2\u001b[0m \u001b[0;34m\u001b[0m\u001b[0m\n\u001b[0;32m----> 3\u001b[0;31m \u001b[0mSTATUS\u001b[0m \u001b[0;34m=\u001b[0m \u001b[0mread_select_categorical_write\u001b[0m\u001b[0;34m(\u001b[0m\u001b[0mrun_parameters\u001b[0m\u001b[0;34m)\u001b[0m\u001b[0;34m\u001b[0m\u001b[0m\n\u001b[0m\u001b[1;32m      4\u001b[0m \u001b[0;32mif\u001b[0m \u001b[0mSTATUS\u001b[0m \u001b[0;34m!=\u001b[0m \u001b[0;36m0\u001b[0m\u001b[0;34m:\u001b[0m\u001b[0;34m\u001b[0m\u001b[0m\n\u001b[1;32m      5\u001b[0m     \u001b[0mprint\u001b[0m\u001b[0;34m(\u001b[0m\u001b[0;34m'Select Categorical operation exception\\nCheck output files.'\u001b[0m\u001b[0;34m)\u001b[0m\u001b[0;34m\u001b[0m\u001b[0m\n",
      "\u001b[0;32m/home/xikun/KnowEng/knoweng_dev_tools/src/transformation_toolbox.py\u001b[0m in \u001b[0;36mread_select_categorical_write\u001b[0;34m(run_parameters)\u001b[0m\n\u001b[1;32m    264\u001b[0m     \u001b[0minput_path2\u001b[0m \u001b[0;34m=\u001b[0m \u001b[0mrun_parameters\u001b[0m\u001b[0;34m[\u001b[0m\u001b[0;34m'full_file_name_2'\u001b[0m\u001b[0;34m]\u001b[0m\u001b[0;34m\u001b[0m\u001b[0m\n\u001b[1;32m    265\u001b[0m     \u001b[0mphenotype_id\u001b[0m \u001b[0;34m=\u001b[0m \u001b[0mrun_parameters\u001b[0m\u001b[0;34m[\u001b[0m\u001b[0;34m'phenotype_id'\u001b[0m\u001b[0;34m]\u001b[0m\u001b[0;34m\u001b[0m\u001b[0m\n\u001b[0;32m--> 266\u001b[0;31m     \u001b[0mselect_category\u001b[0m \u001b[0;34m=\u001b[0m \u001b[0mrun_parameters\u001b[0m\u001b[0;34m[\u001b[0m\u001b[0;34m'select_category'\u001b[0m\u001b[0;34m]\u001b[0m\u001b[0;34m\u001b[0m\u001b[0m\n\u001b[0m\u001b[1;32m    267\u001b[0m     \u001b[0;31m# print(phenotype_id,select_category)\u001b[0m\u001b[0;34m\u001b[0m\u001b[0;34m\u001b[0m\u001b[0m\n\u001b[1;32m    268\u001b[0m     \u001b[0moutput_path1\u001b[0m \u001b[0;34m=\u001b[0m \u001b[0mrun_parameters\u001b[0m\u001b[0;34m[\u001b[0m\u001b[0;34m'out_file_name_1'\u001b[0m\u001b[0;34m]\u001b[0m\u001b[0;34m\u001b[0m\u001b[0m\n",
      "\u001b[0;31mKeyError\u001b[0m: 'select_category'"
     ]
    }
   ],
   "source": [
    "#               Read, get common samples, and write the file (or get and exception message)\n",
    "\n",
    "STATUS = read_select_categorical_write(run_parameters)\n",
    "if STATUS != 0:\n",
    "    print('Select Categorical operation exception\\nCheck output files.')"
   ]
  },
  {
   "cell_type": "code",
   "execution_count": null,
   "metadata": {},
   "outputs": [],
   "source": [
    "#               View the output directory\n",
    "os.listdir(output_directory)"
   ]
  },
  {
   "cell_type": "code",
   "execution_count": null,
   "metadata": {},
   "outputs": [],
   "source": []
  },
  {
   "cell_type": "code",
   "execution_count": null,
   "metadata": {},
   "outputs": [],
   "source": []
  }
 ],
 "metadata": {
  "kernelspec": {
   "display_name": "Python 3",
   "language": "python",
   "name": "python3"
  },
  "language_info": {
   "codemirror_mode": {
    "name": "ipython",
    "version": 3
   },
   "file_extension": ".py",
   "mimetype": "text/x-python",
   "name": "python",
   "nbconvert_exporter": "python",
   "pygments_lexer": "ipython3",
   "version": "3.6.1"
  },
  "varInspector": {
   "cols": {
    "lenName": 16,
    "lenType": 16,
    "lenVar": 40
   },
   "kernels_config": {
    "python": {
     "delete_cmd_postfix": "",
     "delete_cmd_prefix": "del ",
     "library": "var_list.py",
     "varRefreshCmd": "print(var_dic_list())"
    },
    "r": {
     "delete_cmd_postfix": ") ",
     "delete_cmd_prefix": "rm(",
     "library": "var_list.r",
     "varRefreshCmd": "cat(var_dic_list()) "
    }
   },
   "types_to_exclude": [
    "module",
    "function",
    "builtin_function_or_method",
    "instance",
    "_Feature"
   ],
   "window_display": false
  }
 },
 "nbformat": 4,
 "nbformat_minor": 2
}
