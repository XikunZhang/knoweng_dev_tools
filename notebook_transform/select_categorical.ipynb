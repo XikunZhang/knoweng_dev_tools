{
 "cells": [
  {
   "cell_type": "markdown",
   "metadata": {},
   "source": [
    "#####  transform_5\n",
    "## From a genes x samples spreadsheet and a samples x phenotypes spreadsheet, return both spreadsheets with only the samples corresponding to a category in a phenotype."
   ]
  },
  {
   "cell_type": "code",
   "execution_count": 1,
   "metadata": {},
   "outputs": [],
   "source": [
    "# Prepare ipython:       (Shift-Enter on this cell before any others)\n",
    "\n",
    "import os\n",
    "import sys\n",
    "sys.path.insert(1,'../src')\n",
    "from transformation_toolbox import read_select_categorical_write"
   ]
  },
  {
   "cell_type": "markdown",
   "metadata": {},
   "source": [
    "#### Type (or paste) the file names here."
   ]
  },
  {
   "cell_type": "code",
   "execution_count": 2,
   "metadata": {},
   "outputs": [],
   "source": [
    "#               construct the input data structure as a python dictionary\n",
    "input_directory = '../data/transform_data'\n",
    "full_file_name_1 = 'transform_5_spreadsheet.tsv'\n",
    "full_file_name_2 = 'spreadsheet_Two.txt'\n",
    "\n",
    "output_directory = '../test'\n",
    "out_file_name_1 = 'transform_5_spreadsheet_T5.tsv'\n",
    "out_file_name_2 = 'spreadsheet_Two_T5.txt'\n",
    "\n",
    "run_parameters = {'method': 'select_categorical'}\n",
    "run_parameters['phenotype_id'] = 'grade'\n",
    "run_parameters['select_category'] = 'grade 3'\n",
    "run_parameters['genes_samples_spreadsheet_file_name'] = os.path.join(input_directory, full_file_name_1)\n",
    "run_parameters['samples_phenotypes_spreadsheet_file_name'] = os.path.join(input_directory, full_file_name_2)\n",
    "run_parameters['catetorical_spreadsheet_file_name'] = os.path.join(output_directory, out_file_name_1)\n",
    "run_parameters['categorical_phenotypes_file_name'] = os.path.join(output_directory, out_file_name_2)"
   ]
  },
  {
   "cell_type": "code",
   "execution_count": 3,
   "metadata": {},
   "outputs": [],
   "source": [
    "#               Read, get common samples, and write the file (or get and exception message)\n",
    "\n",
    "STATUS = read_select_categorical_write(run_parameters)\n",
    "if STATUS != 0:\n",
    "    print('Select Categorical operation exception\\nCheck output files.')"
   ]
  },
  {
   "cell_type": "code",
   "execution_count": 4,
   "metadata": {},
   "outputs": [
    {
     "data": {
      "text/plain": [
       "['.anchor.txt',\n",
       " 'spreadsheet_Two_T5.txt',\n",
       " 'transform_5_spreadsheet_T5.tsv',\n",
       " '.ipynb_checkpoints']"
      ]
     },
     "execution_count": 4,
     "metadata": {},
     "output_type": "execute_result"
    }
   ],
   "source": [
    "#               View the output directory\n",
    "os.listdir(output_directory)"
   ]
  },
  {
   "cell_type": "code",
   "execution_count": 5,
   "metadata": {
    "run_control": {
     "marked": false
    }
   },
   "outputs": [],
   "source": [
    "#               (optional) save run parameters revisions:\n",
    "import yaml_widget_tools as ywt\n",
    "\n",
    "yaml_directory = '../data/run_files'\n",
    "# yaml_directory = output_directory\n",
    "yaml_file_name = 'DEMO_select_categorical.yml'\n",
    "yaml_file_name = os.path.join(yaml_directory, yaml_file_name)\n",
    "\n",
    "STATUS = ywt.run_parameters_to_yaml(run_parameters, yaml_file_name)\n",
    "\n",
    "if not STATUS == 0:\n",
    "    print('WARNING!\\trun_parameters_to_yaml == %d\\n\\tfor file name:\\n%s'%(STATUS, yaml_file_name))"
   ]
  },
  {
   "cell_type": "code",
   "execution_count": null,
   "metadata": {},
   "outputs": [],
   "source": []
  }
 ],
 "metadata": {
  "kernelspec": {
   "display_name": "Python 3",
   "language": "python",
   "name": "python3"
  },
  "language_info": {
   "codemirror_mode": {
    "name": "ipython",
    "version": 3
   },
   "file_extension": ".py",
   "mimetype": "text/x-python",
   "name": "python",
   "nbconvert_exporter": "python",
   "pygments_lexer": "ipython3",
   "version": "3.6.1"
  },
  "varInspector": {
   "cols": {
    "lenName": 16,
    "lenType": 16,
    "lenVar": 40
   },
   "kernels_config": {
    "python": {
     "delete_cmd_postfix": "",
     "delete_cmd_prefix": "del ",
     "library": "var_list.py",
     "varRefreshCmd": "print(var_dic_list())"
    },
    "r": {
     "delete_cmd_postfix": ") ",
     "delete_cmd_prefix": "rm(",
     "library": "var_list.r",
     "varRefreshCmd": "cat(var_dic_list()) "
    }
   },
   "types_to_exclude": [
    "module",
    "function",
    "builtin_function_or_method",
    "instance",
    "_Feature"
   ],
   "window_display": false
  }
 },
 "nbformat": 4,
 "nbformat_minor": 2
}
