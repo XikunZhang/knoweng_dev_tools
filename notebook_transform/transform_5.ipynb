{
 "cells": [
  {
   "cell_type": "markdown",
   "metadata": {},
   "source": [
    "    Select the samples in a phenotype catagory from a genes x samples spreadsheet and a phenotype."
   ]
  },
  {
   "cell_type": "code",
   "execution_count": 1,
   "metadata": {
    "collapsed": true
   },
   "outputs": [],
   "source": [
    "import os\n",
    "import numpy as np\n",
    "import pandas as pd\n",
    "import knpackage.toolbox as kn"
   ]
  },
  {
   "cell_type": "code",
   "execution_count": 2,
   "metadata": {
    "collapsed": true
   },
   "outputs": [],
   "source": [
    "data_source_directory = './transform_data'\n",
    "\n",
    "spreadsheet_df = kn.get_spreadsheet_df(os.path.join(data_source_directory, 'transform_5_spreadsheet.tsv'))\n",
    "phenotype_df = kn.get_spreadsheet_df(os.path.join(data_source_directory, 'spreadsheet_Two.txt'))"
   ]
  },
  {
   "cell_type": "code",
   "execution_count": 3,
   "metadata": {
    "collapsed": true
   },
   "outputs": [],
   "source": [
    "def get_catagory_dataframes(spreadsheet_df, phenotype_df, phenotype_id, select_catagory):\n",
    "    \"\"\"  \"\"\"\n",
    "    samples_list = phenotype_df.index[phenotype_df[phenotype_id] == select_catagory]\n",
    "    phenotype_catagory_df = phenotype_df.loc[samples_list]\n",
    "    \n",
    "    spreadsheet_catagory_df = spreadsheet_df[samples_list]\n",
    "    \n",
    "    return spreadsheet_catagory_df, phenotype_catagory_df"
   ]
  },
  {
   "cell_type": "code",
   "execution_count": 4,
   "metadata": {},
   "outputs": [
    {
     "name": "stdout",
     "output_type": "stream",
     "text": [
      "phenotype_id =  grade\n",
      "select_catagory =  grade 3 \n",
      "catagory_list:\n",
      "\n"
     ]
    },
    {
     "data": {
      "text/plain": [
       "['grade 2', 'grade 1', 'grade 3']"
      ]
     },
     "execution_count": 4,
     "metadata": {},
     "output_type": "execute_result"
    }
   ],
   "source": [
    "# phenotype_id = phenotype_df.columns[2]\n",
    "phenotype_id = 'grade'\n",
    "print('phenotype_id = ', phenotype_id)\n",
    "catagory_list = list(set(list(phenotype_df[phenotype_id])))\n",
    "select_catagory = catagory_list[2]\n",
    "print('select_catagory = ', select_catagory,'\\ncatagory_list:\\n')\n",
    "catagory_list"
   ]
  },
  {
   "cell_type": "code",
   "execution_count": 5,
   "metadata": {
    "collapsed": true
   },
   "outputs": [],
   "source": [
    "spreadsheet_catagory_df, phenotype_catagory_df = get_catagory_dataframes(\n",
    "                                                    spreadsheet_df, phenotype_df, phenotype_id, select_catagory)"
   ]
  },
  {
   "cell_type": "code",
   "execution_count": 6,
   "metadata": {},
   "outputs": [
    {
     "data": {
      "text/html": [
       "<div>\n",
       "<table border=\"1\" class=\"dataframe\">\n",
       "  <thead>\n",
       "    <tr style=\"text-align: right;\">\n",
       "      <th></th>\n",
       "      <th>ICDO3site</th>\n",
       "      <th>stage</th>\n",
       "      <th>stage_simple</th>\n",
       "      <th>stage_ismeta</th>\n",
       "      <th>grade</th>\n",
       "      <th>grade_simple</th>\n",
       "      <th>residual</th>\n",
       "    </tr>\n",
       "    <tr>\n",
       "      <th>sample_id</th>\n",
       "      <th></th>\n",
       "      <th></th>\n",
       "      <th></th>\n",
       "      <th></th>\n",
       "      <th></th>\n",
       "      <th></th>\n",
       "      <th></th>\n",
       "    </tr>\n",
       "  </thead>\n",
       "  <tbody>\n",
       "    <tr>\n",
       "      <th>TCGA-A5-A0G1</th>\n",
       "      <td>c54.1</td>\n",
       "      <td>stage ia</td>\n",
       "      <td>i</td>\n",
       "      <td>0</td>\n",
       "      <td>grade 3</td>\n",
       "      <td>High Grade</td>\n",
       "      <td>r0</td>\n",
       "    </tr>\n",
       "    <tr>\n",
       "      <th>TCGA-A5-A0G3</th>\n",
       "      <td>c54.1</td>\n",
       "      <td>stage iiic2</td>\n",
       "      <td>iii</td>\n",
       "      <td>0</td>\n",
       "      <td>grade 3</td>\n",
       "      <td>High Grade</td>\n",
       "      <td>r0</td>\n",
       "    </tr>\n",
       "    <tr>\n",
       "      <th>TCGA-A5-A0G5</th>\n",
       "      <td>c54.1</td>\n",
       "      <td>stage ib</td>\n",
       "      <td>i</td>\n",
       "      <td>0</td>\n",
       "      <td>grade 3</td>\n",
       "      <td>High Grade</td>\n",
       "      <td>r0</td>\n",
       "    </tr>\n",
       "    <tr>\n",
       "      <th>TCGA-A5-A0GA</th>\n",
       "      <td>c54.1</td>\n",
       "      <td>stage iiic2</td>\n",
       "      <td>iii</td>\n",
       "      <td>0</td>\n",
       "      <td>grade 3</td>\n",
       "      <td>High Grade</td>\n",
       "      <td>r0</td>\n",
       "    </tr>\n",
       "    <tr>\n",
       "      <th>TCGA-A5-A0GB</th>\n",
       "      <td>c54.1</td>\n",
       "      <td>stage ib</td>\n",
       "      <td>i</td>\n",
       "      <td>0</td>\n",
       "      <td>grade 3</td>\n",
       "      <td>High Grade</td>\n",
       "      <td>r0</td>\n",
       "    </tr>\n",
       "    <tr>\n",
       "      <th>TCGA-A5-A0GH</th>\n",
       "      <td>c54.1</td>\n",
       "      <td>stage ia</td>\n",
       "      <td>i</td>\n",
       "      <td>0</td>\n",
       "      <td>grade 3</td>\n",
       "      <td>High Grade</td>\n",
       "      <td>r0</td>\n",
       "    </tr>\n",
       "  </tbody>\n",
       "</table>\n",
       "</div>"
      ],
      "text/plain": [
       "             ICDO3site        stage stage_simple  stage_ismeta    grade  \\\n",
       "sample_id                                                                 \n",
       "TCGA-A5-A0G1     c54.1     stage ia            i             0  grade 3   \n",
       "TCGA-A5-A0G3     c54.1  stage iiic2          iii             0  grade 3   \n",
       "TCGA-A5-A0G5     c54.1     stage ib            i             0  grade 3   \n",
       "TCGA-A5-A0GA     c54.1  stage iiic2          iii             0  grade 3   \n",
       "TCGA-A5-A0GB     c54.1     stage ib            i             0  grade 3   \n",
       "TCGA-A5-A0GH     c54.1     stage ia            i             0  grade 3   \n",
       "\n",
       "             grade_simple residual  \n",
       "sample_id                           \n",
       "TCGA-A5-A0G1   High Grade       r0  \n",
       "TCGA-A5-A0G3   High Grade       r0  \n",
       "TCGA-A5-A0G5   High Grade       r0  \n",
       "TCGA-A5-A0GA   High Grade       r0  \n",
       "TCGA-A5-A0GB   High Grade       r0  \n",
       "TCGA-A5-A0GH   High Grade       r0  "
      ]
     },
     "execution_count": 6,
     "metadata": {},
     "output_type": "execute_result"
    }
   ],
   "source": [
    "phenotype_catagory_df"
   ]
  },
  {
   "cell_type": "code",
   "execution_count": 7,
   "metadata": {},
   "outputs": [
    {
     "data": {
      "text/html": [
       "<div>\n",
       "<table border=\"1\" class=\"dataframe\">\n",
       "  <thead>\n",
       "    <tr style=\"text-align: right;\">\n",
       "      <th></th>\n",
       "      <th>TCGA-A5-A0G1</th>\n",
       "      <th>TCGA-A5-A0G3</th>\n",
       "      <th>TCGA-A5-A0G5</th>\n",
       "      <th>TCGA-A5-A0GA</th>\n",
       "      <th>TCGA-A5-A0GB</th>\n",
       "      <th>TCGA-A5-A0GH</th>\n",
       "    </tr>\n",
       "  </thead>\n",
       "  <tbody>\n",
       "    <tr>\n",
       "      <th>GAUSPIRAT</th>\n",
       "      <td>0.948538</td>\n",
       "      <td>0.470411</td>\n",
       "      <td>0.834692</td>\n",
       "      <td>0.793820</td>\n",
       "      <td>0.115711</td>\n",
       "      <td>0.735061</td>\n",
       "    </tr>\n",
       "    <tr>\n",
       "      <th>ZQHAJJHBU</th>\n",
       "      <td>0.213151</td>\n",
       "      <td>0.115194</td>\n",
       "      <td>0.813162</td>\n",
       "      <td>0.807677</td>\n",
       "      <td>0.733912</td>\n",
       "      <td>0.019860</td>\n",
       "    </tr>\n",
       "    <tr>\n",
       "      <th>EMNQHKFHU</th>\n",
       "      <td>0.687267</td>\n",
       "      <td>0.219276</td>\n",
       "      <td>0.984807</td>\n",
       "      <td>0.245171</td>\n",
       "      <td>0.745360</td>\n",
       "      <td>0.308030</td>\n",
       "    </tr>\n",
       "    <tr>\n",
       "      <th>AIDBYQFWD</th>\n",
       "      <td>0.433509</td>\n",
       "      <td>0.401608</td>\n",
       "      <td>0.199667</td>\n",
       "      <td>0.408430</td>\n",
       "      <td>0.490161</td>\n",
       "      <td>0.822173</td>\n",
       "    </tr>\n",
       "    <tr>\n",
       "      <th>EZPPQKUNV</th>\n",
       "      <td>0.855013</td>\n",
       "      <td>0.015046</td>\n",
       "      <td>0.381002</td>\n",
       "      <td>0.573448</td>\n",
       "      <td>0.498565</td>\n",
       "      <td>0.851215</td>\n",
       "    </tr>\n",
       "    <tr>\n",
       "      <th>YOHRMXVIU</th>\n",
       "      <td>0.000573</td>\n",
       "      <td>0.592430</td>\n",
       "      <td>0.855953</td>\n",
       "      <td>0.837706</td>\n",
       "      <td>0.902555</td>\n",
       "      <td>0.735257</td>\n",
       "    </tr>\n",
       "    <tr>\n",
       "      <th>SBKIKCYOL</th>\n",
       "      <td>0.116484</td>\n",
       "      <td>0.166058</td>\n",
       "      <td>0.313235</td>\n",
       "      <td>0.470590</td>\n",
       "      <td>0.277679</td>\n",
       "      <td>0.909162</td>\n",
       "    </tr>\n",
       "    <tr>\n",
       "      <th>PUFCMBTVM</th>\n",
       "      <td>0.199653</td>\n",
       "      <td>0.115689</td>\n",
       "      <td>0.582334</td>\n",
       "      <td>0.138098</td>\n",
       "      <td>0.100535</td>\n",
       "      <td>0.663989</td>\n",
       "    </tr>\n",
       "    <tr>\n",
       "      <th>WAEJORIZO</th>\n",
       "      <td>0.272355</td>\n",
       "      <td>0.108076</td>\n",
       "      <td>0.024483</td>\n",
       "      <td>0.853082</td>\n",
       "      <td>0.248299</td>\n",
       "      <td>0.839250</td>\n",
       "    </tr>\n",
       "    <tr>\n",
       "      <th>IQHLAZRUW</th>\n",
       "      <td>0.915814</td>\n",
       "      <td>0.232222</td>\n",
       "      <td>0.711291</td>\n",
       "      <td>0.603413</td>\n",
       "      <td>0.901788</td>\n",
       "      <td>0.864404</td>\n",
       "    </tr>\n",
       "    <tr>\n",
       "      <th>ZPEIGIKNC</th>\n",
       "      <td>0.552608</td>\n",
       "      <td>0.402208</td>\n",
       "      <td>0.153928</td>\n",
       "      <td>0.018586</td>\n",
       "      <td>0.567264</td>\n",
       "      <td>0.195465</td>\n",
       "    </tr>\n",
       "    <tr>\n",
       "      <th>BUZEXEOGC</th>\n",
       "      <td>0.902137</td>\n",
       "      <td>0.391982</td>\n",
       "      <td>0.851891</td>\n",
       "      <td>0.019302</td>\n",
       "      <td>0.071490</td>\n",
       "      <td>0.724291</td>\n",
       "    </tr>\n",
       "    <tr>\n",
       "      <th>QDJQCEORX</th>\n",
       "      <td>0.336017</td>\n",
       "      <td>0.122960</td>\n",
       "      <td>0.586627</td>\n",
       "      <td>0.358930</td>\n",
       "      <td>0.315178</td>\n",
       "      <td>0.703979</td>\n",
       "    </tr>\n",
       "    <tr>\n",
       "      <th>RNVGQGIWS</th>\n",
       "      <td>0.022695</td>\n",
       "      <td>0.028434</td>\n",
       "      <td>0.263386</td>\n",
       "      <td>0.297307</td>\n",
       "      <td>0.987504</td>\n",
       "      <td>0.467377</td>\n",
       "    </tr>\n",
       "    <tr>\n",
       "      <th>NQVMIHNFN</th>\n",
       "      <td>0.331642</td>\n",
       "      <td>0.359587</td>\n",
       "      <td>0.669142</td>\n",
       "      <td>0.985612</td>\n",
       "      <td>0.487625</td>\n",
       "      <td>0.000676</td>\n",
       "    </tr>\n",
       "    <tr>\n",
       "      <th>NFCGOKOZZ</th>\n",
       "      <td>0.780835</td>\n",
       "      <td>0.489415</td>\n",
       "      <td>0.059697</td>\n",
       "      <td>0.735676</td>\n",
       "      <td>0.217945</td>\n",
       "      <td>0.157372</td>\n",
       "    </tr>\n",
       "  </tbody>\n",
       "</table>\n",
       "</div>"
      ],
      "text/plain": [
       "           TCGA-A5-A0G1  TCGA-A5-A0G3  TCGA-A5-A0G5  TCGA-A5-A0GA  \\\n",
       "GAUSPIRAT      0.948538      0.470411      0.834692      0.793820   \n",
       "ZQHAJJHBU      0.213151      0.115194      0.813162      0.807677   \n",
       "EMNQHKFHU      0.687267      0.219276      0.984807      0.245171   \n",
       "AIDBYQFWD      0.433509      0.401608      0.199667      0.408430   \n",
       "EZPPQKUNV      0.855013      0.015046      0.381002      0.573448   \n",
       "YOHRMXVIU      0.000573      0.592430      0.855953      0.837706   \n",
       "SBKIKCYOL      0.116484      0.166058      0.313235      0.470590   \n",
       "PUFCMBTVM      0.199653      0.115689      0.582334      0.138098   \n",
       "WAEJORIZO      0.272355      0.108076      0.024483      0.853082   \n",
       "IQHLAZRUW      0.915814      0.232222      0.711291      0.603413   \n",
       "ZPEIGIKNC      0.552608      0.402208      0.153928      0.018586   \n",
       "BUZEXEOGC      0.902137      0.391982      0.851891      0.019302   \n",
       "QDJQCEORX      0.336017      0.122960      0.586627      0.358930   \n",
       "RNVGQGIWS      0.022695      0.028434      0.263386      0.297307   \n",
       "NQVMIHNFN      0.331642      0.359587      0.669142      0.985612   \n",
       "NFCGOKOZZ      0.780835      0.489415      0.059697      0.735676   \n",
       "\n",
       "           TCGA-A5-A0GB  TCGA-A5-A0GH  \n",
       "GAUSPIRAT      0.115711      0.735061  \n",
       "ZQHAJJHBU      0.733912      0.019860  \n",
       "EMNQHKFHU      0.745360      0.308030  \n",
       "AIDBYQFWD      0.490161      0.822173  \n",
       "EZPPQKUNV      0.498565      0.851215  \n",
       "YOHRMXVIU      0.902555      0.735257  \n",
       "SBKIKCYOL      0.277679      0.909162  \n",
       "PUFCMBTVM      0.100535      0.663989  \n",
       "WAEJORIZO      0.248299      0.839250  \n",
       "IQHLAZRUW      0.901788      0.864404  \n",
       "ZPEIGIKNC      0.567264      0.195465  \n",
       "BUZEXEOGC      0.071490      0.724291  \n",
       "QDJQCEORX      0.315178      0.703979  \n",
       "RNVGQGIWS      0.987504      0.467377  \n",
       "NQVMIHNFN      0.487625      0.000676  \n",
       "NFCGOKOZZ      0.217945      0.157372  "
      ]
     },
     "execution_count": 7,
     "metadata": {},
     "output_type": "execute_result"
    }
   ],
   "source": [
    "spreadsheet_catagory_df"
   ]
  },
  {
   "cell_type": "code",
   "execution_count": null,
   "metadata": {
    "collapsed": true
   },
   "outputs": [],
   "source": []
  },
  {
   "cell_type": "code",
   "execution_count": null,
   "metadata": {
    "collapsed": true
   },
   "outputs": [],
   "source": []
  },
  {
   "cell_type": "code",
   "execution_count": null,
   "metadata": {
    "collapsed": true
   },
   "outputs": [],
   "source": []
  },
  {
   "cell_type": "code",
   "execution_count": null,
   "metadata": {
    "collapsed": true
   },
   "outputs": [],
   "source": []
  },
  {
   "cell_type": "code",
   "execution_count": null,
   "metadata": {
    "collapsed": true
   },
   "outputs": [],
   "source": []
  },
  {
   "cell_type": "code",
   "execution_count": null,
   "metadata": {
    "collapsed": true
   },
   "outputs": [],
   "source": []
  },
  {
   "cell_type": "code",
   "execution_count": null,
   "metadata": {
    "collapsed": true
   },
   "outputs": [],
   "source": []
  },
  {
   "cell_type": "code",
   "execution_count": null,
   "metadata": {
    "collapsed": true
   },
   "outputs": [],
   "source": []
  },
  {
   "cell_type": "code",
   "execution_count": null,
   "metadata": {
    "collapsed": true
   },
   "outputs": [],
   "source": []
  },
  {
   "cell_type": "code",
   "execution_count": null,
   "metadata": {
    "collapsed": true
   },
   "outputs": [],
   "source": []
  }
 ],
 "metadata": {
  "kernelspec": {
   "display_name": "Python 3",
   "language": "python",
   "name": "python3"
  },
  "language_info": {
   "codemirror_mode": {
    "name": "ipython",
    "version": 3
   },
   "file_extension": ".py",
   "mimetype": "text/x-python",
   "name": "python",
   "nbconvert_exporter": "python",
   "pygments_lexer": "ipython3",
   "version": "3.5.3"
  }
 },
 "nbformat": 4,
 "nbformat_minor": 2
}
