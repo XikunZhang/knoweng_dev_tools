{
 "cells": [
  {
   "cell_type": "markdown",
   "metadata": {},
   "source": [
    "## One spreadsheet is returned with only those genes selected from an input list.\n",
    "##### aka transform_3\n"
   ]
  },
  {
   "cell_type": "code",
   "execution_count": 1,
   "metadata": {},
   "outputs": [],
   "source": [
    "# Prepare ipython:       (Shift-Enter on this cell before any others)\n",
    "\n",
    "import os\n",
    "import sys\n",
    "sys.path.insert(1,'../src')\n",
    "from transformation_toolbox import read_select_genes_write"
   ]
  },
  {
   "cell_type": "markdown",
   "metadata": {},
   "source": [
    "#### Type (or paste) the file names here."
   ]
  },
  {
   "cell_type": "code",
   "execution_count": 6,
   "metadata": {},
   "outputs": [],
   "source": [
    "#               construct the input data structure as a python dictionary\n",
    "input_directory = '../data/transform_data'\n",
    "input_file_name_1 = 'gene_samples_1.tsv'\n",
    "# input_full_path = os.path.join(input_directory,input_file_name)\n",
    "\n",
    "output_directory = '../test'\n",
    "output_file_name = 'gene_samples_1_T3.tsv'\n",
    "\n",
    "run_parameters = {'method': 'select_genes'}\n",
    "run_parameters['full_file_name_1'] = os.path.join(input_directory,input_file_name_1)\n",
    "run_parameters['out_file_name'] = os.path.join(output_directory,output_file_name)\n",
    "run_parameters['full_file_name_2'] = os.path.join(input_directory, 'gene_samples_1_list.txt')"
   ]
  },
  {
   "cell_type": "code",
   "execution_count": 7,
   "metadata": {},
   "outputs": [],
   "source": [
    "#               Read, select genes and write the file (or get and exception message)\n",
    "\n",
    "STATUS = read_select_genes_write(run_parameters)\n",
    "if STATUS != 0:\n",
    "    print('Select Genes operation exception\\nCheck output files.')"
   ]
  },
  {
   "cell_type": "code",
   "execution_count": 8,
   "metadata": {},
   "outputs": [
    {
     "data": {
      "text/plain": [
       "['.anchor.txt',\n",
       " 'gene_samples_1_T3.tsv',\n",
       " 'spreadsheet_One_and2.tsv',\n",
       " 'spreadsheet_One_T.tsv',\n",
       " 'spreadsheet_OneTwo.txt',\n",
       " 'spreadsheet_T2.txt',\n",
       " 'spreadsheet_Two_and1.tsv']"
      ]
     },
     "execution_count": 8,
     "metadata": {},
     "output_type": "execute_result"
    }
   ],
   "source": [
    "#               View the output directory\n",
    "os.listdir(output_directory)"
   ]
  },
  {
   "cell_type": "code",
   "execution_count": null,
   "metadata": {},
   "outputs": [],
   "source": []
  }
 ],
 "metadata": {
  "kernelspec": {
   "display_name": "Python 3",
   "language": "python",
   "name": "python3"
  },
  "language_info": {
   "codemirror_mode": {
    "name": "ipython",
    "version": 3
   },
   "file_extension": ".py",
   "mimetype": "text/x-python",
   "name": "python",
   "nbconvert_exporter": "python",
   "pygments_lexer": "ipython3",
   "version": "3.6.1"
  },
  "varInspector": {
   "cols": {
    "lenName": 16,
    "lenType": 16,
    "lenVar": 40
   },
   "kernels_config": {
    "python": {
     "delete_cmd_postfix": "",
     "delete_cmd_prefix": "del ",
     "library": "var_list.py",
     "varRefreshCmd": "print(var_dic_list())"
    },
    "r": {
     "delete_cmd_postfix": ") ",
     "delete_cmd_prefix": "rm(",
     "library": "var_list.r",
     "varRefreshCmd": "cat(var_dic_list()) "
    }
   },
   "types_to_exclude": [
    "module",
    "function",
    "builtin_function_or_method",
    "instance",
    "_Feature"
   ],
   "window_display": false
  }
 },
 "nbformat": 4,
 "nbformat_minor": 2
}
