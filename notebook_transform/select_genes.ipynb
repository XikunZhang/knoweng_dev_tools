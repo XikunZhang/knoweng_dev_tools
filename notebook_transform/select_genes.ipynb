{
 "cells": [
  {
   "cell_type": "markdown",
   "metadata": {},
   "source": [
    "# Transformation     # 3\n",
    "\n",
    "## One spreadsheet is returned with only those genes selected from an input list.\n"
   ]
  },
  {
   "cell_type": "code",
   "execution_count": 1,
   "metadata": {},
   "outputs": [],
   "source": [
    "# Manually enter the directories and filenames of both the input file(s) and the output file(s) and the gene selection list. \n",
    "input_directory = './transform_data/'\n",
    "input_file_name = 'gene_samples_1.tsv'\n",
    "output_directory = './transform_data/'\n",
    "output_file_name = 'gene_samples_1_T3.tsv'\n"
   ]
  },
  {
   "cell_type": "code",
   "execution_count": 2,
   "metadata": {},
   "outputs": [],
   "source": [
    "import os\n",
    "from transformations import gui\n",
    "\n",
    "input_full_path = os.path.join(input_directory,input_file_name)\n",
    "output_full_path = os.path.join(output_directory,output_file_name)\n",
    "\n",
    "#transform_func = transpose    #function defined in module notebook_transformations.py"
   ]
  },
  {
   "cell_type": "code",
   "execution_count": 3,
   "metadata": {},
   "outputs": [],
   "source": [
    "# generate a gene selection list\n",
    "import knpackage.toolbox as kn\n",
    "import numpy as np\n",
    "\n",
    "spreadsheet_1_df = kn.get_spreadsheet_df(input_full_path)\n",
    "fragment = 0.8\n",
    "N_select = np.int_(np.round(spreadsheet_1_df.shape[0] * fragment))\n",
    "gene_select_list = list(spreadsheet_1_df.index)\n",
    "gene_select_list = [gene_select_list[k] for k in np.int_(np.random.permutation(len(gene_select_list))[0:N_select])]"
   ]
  },
  {
   "cell_type": "code",
   "execution_count": 4,
   "metadata": {},
   "outputs": [],
   "source": [
    "gui(input_full_path,gene_select_list,output_full_path,num=3)"
   ]
  }
 ],
 "metadata": {
  "kernelspec": {
   "display_name": "Python 3",
   "language": "python",
   "name": "python3"
  },
  "language_info": {
   "codemirror_mode": {
    "name": "ipython",
    "version": 3
   },
   "file_extension": ".py",
   "mimetype": "text/x-python",
   "name": "python",
   "nbconvert_exporter": "python",
   "pygments_lexer": "ipython3",
   "version": "3.6.1"
  }
 },
 "nbformat": 4,
 "nbformat_minor": 2
}
