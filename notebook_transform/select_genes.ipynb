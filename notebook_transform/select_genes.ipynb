{
 "cells": [
  {
   "cell_type": "markdown",
   "metadata": {},
   "source": [
    "## One spreadsheet is returned with only those genes selected from an input list.\n",
    "##### aka transform_3\n"
   ]
  },
  {
   "cell_type": "code",
   "execution_count": 1,
   "metadata": {},
   "outputs": [],
   "source": [
    "# Prepare ipython:       (Shift-Enter on this cell before any others)\n",
    "\n",
    "import os\n",
    "import sys\n",
    "sys.path.insert(1,'../src')\n",
    "from transformation_toolbox import read_select_genes_write"
   ]
  },
  {
   "cell_type": "markdown",
   "metadata": {},
   "source": [
    "#### Type (or paste) the file names here."
   ]
  },
  {
   "cell_type": "code",
   "execution_count": 2,
   "metadata": {
    "collapsed": true
   },
   "outputs": [],
   "source": [
    "#               construct the input data structure as a python dictionary\n",
    "input_directory = '../data/transform_data'\n",
    "input_file_name = 'gene_samples_1.tsv'\n",
    "input_full_path = os.path.join(input_directory,input_file_name)\n",
    "\n",
    "output_directory = '../test'\n",
    "output_file_name = 'gene_samples_1_T3.tsv'\n",
    "\n",
    "run_parameters = {'method': 'select_genes'}\n",
    "run_parameters['input_path'] = os.path.join(input_directory,input_file_name)\n",
    "run_parameters['output_path'] = os.path.join(output_directory,output_file_name)"
   ]
  },
  {
   "cell_type": "code",
   "execution_count": 3,
   "metadata": {},
   "outputs": [],
   "source": [
    "# generate a gene selection list\n",
    "import knpackage.toolbox as kn\n",
    "import numpy as np\n",
    "\n",
    "spreadsheet_1_df = kn.get_spreadsheet_df(input_full_path)\n",
    "fragment = 0.8\n",
    "N_select = np.int_(np.round(spreadsheet_1_df.shape[0] * fragment))\n",
    "gene_select_list = list(spreadsheet_1_df.index)\n",
    "gene_select_list = [gene_select_list[k] for k in np.int_(np.random.permutation(len(gene_select_list))[0:N_select])]\n",
    "\n",
    "run_parameters['gene_select_list'] = gene_select_list"
   ]
  },
  {
   "cell_type": "code",
   "execution_count": 4,
   "metadata": {},
   "outputs": [],
   "source": [
    "#               Read, select genes and write the file (or get and exception message)\n",
    "\n",
    "STATUS = read_select_genes_write(run_parameters)\n",
    "if STATUS != 0:\n",
    "    print('Select Genes operation exception\\nCheck output files.')"
   ]
  },
  {
   "cell_type": "code",
   "execution_count": 5,
   "metadata": {},
   "outputs": [
    {
     "data": {
      "text/plain": [
       "['.anchor.txt', 'spreadsheet_T2.txt', 'gene_samples_1_T3.tsv']"
      ]
     },
     "execution_count": 5,
     "metadata": {},
     "output_type": "execute_result"
    }
   ],
   "source": [
    "#               View the output directory\n",
    "os.listdir(output_directory)"
   ]
  },
  {
   "cell_type": "code",
   "execution_count": null,
   "metadata": {
    "collapsed": true
   },
   "outputs": [],
   "source": []
  }
 ],
 "metadata": {
  "kernelspec": {
   "display_name": "Python 3",
   "language": "python",
   "name": "python3"
  },
  "language_info": {
   "codemirror_mode": {
    "name": "ipython",
    "version": 3
   },
   "file_extension": ".py",
   "mimetype": "text/x-python",
   "name": "python",
   "nbconvert_exporter": "python",
   "pygments_lexer": "ipython3",
   "version": "3.6.1"
  }
 },
 "nbformat": 4,
 "nbformat_minor": 2
}
