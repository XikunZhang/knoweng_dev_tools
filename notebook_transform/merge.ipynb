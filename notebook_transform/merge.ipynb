{
 "cells": [
  {
   "cell_type": "markdown",
   "metadata": {},
   "source": [
    "## Two spreadsheets are combined into one with all samples and phenotypes. (NaN filled)\n",
    "* Samples x Phenotypes spreadsheets must have different phenotypes.\n",
    "##### aka transform_2"
   ]
  },
  {
   "cell_type": "code",
   "execution_count": 1,
   "metadata": {
    "collapsed": true
   },
   "outputs": [],
   "source": [
    "# Prepare ipython:       (Shift-Enter on this cell before any others)\n",
    "\n",
    "import os\n",
    "import sys\n",
    "sys.path.insert(1,'../src')\n",
    "from transformation_toolbox import read_merge_write"
   ]
  },
  {
   "cell_type": "markdown",
   "metadata": {},
   "source": [
    "#### Type (or paste) the file names here."
   ]
  },
  {
   "cell_type": "code",
   "execution_count": 2,
   "metadata": {
    "collapsed": true
   },
   "outputs": [],
   "source": [
    "#               construct the input data structure as a python dictionary\n",
    "input_directory = '../data/transform_data'\n",
    "input_file_name1 = 'spreadsheet_One.txt'\n",
    "input_file_name2 = 'spreadsheet_Two.txt'\n",
    "\n",
    "output_directory = '../test'\n",
    "output_file_name = 'spreadsheet_T2.txt'\n",
    "\n",
    "run_parameters = {'method': 'merge'}\n",
    "run_parameters['full_file_name_1'] = os.path.join(input_directory,input_file_name1)\n",
    "run_parameters['full_file_name_2'] = os.path.join(input_directory,input_file_name2)\n",
    "run_parameters['out_file_name'] = os.path.join(output_directory,output_file_name)"
   ]
  },
  {
   "cell_type": "code",
   "execution_count": 3,
   "metadata": {
    "collapsed": true
   },
   "outputs": [],
   "source": [
    "#               Read, merge and write the file (or get and exception message)\n",
    "\n",
    "STATUS = read_merge_write(run_parameters)\n",
    "if STATUS != 0:\n",
    "    print('Merge operation exception\\nCheck output files.')"
   ]
  },
  {
   "cell_type": "code",
   "execution_count": 4,
   "metadata": {},
   "outputs": [
    {
     "data": {
      "text/plain": [
       "['.anchor.txt',\n",
       " 'spreadsheet_One_and2.tsv',\n",
       " 'spreadsheet_One_T.tsv',\n",
       " 'spreadsheet_T2.txt',\n",
       " 'spreadsheet_Two_and1.tsv']"
      ]
     },
     "execution_count": 4,
     "metadata": {},
     "output_type": "execute_result"
    }
   ],
   "source": [
    "#               View the output directory\n",
    "os.listdir(output_directory)"
   ]
  },
  {
   "cell_type": "code",
   "execution_count": null,
   "metadata": {
    "collapsed": true
   },
   "outputs": [],
   "source": []
  }
 ],
 "metadata": {
  "kernelspec": {
   "display_name": "Python 3",
   "language": "python",
   "name": "python3"
  },
  "language_info": {
   "codemirror_mode": {
    "name": "ipython",
    "version": 3
   },
   "file_extension": ".py",
   "mimetype": "text/x-python",
   "name": "python",
   "nbconvert_exporter": "python",
   "pygments_lexer": "ipython3",
   "version": "3.5.3"
  }
 },
 "nbformat": 4,
 "nbformat_minor": 2
}
