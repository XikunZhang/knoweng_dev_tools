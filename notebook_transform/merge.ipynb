{
 "cells": [
  {
   "cell_type": "markdown",
   "metadata": {},
   "source": [
    "##### transform_2\n",
    "## Two spreadsheets are combined into one with all samples and phenotypes. (NaN filled)\n",
    "* Samples x Phenotypes spreadsheets must have different phenotypes."
   ]
  },
  {
   "cell_type": "code",
   "execution_count": 1,
   "metadata": {
    "run_control": {
     "marked": false
    }
   },
   "outputs": [],
   "source": [
    "# Prepare ipython:       (Shift-Enter on this cell before any others)\n",
    "\n",
    "import os\n",
    "import sys\n",
    "sys.path.insert(1,'../src')\n",
    "from transformation_toolbox import read_merge_write"
   ]
  },
  {
   "cell_type": "markdown",
   "metadata": {},
   "source": [
    "#### Type (or paste) the file names here."
   ]
  },
  {
   "cell_type": "code",
   "execution_count": 2,
   "metadata": {},
   "outputs": [],
   "source": [
    "#               construct the input data structure as a python dictionary\n",
    "input_directory = '../data/transform_data'\n",
    "input_file_name1 = 'spreadsheet_One.txt'\n",
    "input_file_name2 = 'spreadsheet_Two.txt'\n",
    "\n",
    "output_directory = '../test'\n",
    "output_file_name = 'spreadsheet_T2.txt'\n",
    "\n",
    "run_parameters = {'method': 'merge'}\n",
    "run_parameters['spreadsheet_1_file_name'] = os.path.join(input_directory,input_file_name1)\n",
    "run_parameters['spreadsheet_2_file_name'] = os.path.join(input_directory,input_file_name2)\n",
    "run_parameters['spreadsheet_merge_file_name'] = os.path.join(output_directory,output_file_name)"
   ]
  },
  {
   "cell_type": "code",
   "execution_count": 3,
   "metadata": {},
   "outputs": [],
   "source": [
    "#               Read, merge and write the file (or get and exception message)\n",
    "\n",
    "STATUS = read_merge_write(run_parameters)\n",
    "if STATUS != 0:\n",
    "    print('Merge operation exception\\nCheck output files.')"
   ]
  },
  {
   "cell_type": "code",
   "execution_count": 4,
   "metadata": {},
   "outputs": [
    {
     "data": {
      "text/plain": [
       "['spreadsheet_One_T1.txt',\n",
       " '.anchor.txt',\n",
       " 'spreadsheet_One_T.tsv',\n",
       " 'spreadsheet_One_T.txt',\n",
       " 'spreadsheet_T2.txt',\n",
       " 'spreadsheet_Two_T5.txt',\n",
       " 'gene_samples_small_T4.tsv',\n",
       " 'spreadsheet_Two_T1.txt',\n",
       " 'transform_5_spreadsheet_T5.tsv',\n",
       " 'gene_samples_1_T3.tsv',\n",
       " '.ipynb_checkpoints']"
      ]
     },
     "execution_count": 4,
     "metadata": {},
     "output_type": "execute_result"
    }
   ],
   "source": [
    "#               View the output directory\n",
    "os.listdir(output_directory)"
   ]
  },
  {
   "cell_type": "code",
   "execution_count": 5,
   "metadata": {},
   "outputs": [],
   "source": [
    "#               (optional) save run parameters revisions:\n",
    "import yaml_widget_tools as ywt\n",
    "\n",
    "yaml_directory = '../data/run_files'\n",
    "# yaml_directory = output_directory\n",
    "yaml_file_name = 'DEMO_merge.yml'\n",
    "yaml_file_name = os.path.join(yaml_directory, yaml_file_name)\n",
    "\n",
    "STATUS = ywt.run_parameters_to_yaml(run_parameters, yaml_file_name)\n",
    "\n",
    "if not STATUS == 0:\n",
    "    print('WARNING!\\trun_parameters_to_yaml == %d\\n\\tfor file name:\\n%s'%(STATUS, yaml_file_name))"
   ]
  }
 ],
 "metadata": {
  "kernelspec": {
   "display_name": "Python 3",
   "language": "python",
   "name": "python3"
  },
  "language_info": {
   "codemirror_mode": {
    "name": "ipython",
    "version": 3
   },
   "file_extension": ".py",
   "mimetype": "text/x-python",
   "name": "python",
   "nbconvert_exporter": "python",
   "pygments_lexer": "ipython3",
   "version": "3.6.1"
  },
  "varInspector": {
   "cols": {
    "lenName": 16,
    "lenType": 16,
    "lenVar": 40
   },
   "kernels_config": {
    "python": {
     "delete_cmd_postfix": "",
     "delete_cmd_prefix": "del ",
     "library": "var_list.py",
     "varRefreshCmd": "print(var_dic_list())"
    },
    "r": {
     "delete_cmd_postfix": ") ",
     "delete_cmd_prefix": "rm(",
     "library": "var_list.r",
     "varRefreshCmd": "cat(var_dic_list()) "
    }
   },
   "types_to_exclude": [
    "module",
    "function",
    "builtin_function_or_method",
    "instance",
    "_Feature"
   ],
   "window_display": false
  }
 },
 "nbformat": 4,
 "nbformat_minor": 2
}
