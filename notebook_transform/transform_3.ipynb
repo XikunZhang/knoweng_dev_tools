{
 "cells": [
  {
   "cell_type": "markdown",
   "metadata": {},
   "source": [
    "# Transformation     # 3\n",
    "\n",
    "## Two spreadsheets with gene transformation lists into union spreadsheet\n"
   ]
  },
  {
   "cell_type": "code",
   "execution_count": 1,
   "metadata": {},
   "outputs": [],
   "source": [
    "import os\n",
    "import numpy as np\n",
    "import pandas as pd\n",
    "import knpackage.toolbox as kn\n",
    "# import knpackage.redis_utilities as redisutil"
   ]
  },
  {
   "cell_type": "markdown",
   "metadata": {},
   "source": [
    "#### Get two dataframes, merge into one dataframe with all sample names and all unique phenotype names.\n",
    "* Reject overlapping names in phenotype input as unresolved ambiguity."
   ]
  },
  {
   "cell_type": "markdown",
   "metadata": {},
   "source": [
    "#### Transformation of two genes x samples spreadsheets into one ensembl-intersection-genes x samples spreadseet."
   ]
  },
  {
   "cell_type": "code",
   "execution_count": 2,
   "metadata": {},
   "outputs": [],
   "source": [
    "def select_spreadsheet_genes(spreadsheet_df, gene_select_list):\n",
    "    \"\"\"  \n",
    "    Args:\n",
    "        spreadsheet_df:             genes x samples data frame\n",
    "        gene_select_list:           list of some gene names in the spreadsheet\n",
    "    Returns:\n",
    "        spreadsheet_intersected_df: data frame with only the genes in the intersection of input gene names.\n",
    "    \"\"\"\n",
    "    gene_names = kn.extract_spreadsheet_gene_names(spreadsheet_df)\n",
    "    intersected_names = kn.find_common_node_names(gene_names, gene_select_list)\n",
    "    return spreadsheet_df.loc[intersected_names]"
   ]
  },
  {
   "cell_type": "code",
   "execution_count": 3,
   "metadata": {},
   "outputs": [
    {
     "name": "stdout",
     "output_type": "stream",
     "text": [
      "                 KATOIII  NCI-H2170  UM-UC-3  COLO-205  M14\n",
      "ENSG00000145934        0          1        0         0    1\n",
      "ENSG00000167548        1          0        1         0    1\n",
      "ENSG00000115275        0          0        0         0    0\n",
      "ENSG00000244045        0          0        0         0    0\n",
      "ENSG00000167258        0          0        0         0    0\n",
      "ENSG00000156269        0          0        0         0    0\n",
      "ENSG00000134762        0          0        0         0    0\n",
      "ENSG00000082684        1          0        0         0    1\n",
      "ENSG00000165584        0          0        0         0    0\n",
      "ENSG00000126456        0          0        0         0    0\n",
      "ENSG00000126351        0          0        0         0    0\n",
      "ENSG00000137876        1          0        0         0    0\n",
      "ENSG00000184117        0          0        0         0    1\n",
      "ENSG00000177570        0          0        0         0    0\n",
      "ENSG00000112855        0          0        0         0    0\n",
      "ENSG00000136297        0          0        1         0    0\n",
      "ENSG00000256061        0          0        0         0    0\n",
      "ENSG00000255582        0          0        0         0    0 \n",
      "\n",
      "ENSG00000136297\n",
      "ENSG00000137876\n",
      "ENSG00000126351\n",
      "ENSG00000115275\n",
      "ENSG00000255582\n",
      "ENSG00000244045\n",
      "ENSG00000256061\n",
      "ENSG00000134762\n",
      "ENSG00000145934\n",
      "ENSG00000126456\n",
      "ENSG00000184117\n",
      "ENSG00000082684\n",
      "ENSG00000167548\n",
      "ENSG00000165584\n"
     ]
    }
   ],
   "source": [
    "#                                          Get and show the iput data:\n",
    "data_source_directory = './transform_data'\n",
    "spreadsheet_1_df = kn.get_spreadsheet_df(os.path.join(data_source_directory, 'gene_samples_1.tsv'))\n",
    "\n",
    "fragment = 0.8\n",
    "N_select = np.int_(np.round(spreadsheet_1_df.shape[0] * fragment))\n",
    "\n",
    "gene_select_list = list(spreadsheet_1_df.index)\n",
    "gene_select_list = [gene_select_list[k] for k in np.int_(np.random.permutation(len(gene_select_list))[0:N_select])]\n",
    "\n",
    "\n",
    "print(spreadsheet_1_df,'\\n')\n",
    "for gene_name in gene_select_list: print(gene_name)"
   ]
  },
  {
   "cell_type": "code",
   "execution_count": 4,
   "metadata": {},
   "outputs": [
    {
     "name": "stdout",
     "output_type": "stream",
     "text": [
      "                 KATOIII  NCI-H2170  UM-UC-3  COLO-205  M14\n",
      "ENSG00000126456        0          0        0         0    0\n",
      "ENSG00000256061        0          0        0         0    0\n",
      "ENSG00000165584        0          0        0         0    0\n",
      "ENSG00000134762        0          0        0         0    0\n",
      "ENSG00000145934        0          1        0         0    1\n",
      "ENSG00000184117        0          0        0         0    1\n",
      "ENSG00000126351        0          0        0         0    0\n",
      "ENSG00000255582        0          0        0         0    0\n",
      "ENSG00000244045        0          0        0         0    0\n",
      "ENSG00000115275        0          0        0         0    0\n",
      "ENSG00000137876        1          0        0         0    0\n",
      "ENSG00000082684        1          0        0         0    1\n",
      "ENSG00000136297        0          0        1         0    0\n",
      "ENSG00000167548        1          0        1         0    1\n"
     ]
    }
   ],
   "source": [
    "#                                          Get and show the output:\n",
    "spreadsheet_2_df = select_spreadsheet_genes(spreadsheet_1_df, gene_select_list)\n",
    "print(spreadsheet_2_df)"
   ]
  },
  {
   "cell_type": "code",
   "execution_count": null,
   "metadata": {
    "collapsed": true
   },
   "outputs": [],
   "source": []
  },
  {
   "cell_type": "code",
   "execution_count": null,
   "metadata": {
    "collapsed": true
   },
   "outputs": [],
   "source": []
  },
  {
   "cell_type": "code",
   "execution_count": null,
   "metadata": {
    "collapsed": true
   },
   "outputs": [],
   "source": []
  }
 ],
 "metadata": {
  "kernelspec": {
   "display_name": "Python 3",
   "language": "python",
   "name": "python3"
  },
  "language_info": {
   "codemirror_mode": {
    "name": "ipython",
    "version": 3
   },
   "file_extension": ".py",
   "mimetype": "text/x-python",
   "name": "python",
   "nbconvert_exporter": "python",
   "pygments_lexer": "ipython3",
   "version": "3.6.0"
  }
 },
 "nbformat": 4,
 "nbformat_minor": 2
}
