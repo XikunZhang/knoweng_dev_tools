{
 "cells": [
  {
   "cell_type": "markdown",
   "metadata": {},
   "source": [
    "### Run Samples Clustering Pipeline in full\n",
    "* Clone the repositories for Data_Cleanup_Pipeline and Samples_Clustering_Pipeline if necessary.\n",
    "* Run the cleanup and clustering code in accordance with /data/run_files/samples_clustering_4_notebook.yml\n",
    "* Display the run timing and results (or outcome)."
   ]
  },
  {
   "cell_type": "markdown",
   "metadata": {},
   "source": [
    "#### Load IPython and Python libraries, change to this repository's root directory and check for the pipelines."
   ]
  },
  {
   "cell_type": "code",
   "execution_count": null,
   "metadata": {
    "collapsed": true
   },
   "outputs": [],
   "source": [
    "from IPython.display import display\n",
    "#         load python library code\n",
    "import os\n",
    "import sys\n",
    "import time\n",
    "\n",
    "import knpackage.toolbox as kn\n",
    "\n",
    "sys.path.insert(1, '../src')\n",
    "import KnowEnG_graphics as gu\n",
    "import run_file_utility as rfu\n",
    "\n",
    "#         clone pipelines if not installed here: ../../\n",
    "rfu.git_clone_Samples_Clustering(os.path.abspath('../../'))"
   ]
  },
  {
   "cell_type": "markdown",
   "metadata": {},
   "source": [
    "#### If either pipeline is not installed then clone it, and switch back to the starting directory."
   ]
  },
  {
   "cell_type": "markdown",
   "metadata": {},
   "source": [
    "##### Set the path and name of the edited run_file (all parameters needed to run data cleanup and samples clustering)"
   ]
  },
  {
   "cell_type": "code",
   "execution_count": null,
   "metadata": {},
   "outputs": [],
   "source": [
    "#                   open a yaml run file - copy and set the paths to absolute for distant calling\n",
    "run_dir             = '../test/run_dir'\n",
    "base_path           = os.path.abspath('../../')\n",
    "notebook_run_file   = os.path.join(base_path, 'knoweng_dev_tools/data/run_files/samples_clustering_4_notebook.yml')\n",
    "run_file_name       = rfu.set_run_file_path_to_abs(notebook_run_file, run_dir)\n",
    "\n",
    "not_needed_name, yaml_file = os.path.split(run_file_name)\n",
    "print('Run File Name Is:\\n',yaml_file, '\\nIn\\n', run_file_name)"
   ]
  },
  {
   "cell_type": "markdown",
   "metadata": {},
   "source": [
    "#### Run the data cleanup pipeline to insure that the gene names and data values are usable by samples clustering pipeline."
   ]
  },
  {
   "cell_type": "code",
   "execution_count": null,
   "metadata": {},
   "outputs": [],
   "source": [
    "SUCCESS, log_dict, data_cleanup_run_time = rfu.run_data_cleanup(run_dir, yaml_file)\n",
    "print('SUCCESS = ', SUCCESS, 'data_cleanup_run_time', data_cleanup_run_time)"
   ]
  },
  {
   "cell_type": "markdown",
   "metadata": {},
   "source": [
    "#### If cleaning was successfull this function will enter the cleaned run file names into the run file and call samples clustering."
   ]
  },
  {
   "cell_type": "code",
   "execution_count": null,
   "metadata": {
    "collapsed": true
   },
   "outputs": [],
   "source": [
    "#                   Update the run file with the names of the cleaned data files - or view the error log\n",
    "Cleanup_Completed = rfu.update_run_file_post_clean(run_file_name)\n",
    "\n",
    "#                   Run Samples Clustering\n",
    "if Cleanup_Completed == True\n",
    "    samples_clustering_run_time = rfu.run_samples_clustering(run_dir, yaml_file)\n",
    "    print(' Samples Clustering running time: ',samples_clustering_run_time)\n",
    "else:\n",
    "    print('Cleanup_Completed = ', Cleanup_Completed)"
   ]
  },
  {
   "cell_type": "markdown",
   "metadata": {},
   "source": [
    "#### Read the output files and display the overview of the clustering."
   ]
  },
  {
   "cell_type": "code",
   "execution_count": null,
   "metadata": {},
   "outputs": [],
   "source": [
    "#                   Display Samples Clustering (most recent) Results\n",
    "\n",
    "results_directory, status_null  = rfu.get_run_file_key_data(run_file_name, 'results_directory')\n",
    "consensus_matrix, cc_file_name  = rfu.read_consensus_result(results_directory)\n",
    "number_of_clusters, status_null = rfu.get_run_file_key_data(run_file_name, 'number_of_clusters')\n",
    "I0                              = rfu.form_consensus_matrix_graphic(consensus_matrix, number_of_clusters)\n",
    "display(gu.mat_to_blue(I0))\n",
    "\n",
    "cluster_eval_df, ce_file_name   = rfu.read_cluster_evaluation_result(results_directory)\n",
    "if cluster_eval_df is not None:\n",
    "    display(cluster_eval_df)"
   ]
  },
  {
   "cell_type": "markdown",
   "metadata": {},
   "source": [
    "#### Show the results directory name and the list of files therein."
   ]
  },
  {
   "cell_type": "code",
   "execution_count": null,
   "metadata": {},
   "outputs": [],
   "source": [
    "#                   uncomment below and run the cell to Show contents of results directory\n",
    "\n",
    "rfu.show_result_directory(results_directory)"
   ]
  },
  {
   "cell_type": "markdown",
   "metadata": {},
   "source": [
    "#### Show the run file contents."
   ]
  },
  {
   "cell_type": "code",
   "execution_count": null,
   "metadata": {},
   "outputs": [],
   "source": [
    "#                   uncomment below and run the cell to Display the Run File\n",
    "\n",
    "print(run_file_name, \"\\nContents:\\n\")\n",
    "rfu.display_run_file(run_file_name)"
   ]
  },
  {
   "cell_type": "code",
   "execution_count": null,
   "metadata": {},
   "outputs": [],
   "source": [
    "#                   uncomment below and run the cell to Display the Workspace Variables\n",
    "%whos"
   ]
  },
  {
   "cell_type": "code",
   "execution_count": null,
   "metadata": {
    "collapsed": true
   },
   "outputs": [],
   "source": []
  }
 ],
 "metadata": {
  "kernelspec": {
   "display_name": "Python 3",
   "language": "python",
   "name": "python3"
  },
  "language_info": {
   "codemirror_mode": {
    "name": "ipython",
    "version": 3
   },
   "file_extension": ".py",
   "mimetype": "text/x-python",
   "name": "python",
   "nbconvert_exporter": "python",
   "pygments_lexer": "ipython3",
   "version": "3.5.3"
  }
 },
 "nbformat": 4,
 "nbformat_minor": 2
}
