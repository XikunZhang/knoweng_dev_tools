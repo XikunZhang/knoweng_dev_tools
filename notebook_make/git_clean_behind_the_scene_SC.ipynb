{
 "cells": [
  {
   "cell_type": "markdown",
   "metadata": {},
   "source": [
    "### Run Samples Clustering Pipeline in full\n",
    "* Clone the repositories for Data_Cleanup_Pipeline and Samples_Clustering_Pipeline if necessary.\n",
    "* Run the cleanup and clustering code in accordance with /data/run_files/samples_clustering_4_notebook.yml\n",
    "* Display the run timing and results (or outcome)."
   ]
  },
  {
   "cell_type": "markdown",
   "metadata": {},
   "source": [
    "### Load Python libraries, check and install pipelines if necessary."
   ]
  },
  {
   "cell_type": "code",
   "execution_count": null,
   "metadata": {},
   "outputs": [],
   "source": [
    "import os\n",
    "import sys\n",
    "\n",
    "sys.path.insert(1, '../src')\n",
    "import run_file_utility as ru\n",
    "\n",
    "#         clone pipelines if not installed\n",
    "ru.git_clone_Samples_Clustering(os.path.abspath('../../'))"
   ]
  },
  {
   "cell_type": "markdown",
   "metadata": {},
   "source": [
    "### Set up the directories and run file."
   ]
  },
  {
   "cell_type": "code",
   "execution_count": null,
   "metadata": {},
   "outputs": [],
   "source": [
    "#                   open a yaml run file - copy and set the paths to absolute for distant calling\n",
    "\n",
    "notebook_run_file = '../data/run_files/samples_clustering_4_notebook.yml'\n",
    "run_file_name = ru.setup_run_dir_run_file(notebook_run_file, run_dir='../test/run_dir', REMOVE_RESULTS=False)\n",
    "run_dir, yaml_file = os.path.split(run_file_name)"
   ]
  },
  {
   "cell_type": "markdown",
   "metadata": {},
   "source": [
    "### Run the data cleanup pipeline."
   ]
  },
  {
   "cell_type": "code",
   "execution_count": null,
   "metadata": {},
   "outputs": [],
   "source": [
    "SUCCESS, log_dict, data_cleanup_run_time = ru.run_data_cleanup(run_dir, yaml_file)\n",
    "print('SUCCESS = ', SUCCESS, 'data_cleanup_run_time', data_cleanup_run_time)"
   ]
  },
  {
   "cell_type": "markdown",
   "metadata": {},
   "source": [
    "### Run and display samples clustering."
   ]
  },
  {
   "cell_type": "code",
   "execution_count": null,
   "metadata": {},
   "outputs": [],
   "source": [
    "#                   Update the run file with the names of the cleaned data files - or view the error log\n",
    "Cleanup_Completed = ru.update_run_file_post_clean(run_file_name)\n",
    "\n",
    "#                   Run Samples Clustering\n",
    "if Cleanup_Completed == True:\n",
    "    samples_clustering_run_time = ru.run_samples_clustering(run_dir, yaml_file)\n",
    "    print(' Samples Clustering running time: ',samples_clustering_run_time)\n",
    "    results_directory = ru.display_samples_clustering_results(run_file_name)\n",
    "    \n",
    "else:\n",
    "    print('Cleanup_Completed = ', Cleanup_Completed)"
   ]
  },
  {
   "cell_type": "code",
   "execution_count": null,
   "metadata": {},
   "outputs": [],
   "source": [
    "#                   uncomment below and run the cell to Show contents of results directory\n",
    "\n",
    "ru.show_result_directory(results_directory)"
   ]
  },
  {
   "cell_type": "code",
   "execution_count": null,
   "metadata": {},
   "outputs": [],
   "source": [
    "#                   uncomment below and run the cell to Display the Run File contents\n",
    "\n",
    "# print(run_file_name, \"\\nContents:\\n\")\n",
    "# ru.display_run_file(run_file_name)"
   ]
  },
  {
   "cell_type": "code",
   "execution_count": null,
   "metadata": {},
   "outputs": [],
   "source": [
    "#                   uncomment below and run the cell to Display the Workspace Variables\n",
    "# %whos"
   ]
  },
  {
   "cell_type": "code",
   "execution_count": null,
   "metadata": {},
   "outputs": [],
   "source": []
  },
  {
   "cell_type": "code",
   "execution_count": null,
   "metadata": {
    "collapsed": true
   },
   "outputs": [],
   "source": []
  }
 ],
 "metadata": {
  "kernelspec": {
   "display_name": "Python 3",
   "language": "python",
   "name": "python3"
  },
  "language_info": {
   "codemirror_mode": {
    "name": "ipython",
    "version": 3
   },
   "file_extension": ".py",
   "mimetype": "text/x-python",
   "name": "python",
   "nbconvert_exporter": "python",
   "pygments_lexer": "ipython3",
   "version": "3.5.3"
  }
 },
 "nbformat": 4,
 "nbformat_minor": 2
}
