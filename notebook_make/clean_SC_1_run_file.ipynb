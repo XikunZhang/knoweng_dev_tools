{
 "cells": [
  {
   "cell_type": "markdown",
   "metadata": {},
   "source": [
    "#### Run Data Cleanup and Samples Clustering using make and the *.yml files in the run_dir.\n"
   ]
  },
  {
   "cell_type": "code",
   "execution_count": 1,
   "metadata": {
    "collapsed": true
   },
   "outputs": [],
   "source": [
    "#         load python library code\n",
    "import os\n",
    "import sys\n",
    "import time\n",
    "\n",
    "from IPython.display import display\n",
    "\n",
    "import numpy as np\n",
    "import pandas as pd\n",
    "import yaml\n",
    "\n",
    "import knpackage.toolbox as kn\n",
    "\n",
    "# sys.path.insert(1, '../../Data_Cleanup_Pipeline/src')\n",
    "# import data_cleanup_toolbox as dc\n",
    "\n",
    "# sys.path.insert(1, '../../Samples_Clustering_Pipeline/src')\n",
    "# import sample_clustering_toolbox as sc\n",
    "\n",
    "sys.path.insert(1, '../src')\n",
    "import pyverify as pyvif\n",
    "import KnowEnG_graphics as gu\n",
    "import run_file_utility as rfu"
   ]
  },
  {
   "cell_type": "code",
   "execution_count": 2,
   "metadata": {},
   "outputs": [
    {
     "name": "stdout",
     "output_type": "stream",
     "text": [
      "Run File Name set to: /Users/lanier4/dlanier_KnowEnG/knoweng_dev_tools/test/run_dir/samples_clustering_4_notebook_Active.yml\n"
     ]
    }
   ],
   "source": [
    "#                   \"activate\" a yaml file (guard against path name madness)\n",
    "run_dir = '../test/run_dir'\n",
    "base_path = os.path.abspath('../../')\n",
    "notebook_run_file = os.path.join(base_path, 'knoweng_dev_tools/data/run_files/samples_clustering_4_notebook.yml')\n",
    "run_file_name = rfu.set_run_file_path_to_abs(notebook_run_file, run_dir)\n",
    "print('Run File Name set to:', run_file_name)"
   ]
  },
  {
   "cell_type": "code",
   "execution_count": 3,
   "metadata": {
    "collapsed": true
   },
   "outputs": [],
   "source": [
    "#                   Run Data Cleaning\n",
    "%run ../../Data_Cleanup_Pipeline/src/data_cleanup.py -run_directory ../test/run_dir -run_file samples_clustering_4_notebook_Active.yml"
   ]
  },
  {
   "cell_type": "code",
   "execution_count": null,
   "metadata": {
    "collapsed": true
   },
   "outputs": [],
   "source": [
    "#                   Update the run file\n",
    "STATUS = rfu.update_run_file_post_clean(run_file_name)"
   ]
  },
  {
   "cell_type": "code",
   "execution_count": null,
   "metadata": {
    "collapsed": true
   },
   "outputs": [],
   "source": [
    "#                   Run Samples Clustering\n",
    "%run ../../Samples_Clustering_Pipeline/src/data_cleanup.py -run_directory ../test/run_dir -run_file samples_clustering_4_notebook_Active.yml"
   ]
  },
  {
   "cell_type": "code",
   "execution_count": null,
   "metadata": {
    "collapsed": true
   },
   "outputs": [],
   "source": []
  },
  {
   "cell_type": "code",
   "execution_count": null,
   "metadata": {
    "collapsed": true
   },
   "outputs": [],
   "source": []
  },
  {
   "cell_type": "code",
   "execution_count": 6,
   "metadata": {
    "collapsed": true
   },
   "outputs": [],
   "source": [
    "Data_Cleanup_methods_dictionary =               {\n",
    "    'run_data_cleaning'                         : 'data_cleanup.yml',\n",
    "    'run_pasted_gene_list'                      : 'pasted_gene_cleanup.yml',\n",
    "    'run_data_cleaning_small'                   : 'TEST_1_data_cleanup.yml',\n",
    "    'run_samples_clustering_pipeline'           : 'TEST_1_samples_clustering_pipeline.yml',\n",
    "    'run_gene_prioritization_pipeline_pearson'  : 'TEST_1_gene_prioritization_pipeline_pearson.yml',\n",
    "    'run_gene_prioritization_pipeline_t_test'   : 'TEST_1_gene_prioritization_pipeline_t_test.yml',\n",
    "    'run_geneset_characterization_pipeline'     : 'TEST_1_geneset_characterization_pipeline.yml' }\n",
    "\n",
    "Samples_Clustering_methods_dictionary = {\n",
    "    'run_nmf'                           : 'BENCHMARK_1_SC_nmf.yml',\n",
    "    'run_net_nmf'                       : 'BENCHMARK_2_SC_net_nmf.yml',\n",
    "    'run_cc_nmf_serial'                 : 'BENCHMARK_3_SC_cc_nmf_serial.yml',\n",
    "    'run_cc_nmf_parallel_shared'        : 'BENCHMARK_4_SC_cc_nmf_parallel_shared.yml',\n",
    "    'run_cc_net_nmf_serial'             : 'BENCHMARK_6_SC_cc_net_nmf_serial.yml',\n",
    "    'run_cc_net_nmf_parallel_shared'    : 'BENCHMARK_7_SC_cc_net_nmf_parallel_shared.yml' }"
   ]
  },
  {
   "cell_type": "code",
   "execution_count": null,
   "metadata": {
    "collapsed": true
   },
   "outputs": [],
   "source": [
    "\n",
    "results_directory = pyvif.get_results_directory(Samples_Clustering_Run_File)\n",
    "results_dir_list = os.listdir(results_directory)\n",
    "cc_5mat = None\n",
    "cc_prefix = 'consensus_matrix'\n",
    "cluster_evaluation_prefix = 'clustering_evaluation_result'\n",
    "cluster_eval_df = None\n",
    "for l in results_dir_list:\n",
    "    if l[0:len(cc_prefix)] == cc_prefix:\n",
    "        consensus_matrix_file = os.path.join(samples_clustering_pars['results_directory'], l)\n",
    "        consensus_df = pd.read_csv(consensus_matrix_file, sep='\\t', header=0, index_col=0)\n",
    "        cc_5mat = consensus_df.as_matrix()\n",
    "    if l[0:len(cluster_evaluation_prefix)] == cluster_evaluation_prefix:\n",
    "        cluster_eval_filename = os.path.join(samples_clustering_pars['results_directory'], l)\n",
    "        cluster_eval_df = pd.read_csv(cluster_eval_filename, sep='\\t', header=0, index_col=0)\n",
    "\n",
    "Maximum_Consensus_Matrix_Display_Width = 1200\n",
    "if cc_5mat is not None and cc_5mat.shape[1] < Maximum_Consensus_Matrix_Display_Width:\n",
    "    I0 = sc.form_consensus_matrix_graphic(cc_5mat, samples_clustering_pars[ 'number_of_clusters' ])\n",
    "    display(gu.mat_to_blue(I0))\n",
    "    \n",
    "if cluster_eval_df is not None:\n",
    "    display(cluster_eval_df)"
   ]
  }
 ],
 "metadata": {
  "kernelspec": {
   "display_name": "Python 3",
   "language": "python",
   "name": "python3"
  },
  "language_info": {
   "codemirror_mode": {
    "name": "ipython",
    "version": 3
   },
   "file_extension": ".py",
   "mimetype": "text/x-python",
   "name": "python",
   "nbconvert_exporter": "python",
   "pygments_lexer": "ipython3",
   "version": "3.5.3"
  }
 },
 "nbformat": 4,
 "nbformat_minor": 2
}
