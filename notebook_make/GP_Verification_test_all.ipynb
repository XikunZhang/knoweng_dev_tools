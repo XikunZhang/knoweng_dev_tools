{
 "cells": [
  {
   "cell_type": "markdown",
   "metadata": {},
   "source": [
    "### Run this notebook to confirm that changes to Gene Prioritization Pipeline code did not change the outupt.\n",
    "#### \"File\" > \"Download as\"  >      to save test results."
   ]
  },
  {
   "cell_type": "code",
   "execution_count": 1,
   "metadata": {},
   "outputs": [
    {
     "name": "stdout",
     "output_type": "stream",
     "text": [
      "run_bootstrap_net_pearson               : BENCHMARK_4_GP_bootstrap_net_pearson\n",
      "run_bootstrap_net_t_test                : BENCHMARK_8_GP_bootstrap_net_t_test\n",
      "run_bootstrap_pearson                   : BENCHMARK_2_GP_bootstrap_pearson\n",
      "run_bootstrap_t_test                    : BENCHMARK_6_GP_bootstrap_t_test\n",
      "run_multidrug_pearson                   : TEST_2_GP_many_drugs_pearson\n",
      "run_multidrug_t_test                    : TEST_4_GP_many_drugs_t_test\n",
      "run_net_pearson                         : BENCHMARK_3_GP_net_pearson\n",
      "run_net_t_test                          : BENCHMARK_7_GP_net_t_test\n",
      "run_pearson                             : BENCHMARK_1_GP_pearson\n",
      "run_single_drug_pearson                 : TEST_1_GP_single_drug_pearson\n",
      "run_single_drug_t_test                  : TEST_3_GP_single_drug_t_test\n",
      "run_t_test                              : BENCHMARK_5_GP_t_test\n"
     ]
    }
   ],
   "source": [
    "import os\n",
    "import sys\n",
    "import time\n",
    "import pandas as pd\n",
    "import knpackage.toolbox as kn\n",
    "\n",
    "sys.path.insert(1, '../verification')\n",
    "import verification_test as vt\n",
    "\n",
    "GP_options = vt.GP_options\n",
    "vt.view_dictionary(GP_options)\n",
    "os.chdir('../')\n",
    "os.system(\"make env_setup\")"
   ]
  },
  {
   "cell_type": "markdown",
   "metadata": {},
   "source": [
    "###### Run all small test methods and compare with verification BENCHMARK files."
   ]
  },
  {
   "cell_type": "code",
   "execution_count": 2,
   "metadata": {},
   "outputs": [
    {
     "name": "stdout",
     "output_type": "stream",
     "text": [
      "Gene Prioritization BENCHMARK_ run in 0.8612802028656006 seconds\n",
      "drug_name_net_correlation_pearson.tsv \t 0 differences\n",
      "ranked_genes_per_phenotype_net_correlation_pearson.tsv \t 0 differences\n",
      "top_genes_per_phenotype_net_correlation_pearson.tsv \t 0 differences\n"
     ]
    }
   ],
   "source": [
    "#                          run_single_drug_pearson\n",
    "os.system(\"make clean_dir_recursively\")\n",
    "t0 = time.time()\n",
    "os.system(\"make run_single_drug_pearson\")\n",
    "print('Gene Prioritization BENCHMARK_ run in %s seconds'%(time.time() - t0))\n",
    "\n",
    "veri_dir = '../../Gene_Prioritization_Pipeline/data/verification/TEST_1_GP_single_drug_pearson'\n",
    "resu_dir = '../../Gene_Prioritization_Pipeline/test/run_dir/results'\n",
    "\n",
    "dir_differ_dict = vt.verification_directory_compare(veri_dir, resu_dir)\n",
    "for k in sorted(dir_differ_dict.keys()):\n",
    "    print(k, '\\t', dir_differ_dict[k], 'differences')"
   ]
  },
  {
   "cell_type": "code",
   "execution_count": 3,
   "metadata": {},
   "outputs": [
    {
     "name": "stdout",
     "output_type": "stream",
     "text": [
      "Gene Prioritization BENCHMARK_ run in 0.9314751625061035 seconds\n",
      "drug_A_bootstrap_net_correlation_pearson.tsv \t 0 differences\n",
      "drug_B_bootstrap_net_correlation_pearson.tsv \t 0 differences\n",
      "drug_C_bootstrap_net_correlation_pearson.tsv \t 0 differences\n",
      "drug_D_bootstrap_net_correlation_pearson.tsv \t 0 differences\n",
      "drug_E_bootstrap_net_correlation_pearson.tsv \t 0 differences\n",
      "ranked_genes_per_phenotype_bootstrap_net_correlation_pearson.tsv \t 0 differences\n",
      "top_genes_per_phenotype_bootstrap_net_correlation_pearson.tsv \t 0 differences\n"
     ]
    }
   ],
   "source": [
    "#                          run_multidrug_pearson\n",
    "os.system(\"make clean_dir_recursively\")\n",
    "t0 = time.time()\n",
    "os.system(\"make run_multidrug_pearson\")\n",
    "print('Gene Prioritization BENCHMARK_ run in %s seconds'%(time.time() - t0))\n",
    "\n",
    "veri_dir = '../../Gene_Prioritization_Pipeline/data/verification/TEST_2_GP_many_drugs_pearson'\n",
    "resu_dir = '../../Gene_Prioritization_Pipeline/test/run_dir/results'\n",
    "\n",
    "dir_differ_dict = vt.verification_directory_compare(veri_dir, resu_dir)\n",
    "for k in sorted(dir_differ_dict.keys()):\n",
    "    print(k, '\\t', dir_differ_dict[k], 'differences')"
   ]
  },
  {
   "cell_type": "code",
   "execution_count": 4,
   "metadata": {},
   "outputs": [
    {
     "name": "stdout",
     "output_type": "stream",
     "text": [
      "Gene Prioritization BENCHMARK_ run in 0.8600499629974365 seconds\n",
      "drug_name_net_correlation_t_test.tsv \t 0 differences\n",
      "ranked_genes_per_phenotype_net_correlation_t_test.tsv \t 0 differences\n",
      "top_genes_per_phenotype_net_correlation_t_test.tsv \t 0 differences\n"
     ]
    }
   ],
   "source": [
    "#                          run_single_drug_t_test\n",
    "os.system(\"make clean_dir_recursively\")\n",
    "t0 = time.time()\n",
    "os.system(\"make run_single_drug_t_test\")\n",
    "print('Gene Prioritization BENCHMARK_ run in %s seconds'%(time.time() - t0))\n",
    "\n",
    "veri_dir = '../../Gene_Prioritization_Pipeline/data/verification/TEST_3_GP_single_drug_t_test'\n",
    "resu_dir = '../../Gene_Prioritization_Pipeline/test/run_dir/results'\n",
    "\n",
    "dir_differ_dict = vt.verification_directory_compare(veri_dir, resu_dir)\n",
    "for k in sorted(dir_differ_dict.keys()):\n",
    "    print(k, '\\t', dir_differ_dict[k], 'differences')"
   ]
  },
  {
   "cell_type": "code",
   "execution_count": 5,
   "metadata": {},
   "outputs": [
    {
     "name": "stdout",
     "output_type": "stream",
     "text": [
      "Gene Prioritization BENCHMARK_ run in 0.8666849136352539 seconds\n",
      "drug_A_bootstrap_net_correlation_t_test.tsv \t 0 differences\n",
      "drug_B_bootstrap_net_correlation_t_test.tsv \t 0 differences\n",
      "drug_C_bootstrap_net_correlation_t_test.tsv \t 0 differences\n",
      "drug_D_bootstrap_net_correlation_t_test.tsv \t 0 differences\n",
      "drug_E_bootstrap_net_correlation_t_test.tsv \t 0 differences\n",
      "ranked_genes_per_phenotype_bootstrap_net_correlation_t_test.tsv \t 0 differences\n",
      "top_genes_per_phenotype_bootstrap_net_correlation_t_test.tsv \t 0 differences\n"
     ]
    }
   ],
   "source": [
    "#                          run_multidrug_t_test\n",
    "os.system(\"make clean_dir_recursively\")\n",
    "t0 = time.time()\n",
    "os.system(\"make run_multidrug_t_test\")\n",
    "print('Gene Prioritization BENCHMARK_ run in %s seconds'%(time.time() - t0))\n",
    "\n",
    "veri_dir = '../../Gene_Prioritization_Pipeline/data/verification/TEST_4_GP_many_drugs_t_test'\n",
    "resu_dir = '../../Gene_Prioritization_Pipeline/test/run_dir/results'\n",
    "\n",
    "dir_differ_dict = vt.verification_directory_compare(veri_dir, resu_dir)\n",
    "for k in sorted(dir_differ_dict.keys()):\n",
    "    print(k, '\\t', dir_differ_dict[k], 'differences')"
   ]
  },
  {
   "cell_type": "markdown",
   "metadata": {},
   "source": [
    "###### Run all Pearson Correlation methods and compare with verification BENCHMARK files."
   ]
  },
  {
   "cell_type": "code",
   "execution_count": null,
   "metadata": {
    "collapsed": true
   },
   "outputs": [],
   "source": [
    "#                          run_pearson\n",
    "os.system(\"make clean_dir_recursively\")\n",
    "t0 = time.time()\n",
    "os.system(\"make run_pearson\")\n",
    "print('Gene Prioritization BENCHMARK_ run in %s seconds'%(time.time() - t0))\n",
    "\n",
    "veri_dir = '../../Gene_Prioritization_Pipeline/data/verification/BENCHMARK_1_GP_pearson'\n",
    "resu_dir = '../../Gene_Prioritization_Pipeline/test/run_dir/results'\n",
    "\n",
    "dir_differ_dict = vt.verification_directory_compare(veri_dir, resu_dir)\n",
    "for k in sorted(dir_differ_dict.keys()):\n",
    "    print(k, '\\t', dir_differ_dict[k], 'differences')"
   ]
  },
  {
   "cell_type": "code",
   "execution_count": null,
   "metadata": {
    "collapsed": true
   },
   "outputs": [],
   "source": [
    "#                          run_net_pearson\n",
    "os.system(\"make clean_dir_recursively\")\n",
    "t0 = time.time()\n",
    "os.system(\"make run_net_pearson\")\n",
    "print('Gene Prioritization BENCHMARK_ run in %s seconds'%(time.time() - t0))\n",
    "\n",
    "veri_dir = '../../Gene_Prioritization_Pipeline/data/verification/BENCHMARK_3_GP_net_pearson'\n",
    "resu_dir = '../../Gene_Prioritization_Pipeline/test/run_dir/results'\n",
    "\n",
    "dir_differ_dict = vt.verification_directory_compare(veri_dir, resu_dir)\n",
    "for k in sorted(dir_differ_dict.keys()):\n",
    "    print(k, '\\t', dir_differ_dict[k], 'differences')"
   ]
  },
  {
   "cell_type": "code",
   "execution_count": null,
   "metadata": {
    "collapsed": true
   },
   "outputs": [],
   "source": [
    "#                          run_bootstrap_pearson\n",
    "os.system(\"make clean_dir_recursively\")\n",
    "t0 = time.time()\n",
    "os.system(\"make run_bootstrap_pearson\")\n",
    "print('Gene Prioritization BENCHMARK_ run in %s seconds'%(time.time() - t0))\n",
    "\n",
    "veri_dir = '../../Gene_Prioritization_Pipeline/data/verification/BENCHMARK_2_GP_bootstrap_pearson'\n",
    "resu_dir = '../../Gene_Prioritization_Pipeline/test/run_dir/results'\n",
    "\n",
    "dir_differ_dict = vt.verification_directory_compare(veri_dir, resu_dir)\n",
    "for k in sorted(dir_differ_dict.keys()):\n",
    "    print(k, '\\t', dir_differ_dict[k], 'differences')"
   ]
  },
  {
   "cell_type": "code",
   "execution_count": null,
   "metadata": {
    "collapsed": true
   },
   "outputs": [],
   "source": [
    "#                          run_bootstrap_net_pearson\n",
    "os.system(\"make clean_dir_recursively\")\n",
    "t0 = time.time()\n",
    "os.system(\"make run_bootstrap_net_pearson\")\n",
    "print('Gene Prioritization BENCHMARK_ run in %s seconds'%(time.time() - t0))\n",
    "\n",
    "veri_dir = '../../Gene_Prioritization_Pipeline/data/verification/BENCHMARK_4_GP_bootstrap_net_pearson'\n",
    "resu_dir = '../../Gene_Prioritization_Pipeline/test/run_dir/results'\n",
    "\n",
    "dir_differ_dict = vt.verification_directory_compare(veri_dir, resu_dir)\n",
    "for k in sorted(dir_differ_dict.keys()):\n",
    "    print(k, '\\t', dir_differ_dict[k], 'differences')"
   ]
  },
  {
   "cell_type": "markdown",
   "metadata": {},
   "source": [
    "###### Run all t_test correlation methods and compare with verification BENCHMARK files."
   ]
  },
  {
   "cell_type": "code",
   "execution_count": null,
   "metadata": {
    "collapsed": true
   },
   "outputs": [],
   "source": [
    "#                          run t test\n",
    "os.system(\"make clean_dir_recursively\")\n",
    "t0 = time.time()\n",
    "os.system(\"make run_t_test\")\n",
    "print('Gene Prioritization BENCHMARK_ run in %s seconds'%(time.time() - t0))\n",
    "\n",
    "veri_dir = '../../Gene_Prioritization_Pipeline/data/verification/BENCHMARK_5_GP_t_test'\n",
    "resu_dir = '../../Gene_Prioritization_Pipeline/test/run_dir/results'\n",
    "\n",
    "dir_differ_dict = vt.verification_directory_compare(veri_dir, resu_dir)\n",
    "for k in sorted(dir_differ_dict.keys()):\n",
    "    print(k, '\\t', dir_differ_dict[k], 'differences')"
   ]
  },
  {
   "cell_type": "code",
   "execution_count": null,
   "metadata": {
    "collapsed": true
   },
   "outputs": [],
   "source": [
    "#                          run_bootstrap_t_test\n",
    "os.system(\"make clean_dir_recursively\")\n",
    "t0 = time.time()\n",
    "os.system(\"make run_bootstrap_t_test\")\n",
    "print('Gene Prioritization BENCHMARK_ run in %s seconds'%(time.time() - t0))\n",
    "\n",
    "veri_dir = '../../Gene_Prioritization_Pipeline/data/verification/BENCHMARK_6_GP_bootstrap_t_test'\n",
    "resu_dir = '../../Gene_Prioritization_Pipeline/test/run_dir/results'\n",
    "\n",
    "dir_differ_dict = vt.verification_directory_compare(veri_dir, resu_dir)\n",
    "for k in sorted(dir_differ_dict.keys()):\n",
    "    print(k, '\\t', dir_differ_dict[k], 'differences')"
   ]
  },
  {
   "cell_type": "code",
   "execution_count": null,
   "metadata": {
    "collapsed": true
   },
   "outputs": [],
   "source": [
    "#                          run_net_t_test\n",
    "os.system(\"make clean_dir_recursively\")\n",
    "t0 = time.time()\n",
    "os.system(\"make run_net_t_test\")\n",
    "print('Gene Prioritization BENCHMARK_ run in %s seconds'%(time.time() - t0))\n",
    "\n",
    "veri_dir = '../../Gene_Prioritization_Pipeline/data/verification/BENCHMARK_7_GP_net_t_test'\n",
    "resu_dir = '../../Gene_Prioritization_Pipeline/test/run_dir/results'\n",
    "\n",
    "dir_differ_dict = vt.verification_directory_compare(veri_dir, resu_dir)\n",
    "for k in sorted(dir_differ_dict.keys()):\n",
    "    print(k, '\\t', dir_differ_dict[k], 'differences')"
   ]
  },
  {
   "cell_type": "code",
   "execution_count": null,
   "metadata": {
    "collapsed": true
   },
   "outputs": [],
   "source": [
    "#                          run_bootstrap_net_t_test\n",
    "os.system(\"make clean_dir_recursively\")\n",
    "t0 = time.time()\n",
    "os.system(\"make run_bootstrap_net_t_test\")\n",
    "print('Gene Prioritization BENCHMARK_ run in %s seconds'%(time.time() - t0))\n",
    "\n",
    "veri_dir = '../../Gene_Prioritization_Pipeline/data/verification/BENCHMARK_8_GP_bootstrap_net_t_test'\n",
    "resu_dir = '../../Gene_Prioritization_Pipeline/test/run_dir/results'\n",
    "\n",
    "dir_differ_dict = vt.verification_directory_compare(veri_dir, resu_dir)\n",
    "for k in sorted(dir_differ_dict.keys()):\n",
    "    print(k, '\\t', dir_differ_dict[k], 'differences')"
   ]
  },
  {
   "cell_type": "code",
   "execution_count": null,
   "metadata": {
    "collapsed": true
   },
   "outputs": [],
   "source": []
  }
 ],
 "metadata": {
  "kernelspec": {
   "display_name": "Python 3",
   "language": "python",
   "name": "python3"
  },
  "language_info": {
   "codemirror_mode": {
    "name": "ipython",
    "version": 3
   },
   "file_extension": ".py",
   "mimetype": "text/x-python",
   "name": "python",
   "nbconvert_exporter": "python",
   "pygments_lexer": "ipython3",
   "version": "3.5.3"
  }
 },
 "nbformat": 4,
 "nbformat_minor": 2
}
