{
 "cells": [
  {
   "cell_type": "markdown",
   "metadata": {},
   "source": [
    "#### Data Cleanup and Samples Clustering using a (editedable) run file."
   ]
  },
  {
   "cell_type": "code",
   "execution_count": 2,
   "metadata": {
    "collapsed": true
   },
   "outputs": [],
   "source": [
    "from IPython.display import display\n",
    "#         load python library code\n",
    "import os\n",
    "import sys\n",
    "import time\n",
    "\n",
    "import knpackage.toolbox as kn\n",
    "\n",
    "sys.path.insert(1, '../src')\n",
    "import KnowEnG_graphics as gu\n",
    "import run_file_utility as rfu"
   ]
  },
  {
   "cell_type": "markdown",
   "metadata": {},
   "source": [
    "##### Set the path and name of the edited run_file (all parameters needed to run data cleanup and samples clustering)"
   ]
  },
  {
   "cell_type": "code",
   "execution_count": null,
   "metadata": {},
   "outputs": [
    {
     "name": "stdout",
     "output_type": "stream",
     "text": [
      "Run File Name Is:\n",
      " samples_clustering_4_notebook_Active.yml \n",
      "In\n",
      " /Users/lanier4/dlanier_KnowEnG/knoweng_dev_tools/test/run_dir/samples_clustering_4_notebook_Active.yml\n"
     ]
    }
   ],
   "source": [
    "#                   open a yaml run file - copy and set the paths to absolute for distant calling\n",
    "run_dir             = '../test/run_dir'\n",
    "base_path           = os.path.abspath('../../')\n",
    "notebook_run_file   = os.path.join(base_path, 'knoweng_dev_tools/data/run_files/samples_clustering_4_notebook.yml')\n",
    "run_file_name       = rfu.set_run_file_path_to_abs(notebook_run_file, run_dir)\n",
    "\n",
    "not_needed_name, yaml_file = os.path.split(run_file_name)\n",
    "print('Run File Name Is:\\n',yaml_file, '\\nIn\\n', run_file_name)"
   ]
  },
  {
   "cell_type": "code",
   "execution_count": null,
   "metadata": {},
   "outputs": [],
   "source": [
    "DC_call_string = 'python3 ../../Data_Cleanup_Pipeline/src/data_cleanup.py -run_directory' + ' ' + run_dir\n",
    "DC_call_string = DC_call_string + ' -run_file' + ' ' + yaml_file\n",
    "\n",
    "data_cleanup_start_time = time.time()\n",
    "os.system(DC_call_string)\n",
    "\n",
    "data_cleanup_run_time = time.time() - data_cleanup_start_time\n",
    "print('data_cleanup_run_time', data_cleanup_run_time)"
   ]
  },
  {
   "cell_type": "code",
   "execution_count": null,
   "metadata": {
    "collapsed": true
   },
   "outputs": [],
   "source": [
    "#                   Update the run file with the names of the cleaned data files - or view the error log\n",
    "Cleanup_Completed = rfu.update_run_file_post_clean(run_file_name)"
   ]
  },
  {
   "cell_type": "code",
   "execution_count": null,
   "metadata": {
    "collapsed": true
   },
   "outputs": [],
   "source": [
    "#                   Run Samples Clustering\n",
    "SC_call_string = 'python3 ../../Samples_Clustering_Pipeline/src/samples_clustering.py -run_directory' + ' '\n",
    "SC_call_string = SC_call_string + run_dir + ' -run_file' + ' ' + yaml_file\n",
    "\n",
    "samples_clustering_start_time = time.time()\n",
    "\n",
    "os.system(SC_call_string)\n",
    "\n",
    "samples_clustering_run_time = time.time() - samples_clustering_start_time\n",
    "print(' Samples Clustering running time: ',samples_clustering_run_time)"
   ]
  },
  {
   "cell_type": "code",
   "execution_count": null,
   "metadata": {
    "collapsed": true
   },
   "outputs": [],
   "source": [
    "#                   Display Samples Clustering (most recent) Results\n",
    "\n",
    "results_directory, status_null  = rfu.get_run_file_key_data(run_file_name, 'results_directory')\n",
    "consensus_matrix, cc_file_name  = rfu.read_consensus_result(results_directory)\n",
    "number_of_clusters, status_null = rfu.get_run_file_key_data(run_file_name, 'number_of_clusters')\n",
    "I0                              = rfu.form_consensus_matrix_graphic(consensus_matrix, number_of_clusters)\n",
    "display(gu.mat_to_blue(I0))\n",
    "\n",
    "cluster_eval_df, ce_file_name   = rfu.read_cluster_evaluation_result(results_directory)\n",
    "if cluster_eval_df is not None:\n",
    "    display(cluster_eval_df)"
   ]
  },
  {
   "cell_type": "code",
   "execution_count": null,
   "metadata": {
    "collapsed": true
   },
   "outputs": [],
   "source": [
    "#                   Show contents of results directory\n",
    "\n",
    "# rfu.show_result_directory(results_directory)"
   ]
  },
  {
   "cell_type": "code",
   "execution_count": null,
   "metadata": {
    "collapsed": true
   },
   "outputs": [],
   "source": [
    "#                   Display the Run File\n",
    "# print(run_file_name, \"\\nContents:\\n\")\n",
    "# rfu.display_run_file(run_file_name)"
   ]
  },
  {
   "cell_type": "code",
   "execution_count": null,
   "metadata": {},
   "outputs": [],
   "source": []
  },
  {
   "cell_type": "code",
   "execution_count": null,
   "metadata": {
    "collapsed": true
   },
   "outputs": [],
   "source": []
  }
 ],
 "metadata": {
  "kernelspec": {
   "display_name": "Python 3",
   "language": "python",
   "name": "python3"
  },
  "language_info": {
   "codemirror_mode": {
    "name": "ipython",
    "version": 3
   },
   "file_extension": ".py",
   "mimetype": "text/x-python",
   "name": "python",
   "nbconvert_exporter": "python",
   "pygments_lexer": "ipython3",
   "version": "3.5.3"
  }
 },
 "nbformat": 4,
 "nbformat_minor": 2
}
