{
 "cells": [
  {
   "cell_type": "markdown",
   "metadata": {},
   "source": [
    "### Run Samples Clustering Pipeline in full (Frozen \n",
    "* Clone the repositories for Data_Cleanup_Pipeline and Samples_Clustering_Pipeline if necessary.\n",
    "* Run the cleanup and clustering code in accordance with /data/run_files/samples_clustering_4_notebook.yml\n",
    "* Display the run timing and results (or outcome)."
   ]
  },
  {
   "cell_type": "markdown",
   "metadata": {},
   "source": [
    "#### Load IPython and Python libraries, change to this repository's root directory and check for the pipelines."
   ]
  },
  {
   "cell_type": "code",
   "execution_count": 1,
   "metadata": {},
   "outputs": [],
   "source": [
    "from IPython.display import display\n",
    "#         load python library code\n",
    "import os\n",
    "import sys\n",
    "import time\n",
    "\n",
    "import knpackage.toolbox as kn\n",
    "\n",
    "sys.path.insert(1, '../src')\n",
    "import KnowEnG_graphics as gu\n",
    "import run_file_utility as rfu\n",
    "\n",
    "notebook_directory = os.path.abspath(os.getcwd())\n",
    "os.chdir('../../')\n",
    "\n",
    "DC_name = 'Data_Cleanup_Pipeline'\n",
    "Data_Cleanup_Exists = False\n",
    "SC_name = 'Samples_Clustering_Pipeline'\n",
    "Samples_Clustering_Exists = False\n",
    "\n",
    "dir_listing = os.listdir()\n",
    "for d in dir_listing:\n",
    "    if os.path.isdir(d):\n",
    "        if d == DC_name:\n",
    "            Data_Cleanup_Exists = True\n",
    "        elif d == SC_name:\n",
    "            Samples_Clustering_Exists = True"
   ]
  },
  {
   "cell_type": "markdown",
   "metadata": {},
   "source": [
    "#### If either pipeline is not installed then clone it, and switch back to the starting directory."
   ]
  },
  {
   "cell_type": "code",
   "execution_count": 2,
   "metadata": {},
   "outputs": [],
   "source": [
    "if Data_Cleanup_Exists == False:\n",
    "    dc_git_string = 'git clone https://github.com/KnowEnG-Research/Data_Cleanup_Pipeline.git'\n",
    "    os.system(dc_git_string)\n",
    "\n",
    "if Samples_Clustering_Exists == False:\n",
    "    sc_git_string = 'git clone https://github.com/KnowEnG-Research/Samples_Clustering_Pipeline.git'\n",
    "    os.system(sc_git_string)\n",
    "    \n",
    "os.chdir(notebook_directory)"
   ]
  },
  {
   "cell_type": "markdown",
   "metadata": {},
   "source": [
    "##### Set the path and name of the edited run_file (all parameters needed to run data cleanup and samples clustering)"
   ]
  },
  {
   "cell_type": "code",
   "execution_count": 3,
   "metadata": {},
   "outputs": [
    {
     "name": "stdout",
     "output_type": "stream",
     "text": [
      "Run File Name Is:\n",
      " samples_clustering_4_notebook_Active.yml \n",
      "In\n",
      " /Users/lanier4/dlanier_KnowEnG/knoweng_dev_tools/test/run_dir/samples_clustering_4_notebook_Active.yml\n"
     ]
    }
   ],
   "source": [
    "#                   open a yaml run file - copy and set the paths to absolute for distant calling\n",
    "run_dir             = '../test/run_dir'\n",
    "base_path           = os.path.abspath('../../')\n",
    "notebook_run_file   = os.path.join(base_path, 'knoweng_dev_tools/data/run_files/samples_clustering_4_notebook.yml')\n",
    "run_file_name       = rfu.set_run_file_path_to_abs(notebook_run_file, run_dir)\n",
    "\n",
    "not_needed_name, yaml_file = os.path.split(run_file_name)\n",
    "print('Run File Name Is:\\n',yaml_file, '\\nIn\\n', run_file_name)"
   ]
  },
  {
   "cell_type": "markdown",
   "metadata": {},
   "source": [
    "#### Run the data cleanup pipeline to insure that the gene names and data values are usable by samples clustering pipeline."
   ]
  },
  {
   "cell_type": "code",
   "execution_count": 4,
   "metadata": {},
   "outputs": [
    {
     "name": "stdout",
     "output_type": "stream",
     "text": [
      "data_cleanup_run_time 953.3104629516602\n"
     ]
    }
   ],
   "source": [
    "DC_call_string = 'python3 ../../Data_Cleanup_Pipeline/src/data_cleanup.py -run_directory' + ' ' + run_dir\n",
    "DC_call_string = DC_call_string + ' -run_file' + ' ' + yaml_file\n",
    "\n",
    "data_cleanup_start_time = time.time()\n",
    "os.system(DC_call_string)\n",
    "\n",
    "data_cleanup_run_time = time.time() - data_cleanup_start_time\n",
    "print('data_cleanup_run_time', data_cleanup_run_time)"
   ]
  },
  {
   "cell_type": "markdown",
   "metadata": {},
   "source": [
    "#### Check the log file, and if cleaning was successfull call the function to enter the cleaned run file names into the run file."
   ]
  },
  {
   "cell_type": "code",
   "execution_count": 5,
   "metadata": {
    "collapsed": true
   },
   "outputs": [],
   "source": [
    "#                   Update the run file with the names of the cleaned data files - or view the error log\n",
    "Cleanup_Completed = rfu.update_run_file_post_clean(run_file_name)"
   ]
  },
  {
   "cell_type": "markdown",
   "metadata": {},
   "source": [
    "#### If the log file indicates success run samples clustering."
   ]
  },
  {
   "cell_type": "code",
   "execution_count": 6,
   "metadata": {},
   "outputs": [
    {
     "name": "stdout",
     "output_type": "stream",
     "text": [
      " Samples Clustering running time:  45.39968705177307\n"
     ]
    }
   ],
   "source": [
    "#                   Run Samples Clustering\n",
    "SC_call_string = 'python3 ../../Samples_Clustering_Pipeline/src/samples_clustering.py -run_directory' + ' '\n",
    "SC_call_string = SC_call_string + run_dir + ' -run_file' + ' ' + yaml_file\n",
    "\n",
    "samples_clustering_start_time = time.time()\n",
    "\n",
    "os.system(SC_call_string)\n",
    "\n",
    "samples_clustering_run_time = time.time() - samples_clustering_start_time\n",
    "print(' Samples Clustering running time: ',samples_clustering_run_time)"
   ]
  },
  {
   "cell_type": "markdown",
   "metadata": {},
   "source": [
    "#### Read the output files and display the overview of the clustering."
   ]
  },
  {
   "cell_type": "code",
   "execution_count": 7,
   "metadata": {},
   "outputs": [
    {
     "data": {
      "image/png": "[encoded data removed]",
      "text/plain": [
       "<PIL.Image.Image image mode=RGB size=248x248 at 0x1046B2F60>"
      ]
     },
     "metadata": {},
     "output_type": "display_data"
    },
    {
     "data": {
      "text/html": [
       "<div>\n",
       "<table border=\"1\" class=\"dataframe\">\n",
       "  <thead>\n",
       "    <tr style=\"text-align: right;\">\n",
       "      <th></th>\n",
       "      <th>Measure</th>\n",
       "      <th>Trait_length_after_dropna</th>\n",
       "      <th>Sample_number_after_dropna</th>\n",
       "      <th>chi/fval</th>\n",
       "      <th>pval</th>\n",
       "      <th>SUCCESS/FAIL</th>\n",
       "      <th>Comments</th>\n",
       "    </tr>\n",
       "  </thead>\n",
       "  <tbody>\n",
       "    <tr>\n",
       "      <th>days_to_death</th>\n",
       "      <td>f_oneway</td>\n",
       "      <td>17</td>\n",
       "      <td>17</td>\n",
       "      <td>0.680316</td>\n",
       "      <td>5.224355e-01</td>\n",
       "      <td>SUCCESS</td>\n",
       "      <td>NaN</td>\n",
       "    </tr>\n",
       "    <tr>\n",
       "      <th>days_to_last</th>\n",
       "      <td>f_oneway</td>\n",
       "      <td>216</td>\n",
       "      <td>231</td>\n",
       "      <td>0.588105</td>\n",
       "      <td>5.562190e-01</td>\n",
       "      <td>SUCCESS</td>\n",
       "      <td>NaN</td>\n",
       "    </tr>\n",
       "    <tr>\n",
       "      <th>days_survival</th>\n",
       "      <td>f_oneway</td>\n",
       "      <td>232</td>\n",
       "      <td>248</td>\n",
       "      <td>0.415455</td>\n",
       "      <td>6.605040e-01</td>\n",
       "      <td>SUCCESS</td>\n",
       "      <td>NaN</td>\n",
       "    </tr>\n",
       "    <tr>\n",
       "      <th>diag_age</th>\n",
       "      <td>f_oneway</td>\n",
       "      <td>53</td>\n",
       "      <td>248</td>\n",
       "      <td>10.702764</td>\n",
       "      <td>3.497834e-05</td>\n",
       "      <td>SUCCESS</td>\n",
       "      <td>NaN</td>\n",
       "    </tr>\n",
       "    <tr>\n",
       "      <th>race</th>\n",
       "      <td>chisquare</td>\n",
       "      <td>5</td>\n",
       "      <td>241</td>\n",
       "      <td>20.063721</td>\n",
       "      <td>1.009764e-02</td>\n",
       "      <td>SUCCESS</td>\n",
       "      <td>NaN</td>\n",
       "    </tr>\n",
       "    <tr>\n",
       "      <th>ethnicity</th>\n",
       "      <td>chisquare</td>\n",
       "      <td>2</td>\n",
       "      <td>171</td>\n",
       "      <td>0.865391</td>\n",
       "      <td>6.487581e-01</td>\n",
       "      <td>SUCCESS</td>\n",
       "      <td>NaN</td>\n",
       "    </tr>\n",
       "    <tr>\n",
       "      <th>living</th>\n",
       "      <td>chisquare</td>\n",
       "      <td>2</td>\n",
       "      <td>248</td>\n",
       "      <td>2.024322</td>\n",
       "      <td>3.634327e-01</td>\n",
       "      <td>SUCCESS</td>\n",
       "      <td>NaN</td>\n",
       "    </tr>\n",
       "    <tr>\n",
       "      <th>histICDO3</th>\n",
       "      <td>chisquare</td>\n",
       "      <td>7</td>\n",
       "      <td>248</td>\n",
       "      <td>111.242501</td>\n",
       "      <td>3.397160e-18</td>\n",
       "      <td>SUCCESS</td>\n",
       "      <td>NaN</td>\n",
       "    </tr>\n",
       "    <tr>\n",
       "      <th>hist_simple</th>\n",
       "      <td>chisquare</td>\n",
       "      <td>3</td>\n",
       "      <td>248</td>\n",
       "      <td>101.045889</td>\n",
       "      <td>5.890669e-21</td>\n",
       "      <td>SUCCESS</td>\n",
       "      <td>NaN</td>\n",
       "    </tr>\n",
       "    <tr>\n",
       "      <th>ICD10</th>\n",
       "      <td>chisquare</td>\n",
       "      <td>2</td>\n",
       "      <td>230</td>\n",
       "      <td>2.295696</td>\n",
       "      <td>3.173190e-01</td>\n",
       "      <td>SUCCESS</td>\n",
       "      <td>NaN</td>\n",
       "    </tr>\n",
       "    <tr>\n",
       "      <th>ICD10_simple</th>\n",
       "      <td>chisquare</td>\n",
       "      <td>2</td>\n",
       "      <td>230</td>\n",
       "      <td>2.295696</td>\n",
       "      <td>3.173190e-01</td>\n",
       "      <td>SUCCESS</td>\n",
       "      <td>NaN</td>\n",
       "    </tr>\n",
       "    <tr>\n",
       "      <th>stage_simple</th>\n",
       "      <td>chisquare</td>\n",
       "      <td>4</td>\n",
       "      <td>248</td>\n",
       "      <td>17.289795</td>\n",
       "      <td>8.275185e-03</td>\n",
       "      <td>SUCCESS</td>\n",
       "      <td>NaN</td>\n",
       "    </tr>\n",
       "    <tr>\n",
       "      <th>stage_ismeta</th>\n",
       "      <td>chisquare</td>\n",
       "      <td>2</td>\n",
       "      <td>248</td>\n",
       "      <td>2.986994</td>\n",
       "      <td>2.245859e-01</td>\n",
       "      <td>SUCCESS</td>\n",
       "      <td>NaN</td>\n",
       "    </tr>\n",
       "    <tr>\n",
       "      <th>grade</th>\n",
       "      <td>chisquare</td>\n",
       "      <td>4</td>\n",
       "      <td>248</td>\n",
       "      <td>87.684504</td>\n",
       "      <td>9.164583e-17</td>\n",
       "      <td>SUCCESS</td>\n",
       "      <td>NaN</td>\n",
       "    </tr>\n",
       "    <tr>\n",
       "      <th>grade_simple</th>\n",
       "      <td>chisquare</td>\n",
       "      <td>2</td>\n",
       "      <td>248</td>\n",
       "      <td>83.227905</td>\n",
       "      <td>8.458436e-19</td>\n",
       "      <td>SUCCESS</td>\n",
       "      <td>NaN</td>\n",
       "    </tr>\n",
       "    <tr>\n",
       "      <th>residual</th>\n",
       "      <td>chisquare</td>\n",
       "      <td>4</td>\n",
       "      <td>207</td>\n",
       "      <td>5.722956</td>\n",
       "      <td>4.549291e-01</td>\n",
       "      <td>SUCCESS</td>\n",
       "      <td>NaN</td>\n",
       "    </tr>\n",
       "    <tr>\n",
       "      <th>gender</th>\n",
       "      <td>NaN</td>\n",
       "      <td>1</td>\n",
       "      <td>248</td>\n",
       "      <td>NaN</td>\n",
       "      <td>1.000000e+00</td>\n",
       "      <td>FAIL</td>\n",
       "      <td>Number of unique trait is one</td>\n",
       "    </tr>\n",
       "    <tr>\n",
       "      <th>ICDO3site</th>\n",
       "      <td>NaN</td>\n",
       "      <td>1</td>\n",
       "      <td>248</td>\n",
       "      <td>NaN</td>\n",
       "      <td>1.000000e+00</td>\n",
       "      <td>FAIL</td>\n",
       "      <td>Number of unique trait is one</td>\n",
       "    </tr>\n",
       "    <tr>\n",
       "      <th>stage</th>\n",
       "      <td>NaN</td>\n",
       "      <td>14</td>\n",
       "      <td>248</td>\n",
       "      <td>NaN</td>\n",
       "      <td>1.000000e+00</td>\n",
       "      <td>FAIL</td>\n",
       "      <td>Number of unique categorical trait is not belo...</td>\n",
       "    </tr>\n",
       "  </tbody>\n",
       "</table>\n",
       "</div>"
      ],
      "text/plain": [
       "                 Measure  Trait_length_after_dropna  \\\n",
       "days_to_death   f_oneway                         17   \n",
       "days_to_last    f_oneway                        216   \n",
       "days_survival   f_oneway                        232   \n",
       "diag_age        f_oneway                         53   \n",
       "race           chisquare                          5   \n",
       "ethnicity      chisquare                          2   \n",
       "living         chisquare                          2   \n",
       "histICDO3      chisquare                          7   \n",
       "hist_simple    chisquare                          3   \n",
       "ICD10          chisquare                          2   \n",
       "ICD10_simple   chisquare                          2   \n",
       "stage_simple   chisquare                          4   \n",
       "stage_ismeta   chisquare                          2   \n",
       "grade          chisquare                          4   \n",
       "grade_simple   chisquare                          2   \n",
       "residual       chisquare                          4   \n",
       "gender               NaN                          1   \n",
       "ICDO3site            NaN                          1   \n",
       "stage                NaN                         14   \n",
       "\n",
       "               Sample_number_after_dropna    chi/fval          pval  \\\n",
       "days_to_death                          17    0.680316  5.224355e-01   \n",
       "days_to_last                          231    0.588105  5.562190e-01   \n",
       "days_survival                         248    0.415455  6.605040e-01   \n",
       "diag_age                              248   10.702764  3.497834e-05   \n",
       "race                                  241   20.063721  1.009764e-02   \n",
       "ethnicity                             171    0.865391  6.487581e-01   \n",
       "living                                248    2.024322  3.634327e-01   \n",
       "histICDO3                             248  111.242501  3.397160e-18   \n",
       "hist_simple                           248  101.045889  5.890669e-21   \n",
       "ICD10                                 230    2.295696  3.173190e-01   \n",
       "ICD10_simple                          230    2.295696  3.173190e-01   \n",
       "stage_simple                          248   17.289795  8.275185e-03   \n",
       "stage_ismeta                          248    2.986994  2.245859e-01   \n",
       "grade                                 248   87.684504  9.164583e-17   \n",
       "grade_simple                          248   83.227905  8.458436e-19   \n",
       "residual                              207    5.722956  4.549291e-01   \n",
       "gender                                248         NaN  1.000000e+00   \n",
       "ICDO3site                             248         NaN  1.000000e+00   \n",
       "stage                                 248         NaN  1.000000e+00   \n",
       "\n",
       "              SUCCESS/FAIL                                           Comments  \n",
       "days_to_death      SUCCESS                                                NaN  \n",
       "days_to_last       SUCCESS                                                NaN  \n",
       "days_survival      SUCCESS                                                NaN  \n",
       "diag_age           SUCCESS                                                NaN  \n",
       "race               SUCCESS                                                NaN  \n",
       "ethnicity          SUCCESS                                                NaN  \n",
       "living             SUCCESS                                                NaN  \n",
       "histICDO3          SUCCESS                                                NaN  \n",
       "hist_simple        SUCCESS                                                NaN  \n",
       "ICD10              SUCCESS                                                NaN  \n",
       "ICD10_simple       SUCCESS                                                NaN  \n",
       "stage_simple       SUCCESS                                                NaN  \n",
       "stage_ismeta       SUCCESS                                                NaN  \n",
       "grade              SUCCESS                                                NaN  \n",
       "grade_simple       SUCCESS                                                NaN  \n",
       "residual           SUCCESS                                                NaN  \n",
       "gender                FAIL                      Number of unique trait is one  \n",
       "ICDO3site             FAIL                      Number of unique trait is one  \n",
       "stage                 FAIL  Number of unique categorical trait is not belo...  "
      ]
     },
     "metadata": {},
     "output_type": "display_data"
    }
   ],
   "source": [
    "#                   Display Samples Clustering (most recent) Results\n",
    "\n",
    "results_directory, status_null  = rfu.get_run_file_key_data(run_file_name, 'results_directory')\n",
    "consensus_matrix, cc_file_name  = rfu.read_consensus_result(results_directory)\n",
    "number_of_clusters, status_null = rfu.get_run_file_key_data(run_file_name, 'number_of_clusters')\n",
    "I0                              = rfu.form_consensus_matrix_graphic(consensus_matrix, number_of_clusters)\n",
    "display(gu.mat_to_blue(I0))\n",
    "\n",
    "cluster_eval_df, ce_file_name   = rfu.read_cluster_evaluation_result(results_directory)\n",
    "if cluster_eval_df is not None:\n",
    "    display(cluster_eval_df)"
   ]
  },
  {
   "cell_type": "markdown",
   "metadata": {},
   "source": [
    "#### Show the results directory name and the list of files therein."
   ]
  },
  {
   "cell_type": "code",
   "execution_count": 8,
   "metadata": {},
   "outputs": [
    {
     "name": "stdout",
     "output_type": "stream",
     "text": [
      "/Users/lanier4/dlanier_KnowEnG/knoweng_dev_tools/test/run_dir/results \n",
      "\n",
      "UCEC_phenotype_ETL.tsv\n",
      "clustering_evaluation_result_Thu_11_May_2017_11_48_24.190778017.tsv\n",
      "clustering_evaluation_result_Tue_09_May_2017_11_21_35.109452962.tsv\n",
      "clustering_evaluation_result_Tue_09_May_2017_13_12_31.970308065.tsv\n",
      "clustering_evaluation_result_Wed_10_May_2017_14_12_17.827778100.tsv\n",
      "clustering_evaluation_result_Wed_10_May_2017_14_47_06.049283027.tsv\n",
      "clustering_evaluation_result_Wed_10_May_2017_17_05_42.186928033.tsv\n",
      "consensus_matrix_cc_net_nmf_Thu_11_May_2017_11_48_23.270776033_viz.tsv\n",
      "consensus_matrix_cc_net_nmf_Tue_09_May_2017_11_21_34.167634963_viz.tsv\n",
      "consensus_matrix_cc_net_nmf_Tue_09_May_2017_13_12_31.039108037_viz.tsv\n",
      "consensus_matrix_cc_net_nmf_Wed_10_May_2017_14_12_16.668400049_viz.tsv\n",
      "consensus_matrix_cc_net_nmf_Wed_10_May_2017_14_47_04.886410951_viz.tsv\n",
      "consensus_matrix_cc_net_nmf_Wed_10_May_2017_17_05_41.289066076_viz.tsv\n",
      "genes_averages_by_cluster_cc_net_nmf_Thu_11_May_2017_11_48_33.433854103_viz.tsv\n",
      "genes_averages_by_cluster_cc_net_nmf_Tue_09_May_2017_11_21_44.466029882_viz.tsv\n",
      "genes_averages_by_cluster_cc_net_nmf_Tue_09_May_2017_13_12_41.148727893_viz.tsv\n",
      "genes_averages_by_cluster_cc_net_nmf_Wed_10_May_2017_14_12_27.476372957_viz.tsv\n",
      "genes_averages_by_cluster_cc_net_nmf_Wed_10_May_2017_14_47_16.496097087_viz.tsv\n",
      "genes_averages_by_cluster_cc_net_nmf_Wed_10_May_2017_17_05_51.113373994_viz.tsv\n",
      "genes_by_samples_heatmap_cc_net_nmf_Thu_11_May_2017_11_48_26.585180044_viz.tsv\n",
      "genes_by_samples_heatmap_cc_net_nmf_Tue_09_May_2017_11_21_37.448481082_viz.tsv\n",
      "genes_by_samples_heatmap_cc_net_nmf_Tue_09_May_2017_13_12_34.268515110_viz.tsv\n",
      "genes_by_samples_heatmap_cc_net_nmf_Wed_10_May_2017_14_12_20.365745067_viz.tsv\n",
      "genes_by_samples_heatmap_cc_net_nmf_Wed_10_May_2017_14_47_09.131407976_viz.tsv\n",
      "genes_by_samples_heatmap_cc_net_nmf_Wed_10_May_2017_17_05_44.493189096_viz.tsv\n",
      "genes_variance_cc_net_nmf_Thu_11_May_2017_11_48_33.560611009_viz.tsv\n",
      "genes_variance_cc_net_nmf_Tue_09_May_2017_11_21_44.578644037_viz.tsv\n",
      "genes_variance_cc_net_nmf_Tue_09_May_2017_13_12_41.259260892_viz.tsv\n",
      "genes_variance_cc_net_nmf_Wed_10_May_2017_14_12_27.593544006_viz.tsv\n",
      "genes_variance_cc_net_nmf_Wed_10_May_2017_14_47_16.612792015_viz.tsv\n",
      "genes_variance_cc_net_nmf_Wed_10_May_2017_17_05_51.224390029_viz.tsv\n",
      "log_gene_prioritization_pipeline.yml\n",
      "samples_label_by_cluster_cc_net_nmf_Thu_11_May_2017_11_48_23.381805896_viz.tsv\n",
      "samples_label_by_cluster_cc_net_nmf_Tue_09_May_2017_11_21_34.279284000_viz.tsv\n",
      "samples_label_by_cluster_cc_net_nmf_Tue_09_May_2017_13_12_31.151957988_viz.tsv\n",
      "samples_label_by_cluster_cc_net_nmf_Wed_10_May_2017_14_12_16.784322023_viz.tsv\n",
      "samples_label_by_cluster_cc_net_nmf_Wed_10_May_2017_14_47_05.002593994_viz.tsv\n",
      "samples_label_by_cluster_cc_net_nmf_Wed_10_May_2017_17_05_41.396398067_viz.tsv\n",
      "silhouette_average_cc_net_nmf_Thu_11_May_2017_11_48_23.381370067_viz.tsv\n",
      "silhouette_average_cc_net_nmf_Tue_09_May_2017_11_21_34.278853893_viz.tsv\n",
      "silhouette_average_cc_net_nmf_Tue_09_May_2017_13_12_31.151477098_viz.tsv\n",
      "silhouette_average_cc_net_nmf_Wed_10_May_2017_14_12_16.783819913_viz.tsv\n",
      "silhouette_average_cc_net_nmf_Wed_10_May_2017_14_47_05.002043008_viz.tsv\n",
      "silhouette_average_cc_net_nmf_Wed_10_May_2017_17_05_41.395945072_viz.tsv\n",
      "tcga_ucec_somatic_mutation_data_ETL.tsv\n",
      "tcga_ucec_somatic_mutation_data_MAP.tsv\n",
      "tcga_ucec_somatic_mutation_data_UNMAPPED.tsv\n",
      "top_genes_by_cluster_cc_net_nmf_Thu_11_May_2017_11_48_33.595330953_download.tsv\n",
      "top_genes_by_cluster_cc_net_nmf_Tue_09_May_2017_11_21_44.613647937_download.tsv\n",
      "top_genes_by_cluster_cc_net_nmf_Tue_09_May_2017_13_12_41.293669939_download.tsv\n",
      "top_genes_by_cluster_cc_net_nmf_Wed_10_May_2017_14_12_27.629664897_download.tsv\n",
      "top_genes_by_cluster_cc_net_nmf_Wed_10_May_2017_14_47_16.647188901_download.tsv\n",
      "top_genes_by_cluster_cc_net_nmf_Wed_10_May_2017_17_05_51.257656097_download.tsv\n"
     ]
    }
   ],
   "source": [
    "#                   uncomment below and run the cell to Show contents of results directory\n",
    "\n",
    "rfu.show_result_directory(results_directory)"
   ]
  },
  {
   "cell_type": "markdown",
   "metadata": {},
   "source": [
    "#### Show the run file contents."
   ]
  },
  {
   "cell_type": "code",
   "execution_count": 9,
   "metadata": {},
   "outputs": [
    {
     "name": "stdout",
     "output_type": "stream",
     "text": [
      "/Users/lanier4/dlanier_KnowEnG/knoweng_dev_tools/test/run_dir/samples_clustering_4_notebook_Active.yml \n",
      "Contents:\n",
      "\n",
      "SC_phenotype_name_full_path             : /Users/lanier4/dlanier_KnowEnG/knoweng_dev_tools/test/run_dir/results/UCEC_phenotype_ETL.tsv\n",
      "SC_results_directory                    : /Users/lanier4/dlanier_KnowEnG/knoweng_dev_tools/test/run_dir/results\n",
      "SC_spreadsheet_name_full_path           : /Users/lanier4/dlanier_KnowEnG/knoweng_dev_tools/test/run_dir/results/tcga_ucec_somatic_mutation_data_ETL.tsv\n",
      "cols_sampling_fraction                  : 0.8\n",
      "correlation_measure                     : pearson\n",
      "gg_network_name_full_path               : /Users/lanier4/dlanier_KnowEnG/knoweng_dev_tools/data/networks/keg_ST90_4col.edge\n",
      "method                                  : cc_net_nmf\n",
      "nmf_conv_check_freq                     : 50\n",
      "nmf_max_invariance                      : 200\n",
      "nmf_max_iterations                      : 10000\n",
      "nmf_penalty_parameter                   : 1400\n",
      "number_of_bootstraps                    : 4\n",
      "number_of_clusters                      : 3\n",
      "parallelism                             : 4\n",
      "phenotype_name_full_path                : /Users/lanier4/dlanier_KnowEnG/knoweng_dev_tools/test/run_dir/results/UCEC_phenotype_ETL.tsv\n",
      "pipeline_type                           : gene_prioritization_pipeline\n",
      "processing_method                       : parallel\n",
      "redis_credential                        : {'port': 6379, 'password': 'KnowEnG', 'host': 'knowredis.knowhub.org'}\n",
      "results_directory                       : /Users/lanier4/dlanier_KnowEnG/knoweng_dev_tools/test/run_dir/results\n",
      "rows_sampling_fraction                  : 0.8\n",
      "rwr_convergence_tolerence               : 0.0001\n",
      "rwr_max_iterations                      : 100\n",
      "rwr_restart_probability                 : 0.7\n",
      "source_hint                             : \n",
      "spreadsheet_name_full_path              : /Users/lanier4/dlanier_KnowEnG/knoweng_dev_tools/test/run_dir/results/tcga_ucec_somatic_mutation_data_ETL.tsv\n",
      "taxonid                                 : 9606\n",
      "threshold                               : 10\n",
      "tmp_directory                           : /Users/lanier4/dlanier_KnowEnG/knoweng_dev_tools/test/run_dir\n",
      "top_number_of_genes                     : 100\n"
     ]
    }
   ],
   "source": [
    "#                   uncomment below and run the cell to Display the Run File\n",
    "\n",
    "print(run_file_name, \"\\nContents:\\n\")\n",
    "rfu.display_run_file(run_file_name)"
   ]
  },
  {
   "cell_type": "code",
   "execution_count": 10,
   "metadata": {},
   "outputs": [
    {
     "name": "stdout",
     "output_type": "stream",
     "text": [
      "Variable                        Type         Data/Info\n",
      "------------------------------------------------------\n",
      "Cleanup_Completed               bool         True\n",
      "DC_call_string                  str          python3 ../../Data_Cleanu<...>ing_4_notebook_Active.yml\n",
      "DC_name                         str          Data_Cleanup_Pipeline\n",
      "Data_Cleanup_Exists             bool         True\n",
      "I0                              ndarray      248x248: 61504 elems, type `float64`, 492032 bytes (480.5 kb)\n",
      "SC_call_string                  str          python3 ../../Samples_Clu<...>ing_4_notebook_Active.yml\n",
      "SC_name                         str          Samples_Clustering_Pipeline\n",
      "Samples_Clustering_Exists       bool         True\n",
      "base_path                       str          /Users/lanier4/dlanier_KnowEnG\n",
      "cc_file_name                    str          consensus_matrix_cc_net_n<...>7_05_41.289066076_viz.tsv\n",
      "ce_file_name                    str          clustering_evaluation_res<...>17_17_05_42.186928033.tsv\n",
      "cluster_eval_df                 DataFrame                     Measure <...>al trait is not belo...  \n",
      "consensus_matrix                ndarray      248x248: 61504 elems, type `float64`, 492032 bytes (480.5 kb)\n",
      "d                               str          Widgets\n",
      "data_cleanup_run_time           float        953.3104629516602\n",
      "data_cleanup_start_time         float        1494519779.962105\n",
      "dir_listing                     list         n=14\n",
      "display                         function     <function display at 0x101566158>\n",
      "gu                              module       <module 'KnowEnG_graphics<...>src/KnowEnG_graphics.py'>\n",
      "kn                              module       <module 'knpackage.toolbo<...>es/knpackage/toolbox.py'>\n",
      "not_needed_name                 str          /Users/lanier4/dlanier_Kn<...>ng_dev_tools/test/run_dir\n",
      "notebook_directory              str          /Users/lanier4/dlanier_Kn<...>g_dev_tools/notebook_make\n",
      "notebook_run_file               str          /Users/lanier4/dlanier_Kn<...>clustering_4_notebook.yml\n",
      "number_of_clusters              int          3\n",
      "os                              module       <module 'os' from '/Libra<...>3.5/lib/python3.5/os.py'>\n",
      "results_directory               str          /Users/lanier4/dlanier_Kn<...>ools/test/run_dir/results\n",
      "rfu                             module       <module 'run_file_utility<...>src/run_file_utility.py'>\n",
      "run_dir                         str          ../test/run_dir\n",
      "run_file_name                   str          /Users/lanier4/dlanier_Kn<...>ing_4_notebook_Active.yml\n",
      "samples_clustering_run_time     float        45.39968705177307\n",
      "samples_clustering_start_time   float        1494521268.354269\n",
      "status_null                     bool         True\n",
      "sys                             module       <module 'sys' (built-in)>\n",
      "time                            module       <module 'time' (built-in)>\n",
      "yaml_file                       str          samples_clustering_4_notebook_Active.yml\n"
     ]
    }
   ],
   "source": [
    "#                   uncomment below and run the cell to Display the Workspace Variables\n",
    "%whos"
   ]
  },
  {
   "cell_type": "code",
   "execution_count": null,
   "metadata": {
    "collapsed": true
   },
   "outputs": [],
   "source": []
  }
 ],
 "metadata": {
  "kernelspec": {
   "display_name": "Python 3",
   "language": "python",
   "name": "python3"
  },
  "language_info": {
   "codemirror_mode": {
    "name": "ipython",
    "version": 3
   },
   "file_extension": ".py",
   "mimetype": "text/x-python",
   "name": "python",
   "nbconvert_exporter": "python",
   "pygments_lexer": "ipython3",
   "version": "3.5.3"
  }
 },
 "nbformat": 4,
 "nbformat_minor": 2
}
