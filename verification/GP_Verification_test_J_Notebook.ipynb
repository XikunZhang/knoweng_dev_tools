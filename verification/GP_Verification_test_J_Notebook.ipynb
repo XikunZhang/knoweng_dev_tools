{
 "cells": [
  {
   "cell_type": "markdown",
   "metadata": {},
   "source": [
    "### Run this notebook to confirm that changes to Gene Prioritization Pipeline code did not change the outupt.\n",
    "* after running notebook use  \"File\" > \"Download as\"  >  (html) to save test results.\n",
    "\n",
    "###### Be advised: running this notebook in the same directory at the same time as the script will eat the temporary directories and fail tests.\n",
    "* And display _**disparaging error messages**_ on the command line."
   ]
  },
  {
   "cell_type": "code",
   "execution_count": 1,
   "metadata": {
    "collapsed": true
   },
   "outputs": [],
   "source": [
    "# <- must be == In [1]  only run this cell first (or) after restarting kernel\n",
    "import os\n",
    "import sys\n",
    "import time\n",
    "\n",
    "import pandas as pd\n",
    "import knpackage.toolbox as kn\n",
    "\n",
    "# sys.path.insert(1, '../verification')\n",
    "import verification_test as vt\n",
    "run_dir = os.path.abspath('../../Gene_Prioritization_Pipeline/test')\n",
    "\n",
    "t_start_test = time.time()\n",
    "sum_of_all_differences = 0"
   ]
  },
  {
   "cell_type": "code",
   "execution_count": 2,
   "metadata": {},
   "outputs": [
    {
     "name": "stdout",
     "output_type": "stream",
     "text": [
      "BENCHMARK_1_GP_pearson                  : run_pearson\n",
      "BENCHMARK_2_GP_bootstrap_pearson        : run_bootstrap_pearson\n",
      "BENCHMARK_3_GP_net_pearson              : run_net_pearson\n",
      "BENCHMARK_4_GP_bootstrap_net_pearson    : run_bootstrap_net_pearson\n",
      "BENCHMARK_5_GP_t_test                   : run_t_test\n",
      "BENCHMARK_6_GP_bootstrap_t_test         : run_bootstrap_t_test\n",
      "BENCHMARK_7_GP_net_t_test               : run_net_t_test\n",
      "BENCHMARK_8_GP_bootstrap_net_t_test     : run_bootstrap_net_t_test\n",
      "TEST_1_GP_single_drug_pearson           : run_single_drug_pearson\n",
      "TEST_2_GP_many_drugs_pearson            : run_multidrug_pearson\n",
      "TEST_3_GP_single_drug_t_test            : run_single_drug_t_test\n",
      "TEST_4_GP_many_drugs_t_test             : run_multidrug_t_test\n",
      "\n",
      "Start Tests:\t Fri May 19, 2017 14:41 (39 s)\n"
     ]
    }
   ],
   "source": [
    "#                           Set up variables\n",
    "yaml_methods_dict = {v: k for k, v in (vt.GP_options).items()}\n",
    "yaml_methods_dict_keys = list(yaml_methods_dict.keys())\n",
    "\n",
    "vt.view_dictionary(yaml_methods_dict)\n",
    "\n",
    "os.chdir(run_dir)\n",
    "os.system(\"make env_setup\")\n",
    "verification_root = os.path.abspath('../data/verification')\n",
    "resu_dir = os.path.abspath('run_dir/results')\n",
    "print('\\nStart Tests:\\t',time.strftime(\"%a %b %d, %Y %H:%M (%S s)\", time.localtime()))"
   ]
  },
  {
   "cell_type": "code",
   "execution_count": 3,
   "metadata": {},
   "outputs": [
    {
     "name": "stdout",
     "output_type": "stream",
     "text": [
      "Gene Prioritization TEST_1_GP_single_drug_pearson run in 0.86 seconds\n",
      "\n",
      "drug_name_net_correlation_pearson.tsv \t 0 differences\n",
      "ranked_genes_per_phenotype_net_correlation_pearson.tsv \t 0 differences\n",
      "top_genes_per_phenotype_net_correlation_pearson.tsv \t 0 differences\n",
      "\n",
      "\n",
      "\n"
     ]
    }
   ],
   "source": [
    "#                          run_single_drug_pearson - test the directory setup first\n",
    "dictionary_key = 'TEST_1_GP_single_drug_pearson'\n",
    "veri_dir = os.path.join(verification_root, dictionary_key)\n",
    "os.system(\"make clean_dir_recursively create_run_dir copy_run_files\")\n",
    "\n",
    "t0 = time.time()\n",
    "make_run_string = 'make' + ' ' + yaml_methods_dict[dictionary_key]\n",
    "os.system(make_run_string)\n",
    "\n",
    "print('Gene Prioritization %s run in %0.2f seconds\\n'%(dictionary_key, time.time() - t0))\n",
    "\n",
    "dir_differ_dict = vt.verification_directory_compare(veri_dir, resu_dir)\n",
    "\n",
    "for k in sorted(dir_differ_dict.keys()):\n",
    "    print(k, '\\t', dir_differ_dict[k], 'differences')\n",
    "print('\\n\\n')"
   ]
  },
  {
   "cell_type": "markdown",
   "metadata": {},
   "source": [
    "###### Optional run all small test methods and compare with BENCHMARK and TEST files."
   ]
  },
  {
   "cell_type": "code",
   "execution_count": null,
   "metadata": {
    "collapsed": true
   },
   "outputs": [],
   "source": [
    "#                           Run all tests: option\n",
    "run_all_tests_Y_or_whatever = input('Continue with all tests? (only capital Y will run)')\n",
    "\n",
    "if run_all_tests_Y_or_whatever == \"Y\":\n",
    "    t_start_test = time.time()\n",
    "    print('\\nStart Tests:\\t',time.strftime(\"%a %b %d, %Y %H:%M (%S s)\", time.localtime()))\n",
    "\n",
    "    for y in sorted(yaml_methods_dict.keys(),reverse=True):\n",
    "        t0 = time.time()\n",
    "        print('\\n', y)\n",
    "        os.system(\"make clean_dir_recursively create_run_dir copy_run_files\")\n",
    "        veri_dir = os.path.join(verification_root, y)\n",
    "        make_run_string = 'make' + ' ' + yaml_methods_dict[y]\n",
    "        os.system(make_run_string)\n",
    "        dir_differ_dict = vt.verification_directory_compare(veri_dir, resu_dir)\n",
    "        for k in sorted(dir_differ_dict.keys()):\n",
    "            if dir_differ_dict[k] != 0:\n",
    "                sum_of_all_differences += 1\n",
    "                print(k, '\\t', dir_differ_dict[k], 'differences')\n",
    "        \n",
    "        print(yaml_methods_dict[y],'\\t', time.time()-t0, '\\n')\n",
    "        \n",
    "    m, s = divmod(time.time() - t_start_test, 60)\n",
    "    h, m = divmod(m, 60)\n",
    "    print('Gene Prioritization All tests run time:\\t%d:%02d:%02d'%(h, m, s))\n",
    "    print('\\nFinished Tests:\\t',time.strftime(\"%a %b %d, %Y %H:%M (%S s)\", time.localtime()))\n",
    "    print('Total number of differences = ', sum_of_all_differences)"
   ]
  },
  {
   "cell_type": "code",
   "execution_count": 16,
   "metadata": {},
   "outputs": [
    {
     "data": {
      "text/plain": [
       "3"
      ]
     },
     "execution_count": 16,
     "metadata": {},
     "output_type": "execute_result"
    }
   ],
   "source": [
    "dadict = {'a': 1, 'b': 2, 'c': 45}\n",
    "len(dadict)"
   ]
  },
  {
   "cell_type": "code",
   "execution_count": 1,
   "metadata": {
    "collapsed": true
   },
   "outputs": [],
   "source": [
    "import filecmp\n",
    "import os"
   ]
  },
  {
   "cell_type": "code",
   "execution_count": 6,
   "metadata": {},
   "outputs": [
    {
     "name": "stdout",
     "output_type": "stream",
     "text": [
      "True True\n"
     ]
    },
    {
     "data": {
      "text/plain": [
       "True"
      ]
     },
     "execution_count": 6,
     "metadata": {},
     "output_type": "execute_result"
    }
   ],
   "source": [
    "results_dir = '../../Gene_Prioritization_Pipeline/test/run_dir/results'\n",
    "f1 = 'drug_name_net_correlation_pearson_Fri_19_May_2017_14_41_43.238056898_viz.tsv'\n",
    "result_file = os.path.join(results_dir, f1)\n",
    "\n",
    "verif_dir = '../../Gene_Prioritization_Pipeline/data/verification/TEST_1_GP_single_drug_pearson'\n",
    "verif_file = os.path.join(verif_dir, 'drug_name_net_correlation_pearson.tsv')\n",
    "print(os.path.isfile(result_file), os.path.isfile(verif_file))\n",
    "filecmp.cmp(result_file, verif_file)"
   ]
  }
 ],
 "metadata": {
  "kernelspec": {
   "display_name": "Python 3",
   "language": "python",
   "name": "python3"
  },
  "language_info": {
   "codemirror_mode": {
    "name": "ipython",
    "version": 3
   },
   "file_extension": ".py",
   "mimetype": "text/x-python",
   "name": "python",
   "nbconvert_exporter": "python",
   "pygments_lexer": "ipython3",
   "version": "3.5.3"
  }
 },
 "nbformat": 4,
 "nbformat_minor": 2
}
