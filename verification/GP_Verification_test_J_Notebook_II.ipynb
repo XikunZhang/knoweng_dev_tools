{
 "cells": [
  {
   "cell_type": "code",
   "execution_count": 1,
   "metadata": {
    "collapsed": true
   },
   "outputs": [],
   "source": [
    "import os\n",
    "import filecmp\n",
    "import time"
   ]
  },
  {
   "cell_type": "code",
   "execution_count": 2,
   "metadata": {},
   "outputs": [
    {
     "name": "stdout",
     "output_type": "stream",
     "text": [
      "/Users/lanier4/dlanier_KnowEnG/knoweng_dev_tools/verification\n",
      "/Users/lanier4/dlanier_KnowEnG/Gene_Prioritization_Pipeline/test\n"
     ]
    }
   ],
   "source": [
    "print(os.getcwd())\n",
    "os.chdir('../../Gene_Prioritization_Pipeline/test')\n",
    "print(os.getcwd())"
   ]
  },
  {
   "cell_type": "code",
   "execution_count": 3,
   "metadata": {},
   "outputs": [
    {
     "data": {
      "text/plain": [
       "512"
      ]
     },
     "execution_count": 3,
     "metadata": {},
     "output_type": "execute_result"
    }
   ],
   "source": [
    "os.system('make env_setup')"
   ]
  },
  {
   "cell_type": "code",
   "execution_count": 4,
   "metadata": {},
   "outputs": [],
   "source": [
    "GP_options_dict = {\n",
    "              'run_pearson'                 : 'BENCHMARK_1_GP_pearson',\n",
    "              'run_net_pearson'             : 'BENCHMARK_3_GP_net_pearson',\n",
    "              'run_bootstrap_pearson'       : 'BENCHMARK_2_GP_bootstrap_pearson',\n",
    "              'run_bootstrap_net_pearson'   : 'BENCHMARK_4_GP_bootstrap_net_pearson',\n",
    "              'run_t_test'                  : 'BENCHMARK_5_GP_t_test',\n",
    "              'run_net_t_test'              : 'BENCHMARK_7_GP_net_t_test',\n",
    "              'run_bootstrap_t_test'        : 'BENCHMARK_6_GP_bootstrap_t_test',\n",
    "              'run_bootstrap_net_t_test'    : 'BENCHMARK_8_GP_bootstrap_net_t_test',\n",
    "              'run_single_drug_pearson'     : 'TEST_1_GP_single_drug_pearson',\n",
    "              'run_multidrug_pearson'       : 'TEST_2_GP_many_drugs_pearson',\n",
    "              'run_single_drug_t_test'      : 'TEST_3_GP_single_drug_t_test',\n",
    "              'run_multidrug_t_test'        : 'TEST_4_GP_many_drugs_t_test' }\n",
    "\n",
    "verify_root_dir = '../../Gene_Prioritization_Pipeline/data/verification'\n",
    "results_dir = '../../Gene_Prioritization_Pipeline/test/run_dir/results'"
   ]
  },
  {
   "cell_type": "code",
   "execution_count": 5,
   "metadata": {
    "collapsed": true
   },
   "outputs": [],
   "source": [
    "def verify_results_directory(v_dir, results_dir):\n",
    "    \"\"\" Compare the verification files in v_dir with the result files in results_dir \"\"\"\n",
    "    number_of_equals = 0\n",
    "    v_files_list = os.listdir(v_dir)\n",
    "    result_files_list = os.listdir(results_dir)\n",
    "    for file_name in v_files_list:\n",
    "        file_prefix = file_name[0:-4]\n",
    "        for res_file_name in result_files_list:\n",
    "            if res_file_name[0:len(file_prefix)] == file_prefix:\n",
    "                res_file_full_name = os.path.join(results_dir, res_file_name)\n",
    "                veri_file_name = os.path.join(v_dir, file_name)\n",
    "                if filecmp.cmp(res_file_full_name, veri_file_name) == False:\n",
    "                    print('NOT EQUAL:\\n', file_name, '\\n', res_file_name, '\\n')\n",
    "                else:\n",
    "                    number_of_equals += 1\n",
    "                    \n",
    "    return number_of_equals, len(v_files_list)"
   ]
  },
  {
   "cell_type": "code",
   "execution_count": 6,
   "metadata": {
    "collapsed": true
   },
   "outputs": [],
   "source": [
    "def run_all_BENCHMARKs_and_TESTs():\n",
    "    \"\"\" run the make file targes for all yaml files and compre the results with their verification files \"\"\"\n",
    "    t0 = time.time()\n",
    "    directory_methods_dict = {v: k for k, v in (GP_options_dict).items()}\n",
    "    verification_directory_list = sorted(directory_methods_dict.keys(), reverse=True)\n",
    "\n",
    "    for test_directory in verification_directory_list:\n",
    "        verification_directory = os.path.join(verify_root_dir, test_directory)\n",
    "        verification_method = 'make' + ' ' + directory_methods_dict[test_directory]\n",
    "        print('\\n', verification_method, '\\n', verification_directory)\n",
    "        os.system(verification_method)\n",
    "\n",
    "        n_eq, n_tot = verify_results_directory(verification_directory, results_dir)\n",
    "        tt = '%0.2f'%(time.time() - t0)\n",
    "        print(tt, 'sec\\t\\t', n_eq, 'of', n_tot, 'equal\\n')\n",
    "        \n",
    "        os.system(\"make clean_dir_recursively create_run_dir copy_run_files\")"
   ]
  },
  {
   "cell_type": "code",
   "execution_count": 7,
   "metadata": {},
   "outputs": [
    {
     "name": "stdout",
     "output_type": "stream",
     "text": [
      "\n",
      " make run_multidrug_t_test \n",
      " ../../Gene_Prioritization_Pipeline/data/verification/TEST_4_GP_many_drugs_t_test\n",
      "0.88 sec\t\t 7 of 7 equal\n",
      "\n",
      "\n",
      " make run_single_drug_t_test \n",
      " ../../Gene_Prioritization_Pipeline/data/verification/TEST_3_GP_single_drug_t_test\n",
      "1.83 sec\t\t 3 of 3 equal\n",
      "\n",
      "\n",
      " make run_multidrug_pearson \n",
      " ../../Gene_Prioritization_Pipeline/data/verification/TEST_2_GP_many_drugs_pearson\n",
      "2.91 sec\t\t 7 of 7 equal\n",
      "\n",
      "\n",
      " make run_single_drug_pearson \n",
      " ../../Gene_Prioritization_Pipeline/data/verification/TEST_1_GP_single_drug_pearson\n",
      "3.89 sec\t\t 3 of 3 equal\n",
      "\n",
      "\n",
      " make run_bootstrap_net_t_test \n",
      " ../../Gene_Prioritization_Pipeline/data/verification/BENCHMARK_8_GP_bootstrap_net_t_test\n",
      "63.03 sec\t\t 26 of 26 equal\n",
      "\n",
      "\n",
      " make run_net_t_test \n",
      " ../../Gene_Prioritization_Pipeline/data/verification/BENCHMARK_7_GP_net_t_test\n",
      "117.83 sec\t\t 26 of 26 equal\n",
      "\n",
      "\n",
      " make run_bootstrap_t_test \n",
      " ../../Gene_Prioritization_Pipeline/data/verification/BENCHMARK_6_GP_bootstrap_t_test\n",
      "151.26 sec\t\t 26 of 26 equal\n",
      "\n",
      "\n",
      " make run_t_test \n",
      " ../../Gene_Prioritization_Pipeline/data/verification/BENCHMARK_5_GP_t_test\n",
      "183.06 sec\t\t 26 of 26 equal\n",
      "\n",
      "\n",
      " make run_bootstrap_net_pearson \n",
      " ../../Gene_Prioritization_Pipeline/data/verification/BENCHMARK_4_GP_bootstrap_net_pearson\n",
      "246.69 sec\t\t 26 of 26 equal\n",
      "\n",
      "\n",
      " make run_net_pearson \n",
      " ../../Gene_Prioritization_Pipeline/data/verification/BENCHMARK_3_GP_net_pearson\n",
      "301.78 sec\t\t 26 of 26 equal\n",
      "\n",
      "\n",
      " make run_bootstrap_pearson \n",
      " ../../Gene_Prioritization_Pipeline/data/verification/BENCHMARK_2_GP_bootstrap_pearson\n",
      "334.90 sec\t\t 26 of 26 equal\n",
      "\n",
      "\n",
      " make run_pearson \n",
      " ../../Gene_Prioritization_Pipeline/data/verification/BENCHMARK_1_GP_pearson\n",
      "366.59 sec\t\t 26 of 26 equal\n",
      "\n"
     ]
    }
   ],
   "source": [
    "run_all_BENCHMARKs_and_TESTs()"
   ]
  },
  {
   "cell_type": "code",
   "execution_count": null,
   "metadata": {
    "collapsed": true
   },
   "outputs": [],
   "source": []
  },
  {
   "cell_type": "code",
   "execution_count": null,
   "metadata": {
    "collapsed": true
   },
   "outputs": [],
   "source": []
  },
  {
   "cell_type": "code",
   "execution_count": null,
   "metadata": {
    "collapsed": true
   },
   "outputs": [],
   "source": []
  },
  {
   "cell_type": "code",
   "execution_count": null,
   "metadata": {
    "collapsed": true
   },
   "outputs": [],
   "source": []
  },
  {
   "cell_type": "code",
   "execution_count": null,
   "metadata": {
    "collapsed": true
   },
   "outputs": [],
   "source": []
  },
  {
   "cell_type": "code",
   "execution_count": null,
   "metadata": {
    "collapsed": true
   },
   "outputs": [],
   "source": []
  },
  {
   "cell_type": "code",
   "execution_count": null,
   "metadata": {
    "collapsed": true
   },
   "outputs": [],
   "source": []
  },
  {
   "cell_type": "code",
   "execution_count": null,
   "metadata": {
    "collapsed": true
   },
   "outputs": [],
   "source": []
  }
 ],
 "metadata": {
  "kernelspec": {
   "display_name": "Python 3",
   "language": "python",
   "name": "python3"
  },
  "language_info": {
   "codemirror_mode": {
    "name": "ipython",
    "version": 3
   },
   "file_extension": ".py",
   "mimetype": "text/x-python",
   "name": "python",
   "nbconvert_exporter": "python",
   "pygments_lexer": "ipython3",
   "version": "3.5.3"
  }
 },
 "nbformat": 4,
 "nbformat_minor": 2
}
