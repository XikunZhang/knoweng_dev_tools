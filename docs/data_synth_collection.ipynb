{
 "cells": [
  {
   "cell_type": "code",
   "execution_count": 1,
   "metadata": {
    "collapsed": true
   },
   "outputs": [],
   "source": [
    "import os\n",
    "import sys\n",
    "import time\n",
    "\n",
    "import numpy as np\n",
    "import pandas as pd\n",
    "\n",
    "import data_synth as ds"
   ]
  },
  {
   "cell_type": "markdown",
   "metadata": {},
   "source": [
    "## Mark Me Down Scotty\n",
    "* a cell to test the markdown\n",
    "* possibly for dakine documentation"
   ]
  },
  {
   "cell_type": "code",
   "execution_count": 2,
   "metadata": {
    "collapsed": false
   },
   "outputs": [
    {
     "name": "stdout",
     "output_type": "stream",
     "text": [
      "network\n",
      "[[ 0.  1.  0.  1.  0.]\n",
      " [ 1.  0.  1.  0.  0.]\n",
      " [ 0.  1.  0.  1.  0.]\n",
      " [ 1.  0.  1.  0.  1.]\n",
      " [ 0.  0.  0.  1.  0.]]\n"
     ]
    }
   ],
   "source": [
    "#                    symmetric_random_adjacency_matrix      : get a random network matrix\n",
    "network_dim = 5\n",
    "pct_nodes = 0.3\n",
    "network = ds.symmetric_random_adjacency_matrix(network_dim, pct_nodes)\n",
    "print('network\\n{}'.format(network))"
   ]
  },
  {
   "cell_type": "code",
   "execution_count": 3,
   "metadata": {
    "collapsed": false
   },
   "outputs": [
    {
     "name": "stdout",
     "output_type": "stream",
     "text": [
      "node_set\n",
      "[[0 1 1]\n",
      " [0 3 1]\n",
      " [1 2 1]\n",
      " [2 3 1]\n",
      " [3 4 1]]\n",
      "adj_mat\n",
      "[[ 0.  1.  0.  1.  0.]\n",
      " [ 1.  0.  1.  0.  0.]\n",
      " [ 0.  1.  0.  1.  0.]\n",
      " [ 1.  0.  1.  0.  1.]\n",
      " [ 0.  0.  0.  1.  0.]]\n"
     ]
    }
   ],
   "source": [
    "node_set = ds.adjacency_matrix_to_node_set(network)\n",
    "print('node_set\\n{}'.format(node_set))\n",
    "\n",
    "adj_mat = ds.node_set_to_adj_mat(node_set)\n",
    "print('adj_mat\\n{}'.format(adj_mat))"
   ]
  },
  {
   "cell_type": "code",
   "execution_count": 4,
   "metadata": {
    "collapsed": false
   },
   "outputs": [
    {
     "name": "stdout",
     "output_type": "stream",
     "text": [
      "H matrix:\n",
      "[[ 0.  0.  0.  0.  0.]\n",
      " [ 0.  1.  0.  1.  0.]\n",
      " [ 1.  0.  1.  0.  1.]]\t\n",
      "Clustering:\n",
      "[2 1 2 1 2]\n"
     ]
    }
   ],
   "source": [
    "#                       get_random_clusters         :    set of clusters and as encoding matrix and cluster numbers\n",
    "ncols = 5\n",
    "number_of_clusters = 3\n",
    "H, C = ds.get_random_clusters(ncols, number_of_clusters)\n",
    "print('H matrix:\\n{}\\t\\nClustering:\\n{}'.format(H, C))"
   ]
  },
  {
   "cell_type": "code",
   "execution_count": 5,
   "metadata": {
    "collapsed": false
   },
   "outputs": [
    {
     "name": "stdout",
     "output_type": "stream",
     "text": [
      "rand_uniq_name_list:\n",
      "DEBKSUK\n",
      "GVWMDOK\n",
      "KVTBDNI\n",
      "WYGUVBO\n",
      "ZDHJAOB\n"
     ]
    }
   ],
   "source": [
    "#                      get_rand_unique_name_list        :   unordered (sortable) list of unique names for labels\n",
    "n_names = 5\n",
    "name_length = 7\n",
    "rand_uniq_name_list = ds.get_rand_unique_name_list(n_names, name_length)\n",
    "print('rand_uniq_name_list:')\n",
    "for nombre in sorted(rand_uniq_name_list):\n",
    "    print(nombre)"
   ]
  },
  {
   "cell_type": "code",
   "execution_count": 6,
   "metadata": {
    "collapsed": false
   },
   "outputs": [
    {
     "name": "stdout",
     "output_type": "stream",
     "text": [
      "CGJHA\n"
     ]
    },
    {
     "data": {
      "text/plain": [
       "['C', 'G', 'J', 'H', 'A']"
      ]
     },
     "execution_count": 6,
     "metadata": {},
     "output_type": "execute_result"
    }
   ],
   "source": [
    "#                                 get_character_seq   : convert an array of numbers to a char array\n",
    "bas_arr = np.array([2,6,9,7,0])\n",
    "caps = True\n",
    "char_arr = ds.get_character_seq(bas_arr, caps)\n",
    "print(char_arr)\n",
    "list(char_arr)"
   ]
  },
  {
   "cell_type": "code",
   "execution_count": null,
   "metadata": {
    "collapsed": true
   },
   "outputs": [],
   "source": []
  }
 ],
 "metadata": {
  "anaconda-cloud": {},
  "kernelspec": {
   "display_name": "Python [default]",
   "language": "python",
   "name": "python3"
  },
  "language_info": {
   "codemirror_mode": {
    "name": "ipython",
    "version": 3
   },
   "file_extension": ".py",
   "mimetype": "text/x-python",
   "name": "python",
   "nbconvert_exporter": "python",
   "pygments_lexer": "ipython3",
   "version": "3.5.2"
  }
 },
 "nbformat": 4,
 "nbformat_minor": 1
}
