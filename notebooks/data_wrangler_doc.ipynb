{
 "cells": [
  {
   "cell_type": "code",
   "execution_count": 1,
   "metadata": {
    "collapsed": true
   },
   "outputs": [],
   "source": [
    "import os\n",
    "import sys\n",
    "\n",
    "sys.path.insert(1, '../src')\n",
    "import data_wrangler as dwgr\n",
    "\n",
    "dcp_src = '../../Data_Cleanup_Pipeline/src/'\n",
    "sys.path.insert(1, dcp_src)\n",
    "import data_cleanup_toolbox as dc\n",
    "\n",
    "import numpy as np\n",
    "import pandas as pd"
   ]
  },
  {
   "cell_type": "code",
   "execution_count": 2,
   "metadata": {
    "collapsed": false
   },
   "outputs": [
    {
     "name": "stdout",
     "output_type": "stream",
     "text": [
      "correlation_measure :\t\t t_test\n",
      "pheno_data_dir :\t\t /Users/lanier4/dlanier_KnowEnG/Data_Cleanup_Pipeline/data_small/gene_prioritization/phenotypes_t_test\n",
      "phenotype_name_full_path :\t\t 0\n",
      "spreadsheet_data_dir :\t\t /Users/lanier4/dlanier_KnowEnG/Data_Cleanup_Pipeline/data_small/gene_prioritization/spreadsheets_GP\n",
      "spreadsheet_name_full_path :\t\t 0\n",
      "pipeline_type :\t\t gene_prioritization_pipeline\n",
      "run_directory :\t\t ../../Data_Cleanup_Pipeline/src/\n",
      "results_directory :\t\t ../test/tmp\n",
      "SHOW_COMMAND_LINE_OUTPUT :\t\t True\n"
     ]
    }
   ],
   "source": [
    "SHOW_COMMAND_LINE_OUTPUT = True\n",
    "run_parameters = {}\n",
    "\n",
    "data_root = '/Users/lanier4/dlanier_KnowEnG/Data_Cleanup_Pipeline/data_small/gene_prioritization'\n",
    "\n",
    "#run_parameters['correlation_measure'] = 'pearson'\n",
    "# run_parameters['pheno_data_dir'] = os.path.join(data_root, 'phenotypes_pearson')\n",
    "\n",
    "# run_parameters['pheno_data_dir'] = os.path.join(data_root, 'GP_P_pearson_spreadsheets')\n",
    "\n",
    "run_parameters['correlation_measure'] = 't_test'\n",
    "run_parameters['pheno_data_dir'] = os.path.join(data_root, 'phenotypes_t_test')\n",
    "# run_parameters['pheno_data_dir'] = os.path.join(data_root, 'GP_P_t_test_spreadsheets')\n",
    "\n",
    "run_parameters['phenotype_name_full_path'] = 0\n",
    "\n",
    "run_parameters['spreadsheet_data_dir'] = os.path.join(data_root, 'spreadsheets_GP')\n",
    "run_parameters['spreadsheet_name_full_path'] = 0\n",
    "\n",
    "run_parameters['pipeline_type'] = 'gene_prioritization_pipeline'\n",
    "\n",
    "run_parameters['run_directory'] = dcp_src\n",
    "run_parameters['results_directory'] = '../test/tmp'\n",
    "\n",
    "run_parameters['SHOW_COMMAND_LINE_OUTPUT'] = True\n",
    "if SHOW_COMMAND_LINE_OUTPUT:\n",
    "    for p in list(run_parameters.keys()):\n",
    "        print(p, ':\\t\\t', run_parameters[p])"
   ]
  },
  {
   "cell_type": "code",
   "execution_count": 3,
   "metadata": {
    "collapsed": false
   },
   "outputs": [
    {
     "name": "stdout",
     "output_type": "stream",
     "text": [
      "spreadsheet_A_.G.tsv \n",
      " ['spreadsheet_A_.G.tsv', 'spreadsheet_ALPHA_data_.G.tsv', 'spreadsheet_B_.G.tsv', 'spreadsheet_DNE_.G.tsv', 'spreadsheet_duplicate_cols_.G.tsv', 'spreadsheet_duplicate_rows_.G.tsv', 'spreadsheet_duplicates_rows_AND_cols_.G.tsv', 'spreadsheet_EMPTY_cols_.G.tsv', 'spreadsheet_EMPTY_rows_.G.tsv', 'spreadsheet_NA_cols_.G.tsv', 'spreadsheet_NA_rows_.G.tsv', 'spreadsheet_NAN_data_.G.tsv', 'spreadsheet_NAs_rows_and_cols_.G.tsv', 'spreadsheet_Negative_data_.G.tsv'] \n",
      " ['DAZNX', 'RTFQJ', 'DVZAD', 'BOKOZ', 'XYREQ']\n"
     ]
    }
   ],
   "source": [
    "spreadsheet_dir_list = os.listdir(run_parameters['spreadsheet_data_dir'])\n",
    "for sf_nm in spreadsheet_dir_list:\n",
    "    if sf_nm[0] != '.' and sf_nm[-4:] == '.tsv':\n",
    "        ss_df_file_name = sf_nm\n",
    "        ss_df = pd.read_csv(os.path.join(run_parameters['spreadsheet_data_dir'], sf_nm),sep='\\t',index_col=0,header=0)\n",
    "        break\n",
    "sample_names = list(ss_df.columns)\n",
    "print(ss_df_file_name,'\\n', spreadsheet_dir_list, '\\n', sample_names)"
   ]
  },
  {
   "cell_type": "code",
   "execution_count": 4,
   "metadata": {
    "collapsed": false
   },
   "outputs": [
    {
     "name": "stdout",
     "output_type": "stream",
     "text": [
      "['spreadsheet_A_.P.pearson.tsv', 'spreadsheet_ALPHA_data_.P.pearson.tsv', 'spreadsheet_B_.P.pearson.tsv', 'spreadsheet_DNE_.P.pearson.tsv', 'spreadsheet_duplicate_cols_.P.pearson.tsv', 'spreadsheet_duplicate_rows_.P.pearson.tsv', 'spreadsheet_duplicates_rows_AND_cols_.P.pearson.tsv', 'spreadsheet_EMPTY_cols_.P.pearson.tsv', 'spreadsheet_EMPTY_rows_.P.pearson.tsv', 'spreadsheet_NA_cols_.P.pearson.tsv', 'spreadsheet_NA_rows_.P.pearson.tsv', 'spreadsheet_NAN_data_.P.pearson.tsv', 'spreadsheet_NAs_rows_and_cols_.P.pearson.tsv', 'spreadsheet_Negative_data_.P.pearson.tsv']\n"
     ]
    }
   ],
   "source": [
    "run_parameters['pheno_data_dir'] = os.path.join(data_root, 'phenotypes_pearson')\n",
    "# run_parameters['pheno_data_dir'] = os.path.join(data_root, 'phenotypes_t_test')\n",
    "print(os.listdir(run_parameters['pheno_data_dir']))"
   ]
  },
  {
   "cell_type": "code",
   "execution_count": 7,
   "metadata": {
    "collapsed": false
   },
   "outputs": [
    {
     "name": "stdout",
     "output_type": "stream",
     "text": [
      "Transposed and re-written:  spreadsheet_A_.P.pearson.tsv\n",
      "Transposed and re-written:  spreadsheet_ALPHA_data_.P.pearson.tsv\n",
      "Transposed and re-written:  spreadsheet_B_.P.pearson.tsv\n",
      "Transposed and re-written:  spreadsheet_duplicate_cols_.P.pearson.tsv\n",
      "Transposed and re-written:  spreadsheet_duplicate_rows_.P.pearson.tsv\n",
      "Transposed and re-written:  spreadsheet_duplicates_rows_AND_cols_.P.pearson.tsv\n",
      "Transposed and re-written:  spreadsheet_NA_cols_.P.pearson.tsv\n",
      "Transposed and re-written:  spreadsheet_NA_rows_.P.pearson.tsv\n",
      "Transposed and re-written:  spreadsheet_NAN_data_.P.pearson.tsv\n",
      "Transposed and re-written:  spreadsheet_NAs_rows_and_cols_.P.pearson.tsv\n",
      "Transposed and re-written:  spreadsheet_Negative_data_.P.pearson.tsv\n"
     ]
    }
   ],
   "source": [
    "run_parameters['pheno_data_dir'] = os.path.join(data_root, 'phenotypes_pearson')\n",
    "# run_parameters['pheno_data_dir'] = os.path.join(data_root, 'phenotypes_t_test')\n",
    "\n",
    "pheno_dir_list = os.listdir(run_parameters['pheno_data_dir'])\n",
    "for f_name in pheno_dir_list:\n",
    "    if f_name[0] != '.' and f_name[-4:] == '.tsv':\n",
    "        pheno_file_full_name = os.path.join(run_parameters['pheno_data_dir'], f_name)\n",
    "        phenotype_rewrite_transposed = dwgr.check_set_phenotype_alignment(pheno_file_full_name, sample_names)\n",
    "        if phenotype_rewrite_transposed:\n",
    "            print('Transposed and re-written: ', f_name)"
   ]
  },
  {
   "cell_type": "code",
   "execution_count": null,
   "metadata": {
    "collapsed": true
   },
   "outputs": [],
   "source": []
  },
  {
   "cell_type": "code",
   "execution_count": null,
   "metadata": {
    "collapsed": true
   },
   "outputs": [],
   "source": []
  },
  {
   "cell_type": "code",
   "execution_count": null,
   "metadata": {
    "collapsed": true
   },
   "outputs": [],
   "source": []
  },
  {
   "cell_type": "code",
   "execution_count": null,
   "metadata": {
    "collapsed": true
   },
   "outputs": [],
   "source": []
  },
  {
   "cell_type": "code",
   "execution_count": null,
   "metadata": {
    "collapsed": true
   },
   "outputs": [],
   "source": []
  },
  {
   "cell_type": "code",
   "execution_count": null,
   "metadata": {
    "collapsed": true
   },
   "outputs": [],
   "source": []
  },
  {
   "cell_type": "code",
   "execution_count": null,
   "metadata": {
    "collapsed": true
   },
   "outputs": [],
   "source": []
  },
  {
   "cell_type": "code",
   "execution_count": null,
   "metadata": {
    "collapsed": true
   },
   "outputs": [],
   "source": []
  },
  {
   "cell_type": "code",
   "execution_count": null,
   "metadata": {
    "collapsed": true
   },
   "outputs": [],
   "source": []
  },
  {
   "cell_type": "code",
   "execution_count": null,
   "metadata": {
    "collapsed": true
   },
   "outputs": [],
   "source": []
  },
  {
   "cell_type": "code",
   "execution_count": null,
   "metadata": {
    "collapsed": true
   },
   "outputs": [],
   "source": []
  },
  {
   "cell_type": "code",
   "execution_count": null,
   "metadata": {
    "collapsed": true
   },
   "outputs": [],
   "source": []
  },
  {
   "cell_type": "code",
   "execution_count": null,
   "metadata": {
    "collapsed": true
   },
   "outputs": [],
   "source": []
  },
  {
   "cell_type": "code",
   "execution_count": null,
   "metadata": {
    "collapsed": true
   },
   "outputs": [],
   "source": []
  },
  {
   "cell_type": "code",
   "execution_count": null,
   "metadata": {
    "collapsed": true
   },
   "outputs": [],
   "source": []
  },
  {
   "cell_type": "code",
   "execution_count": null,
   "metadata": {
    "collapsed": true
   },
   "outputs": [],
   "source": []
  },
  {
   "cell_type": "code",
   "execution_count": null,
   "metadata": {
    "collapsed": true
   },
   "outputs": [],
   "source": []
  },
  {
   "cell_type": "code",
   "execution_count": null,
   "metadata": {
    "collapsed": true
   },
   "outputs": [],
   "source": []
  },
  {
   "cell_type": "code",
   "execution_count": null,
   "metadata": {
    "collapsed": true
   },
   "outputs": [],
   "source": []
  },
  {
   "cell_type": "code",
   "execution_count": null,
   "metadata": {
    "collapsed": true
   },
   "outputs": [],
   "source": []
  },
  {
   "cell_type": "code",
   "execution_count": null,
   "metadata": {
    "collapsed": true
   },
   "outputs": [],
   "source": []
  },
  {
   "cell_type": "code",
   "execution_count": null,
   "metadata": {
    "collapsed": true
   },
   "outputs": [],
   "source": []
  },
  {
   "cell_type": "code",
   "execution_count": null,
   "metadata": {
    "collapsed": true
   },
   "outputs": [],
   "source": []
  },
  {
   "cell_type": "code",
   "execution_count": null,
   "metadata": {
    "collapsed": true
   },
   "outputs": [],
   "source": []
  }
 ],
 "metadata": {
  "kernelspec": {
   "display_name": "Python 3",
   "language": "python",
   "name": "python3"
  },
  "language_info": {
   "codemirror_mode": {
    "name": "ipython",
    "version": 3
   },
   "file_extension": ".py",
   "mimetype": "text/x-python",
   "name": "python",
   "nbconvert_exporter": "python",
   "pygments_lexer": "ipython3",
   "version": "3.6.0"
  }
 },
 "nbformat": 4,
 "nbformat_minor": 2
}
