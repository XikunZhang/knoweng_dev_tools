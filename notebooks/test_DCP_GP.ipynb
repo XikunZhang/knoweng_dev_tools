{
 "cells": [
  {
   "cell_type": "markdown",
   "metadata": {
    "deletable": true,
    "editable": true
   },
   "source": [
    "### KnowEnG-Research/Data_Cleanup_Pipeline test all methods notebook Gene Prioritization\n",
    "    Use this notebook to test the KnowEnG... /Data_Cleanup_Pipeline Locally:\n",
    "\n",
    "* Create a directory to hold all this code with the test tools repository cloned into it.\n",
    "    * call it homely_directory\n",
    "    * git clone https://github.com/dlanier/keg_test_tools.git\n",
    "\n",
    "\n",
    "* Clone the Data_Cleanup_Pipeline from github. \n",
    "    * git clone https://github.com/KnowEnG/Data_Cleanup_Pipeline.git\n",
    "    * change to Data_Cleanup_Pipeline/test and run >make env_setup\n",
    "    * change back to the homely_directory\n",
    "\n",
    "\n",
    "* Clone the Gene_Prioritization_Pipeline from github. \n",
    "    * git clone https://github.com/KnowEnG-Research/Gene_Prioritization_Pipeline.git\n",
    "    * change to Gene_Prioritization_Pipeline/test and run >make env_setup\n",
    "    * change back to the homely_directory\n",
    "    \n",
    "* Run this jupyter notebook\n",
    "\n",
    "\n",
    "#### find the bug:\n",
    "\n",
    "http://pandas.pydata.org/pandas-docs/stable/io.html#handling-column-names"
   ]
  },
  {
   "cell_type": "code",
   "execution_count": 1,
   "metadata": {
    "collapsed": false,
    "deletable": true,
    "editable": true
   },
   "outputs": [],
   "source": [
    "SHOW_COMMAND_LINE_OUTPUT = True\n",
    "\n",
    "import warnings\n",
    "warnings.filterwarnings('ignore')\n",
    "\n",
    "import os\n",
    "import sys\n",
    "import time\n",
    "\n",
    "import pandas as pd\n",
    "import numpy as np\n",
    "\n",
    "dcp_src = '../../Data_Cleanup_Pipeline/src/'\n",
    "sys.path.insert(1, dcp_src)\n",
    "import data_cleanup_toolbox as dc\n",
    "\n",
    "gpp_src = '../../Gene_Prioritization_Pipeline/src/'\n",
    "sys.path.insert(1, gpp_src)\n",
    "import gene_prioritization_toolbox as sc\n",
    "\n",
    "sys.path.insert(1, '../../keg_test_tools/src')\n",
    "import gene_prioritization_test_module as gp_test\n",
    "\n",
    "import knpackage.toolbox as kn\n",
    "\n",
    "# If not running inside a docker container of the KnowEnG variety: Create this Directory\n",
    "output_data_dir = '../../test/run_dir'\n",
    "yaml_dir = '../../Data_Cleanup_Pipeline/data/run_files'\n",
    "yaml_file = 'TEMPLATE_data_cleanup.yml'"
   ]
  },
  {
   "cell_type": "code",
   "execution_count": 2,
   "metadata": {
    "collapsed": false,
    "deletable": true,
    "editable": true
   },
   "outputs": [
    {
     "name": "stdout",
     "output_type": "stream",
     "text": [
      "spreadsheet_name_full_path :\t\t 0\n",
      "phenotype_name_full_path :\t\t 0\n",
      "results_directory :\t\t ../test/tmp\n",
      "taxonid :\t\t 9606\n",
      "source_hint :\t\t \n",
      "pipeline_type :\t\t gene_prioritization_pipeline\n",
      "redis_credential :\t\t {'host': 'knowredis.knowhub.org', 'password': 'KnowEnG', 'port': 6379}\n",
      "run_directory :\t\t ../../Data_Cleanup_Pipeline/src/\n",
      "run_file :\t\t TEMPLATE_data_cleanup.yml\n",
      "correlation_measure :\t\t t_test\n",
      "pheno_data_dir :\t\t /Users/lanier4/dlanier_KnowEnG/Data_Cleanup_Pipeline/data_small/gene_prioritization/phenotypes_t_test\n",
      "spreadsheet_data_dir :\t\t /Users/lanier4/dlanier_KnowEnG/Data_Cleanup_Pipeline/data_small/gene_prioritization/spreadsheets_GP\n",
      "SHOW_COMMAND_LINE_OUTPUT :\t\t True\n"
     ]
    }
   ],
   "source": [
    "run_parameters = kn.get_run_parameters(yaml_dir, yaml_file)\n",
    "\n",
    "#                   Data_Cleanup_Pipeline   Gene Prioritization Pearson\n",
    "# data_root = '/Users/lanier4/pipeline_spreadsheets/aws_v3'\n",
    "data_root = '/Users/lanier4/dlanier_KnowEnG/Data_Cleanup_Pipeline/data_small/gene_prioritization'\n",
    "\n",
    "\n",
    "#run_parameters['correlation_measure'] = 'pearson'\n",
    "# run_parameters['pheno_data_dir'] = os.path.join(data_root, 'phenotypes_pearson')\n",
    "\n",
    "# run_parameters['pheno_data_dir'] = os.path.join(data_root, 'GP_P_pearson_spreadsheets')\n",
    "\n",
    "run_parameters['correlation_measure'] = 't_test'\n",
    "run_parameters['pheno_data_dir'] = os.path.join(data_root, 'phenotypes_t_test')\n",
    "# run_parameters['pheno_data_dir'] = os.path.join(data_root, 'GP_P_t_test_spreadsheets')\n",
    "\n",
    "run_parameters['phenotype_name_full_path'] = 0\n",
    "\n",
    "run_parameters['spreadsheet_data_dir'] = os.path.join(data_root, 'spreadsheets_GP')\n",
    "run_parameters['spreadsheet_name_full_path'] = 0\n",
    "\n",
    "run_parameters['pipeline_type'] = 'gene_prioritization_pipeline'\n",
    "\n",
    "run_parameters['run_directory'] = dcp_src\n",
    "run_parameters['results_directory'] = '../test/tmp'\n",
    "\n",
    "run_parameters['SHOW_COMMAND_LINE_OUTPUT'] = True\n",
    "if SHOW_COMMAND_LINE_OUTPUT:\n",
    "    for p in list(run_parameters.keys()):\n",
    "        print(p, ':\\t\\t', run_parameters[p])\n"
   ]
  },
  {
   "cell_type": "code",
   "execution_count": 3,
   "metadata": {
    "collapsed": false,
    "deletable": true,
    "editable": true
   },
   "outputs": [
    {
     "name": "stdout",
     "output_type": "stream",
     "text": [
      "Gene Prioritization directory clean up run time = 6.363\n"
     ]
    }
   ],
   "source": [
    "t0 = time.time()\n",
    "gp_test.cleanup_test_GP(run_parameters)\n",
    "tt = time.time() - t0\n",
    "print('Gene Prioritization directory clean up run time = %0.3f'%tt)"
   ]
  },
  {
   "cell_type": "code",
   "execution_count": null,
   "metadata": {
    "collapsed": true,
    "deletable": true,
    "editable": true
   },
   "outputs": [],
   "source": []
  }
 ],
 "metadata": {
  "anaconda-cloud": {},
  "kernelspec": {
   "display_name": "Python 3",
   "language": "python",
   "name": "python3"
  },
  "language_info": {
   "codemirror_mode": {
    "name": "ipython",
    "version": 3
   },
   "file_extension": ".py",
   "mimetype": "text/x-python",
   "name": "python",
   "nbconvert_exporter": "python",
   "pygments_lexer": "ipython3",
   "version": "3.5.3"
  }
 },
 "nbformat": 4,
 "nbformat_minor": 1
}
