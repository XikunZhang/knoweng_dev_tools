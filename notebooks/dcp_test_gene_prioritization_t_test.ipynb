{
 "cells": [
  {
   "cell_type": "markdown",
   "metadata": {},
   "source": [
    "## KnowEnG-Research/Data_Cleanup_Pipeline Feb 27, 2017 ( Gene_Prioritization t-test )\n",
    "* new improved data from aws - latest"
   ]
  },
  {
   "cell_type": "code",
   "execution_count": 1,
   "metadata": {
    "collapsed": true
   },
   "outputs": [],
   "source": [
    "import os\n",
    "import sys\n",
    "import time\n",
    "\n",
    "import numpy as np\n",
    "import pandas as pd\n",
    "\n",
    "import knpackage.toolbox as kn\n",
    "import data_cleanup_toolbox as dc"
   ]
  },
  {
   "cell_type": "code",
   "execution_count": 2,
   "metadata": {
    "collapsed": true
   },
   "outputs": [],
   "source": [
    "def get_spreadsheets_for_pheno(pheno_file, sp_list):\n",
    "    \"\"\" spreadsheet_list = get_spreadsheets_for_pheno(pheno_file, sp_list) \"\"\"\n",
    "    x = pheno_file.find('.P.')\n",
    "    g_str = pheno_file[:x]\n",
    "    spreadsheet_list = []\n",
    "    for f in sp_list:\n",
    "        if f.find(g_str) >= 0: spreadsheet_list.append(f)\n",
    "\n",
    "    return sorted(spreadsheet_list)"
   ]
  },
  {
   "cell_type": "code",
   "execution_count": 3,
   "metadata": {
    "collapsed": false,
    "scrolled": true
   },
   "outputs": [
    {
     "name": "stdout",
     "output_type": "stream",
     "text": [
      "phenotype_full_path :\t ../data/spreadsheets/GDSC_drug_cpd_ic50_sample.tsv\n",
      "pipeline_type :\t gene_priorization_pipeline\n",
      "redis_credential :\t {'port': 6379, 'password': 'KnowEnG', 'host': 'knowhub.org'}\n",
      "results_directory :\t /Users/lanier4/dlanier_KnowEnG/data_cleanup_pipeline_notebooks/Data_Cleanup_Pipeline/src/run_dir1488298247019502\n",
      "run_directory :\t /Users/lanier4/dlanier_KnowEnG/data_cleanup_pipeline_notebooks/Data_Cleanup_Pipeline/src\n",
      "run_file :\t Feb_27_test.yml\n",
      "source_hint :\t \n",
      "spreadsheet_name_full_path :\t ../data/spreadsheets/GDSC_Expression_ensembl.tsv\n",
      "taxonid :\t 9606\n"
     ]
    }
   ],
   "source": [
    "yml_file_name = 'Feb_27_test.yml'\n",
    "run_parameters = kn.get_run_parameters(os.getcwd(), yml_file_name) # sets run_directory to current.\n",
    "\n",
    "run_parameters['results_directory'] = kn.create_dir(os.getcwd(), 'run_dir')\n",
    "run_parameters['pipeline_type'] = 'gene_priorization_pipeline'\n",
    "\n",
    "run_parameters['redis_credential']['host'] = 'knowhub.org'\n",
    "run_parameters['redis_credential']['port'] = 6379\n",
    "\n",
    "for k in sorted(run_parameters.keys()):\n",
    "    print(k,':\\t',run_parameters[k])"
   ]
  },
  {
   "cell_type": "code",
   "execution_count": 4,
   "metadata": {
    "collapsed": true
   },
   "outputs": [],
   "source": [
    "pheno_data_dir = '/Users/lanier4/pipeline_spreadsheets/aws_v3/GP_P_t_test_spreadsheets'\n",
    "pheno_file_list = sorted(os.listdir(pheno_data_dir))\n",
    "spreadsheet_data_dir = '/Users/lanier4/pipeline_spreadsheets/aws_v3/GP_G_spreadsheets'\n",
    "spreadsheet_file_list = sorted(os.listdir(spreadsheet_data_dir))"
   ]
  },
  {
   "cell_type": "code",
   "execution_count": 5,
   "metadata": {
    "collapsed": false
   },
   "outputs": [],
   "source": [
    "pheno_dict = {}\n",
    "for pheno_file in pheno_file_list:\n",
    "    pheno_dict[pheno_file] = get_spreadsheets_for_pheno(pheno_file, spreadsheet_file_list)"
   ]
  },
  {
   "cell_type": "code",
   "execution_count": 6,
   "metadata": {
    "collapsed": false
   },
   "outputs": [
    {
     "name": "stdout",
     "output_type": "stream",
     "text": [
      "\n",
      " Hsap.dream7_c1.P.cyto_gi50.pos.t.binary.df\n",
      "\t Hsap.dream7_c1.G.lg2_cnv.real.c.df\n",
      "\t\tFalse in 0.000\n",
      "\t\tfailed in try block\n",
      "\t Hsap.dream7_c1.G.lg2_probe.pos.c.df\n",
      "\t\tFalse in 0.000\n",
      "\t\tfailed in try block\n",
      "\t Hsap.dream7_c1.G.methyl_prop.pos.c.df\n",
      "\t\tFalse in 0.000\n",
      "\t\tfailed in try block\n",
      "\t Hsap.dream7_c1.G.rnaseq_expressed.binary.c.df\n",
      "\t\tFalse in 0.000\n",
      "\t\tfailed in try block\n",
      "\t Hsap.dream7_c1.G.rnaseq_fpkm.pos.c.df\n",
      "\t\tFalse in 0.000\n",
      "\t\tfailed in try block\n",
      "\n",
      " Hsap.lincs_drug_prostate.P.experimental.mixed.t.binary.df\n",
      "\n",
      " Hsap.mayo_lcl.P.clinical.mixed.t.binary.df\n",
      "\t Hsap.mayo_lcl.G.med_lg2_norm_probe.real.c.df\n",
      "\t\tFalse in 0.000\n",
      "\t\tfailed in try block\n",
      "\t Hsap.mayo_lcl.G.norm_reg_snp_ct.real.c.df\n",
      "\t\tFalse in 0.000\n",
      "\t\tfailed in try block\n",
      "\n",
      " Hsap.nbs_LUAD.P.clinical.mixed.t.binary.df\n",
      "\t Hsap.nbs_LUAD.G.gene_som_mut.binary.c.df\n",
      "\t\tFalse in 0.000\n",
      "\t\tfailed in try block\n",
      "\n",
      " Hsap.nbs_OV.P.clinical.mixed.t.binary.df\n",
      "\t Hsap.nbs_OV.G.gene_som_mut.binary.c.df\n",
      "\t\tFalse in 0.000\n",
      "\t\tfailed in try block\n",
      "\n",
      " Hsap.nbs_UCEC.P.clinical.mixed.t.binary.df\n",
      "\t Hsap.nbs_UCEC.G.gene_som_mut.binary.c.df\n",
      "\t\tFalse in 0.000\n",
      "\t\tfailed in try block\n",
      "\n",
      " Hsap.ovarian.P.clinical.mixed.t.binary.df\n",
      "\t Hsap.ovarian.G.lm_corr_expr.real.c.df\n",
      "\t\tFalse in 0.000\n",
      "\t\tfailed in try block\n",
      "\n",
      " Hsap.tcga_cgc.P.clinical.mixed.t.binary.df\n",
      "\t Hsap.tcga_cgc.G.rpkm.pos.c.df\n",
      "\t\tFalse in 0.000\n",
      "\t\tfailed in try block\n",
      "\n",
      " Hsap.tcga_ucsc.P.clinical.mixed.t.binary.df\n",
      "\t Hsap.tcga_ucsc.G.som_mut.binary.c.df\n",
      "\t\tFalse in 0.000\n",
      "\t\tfailed in try block\n",
      "total testing time = 0.00\n",
      "spreadsheet files that CRASHED cleanup\n"
     ]
    },
    {
     "data": {
      "text/plain": [
       "[]"
      ]
     },
     "execution_count": 6,
     "metadata": {},
     "output_type": "execute_result"
    }
   ],
   "source": [
    "validation_flag = False\n",
    "tt = 0.0\n",
    "message = 'failed in try block'\n",
    "\n",
    "failed_cleanup = []\n",
    "t_00 = time.time()\n",
    "for key_k in sorted(pheno_dict.keys()):\n",
    "    print('\\n',key_k)\n",
    "    run_parameters['phenotype_full_path'] = os.path.join(pheno_data_dir, pheno_file)\n",
    "    for k in range(0,len(pheno_dict[key_k])):\n",
    "        sp_file_name = pheno_dict[key_k][k]\n",
    "        print('\\t', sp_file_name)\n",
    "        run_parameters['spreadsheet_name_full_path'] = os.path.join(spreadsheet_data_dir, sp_file_name)\n",
    "\n",
    "        try:\n",
    "            t0 = time.time()\n",
    "#            validation_flag, message = dc.run_gene_priorization_pipeline(run_parameters)\n",
    "            tt = time.time() - t0\n",
    "        except:\n",
    "            pass\n",
    "        \n",
    "        passed_test = \"False\"\n",
    "        if failed_cleanup:\n",
    "            print('\\t\\t%s crashed the cleanup code !!!'%sp_file_name)\n",
    "            failed_cleanup.append(sp_file_name)\n",
    "        else:\n",
    "            if validation_flag: passed_test = \"True\"\n",
    "\n",
    "        print('\\t\\t%s in %0.3f\\n\\t\\t%s'%(passed_test, tt, message))\n",
    "\n",
    "print('total testing time = %0.2f'%(time.time() - t_00))\n",
    "print('spreadsheet files that CRASHED cleanup')\n",
    "failed_cleanup"
   ]
  },
  {
   "cell_type": "code",
   "execution_count": 7,
   "metadata": {
    "collapsed": false
   },
   "outputs": [
    {
     "name": "stdout",
     "output_type": "stream",
     "text": [
      "\n",
      "\t run_gene_priorization_pipeline opened as:\n",
      "(15573, 46)\tuser_spreadsheet_df.shape\n",
      "(5, 35)\tphenotype_df.shape\n",
      "\n",
      "\t check_input_value_for_gene_prioritization initial:\n",
      "(15573, 46) = data_frame.shape\n",
      "data_frame.dropna(axis=1):\n",
      "(15573, 46) = data_frame.shape\n",
      "phenotype_df.dropna(axis=1)\n",
      "(5, 35) phenotype_df.shape\n",
      "phenotype_df[(phenotype_df >= 0).all(1)]:\n",
      "(5, 35) phenotype_df.shape\n",
      "35 len(phenotype_columns)\n",
      "46 len(data_frame_columns)\n",
      "31 len(common_cols)\n",
      "\n",
      "\t sanity_check_user_spreadsheet called with user_spreadsheet_df.shape (15573, 31)\n",
      "\n",
      "\t check_ensemble_gene_name called with data_frame.shape (15573, 31)\n",
      "connecting to database:\n",
      "connection to redis in 5.078315734863281e-05 seconds\n",
      "mapping database:\n",
      "mapping completed in 837.1587550640106 seconds\n",
      "This is a valid user spreadsheet. Proceed to next step analysis.\n"
     ]
    }
   ],
   "source": [
    "run_parameters['phenotype_full_path'] = os.path.join(pheno_data_dir, 'Hsap.dream7_c1.P.cyto_gi50.pos.t.binary.df')\n",
    "run_parameters['spreadsheet_name_full_path'] = os.path.join(spreadsheet_data_dir, 'Hsap.dream7_c1.G.lg2_cnv.real.c.df')\n",
    "\n",
    "t0 = time.time()\n",
    "validation_flag, message = dc.run_gene_priorization_pipeline(run_parameters)\n",
    "tt = time.time() - t0\n",
    "print(message)"
   ]
  },
  {
   "cell_type": "code",
   "execution_count": null,
   "metadata": {
    "collapsed": true
   },
   "outputs": [],
   "source": []
  },
  {
   "cell_type": "code",
   "execution_count": null,
   "metadata": {
    "collapsed": true
   },
   "outputs": [],
   "source": []
  },
  {
   "cell_type": "code",
   "execution_count": null,
   "metadata": {
    "collapsed": true
   },
   "outputs": [],
   "source": []
  },
  {
   "cell_type": "code",
   "execution_count": null,
   "metadata": {
    "collapsed": true
   },
   "outputs": [],
   "source": []
  },
  {
   "cell_type": "code",
   "execution_count": null,
   "metadata": {
    "collapsed": true
   },
   "outputs": [],
   "source": []
  },
  {
   "cell_type": "code",
   "execution_count": null,
   "metadata": {
    "collapsed": true
   },
   "outputs": [],
   "source": []
  },
  {
   "cell_type": "code",
   "execution_count": null,
   "metadata": {
    "collapsed": true
   },
   "outputs": [],
   "source": []
  },
  {
   "cell_type": "code",
   "execution_count": null,
   "metadata": {
    "collapsed": true
   },
   "outputs": [],
   "source": []
  },
  {
   "cell_type": "code",
   "execution_count": null,
   "metadata": {
    "collapsed": true
   },
   "outputs": [],
   "source": []
  },
  {
   "cell_type": "code",
   "execution_count": null,
   "metadata": {
    "collapsed": true
   },
   "outputs": [],
   "source": []
  },
  {
   "cell_type": "code",
   "execution_count": null,
   "metadata": {
    "collapsed": true
   },
   "outputs": [],
   "source": []
  },
  {
   "cell_type": "code",
   "execution_count": null,
   "metadata": {
    "collapsed": true
   },
   "outputs": [],
   "source": []
  },
  {
   "cell_type": "code",
   "execution_count": null,
   "metadata": {
    "collapsed": true
   },
   "outputs": [],
   "source": []
  },
  {
   "cell_type": "code",
   "execution_count": null,
   "metadata": {
    "collapsed": true
   },
   "outputs": [],
   "source": []
  },
  {
   "cell_type": "code",
   "execution_count": null,
   "metadata": {
    "collapsed": true
   },
   "outputs": [],
   "source": []
  }
 ],
 "metadata": {
  "anaconda-cloud": {},
  "kernelspec": {
   "display_name": "Python [default]",
   "language": "python",
   "name": "python3"
  },
  "language_info": {
   "codemirror_mode": {
    "name": "ipython",
    "version": 3
   },
   "file_extension": ".py",
   "mimetype": "text/x-python",
   "name": "python",
   "nbconvert_exporter": "python",
   "pygments_lexer": "ipython3",
   "version": "3.5.2"
  }
 },
 "nbformat": 4,
 "nbformat_minor": 1
}
