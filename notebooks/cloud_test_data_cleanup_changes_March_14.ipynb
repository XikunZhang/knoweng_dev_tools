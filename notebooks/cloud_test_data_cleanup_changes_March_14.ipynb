{
 "cells": [
  {
   "cell_type": "markdown",
   "metadata": {},
   "source": [
    "### KnowEnG-Research/Data_Cleanup_Pipeline test all methods notebook (for script run on cloud)"
   ]
  },
  {
   "cell_type": "code",
   "execution_count": 1,
   "metadata": {
    "collapsed": false
   },
   "outputs": [],
   "source": [
    "SHOW_COMMAND_LINE_OUTPUT = False\n",
    "\n",
    "import os\n",
    "import sys\n",
    "\n",
    "sys.path.insert(1, '../../src/')\n",
    "import data_cleanup_toolbox as dc\n",
    "\n",
    "sys.path.insert(1, '../../keg_test_tools/src')\n",
    "import dcp_test\n",
    "\n",
    "import knpackage.toolbox as kn\n",
    "\n",
    "output_data_dir = '../../keg_test_tools/test'"
   ]
  },
  {
   "cell_type": "code",
   "execution_count": 2,
   "metadata": {
    "collapsed": false
   },
   "outputs": [],
   "source": [
    "#                   Data_Cleanup_Pipeline   Samples Clustering\n",
    "yaml_dir = '../../../Data_Cleanup_Pipeline/data/run_files'\n",
    "yaml_file = 'TEMPLATE_data_cleanup.yml'\n",
    "run_parameters = kn.get_run_parameters(yaml_dir, yaml_file)   \n",
    "\n",
    "run_parameters['pheno_data_dir'] = '../../keg_test_tools/data/samples_clustering/phenotypes_SC'\n",
    "run_parameters['spreadsheet_data_dir'] = '../../keg_test_tools/data/samples_clustering/spreadsheets_SC'\n",
    "run_parameters['pipeline_type'] = 'samples_clustering_pipeline'\n",
    "run_parameters['run_directory'] = '../../../Data_Cleanup_Pipeline/src/'\n",
    "run_parameters['results_directory'] = kn.create_dir(dir_path=output_data_dir, dir_name='samples_clustering')\n",
    "\n",
    "run_parameters['SHOW_COMMAND_LINE_OUTPUT'] = SHOW_COMMAND_LINE_OUTPUT\n",
    "\n",
    "if SHOW_COMMAND_LINE_OUTPUT:\n",
    "    for p in list(run_parameters.keys()):\n",
    "        print(p, ':\\t\\t', run_parameters[p])\n",
    "\n",
    "test_result_df = dcp_test.test_data_cleanup(run_parameters)"
   ]
  },
  {
   "cell_type": "code",
   "execution_count": 3,
   "metadata": {
    "collapsed": false
   },
   "outputs": [],
   "source": [
    "#                   Data_Cleanup_Pipeline   Gene_Prioritization pearson\n",
    "yaml_dir = '../../../Data_Cleanup_Pipeline/data/run_files'\n",
    "yaml_file = 'TEMPLATE_data_cleanup.yml'\n",
    "run_parameters = kn.get_run_parameters(yaml_dir, yaml_file)   \n",
    "\n",
    "run_parameters['pheno_data_dir'] = '../../keg_test_tools/data/gene_prioritization/phenotypes_pearson'\n",
    "run_parameters['spreadsheet_data_dir'] = '../../keg_test_tools/data/gene_prioritization/spreadsheets_GP'\n",
    "run_parameters['pipeline_type'] = 'gene_prioritization_pipeline'\n",
    "run_parameters['correlation_measure'] = 'pearson'\n",
    "run_parameters['run_directory'] = '../../../Data_Cleanup_Pipeline/src/'\n",
    "run_parameters['results_directory'] = kn.create_dir(dir_path=output_data_dir, dir_name='gene_prioritaization_t_test')\n",
    "\n",
    "run_parameters['SHOW_COMMAND_LINE_OUTPUT'] = SHOW_COMMAND_LINE_OUTPUT\n",
    "\n",
    "if SHOW_COMMAND_LINE_OUTPUT:\n",
    "    for p in list(run_parameters.keys()):\n",
    "        print(p, ':\\t\\t', run_parameters[p])\n",
    "\n",
    "test_result_df = dcp_test.test_data_cleanup(run_parameters)"
   ]
  },
  {
   "cell_type": "code",
   "execution_count": 4,
   "metadata": {
    "collapsed": false
   },
   "outputs": [],
   "source": [
    "#                   Data_Cleanup_Pipeline   Gene_Prioritization t_test\n",
    "yaml_dir = '../../../Data_Cleanup_Pipeline/data/run_files'\n",
    "yaml_file = 'TEMPLATE_data_cleanup.yml'\n",
    "run_parameters = kn.get_run_parameters(yaml_dir, yaml_file)   \n",
    "\n",
    "run_parameters['pheno_data_dir'] = '../../keg_test_tools/data/gene_prioritization/phenotypes_t_test'\n",
    "run_parameters['spreadsheet_data_dir'] = '../../keg_test_tools/data/gene_prioritization/spreadsheets_GP'\n",
    "run_parameters['pipeline_type'] = 'gene_prioritization_pipeline'\n",
    "run_parameters['correlation_measure'] = 't_test'\n",
    "run_parameters['run_directory'] = '../../../Data_Cleanup_Pipeline/src/'\n",
    "run_parameters['results_directory'] = kn.create_dir(dir_path=output_data_dir, dir_name='gene_prioritaization_pearson')\n",
    "\n",
    "run_parameters['SHOW_COMMAND_LINE_OUTPUT'] = SHOW_COMMAND_LINE_OUTPUT\n",
    "\n",
    "if SHOW_COMMAND_LINE_OUTPUT:\n",
    "    for p in list(run_parameters.keys()):\n",
    "        print(p, ':\\t\\t', run_parameters[p])\n",
    "\n",
    "test_result_df = dcp_test.test_data_cleanup(run_parameters)"
   ]
  },
  {
   "cell_type": "code",
   "execution_count": 5,
   "metadata": {
    "collapsed": false
   },
   "outputs": [],
   "source": [
    "#                   Data_Cleanup_Pipeline   GeneSet_Characterization\n",
    "yaml_dir = '../../../Data_Cleanup_Pipeline/data/run_files'\n",
    "yaml_file = 'TEMPLATE_data_cleanup.yml'\n",
    "run_parameters = kn.get_run_parameters(yaml_dir, yaml_file)\n",
    "\n",
    "run_parameters.pop('phenotype_full_path', None)\n",
    "run_parameters['spreadsheet_data_dir'] = '../../keg_test_tools/data/geneset_characterization/spreadsheets_GSC'\n",
    "run_parameters['pipeline_type'] = 'geneset_characterization_pipeline'\n",
    "run_parameters['run_directory'] = '../../../Data_Cleanup_Pipeline/src/'\n",
    "run_parameters['results_directory'] = kn.create_dir(dir_path=output_data_dir, dir_name='geneset_charictarization')\n",
    "\n",
    "run_parameters['SHOW_COMMAND_LINE_OUTPUT'] = SHOW_COMMAND_LINE_OUTPUT\n",
    "\n",
    "if SHOW_COMMAND_LINE_OUTPUT:\n",
    "    for p in list(run_parameters.keys()):\n",
    "        print(p, ':\\t\\t', run_parameters[p])\n",
    "\n",
    "test_result_df = dcp_test.test_data_cleanup(run_parameters)"
   ]
  },
  {
   "cell_type": "code",
   "execution_count": null,
   "metadata": {
    "collapsed": true
   },
   "outputs": [],
   "source": []
  },
  {
   "cell_type": "code",
   "execution_count": null,
   "metadata": {
    "collapsed": true
   },
   "outputs": [],
   "source": []
  }
 ],
 "metadata": {
  "anaconda-cloud": {},
  "kernelspec": {
   "display_name": "Python [default]",
   "language": "python",
   "name": "python3"
  },
  "language_info": {
   "codemirror_mode": {
    "name": "ipython",
    "version": 3
   },
   "file_extension": ".py",
   "mimetype": "text/x-python",
   "name": "python",
   "nbconvert_exporter": "python",
   "pygments_lexer": "ipython3",
   "version": "3.5.2"
  }
 },
 "nbformat": 4,
 "nbformat_minor": 1
}
