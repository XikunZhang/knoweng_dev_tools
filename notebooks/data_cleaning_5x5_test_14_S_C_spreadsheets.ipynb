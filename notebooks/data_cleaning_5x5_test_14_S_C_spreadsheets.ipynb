{
 "cells": [
  {
   "cell_type": "markdown",
   "metadata": {},
   "source": [
    "# Spreadsheets .G.  genes X samples test data files generator\n",
    "* write a small data frame file for all thinkable cases of input spreadsheet data for Samples Clustering\n",
    "* write small data frames for each of those to use as in Gene Prioratization t-test and pearson\n",
    "* naming conventions used to allow directory processing with dcp_test.py module\n"
   ]
  },
  {
   "cell_type": "code",
   "execution_count": 1,
   "metadata": {
    "collapsed": false
   },
   "outputs": [],
   "source": [
    "import os\n",
    "import sys\n",
    "import itertools\n",
    "import time\n",
    "import numpy as np\n",
    "import pandas as pd\n",
    "\n",
    "sys.path.insert(1, '../../KnowEnG_Pipelines_Library')\n",
    "import knpackage.redis_utilities\n",
    "sys.path.insert(1, '../../KnowEnG_Pipelines_Library/knpackage')\n",
    "import knpackage.toolbox as kn\n",
    "\n",
    "sys.path.insert(1, '../src')\n",
    "import data_synth\n",
    "import data_wrangler as dw\n",
    "\n",
    "sys.path.insert(1, '../../Data_Cleanup_Pipeline/src/')\n",
    "import data_cleanup_toolbox as dc"
   ]
  },
  {
   "cell_type": "code",
   "execution_count": 2,
   "metadata": {
    "collapsed": true
   },
   "outputs": [],
   "source": [
    "out_data_dir = './spreadsheets.G.SC.etc'\n",
    "pheno_samples_clustering_data_dir = './phenotypes.P.SC.etc'"
   ]
  },
  {
   "cell_type": "markdown",
   "metadata": {},
   "source": [
    "# data_cleanup_toolbox test: Set of 14 Spreadsheets"
   ]
  },
  {
   "cell_type": "code",
   "execution_count": 3,
   "metadata": {
    "collapsed": false
   },
   "outputs": [
    {
     "data": {
      "text/plain": [
       "array([[ 0.,  1.,  0.,  1.,  1.],\n",
       "       [ 0.,  0.,  1.,  0.,  0.],\n",
       "       [ 1.,  0.,  0.,  0.,  1.],\n",
       "       [ 1.,  0.,  1.,  1.,  0.],\n",
       "       [ 1.,  0.,  0.,  0.,  1.]])"
      ]
     },
     "execution_count": 3,
     "metadata": {},
     "output_type": "execute_result"
    }
   ],
   "source": [
    "n_spreadsheet_rows = 5\n",
    "n_phenotype_cols = n_spreadsheet_rows \n",
    "n_spreadsheet_cols = 5\n",
    "spreadsheet_shape = (n_spreadsheet_rows, n_spreadsheet_cols)\n",
    "\n",
    "spreadsheet_data = np.random.random(spreadsheet_shape)\n",
    "spreadsheet_data[spreadsheet_data < 0.5] = 0.0\n",
    "spreadsheet_data[spreadsheet_data != 0.0] = 1.0\n",
    "spreadsheet_data"
   ]
  },
  {
   "cell_type": "code",
   "execution_count": 4,
   "metadata": {
    "collapsed": false
   },
   "outputs": [
    {
     "name": "stdout",
     "output_type": "stream",
     "text": [
      "spreadsheet_DNE_.G.SC.tsv \n",
      "        CSDZKRPO  FJYMFZEI  QFYGEKLQ  AYTBCPJE  WRDYYOJA\n",
      "VNDXE  0.873001  0.575658  0.060676  0.177694  0.502538\n",
      "IOXFT  0.599019  0.474041  0.080747  0.772109  0.427749\n",
      "AMOWE  0.405131  0.214972  0.380497  0.362865  0.856615\n",
      "KKCYS  0.920417  0.204564  0.416507  0.805883  0.059719\n",
      "KPQDH  0.594327  0.301471  0.580700  0.319793  0.760920\n",
      "\n",
      " spreadsheet_DNE_.P.SC_pheno.tsv \n",
      "             GWJNGNC      IZENEXN TMOCGSX   BVXMRST   IMRGABV\n",
      "CSDZKRPO  NMIIMGELD  2302.784922   False  1.872784  7.964585\n",
      "FJYMFZEI  ITGJQLJUH  4843.461924    True  7.230624  2.272162\n",
      "QFYGEKLQ  HHINGJRMT  7378.892587    True  2.273242  2.884077\n",
      "AYTBCPJE  BAZUCDHEM  9810.416907    True  9.573233  8.674557\n",
      "WRDYYOJA  KWDJJPKCJ  4412.341134   False  1.436853  6.539232\n"
     ]
    }
   ],
   "source": [
    "BASE_NAME = 'spreadsheet_DNE_'\n",
    "DNE_spreadsheet_name = os.path.join(out_data_dir, BASE_NAME + '.G.SC.tsv')\n",
    "spreadsheet_df = data_synth.get_rand_dataframe(\n",
    "                    n_spreadsheet_rows, n_spreadsheet_cols, row_name_chars=5, col_name_chars=8)\n",
    "spreadsheet_df.to_csv(DNE_spreadsheet_name, sep='\\t', index=True, header=True)\n",
    "print(BASE_NAME + '.G.SC.tsv', '\\n', spreadsheet_df)\n",
    "\n",
    "pheno_data_df = data_synth.get_random_phenotype_data_for_samples(list(spreadsheet_df.columns), n_phenotype_cols)\n",
    "pheno_data_df.to_csv(os.path.join(pheno_samples_clustering_data_dir, BASE_NAME + '.P.SC_pheno.tsv'), sep='\\t', \n",
    "                      index=True, header=True)\n",
    "print('\\n', BASE_NAME + '.P.SC_pheno.tsv', '\\n', pheno_data_df)"
   ]
  },
  {
   "cell_type": "code",
   "execution_count": 5,
   "metadata": {
    "collapsed": false
   },
   "outputs": [
    {
     "data": {
      "text/plain": [
       "array([[-1.,  1.,  0.,  1.,  1.],\n",
       "       [ 0.,  0.,  1.,  0.,  0.],\n",
       "       [ 1.,  0.,  0.,  0.,  1.],\n",
       "       [ 1.,  0.,  1.,  1.,  0.],\n",
       "       [ 1.,  0.,  0.,  0.,  1.]])"
      ]
     },
     "execution_count": 5,
     "metadata": {},
     "output_type": "execute_result"
    }
   ],
   "source": [
    "some_neg_data = spreadsheet_data.copy()\n",
    "some_neg_data[0,0] = -1\n",
    "some_neg_data"
   ]
  },
  {
   "cell_type": "code",
   "execution_count": 6,
   "metadata": {
    "collapsed": false
   },
   "outputs": [
    {
     "data": {
      "text/plain": [
       "array([[ nan,   1.,   0.,   1.,   1.],\n",
       "       [  0.,   0.,   1.,   0.,   0.],\n",
       "       [  1.,   0.,   0.,   0.,   1.],\n",
       "       [  1.,   0.,   1.,   1.,   0.],\n",
       "       [  1.,   0.,   0.,   0.,   1.]])"
      ]
     },
     "execution_count": 6,
     "metadata": {},
     "output_type": "execute_result"
    }
   ],
   "source": [
    "some_nan_data = spreadsheet_data.copy()\n",
    "some_nan_data[0,0] = np.nan\n",
    "some_nan_data"
   ]
  },
  {
   "cell_type": "code",
   "execution_count": 7,
   "metadata": {
    "collapsed": false
   },
   "outputs": [],
   "source": [
    "KnowEnG_GP_dir = '../../Samples_Clustering_Pipeline/data/networks'\n",
    "network_full_file = os.path.join(KnowEnG_GP_dir, 'keg_ST90_4col.edge')\n",
    "adj_mat, ensembl_names = kn.get_sparse_network_matrix(network_full_file)\n",
    "del adj_mat\n",
    "raw_data_dir = '../../'"
   ]
  },
  {
   "cell_type": "code",
   "execution_count": 8,
   "metadata": {
    "collapsed": false
   },
   "outputs": [],
   "source": [
    "raw_data_dir = '../../../pipeline_spreadsheets/raw'\n",
    "sp_file = 'Hsap.ccle.G.gene_mut.binary.df'\n",
    "sp_4_gene_names_df = pd.read_csv(os.path.join(raw_data_dir,sp_file),sep='\\t',index_col=0,header=0)\n",
    "asorted_gene_names = list(sp_4_gene_names_df.index)\n",
    "del sp_4_gene_names_df"
   ]
  },
  {
   "cell_type": "code",
   "execution_count": 9,
   "metadata": {
    "collapsed": false
   },
   "outputs": [
    {
     "name": "stdout",
     "output_type": "stream",
     "text": [
      "spreadsheet_A_.G.SC.tsv \n",
      "                  VMEKT  LSAHJ  KOXMO  PYBPU  WGBQC\n",
      "ENSG00000000005    0.0    1.0    0.0    1.0    1.0\n",
      "ENSG00000000419    0.0    0.0    1.0    0.0    0.0\n",
      "ENSG00000000457    1.0    0.0    0.0    0.0    1.0\n",
      "ENSG00000000460    1.0    0.0    1.0    1.0    0.0\n",
      "ENSG00000000938    1.0    0.0    0.0    0.0    1.0\n",
      "\n",
      " spreadsheet_A_.P.SC_pheno.tsv \n",
      "       EGGKEDP IMHTUWP SPJCOPC KJDHOFK CEWIGYM\n",
      "VMEKT    True   UXGDX    True    True  LVPFUG\n",
      "LSAHJ   False   HKRJT    True   False  BCFGLJ\n",
      "KOXMO   False   ETIZE   False    True  EPCFGY\n",
      "PYBPU   False   JBSRY   False    True  UZUGQS\n",
      "WGBQC    True   DAUOX   False   False  LSZWNY\n"
     ]
    }
   ],
   "source": [
    "BASE_NAME = 'spreadsheet_A_'\n",
    "good_spreadsheet_name = os.path.join(out_data_dir, BASE_NAME + '.G.SC.tsv')\n",
    "rand_names = data_synth.get_rand_unique_name_list(n_names=5, name_length=5)\n",
    "gene_names = ensembl_names[0:n_spreadsheet_rows]\n",
    "spreadsheet_df = pd.DataFrame(spreadsheet_data, index=gene_names, columns=rand_names)\n",
    "spreadsheet_df.to_csv(good_spreadsheet_name, sep='\\t', index=True, header=True)\n",
    "print(BASE_NAME + '.G.SC.tsv', '\\n', spreadsheet_df)\n",
    "\n",
    "pheno_data_df = data_synth.get_random_phenotype_data_for_samples(list(spreadsheet_df.columns), n_phenotype_cols)\n",
    "pheno_data_df.to_csv(os.path.join(pheno_samples_clustering_data_dir, BASE_NAME + '.P.SC_pheno.tsv'), sep='\\t', \n",
    "                      index=True, header=True)\n",
    "print('\\n', BASE_NAME + '.P.SC_pheno.tsv', '\\n', pheno_data_df)"
   ]
  },
  {
   "cell_type": "code",
   "execution_count": 10,
   "metadata": {
    "collapsed": false
   },
   "outputs": [
    {
     "name": "stdout",
     "output_type": "stream",
     "text": [
      "spreadsheet_B_.G.SC.tsv \n",
      "                  VMEKT  LSAHJ  KOXMO  PYBPU  WGBQC\n",
      "AAK1               0.0    1.0    0.0    1.0    1.0\n",
      "AATK               0.0    0.0    1.0    0.0    0.0\n",
      "ENSG00000000457    1.0    0.0    0.0    0.0    1.0\n",
      "ENSG00000000460    1.0    0.0    1.0    1.0    0.0\n",
      "ENSG00000000938    1.0    0.0    0.0    0.0    1.0\n",
      "\n",
      " spreadsheet_B_.P.SC_pheno.tsv \n",
      "           CNGYFOF  NCKZVSJ      VYMIVFM DXHZZBD       IRZOBDQ\n",
      "VMEKT  228.364751        3 -3767.328789    True  -3617.099327\n",
      "LSAHJ  398.031492        2 -9612.826353    True -19312.444630\n",
      "KOXMO   62.211330        1 -4824.454352   False  13557.812629\n",
      "PYBPU  424.345496        3  3456.110853   False   1769.520358\n",
      "WGBQC  864.192685        3 -2187.852179    True  -4694.785335\n"
     ]
    }
   ],
   "source": [
    "BASE_NAME = 'spreadsheet_B_'\n",
    "OK_spreadsheet_name = os.path.join(out_data_dir, BASE_NAME + '.G.SC.tsv')\n",
    "gene_names_B = gene_names.copy()\n",
    "gene_names_B[0] = asorted_gene_names[0]\n",
    "gene_names_B[1] = asorted_gene_names[1]\n",
    "spreadsheet_df = pd.DataFrame(spreadsheet_data, index=gene_names_B, columns=rand_names)\n",
    "spreadsheet_df.to_csv(OK_spreadsheet_name, sep='\\t', index=True, header=True)\n",
    "print(BASE_NAME + '.G.SC.tsv', '\\n', spreadsheet_df)\n",
    "\n",
    "pheno_data_df = data_synth.get_random_phenotype_data_for_samples(list(spreadsheet_df.columns), n_phenotype_cols)\n",
    "pheno_data_df.to_csv(os.path.join(pheno_samples_clustering_data_dir, BASE_NAME + '.P.SC_pheno.tsv'), sep='\\t', \n",
    "                      index=True, header=True)\n",
    "print('\\n', BASE_NAME + '.P.SC_pheno.tsv', '\\n', pheno_data_df)"
   ]
  },
  {
   "cell_type": "code",
   "execution_count": 11,
   "metadata": {
    "collapsed": false
   },
   "outputs": [
    {
     "name": "stdout",
     "output_type": "stream",
     "text": [
      "spreadsheet_duplicate_cols_.G.SC.tsv \n",
      "                  VMEKT  KOXMO  KOXMO  PYBPU  WGBQC\n",
      "ENSG00000000005    0.0    1.0    0.0    1.0    1.0\n",
      "ENSG00000000419    0.0    0.0    1.0    0.0    0.0\n",
      "ENSG00000000457    1.0    0.0    0.0    0.0    1.0\n",
      "ENSG00000000460    1.0    0.0    1.0    1.0    0.0\n",
      "ENSG00000000938    1.0    0.0    0.0    0.0    1.0\n",
      "\n",
      " spreadsheet_duplicate_cols_.P.SC_pheno.tsv \n",
      "       OBRZDUJ      WSGCCKK      CHGKPIO   TMCEZDW WYOGAAI\n",
      "VMEKT    CFXW -1140.145461  EHMAMZRJZLB  EYAKDPOP   False\n",
      "KOXMO    DMSZ   597.342633  UXGRYKFNJXM  HAXQMKXK   False\n",
      "KOXMO    JYPT  -677.042868  VLUKSMFLAAV  JNGQUKAW   False\n",
      "PYBPU    UHBC   425.316199  DEKFVWLTBMY  YCBYKYHL    True\n",
      "WGBQC    XXAO  -360.763151  LIYDITIZBUK  MVLVWAKD    True\n"
     ]
    }
   ],
   "source": [
    "BASE_NAME = 'spreadsheet_duplicate_cols_'\n",
    "dup_col_spreadsheet_name = os.path.join(out_data_dir, BASE_NAME + '.G.SC.tsv')\n",
    "\n",
    "rand_dup_names = rand_names.copy()\n",
    "rand_dup_names[1] = rand_dup_names[2]\n",
    "spreadsheet_df = pd.DataFrame(spreadsheet_data, index=gene_names, columns=rand_dup_names)\n",
    "spreadsheet_df.to_csv(dup_col_spreadsheet_name, sep='\\t', index=True, header=True)\n",
    "print(BASE_NAME + '.G.SC.tsv', '\\n', spreadsheet_df)\n",
    "\n",
    "pheno_data_df = data_synth.get_random_phenotype_data_for_samples(list(spreadsheet_df.columns), n_phenotype_cols)\n",
    "pheno_data_df.to_csv(os.path.join(pheno_samples_clustering_data_dir, BASE_NAME + '.P.SC_pheno.tsv'), sep='\\t', \n",
    "                      index=True, header=True)\n",
    "print('\\n', BASE_NAME + '.P.SC_pheno.tsv', '\\n', pheno_data_df)"
   ]
  },
  {
   "cell_type": "code",
   "execution_count": 12,
   "metadata": {
    "collapsed": false
   },
   "outputs": [
    {
     "name": "stdout",
     "output_type": "stream",
     "text": [
      "spreadsheet_duplicate_rows_.G.SC.tsv \n",
      "                  VMEKT  LSAHJ  KOXMO  PYBPU  WGBQC\n",
      "ENSG00000000005    0.0    1.0    0.0    1.0    1.0\n",
      "ENSG00000000457    0.0    0.0    1.0    0.0    0.0\n",
      "ENSG00000000457    1.0    0.0    0.0    0.0    1.0\n",
      "ENSG00000000460    1.0    0.0    1.0    1.0    0.0\n",
      "ENSG00000000938    1.0    0.0    0.0    0.0    1.0\n",
      "\n",
      " spreadsheet_duplicate_rows_.P.SC_pheno.tsv \n",
      "           UDMODRU YVVHGKB GYSOGJI       UOZFRBX ANFVHSV\n",
      "VMEKT  622.628372    True    True   2852.841727    True\n",
      "LSAHJ  516.066611    True   False  25568.436485   False\n",
      "KOXMO  109.048068   False    True   -702.238104   False\n",
      "PYBPU   37.967536   False   False -13742.594996   False\n",
      "WGBQC  478.257837    True    True   5421.263622    True\n"
     ]
    }
   ],
   "source": [
    "BASE_NAME = 'spreadsheet_duplicate_rows_'\n",
    "dup_row_spreadsheet_name = os.path.join(out_data_dir, BASE_NAME + '.G.SC.tsv')\n",
    "\n",
    "gene_dup_names = gene_names.copy()\n",
    "gene_dup_names[1] = gene_dup_names[2]\n",
    "spreadsheet_df = pd.DataFrame(spreadsheet_data, index=gene_dup_names, columns=rand_names)\n",
    "spreadsheet_df.to_csv(dup_row_spreadsheet_name, sep='\\t', index=True, header=True)\n",
    "print(BASE_NAME + '.G.SC.tsv', '\\n', spreadsheet_df)\n",
    "\n",
    "pheno_data_df = data_synth.get_random_phenotype_data_for_samples(list(spreadsheet_df.columns), n_phenotype_cols)\n",
    "pheno_data_df.to_csv(os.path.join(pheno_samples_clustering_data_dir, BASE_NAME + '.P.SC_pheno.tsv'), sep='\\t', \n",
    "                      index=True, header=True)\n",
    "print('\\n', BASE_NAME + '.P.SC_pheno.tsv', '\\n', pheno_data_df)"
   ]
  },
  {
   "cell_type": "code",
   "execution_count": 13,
   "metadata": {
    "collapsed": false
   },
   "outputs": [
    {
     "name": "stdout",
     "output_type": "stream",
     "text": [
      "spreadsheet_duplicate_rows_AND_cols_.G.SC.tsv \n",
      "                  VMEKT  KOXMO  KOXMO  PYBPU  WGBQC\n",
      "ENSG00000000005    0.0    1.0    0.0    1.0    1.0\n",
      "ENSG00000000457    0.0    0.0    1.0    0.0    0.0\n",
      "ENSG00000000457    1.0    0.0    0.0    0.0    1.0\n",
      "ENSG00000000460    1.0    0.0    1.0    1.0    0.0\n",
      "ENSG00000000938    1.0    0.0    0.0    0.0    1.0\n",
      "\n",
      " spreadsheet_duplicate_rows_AND_cols_.P.SC_pheno.tsv \n",
      "        KMKEVWI       IFFYOQH  MYFNMEF       ZWFCGUD    KSRAWLY\n",
      "VMEKT        1  44692.379342  YAHIMMI  -1620.174747   2.733373\n",
      "KOXMO        2  55827.345259  XYHXRHK -12895.037266 -16.730719\n",
      "KOXMO        1  39088.073427  AMSKRSD  11882.251123  11.557215\n",
      "PYBPU        4   4686.742144  RQILPTH  -8724.778288 -18.642817\n",
      "WGBQC        3  57924.448420  CCIKTLV   2816.333499 -19.171659\n"
     ]
    }
   ],
   "source": [
    "BASE_NAME = 'spreadsheet_duplicate_rows_AND_cols_'\n",
    "dup_row_and_col_spreadsheet_name = os.path.join(out_data_dir, BASE_NAME + '.G.SC.tsv')\n",
    "\n",
    "spreadsheet_df = pd.DataFrame(spreadsheet_data, index=gene_dup_names, columns=rand_dup_names)\n",
    "spreadsheet_df.to_csv(dup_row_and_col_spreadsheet_name, sep='\\t', index=True, header=True)\n",
    "print(BASE_NAME + '.G.SC.tsv', '\\n', spreadsheet_df)\n",
    "\n",
    "pheno_data_df = data_synth.get_random_phenotype_data_for_samples(list(spreadsheet_df.columns), n_phenotype_cols)\n",
    "pheno_data_df.to_csv(os.path.join(pheno_samples_clustering_data_dir, BASE_NAME + '.P.SC_pheno.tsv'), sep='\\t', \n",
    "                      index=True, header=True)\n",
    "print('\\n', BASE_NAME + '.P.SC_pheno.tsv', '\\n', pheno_data_df)"
   ]
  },
  {
   "cell_type": "code",
   "execution_count": 14,
   "metadata": {
    "collapsed": false
   },
   "outputs": [
    {
     "name": "stdout",
     "output_type": "stream",
     "text": [
      "spreadsheet_EMPTY_cols_.G.SC.tsv \n",
      "\n"
     ]
    },
    {
     "data": {
      "text/html": [
       "<div>\n",
       "<table border=\"1\" class=\"dataframe\">\n",
       "  <thead>\n",
       "    <tr style=\"text-align: right;\">\n",
       "      <th></th>\n",
       "      <th>VMEKT</th>\n",
       "      <th>LSAHJ</th>\n",
       "      <th>KOXMO</th>\n",
       "      <th>PYBPU</th>\n",
       "      <th>WGBQC</th>\n",
       "    </tr>\n",
       "  </thead>\n",
       "  <tbody>\n",
       "  </tbody>\n",
       "</table>\n",
       "</div>"
      ],
      "text/plain": [
       "Empty DataFrame\n",
       "Columns: [VMEKT, LSAHJ, KOXMO, PYBPU, WGBQC]\n",
       "Index: []"
      ]
     },
     "execution_count": 14,
     "metadata": {},
     "output_type": "execute_result"
    }
   ],
   "source": [
    "BASE_NAME = 'spreadsheet_EMPTY_cols_'\n",
    "empty_col_spreadsheet_name = os.path.join(out_data_dir, BASE_NAME + '.G.SC.tsv')\n",
    "\n",
    "spreadsheet_df = pd.DataFrame(data=None, columns=rand_names)\n",
    "spreadsheet_df.to_csv(empty_col_spreadsheet_name, sep='\\t', index=None, header=True)\n",
    "print(BASE_NAME + '.G.SC.tsv', '\\n')\n",
    "spreadsheet_df.to_csv(os.path.join(pheno_samples_clustering_data_dir, BASE_NAME + '.P.SC_pheno.tsv'), sep='\\t', \n",
    "                      index=True, header=True)\n",
    "spreadsheet_df"
   ]
  },
  {
   "cell_type": "code",
   "execution_count": 15,
   "metadata": {
    "collapsed": false
   },
   "outputs": [
    {
     "name": "stdout",
     "output_type": "stream",
     "text": [
      "spreadsheet_EMPTY_rows_.G.SC.tsv \n",
      "\n"
     ]
    },
    {
     "data": {
      "text/html": [
       "<div>\n",
       "<table border=\"1\" class=\"dataframe\">\n",
       "  <thead>\n",
       "    <tr style=\"text-align: right;\">\n",
       "      <th></th>\n",
       "    </tr>\n",
       "  </thead>\n",
       "  <tbody>\n",
       "    <tr>\n",
       "      <th>ENSG00000000005</th>\n",
       "    </tr>\n",
       "    <tr>\n",
       "      <th>ENSG00000000419</th>\n",
       "    </tr>\n",
       "    <tr>\n",
       "      <th>ENSG00000000457</th>\n",
       "    </tr>\n",
       "    <tr>\n",
       "      <th>ENSG00000000460</th>\n",
       "    </tr>\n",
       "    <tr>\n",
       "      <th>ENSG00000000938</th>\n",
       "    </tr>\n",
       "  </tbody>\n",
       "</table>\n",
       "</div>"
      ],
      "text/plain": [
       "Empty DataFrame\n",
       "Columns: []\n",
       "Index: [ENSG00000000005, ENSG00000000419, ENSG00000000457, ENSG00000000460, ENSG00000000938]"
      ]
     },
     "execution_count": 15,
     "metadata": {},
     "output_type": "execute_result"
    }
   ],
   "source": [
    "BASE_NAME = 'spreadsheet_EMPTY_rows_'\n",
    "empty_row_spreadsheet_name = os.path.join(out_data_dir, BASE_NAME + '.G.SC.tsv')\n",
    "\n",
    "spreadsheet_df = pd.DataFrame(data=None, index=gene_names)\n",
    "spreadsheet_df.to_csv(empty_row_spreadsheet_name, sep='\\t', index=True, header=None)\n",
    "print(BASE_NAME + '.G.SC.tsv', '\\n')\n",
    "\n",
    "spreadsheet_df.to_csv(os.path.join(pheno_samples_clustering_data_dir, BASE_NAME + '.P.SC_pheno.tsv'), sep='\\t', \n",
    "                      index=True, header=True)\n",
    "spreadsheet_df"
   ]
  },
  {
   "cell_type": "code",
   "execution_count": 16,
   "metadata": {
    "collapsed": false
   },
   "outputs": [
    {
     "name": "stdout",
     "output_type": "stream",
     "text": [
      "spreadsheet_NA_cols_.G.SC.tsv \n",
      "                  VMEKT  LSAHJ   NA  PYBPU  WGBQC\n",
      "ENSG00000000005    0.0    1.0  0.0    1.0    1.0\n",
      "ENSG00000000419    0.0    0.0  1.0    0.0    0.0\n",
      "ENSG00000000457    1.0    0.0  0.0    0.0    1.0\n",
      "ENSG00000000460    1.0    0.0  1.0    1.0    0.0\n",
      "ENSG00000000938    1.0    0.0  0.0    0.0    1.0\n",
      "\n",
      " spreadsheet_NA_cols_.P.SC_pheno.tsv \n",
      "            ZEDGOQN      GGYNGXT  ABBMGPH   FXIEPRS  JLAXJRR\n",
      "VMEKT  6202.395171  -299.415512  MXPFYOL  0.800872  JWLLWMB\n",
      "LSAHJ  7742.385528  1246.294925  ZUYCHMH  9.836857  NFMPPJQ\n",
      "NA     1702.901848  -443.519099  TOULFUF  5.401718  SWNUFYG\n",
      "PYBPU  6279.584531  1358.445275  NBQKOWU  5.911502  QEWFGGB\n",
      "WGBQC  6651.339894 -1054.523983  FLIQUOQ  9.794322  AXTBYWC\n"
     ]
    }
   ],
   "source": [
    "BASE_NAME = 'spreadsheet_NA_cols_'\n",
    "NA_col_spreadsheet_name = os.path.join(out_data_dir, BASE_NAME + '.G.SC.tsv')\n",
    "\n",
    "na_col_names = rand_names.copy()\n",
    "na_col_names[2] = 'NA'\n",
    "na_row_names = gene_names.copy()\n",
    "na_row_names[2] = 'NA'\n",
    "spreadsheet_df = pd.DataFrame(spreadsheet_data, index=gene_names, columns=na_col_names)\n",
    "spreadsheet_df.to_csv(NA_col_spreadsheet_name, sep='\\t', index=True, header=True)\n",
    "print(BASE_NAME + '.G.SC.tsv', '\\n', spreadsheet_df)\n",
    "\n",
    "pheno_data_df = data_synth.get_random_phenotype_data_for_samples(list(spreadsheet_df.columns), n_phenotype_cols)\n",
    "pheno_data_df.to_csv(os.path.join(pheno_samples_clustering_data_dir, BASE_NAME + '.P.SC_pheno.tsv'), sep='\\t', \n",
    "                      index=True, header=True)\n",
    "print('\\n', BASE_NAME + '.P.SC_pheno.tsv', '\\n', pheno_data_df)"
   ]
  },
  {
   "cell_type": "code",
   "execution_count": 17,
   "metadata": {
    "collapsed": false
   },
   "outputs": [
    {
     "name": "stdout",
     "output_type": "stream",
     "text": [
      "spreadsheet_NA_rows_.G.SC.tsv \n",
      "                  VMEKT  LSAHJ  KOXMO  PYBPU  WGBQC\n",
      "ENSG00000000005    0.0    1.0    0.0    1.0    1.0\n",
      "ENSG00000000419    0.0    0.0    1.0    0.0    0.0\n",
      "NA                 1.0    0.0    0.0    0.0    1.0\n",
      "ENSG00000000460    1.0    0.0    1.0    1.0    0.0\n",
      "ENSG00000000938    1.0    0.0    0.0    0.0    1.0\n",
      "\n",
      " spreadsheet_NA_rows_.P.SC_pheno.tsv \n",
      "          NCNJSAE    LADSURJ     PDXHJXA BJNZXWH  FTWTPGG\n",
      "VMEKT  -1.041284  63.517627 -166.470721     LYW        1\n",
      "LSAHJ  -8.673546  19.274754  -42.802664     ZWZ        1\n",
      "KOXMO  10.914872  67.307012   99.987125     HGS        4\n",
      "PYBPU   4.212817  88.264103  -60.497019     XMX        0\n",
      "WGBQC  13.523644  20.748832   39.139047     MZG        1\n"
     ]
    }
   ],
   "source": [
    "BASE_NAME = 'spreadsheet_NA_rows_'\n",
    "NA_rows_spreadsheet_name = os.path.join(out_data_dir, BASE_NAME + '.G.SC.tsv')\n",
    "\n",
    "spreadsheet_df = pd.DataFrame(spreadsheet_data, index=na_row_names, columns=rand_names)\n",
    "spreadsheet_df.to_csv(NA_rows_spreadsheet_name, sep='\\t', index=True, header=True)\n",
    "print(BASE_NAME + '.G.SC.tsv', '\\n', spreadsheet_df)\n",
    "\n",
    "pheno_data_df = data_synth.get_random_phenotype_data_for_samples(list(spreadsheet_df.columns), n_phenotype_cols)\n",
    "pheno_data_df.to_csv(os.path.join(pheno_samples_clustering_data_dir, BASE_NAME + '.P.SC_pheno.tsv'), sep='\\t', \n",
    "                      index=True, header=True)\n",
    "print('\\n', BASE_NAME + '.P.SC_pheno.tsv', '\\n', pheno_data_df)"
   ]
  },
  {
   "cell_type": "code",
   "execution_count": 18,
   "metadata": {
    "collapsed": false
   },
   "outputs": [
    {
     "name": "stdout",
     "output_type": "stream",
     "text": [
      "spreadsheet_NA_rows_and_cols_.G.SC.tsv \n",
      "                  VMEKT  LSAHJ   NA  PYBPU  WGBQC\n",
      "ENSG00000000005    0.0    1.0  0.0    1.0    1.0\n",
      "ENSG00000000419    0.0    0.0  1.0    0.0    0.0\n",
      "NA                 1.0    0.0  0.0    0.0    1.0\n",
      "ENSG00000000460    1.0    0.0  1.0    1.0    0.0\n",
      "ENSG00000000938    1.0    0.0  0.0    0.0    1.0\n",
      "\n",
      " spreadsheet_NA_rows_and_cols_.P.SC_pheno.tsv \n",
      "            ZUGLULI      FESGYQM OECYNCZ  NSRNSUW JWVZUOU\n",
      "VMEKT  7090.640497  6111.716007   False        0  DMCPPF\n",
      "LSAHJ  3867.733183  3147.728506    True        2  KFPRRP\n",
      "NA     2281.540309  8672.841332   False        1  OVGZBT\n",
      "PYBPU  8784.398093  4224.920407    True        0  NDMNHV\n",
      "WGBQC  9185.983160  7969.171423    True        4  KGWGSO\n"
     ]
    }
   ],
   "source": [
    "BASE_NAME = 'spreadsheet_NA_rows_and_cols_'\n",
    "NA_row_and_col_spreadsheet_name = os.path.join(out_data_dir, BASE_NAME + '.G.SC.tsv')\n",
    "\n",
    "spreadsheet_df = pd.DataFrame(spreadsheet_data, index=na_row_names, columns=na_col_names)\n",
    "spreadsheet_df.to_csv(NA_row_and_col_spreadsheet_name, sep='\\t', index=True, header=True)\n",
    "print(BASE_NAME + '.G.SC.tsv', '\\n', spreadsheet_df)\n",
    "\n",
    "pheno_data_df = data_synth.get_random_phenotype_data_for_samples(list(spreadsheet_df.columns), n_phenotype_cols)\n",
    "pheno_data_df.to_csv(os.path.join(pheno_samples_clustering_data_dir, BASE_NAME + '.P.SC_pheno.tsv'), sep='\\t', \n",
    "                      index=True, header=True)\n",
    "print('\\n', BASE_NAME + '.P.SC_pheno.tsv', '\\n', pheno_data_df)"
   ]
  },
  {
   "cell_type": "code",
   "execution_count": 19,
   "metadata": {
    "collapsed": false
   },
   "outputs": [
    {
     "name": "stdout",
     "output_type": "stream",
     "text": [
      "spreadsheet_NAN_data_.G.SC.tsv \n",
      "                  VMEKT  LSAHJ  KOXMO  PYBPU  WGBQC\n",
      "ENSG00000000005    NaN    1.0    0.0    1.0    1.0\n",
      "ENSG00000000419    0.0    0.0    1.0    0.0    0.0\n",
      "ENSG00000000457    1.0    0.0    0.0    0.0    1.0\n",
      "ENSG00000000460    1.0    0.0    1.0    1.0    0.0\n",
      "ENSG00000000938    1.0    0.0    0.0    0.0    1.0\n",
      "\n",
      " spreadsheet_NAN_data_.P.SC_pheno.tsv \n",
      "        APESAKV ZFTHCLK      ZMEARMH      MDPANDT YLRQHIF\n",
      "VMEKT        2   False  4045.081748 -1076.886455    True\n",
      "LSAHJ        0   False   207.698435 -1262.406281    True\n",
      "KOXMO        1    True  5655.385980  1114.430032    True\n",
      "PYBPU        0   False  2292.867215  -148.769900   False\n",
      "WGBQC        2   False  2602.200194   572.090251   False\n"
     ]
    }
   ],
   "source": [
    "BASE_NAME = 'spreadsheet_NAN_data_'\n",
    "NAN_spreadsheet_name = os.path.join(out_data_dir, BASE_NAME + '.G.SC.tsv')\n",
    "\n",
    "spreadsheet_df = pd.DataFrame(some_nan_data, index=gene_names, columns=rand_names)\n",
    "spreadsheet_df.to_csv(NAN_spreadsheet_name, sep='\\t', index=True, header=True)\n",
    "print(BASE_NAME + '.G.SC.tsv', '\\n', spreadsheet_df)\n",
    "\n",
    "pheno_data_df = data_synth.get_random_phenotype_data_for_samples(list(spreadsheet_df.columns), n_phenotype_cols)\n",
    "pheno_data_df.to_csv(os.path.join(pheno_samples_clustering_data_dir, BASE_NAME + '.P.SC_pheno.tsv'), sep='\\t', \n",
    "                      index=True, header=True)\n",
    "print('\\n', BASE_NAME + '.P.SC_pheno.tsv', '\\n', pheno_data_df)"
   ]
  },
  {
   "cell_type": "code",
   "execution_count": 20,
   "metadata": {
    "collapsed": false
   },
   "outputs": [
    {
     "name": "stdout",
     "output_type": "stream",
     "text": [
      "spreadsheet_Negative_data_.G.SC.tsv \n",
      "                  VMEKT  LSAHJ  KOXMO  PYBPU  WGBQC\n",
      "ENSG00000000005   -1.0    1.0    0.0    1.0    1.0\n",
      "ENSG00000000419    0.0    0.0    1.0    0.0    0.0\n",
      "ENSG00000000457    1.0    0.0    0.0    0.0    1.0\n",
      "ENSG00000000460    1.0    0.0    1.0    1.0    0.0\n",
      "ENSG00000000938    1.0    0.0    0.0    0.0    1.0\n",
      "\n",
      " spreadsheet_Negative_data_.P.SC_pheno.tsv \n",
      "        EZBBDBY YUPPQUR MVQGSWL      OEBGRDG TLYTGOX\n",
      "VMEKT        0   False   False  ICZYXZDTNHD    True\n",
      "LSAHJ        4    True   False  LEXULHRIEQW   False\n",
      "KOXMO        2   False    True  BEOMFWZRFRM    True\n",
      "PYBPU        0   False    True  JHRUWLVAWDT    True\n",
      "WGBQC        1    True   False  WCUFLTUPMWJ    True\n"
     ]
    }
   ],
   "source": [
    "BASE_NAME = 'spreadsheet_Negative_data_'\n",
    "NEG_spreadsheet_name = os.path.join(out_data_dir, BASE_NAME + '.G.SC.tsv')\n",
    "\n",
    "spreadsheet_df = pd.DataFrame(some_neg_data, index=gene_names, columns=rand_names)\n",
    "spreadsheet_df.to_csv(NEG_spreadsheet_name, sep='\\t', index=True, header=True)\n",
    "print(BASE_NAME + '.G.SC.tsv', '\\n', spreadsheet_df)\n",
    "\n",
    "pheno_data_df = data_synth.get_random_phenotype_data_for_samples(list(spreadsheet_df.columns), n_phenotype_cols)\n",
    "pheno_data_df.to_csv(os.path.join(pheno_samples_clustering_data_dir, BASE_NAME + '.P.SC_pheno.tsv'), sep='\\t', \n",
    "                      index=True, header=True)\n",
    "print('\\n', BASE_NAME + '.P.SC_pheno.tsv', '\\n', pheno_data_df)"
   ]
  },
  {
   "cell_type": "code",
   "execution_count": 21,
   "metadata": {
    "collapsed": false
   },
   "outputs": [
    {
     "name": "stdout",
     "output_type": "stream",
     "text": [
      "spreadsheet_ALPHA_data_.G.SC.tsv \n",
      "                 VMEKT  LSAHJ  KOXMO  PYBPU  WGBQC\n",
      "ENSG00000000005   abc    1.0    0.0    1.0    1.0\n",
      "ENSG00000000419     0    0.0    1.0    0.0    0.0\n",
      "ENSG00000000457     1    0.0    0.0    0.0    1.0\n",
      "ENSG00000000460     1    0.0    1.0    1.0    0.0\n",
      "ENSG00000000938     1    0.0    0.0    0.0    1.0\n",
      "\n",
      " spreadsheet_ALPHA_data_.P.SC_pheno.tsv \n",
      "            VEUZRZG GEJQJAY    NOXXCVK JNZHPDG RSYGYYC\n",
      "VMEKT   711.566974    True  43.428357    True   False\n",
      "LSAHJ  3530.590045   False  90.004511   False   False\n",
      "KOXMO  7569.096834   False  14.162039   False    True\n",
      "PYBPU  4912.029206    True  49.792994    True   False\n",
      "WGBQC  8099.468531   False  91.224561   False   False\n"
     ]
    }
   ],
   "source": [
    "BASE_NAME = 'spreadsheet_ALPHA_data_'\n",
    "alpha_spreadsheet_name = os.path.join(out_data_dir, BASE_NAME + '.G.SC.tsv')\n",
    "\n",
    "spreadsheet_df = pd.DataFrame(spreadsheet_data, index=gene_names, columns=rand_names)\n",
    "spreadsheet_df.loc[gene_names[0], rand_names[0]] = 'abc'\n",
    "\n",
    "spreadsheet_df.to_csv(alpha_spreadsheet_name, sep='\\t', index=True, header=True)\n",
    "print(BASE_NAME + '.G.SC.tsv', '\\n', spreadsheet_df)\n",
    "\n",
    "pheno_data_df = data_synth.get_random_phenotype_data_for_samples(list(spreadsheet_df.columns), n_phenotype_cols)\n",
    "pheno_data_df.to_csv(os.path.join(pheno_samples_clustering_data_dir, BASE_NAME + '.P.SC_pheno.tsv'), sep='\\t', \n",
    "                      index=True, header=True)\n",
    "print('\\n', BASE_NAME + '.P.SC_pheno.tsv', '\\n', pheno_data_df)"
   ]
  },
  {
   "cell_type": "code",
   "execution_count": null,
   "metadata": {
    "collapsed": true
   },
   "outputs": [],
   "source": []
  },
  {
   "cell_type": "code",
   "execution_count": null,
   "metadata": {
    "collapsed": true
   },
   "outputs": [],
   "source": []
  },
  {
   "cell_type": "code",
   "execution_count": null,
   "metadata": {
    "collapsed": true
   },
   "outputs": [],
   "source": []
  },
  {
   "cell_type": "code",
   "execution_count": null,
   "metadata": {
    "collapsed": true
   },
   "outputs": [],
   "source": []
  }
 ],
 "metadata": {
  "anaconda-cloud": {},
  "kernelspec": {
   "display_name": "Python [default]",
   "language": "python",
   "name": "python3"
  },
  "language_info": {
   "codemirror_mode": {
    "name": "ipython",
    "version": 3
   },
   "file_extension": ".py",
   "mimetype": "text/x-python",
   "name": "python",
   "nbconvert_exporter": "python",
   "pygments_lexer": "ipython3",
   "version": "3.5.2"
  }
 },
 "nbformat": 4,
 "nbformat_minor": 1
}
