{
 "cells": [
  {
   "cell_type": "markdown",
   "metadata": {
    "collapsed": true,
    "deletable": true,
    "editable": true
   },
   "source": [
    "# KnowEnG-Research samples clustering with cleanup script"
   ]
  },
  {
   "cell_type": "code",
   "execution_count": 1,
   "metadata": {
    "collapsed": false,
    "deletable": true,
    "editable": true
   },
   "outputs": [],
   "source": [
    "# Note: the  KnowEnG-Research/KnowEnG_Pipelines_Library version is required here\n",
    "# with the KnowEnG-Research/Data_Cleanup_Pipeline.\n",
    "import os\n",
    "import sys\n",
    "import time\n",
    "\n",
    "# sys.path.insert(1, '../../KnowEnG_Pipelines_Library')\n",
    "# sys.path.insert(1, '../../KnowEnG_Pipelines_Library.knpackage')\n",
    "# from knpackage import redis_utilities\n",
    "\n",
    "dcp_src = '../../Data_Cleanup_Pipeline/src/'\n",
    "sys.path.insert(1, dcp_src)\n",
    "import data_cleanup_toolbox as dc\n",
    "\n",
    "sys.path.insert(1, '../../keg_test_tools/src')\n",
    "import dcp_test\n",
    "\n",
    "sys.path.insert(1, '../../Samples_Clustering_Pipeline/src')\n",
    "import sample_clustering_toolbox as sc\n",
    "\n",
    "import knpackage.toolbox as kn"
   ]
  },
  {
   "cell_type": "code",
   "execution_count": 2,
   "metadata": {
    "collapsed": true,
    "deletable": true,
    "editable": true
   },
   "outputs": [],
   "source": [
    "local_results = '../../test/run_dir'\n",
    "yaml_dir = '../../Data_Cleanup_Pipeline/data/run_files'\n",
    "yaml_file = 'TEMPLATE_data_cleanup.yml'"
   ]
  },
  {
   "cell_type": "code",
   "execution_count": 3,
   "metadata": {
    "collapsed": true,
    "deletable": true,
    "editable": true
   },
   "outputs": [],
   "source": [
    "#   local convenience function\n",
    "def show_dictionary(a_dict):\n",
    "    for k in list(a_dict.keys()):\n",
    "        print(k,':\\t',a_dict[k])"
   ]
  },
  {
   "cell_type": "markdown",
   "metadata": {
    "deletable": true,
    "editable": true
   },
   "source": [
    "## Locate and clean the data using a cleanup_parameters dictionary.\n",
    "* Use the spreadsheet_dir and spreadsheet_name variables in the next cell to locate your file.\n",
    "* The output will be in the local_results variable defined two cells above."
   ]
  },
  {
   "cell_type": "code",
   "execution_count": 4,
   "metadata": {
    "collapsed": false,
    "deletable": true,
    "editable": true
   },
   "outputs": [
    {
     "name": "stdout",
     "output_type": "stream",
     "text": [
      "taxonid :\t 9606\n",
      "source_hint :\t \n",
      "phenotype_full_path :\t ../data/spreadsheets/TEST_1_phenotype.tsv\n",
      "spreadsheet_name_full_path :\t ../../Samples_Clustering_Pipeline/data/spreadsheets/tcga_ucec_somatic_mutation_data.df\n",
      "run_directory :\t ../../Data_Cleanup_Pipeline/src\n",
      "run_file :\t TEMPLATE_data_cleanup.yml\n",
      "redis_credential :\t {'host': 'knowredis.knowhub.org', 'port': 6379, 'password': 'KnowEnG'}\n",
      "pipeline_type :\t sample_clustering_pipeline\n",
      "results_directory :\t ../../test/run_dir\n"
     ]
    }
   ],
   "source": [
    "# Get the template yaml file\n",
    "data_cleanup_pars = kn.get_run_parameters(yaml_dir, yaml_file)\n",
    "\n",
    "spreadsheet_dir = '../../Samples_Clustering_Pipeline/data/spreadsheets'\n",
    "spreadsheet_name = 'tcga_ucec_somatic_mutation_data.df'\n",
    "cleaned_spreadsheet_expected_name = spreadsheet_name[:-3] + '_ETL.tsv'\n",
    "\n",
    "data_cleanup_pars['spreadsheet_name_full_path'] = os.path.join(spreadsheet_dir,spreadsheet_name)\n",
    "\n",
    "data_cleanup_pars['run_directory'] = '../../Data_Cleanup_Pipeline/src'\n",
    "data_cleanup_pars['results_directory'] = local_results\n",
    "\n",
    "# gene_priorization_pipeline, sample_clustering_pipeline, geneset_characterization_pipeline\n",
    "data_cleanup_pars['pipeline_type'] = 'sample_clustering_pipeline'\n",
    "\n",
    "show_dictionary(data_cleanup_pars)"
   ]
  },
  {
   "cell_type": "code",
   "execution_count": 16,
   "metadata": {
    "collapsed": false,
    "deletable": true,
    "editable": true
   },
   "outputs": [
    {
     "name": "stdout",
     "output_type": "stream",
     "text": [
      "WARNING: Removed 17299 duplicate column(s) from user spreadsheet.\n",
      "INFO: Cleaned user_spreadsheet has 17490 rows, 248 columns.\n",
      "data_cleanup_toolbox.run_samples_clustering_pipeline SUCCEEDED IN 0.000 sec\n",
      "\n",
      "\n",
      "results\n",
      "tcga_ucec_somatic_mutation_data_ETL.tsv\n",
      "tcga_ucec_somatic_mutation_data_MAP.tsv\n",
      "tcga_ucec_somatic_mutation_data_UNMAPPED.tsv\n"
     ]
    }
   ],
   "source": [
    "#         Run the samples clustering pipeline to get the output files\n",
    "# SLOW SLOW --^<O>~<0>^-- unless running on the server with redis --^<O>~<0>^-- SLOW SLOW SLOW\n",
    "t_zero = time.time()\n",
    "STATUS, message_string = dc.run_samples_clustering_pipeline(data_cleanup_pars)\n",
    "for l in message_string:\n",
    "    print(l)\n",
    "cleanup_run_time = time.time() - t_zero\n",
    "if STATUS:\n",
    "    print('data_cleanup_toolbox.run_samples_clustering_pipeline SUCCEEDED IN %0.3f sec'%(\n",
    "        cleanup_run_time))\n",
    "    output_files_list = os.listdir(data_cleanup_pars['results_directory'])\n",
    "    print('\\n')\n",
    "    for file_name in output_files_list:\n",
    "        print(file_name)\n",
    "else:\n",
    "    print('data_cleanup_toolbox.run_samples_clustering_pipeline SUCCEEDED IN %0.3f sec'%(\n",
    "        cleanup_run_time))"
   ]
  },
  {
   "cell_type": "code",
   "execution_count": null,
   "metadata": {
    "collapsed": true,
    "deletable": true,
    "editable": true
   },
   "outputs": [],
   "source": []
  },
  {
   "cell_type": "markdown",
   "metadata": {
    "deletable": true,
    "editable": true
   },
   "source": [
    "## Cluster the data using a samples_clustering_parameters dictionary\n",
    "\n",
    "### Note that you may need to run \"make env_setup\" from the .../Samples_Clustering_Pipeline/test    directory"
   ]
  },
  {
   "cell_type": "code",
   "execution_count": 17,
   "metadata": {
    "collapsed": true,
    "deletable": true,
    "editable": true
   },
   "outputs": [],
   "source": [
    "sc_local_results = '../../test/run_dir/results'\n",
    "sc_yaml_dir = '../../Samples_Clustering_Pipeline/data/run_files'\n",
    "sc_yaml_file = 'zTEMPLATE_cc_net_nmf.yml'"
   ]
  },
  {
   "cell_type": "code",
   "execution_count": 19,
   "metadata": {
    "collapsed": false,
    "deletable": true,
    "editable": true
   },
   "outputs": [
    {
     "name": "stdout",
     "output_type": "stream",
     "text": [
      "top_number_of_genes :\t 100\n",
      "rows_sampling_fraction :\t 0.8\n",
      "rwr_convergence_tolerence :\t 0.0001\n",
      "spreadsheet_name_full_path :\t ../../test/run_dir/tcga_ucec_somatic_mutation_data_ETL.tsv\n",
      "nmf_max_invariance :\t 200\n",
      "method :\t cc_net_nmf\n",
      "nmf_conv_check_freq :\t 50\n",
      "nmf_max_iterations :\t 10000\n",
      "gg_network_name_full_path :\t ../../Samples_Clustering_Pipeline/data/networks/keg_ST90_4col.edge\n",
      "parallelism :\t 2\n",
      "run_file :\t zTEMPLATE_cc_net_nmf.yml\n",
      "phenotype_name_full_path :\t ../../Samples_Clustering_Pipeline/data/spreadsheets/UCECppheno_table.txt\n",
      "results_directory :\t ../../test/run_dir/results\n",
      "rwr_max_iterations :\t 100\n",
      "cluster_shared_ram :\t /mnt/ramdisk/knoweng/\n",
      "tmp_directory :\t /Users/mojo/BigDataTank/trifecta_tank\n",
      "processing_method :\t parallel\n",
      "run_directory :\t ../../Samples_Clustering_Pipeline/src\n",
      "cols_sampling_fraction :\t 0.8\n",
      "nmf_penalty_parameter :\t 1400\n",
      "rwr_restart_probability :\t 0.5\n",
      "number_of_bootstraps :\t 5\n",
      "number_of_clusters :\t 3\n"
     ]
    }
   ],
   "source": [
    "samples_clustering_pars = kn.get_run_parameters(sc_yaml_dir, sc_yaml_file)\n",
    "\n",
    "spreadsheet_dir = data_cleanup_pars['results_directory']\n",
    "spreadsheet_name = cleaned_spreadsheet_expected_name\n",
    "samples_clustering_pars['spreadsheet_name_full_path'] = os.path.join(\n",
    "    spreadsheet_dir, spreadsheet_name)\n",
    "\n",
    "phenotype_dir = '../../Samples_Clustering_Pipeline/data/spreadsheets'\n",
    "phenotype_name = 'UCECppheno_table.txt'\n",
    "samples_clustering_pars['phenotype_name_full_path'] = os.path.join(phenotype_dir, phenotype_name)\n",
    "\n",
    "network_path = '../../Samples_Clustering_Pipeline/data/networks'\n",
    "network_file_name = 'keg_ST90_4col.edge'\n",
    "samples_clustering_pars['gg_network_name_full_path'] = os.path.join(network_path, network_file_name)\n",
    "\n",
    "samples_clustering_pars['processing_method'] = 'parallel'\n",
    "samples_clustering_pars['parallelism'] = 2\n",
    "\n",
    "#        Remove unused keys from template:\n",
    "samples_clustering_pars.pop('cluster_shared_volumn', None)\n",
    "samples_clustering_pars.pop('cluster_ip_address', None)\n",
    "\n",
    "samples_clustering_pars['run_directory'] = '../../Samples_Clustering_Pipeline/src'\n",
    "samples_clustering_pars['results_directory'] = sc_local_results\n",
    "samples_clustering_pars['tmp_directory'] = '/Users/mojo/BigDataTank/trifecta_tank'\n",
    "\n",
    "samples_clustering_pars['rows_sampling_fraction'] = 0.8\n",
    "samples_clustering_pars['cols_sampling_fraction'] = 0.8\n",
    "\n",
    "samples_clustering_pars['rwr_restart_probability'] = 0.5\n",
    "\n",
    "samples_clustering_pars['number_of_clusters'] = 3\n",
    "samples_clustering_pars['number_of_bootstraps'] = 5\n",
    "\n",
    "show_dictionary(samples_clustering_pars)"
   ]
  },
  {
   "cell_type": "code",
   "execution_count": 20,
   "metadata": {
    "collapsed": false,
    "deletable": true,
    "editable": true
   },
   "outputs": [
    {
     "name": "stdout",
     "output_type": "stream",
     "text": [
      "samples clustering run time:\t 725.252368927002\n"
     ]
    }
   ],
   "source": [
    "# Note that the printed output below is from a development version\n",
    "# of samples clustering dependencies.\n",
    "start_clock = time.time()\n",
    "\n",
    "sc.run_cc_net_nmf(samples_clustering_pars)\n",
    "\n",
    "run_time = time.time() - start_clock\n",
    "print('samples clustering run time:\\t', run_time)"
   ]
  },
  {
   "cell_type": "code",
   "execution_count": 32,
   "metadata": {
    "collapsed": false,
    "deletable": true,
    "editable": true
   },
   "outputs": [
    {
     "name": "stdout",
     "output_type": "stream",
     "text": [
      "consensus_matrix_cc_net_nmf_Sun_12_Mar_2017_17_15_10.206341028_viz.tsv\n",
      "genes_averages_by_cluster_cc_net_nmf_Sun_12_Mar_2017_17_15_21.663466930_viz.tsv\n",
      "genes_by_samples_heatmap_cc_net_nmf_Sun_12_Mar_2017_17_15_12.265441894_viz.tsv\n",
      "genes_variance_cc_net_nmf_Sun_12_Mar_2017_17_15_21.768404960_viz.tsv\n",
      "samples_label_by_cluster_cc_net_nmf_Sun_12_Mar_2017_17_15_10.395998954_viz.tsv\n",
      "silhouette_average_cc_net_nmf_Sun_12_Mar_2017_17_15_10.393580913_viz.tsv\n",
      "tcga_ucec_somatic_mutation_data_ETL.tsv\n",
      "tcga_ucec_somatic_mutation_data_MAP.tsv\n",
      "tcga_ucec_somatic_mutation_data_UNMAPPED.tsv\n",
      "top_genes_by_cluster_cc_net_nmf_Sun_12_Mar_2017_17_15_21.816582918_download.tsv\n"
     ]
    }
   ],
   "source": [
    "results_dir_list = os.listdir(samples_clustering_pars['results_directory'])\n",
    "for l in results_dir_list:\n",
    "    print(l)"
   ]
  },
  {
   "cell_type": "code",
   "execution_count": null,
   "metadata": {
    "collapsed": true,
    "deletable": true,
    "editable": true
   },
   "outputs": [],
   "source": []
  },
  {
   "cell_type": "code",
   "execution_count": null,
   "metadata": {
    "collapsed": true,
    "deletable": true,
    "editable": true
   },
   "outputs": [],
   "source": []
  },
  {
   "cell_type": "code",
   "execution_count": null,
   "metadata": {
    "collapsed": true,
    "deletable": true,
    "editable": true
   },
   "outputs": [],
   "source": []
  }
 ],
 "metadata": {
  "anaconda-cloud": {},
  "kernelspec": {
   "display_name": "Python [default]",
   "language": "python",
   "name": "python3"
  },
  "language_info": {
   "codemirror_mode": {
    "name": "ipython",
    "version": 3
   },
   "file_extension": ".py",
   "mimetype": "text/x-python",
   "name": "python",
   "nbconvert_exporter": "python",
   "pygments_lexer": "ipython3",
   "version": "3.5.2"
  }
 },
 "nbformat": 4,
 "nbformat_minor": 1
}
