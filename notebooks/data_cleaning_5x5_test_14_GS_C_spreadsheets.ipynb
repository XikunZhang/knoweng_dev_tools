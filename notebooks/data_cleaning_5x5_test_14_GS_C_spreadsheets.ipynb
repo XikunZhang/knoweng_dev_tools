{
 "cells": [
  {
   "cell_type": "markdown",
   "metadata": {},
   "source": [
    "# Spreadsheets .G.  genes X samples test data files generator\n",
    "* write a small data frame file for all thinkable cases of input spreadsheet data for GeneSet Characterization\n",
    "* naming conventions used to allow directory processing with dcp_test.py module"
   ]
  },
  {
   "cell_type": "code",
   "execution_count": 1,
   "metadata": {
    "collapsed": false
   },
   "outputs": [],
   "source": [
    "import os\n",
    "import sys\n",
    "import itertools\n",
    "import time\n",
    "import numpy as np\n",
    "import pandas as pd\n",
    "\n",
    "sys.path.insert(1, '../../KnowEnG_Pipelines_Library')\n",
    "import knpackage.redis_utilities\n",
    "sys.path.insert(1, '../../KnowEnG_Pipelines_Library/knpackage')\n",
    "import knpackage.toolbox as kn\n",
    "\n",
    "sys.path.insert(1, '../src')\n",
    "import data_synth\n",
    "import data_wrangler as dw\n",
    "\n",
    "sys.path.insert(1, '../../Data_Cleanup_Pipeline/src/')\n",
    "import data_cleanup_toolbox as dc"
   ]
  },
  {
   "cell_type": "code",
   "execution_count": 2,
   "metadata": {
    "collapsed": true
   },
   "outputs": [],
   "source": [
    "out_data_dir = '../../keg_test_tools/data/geneset_characterization/spreadsheets_GSC'"
   ]
  },
  {
   "cell_type": "markdown",
   "metadata": {},
   "source": [
    "# data_cleanup_toolbox test: Set of 14 Spreadsheets"
   ]
  },
  {
   "cell_type": "code",
   "execution_count": 3,
   "metadata": {
    "collapsed": false
   },
   "outputs": [
    {
     "data": {
      "text/plain": [
       "array([[ 1.,  1.,  0.,  0.,  1.],\n",
       "       [ 0.,  1.,  0.,  1.,  1.],\n",
       "       [ 1.,  0.,  0.,  1.,  1.],\n",
       "       [ 0.,  1.,  0.,  0.,  1.],\n",
       "       [ 0.,  0.,  1.,  1.,  1.]])"
      ]
     },
     "execution_count": 3,
     "metadata": {},
     "output_type": "execute_result"
    }
   ],
   "source": [
    "n_spreadsheet_rows = 5\n",
    "n_phenotype_cols = n_spreadsheet_rows \n",
    "n_spreadsheet_cols = 5\n",
    "spreadsheet_shape = (n_spreadsheet_rows, n_spreadsheet_cols)\n",
    "\n",
    "spreadsheet_data = np.random.random(spreadsheet_shape)\n",
    "spreadsheet_data[spreadsheet_data < 0.5] = 0.0\n",
    "spreadsheet_data[spreadsheet_data != 0.0] = 1.0\n",
    "spreadsheet_data"
   ]
  },
  {
   "cell_type": "code",
   "execution_count": 4,
   "metadata": {
    "collapsed": false
   },
   "outputs": [
    {
     "name": "stdout",
     "output_type": "stream",
     "text": [
      "spreadsheet_DNE_.G.GSC.tsv \n",
      "        LBKWPGZW  SYBTXWRN  QAQDSBLM  ZYHAFWYG  WCOAPUFV\n",
      "QPEEV  0.699735  0.777384  0.562407  0.688294  0.406830\n",
      "PAWNB  0.030958  0.861709  0.927754  0.537586  0.371735\n",
      "OOBBI  0.239647  0.210067  0.982109  0.103054  0.638202\n",
      "RWNGI  0.726740  0.608046  0.454255  0.043426  0.948203\n",
      "SKLRF  0.930282  0.298488  0.698147  0.737180  0.955285\n"
     ]
    }
   ],
   "source": [
    "BASE_NAME = 'spreadsheet_DNE_'\n",
    "DNE_spreadsheet_name = os.path.join(out_data_dir, BASE_NAME + '.G.GSC.tsv')\n",
    "spreadsheet_df = data_synth.get_rand_dataframe(\n",
    "                    n_spreadsheet_rows, n_spreadsheet_cols, row_name_chars=5, col_name_chars=8)\n",
    "spreadsheet_df.to_csv(DNE_spreadsheet_name, sep='\\t', index=True, header=True)\n",
    "print(BASE_NAME + '.G.GSC.tsv', '\\n', spreadsheet_df)"
   ]
  },
  {
   "cell_type": "code",
   "execution_count": 5,
   "metadata": {
    "collapsed": false
   },
   "outputs": [
    {
     "data": {
      "text/plain": [
       "array([[-1.,  1.,  0.,  0.,  1.],\n",
       "       [ 0.,  1.,  0.,  1.,  1.],\n",
       "       [ 1.,  0.,  0.,  1.,  1.],\n",
       "       [ 0.,  1.,  0.,  0.,  1.],\n",
       "       [ 0.,  0.,  1.,  1.,  1.]])"
      ]
     },
     "execution_count": 5,
     "metadata": {},
     "output_type": "execute_result"
    }
   ],
   "source": [
    "some_neg_data = spreadsheet_data.copy()\n",
    "some_neg_data[0,0] = -1\n",
    "some_neg_data"
   ]
  },
  {
   "cell_type": "code",
   "execution_count": 6,
   "metadata": {
    "collapsed": false
   },
   "outputs": [
    {
     "data": {
      "text/plain": [
       "array([[ nan,   1.,   0.,   0.,   1.],\n",
       "       [  0.,   1.,   0.,   1.,   1.],\n",
       "       [  1.,   0.,   0.,   1.,   1.],\n",
       "       [  0.,   1.,   0.,   0.,   1.],\n",
       "       [  0.,   0.,   1.,   1.,   1.]])"
      ]
     },
     "execution_count": 6,
     "metadata": {},
     "output_type": "execute_result"
    }
   ],
   "source": [
    "some_nan_data = spreadsheet_data.copy()\n",
    "some_nan_data[0,0] = np.nan\n",
    "some_nan_data"
   ]
  },
  {
   "cell_type": "code",
   "execution_count": 7,
   "metadata": {
    "collapsed": false
   },
   "outputs": [],
   "source": [
    "KnowEnG_GP_dir = '../../Samples_Clustering_Pipeline/data/networks'\n",
    "network_full_file = os.path.join(KnowEnG_GP_dir, 'keg_ST90_4col.edge')\n",
    "adj_mat, ensembl_names = kn.get_sparse_network_matrix(network_full_file)\n",
    "del adj_mat\n",
    "raw_data_dir = '../../'"
   ]
  },
  {
   "cell_type": "code",
   "execution_count": 8,
   "metadata": {
    "collapsed": false
   },
   "outputs": [],
   "source": [
    "raw_data_dir = '../../../pipeline_spreadsheets/raw'\n",
    "sp_file = 'Hsap.ccle.G.gene_mut.binary.df'\n",
    "sp_4_gene_names_df = pd.read_csv(os.path.join(raw_data_dir,sp_file),sep='\\t',index_col=0,header=0)\n",
    "asorted_gene_names = list(sp_4_gene_names_df.index)\n",
    "del sp_4_gene_names_df"
   ]
  },
  {
   "cell_type": "code",
   "execution_count": 9,
   "metadata": {
    "collapsed": false
   },
   "outputs": [
    {
     "name": "stdout",
     "output_type": "stream",
     "text": [
      "spreadsheet_A_.G.GSC.tsv \n",
      "                  NWOHK  NGMGC  XYWUO  FPTXU  DADOA\n",
      "ENSG00000000005    1.0    1.0    0.0    0.0    1.0\n",
      "ENSG00000000419    0.0    1.0    0.0    1.0    1.0\n",
      "ENSG00000000457    1.0    0.0    0.0    1.0    1.0\n",
      "ENSG00000000460    0.0    1.0    0.0    0.0    1.0\n",
      "ENSG00000000938    0.0    0.0    1.0    1.0    1.0\n"
     ]
    }
   ],
   "source": [
    "BASE_NAME = 'spreadsheet_A_'\n",
    "good_spreadsheet_name = os.path.join(out_data_dir, BASE_NAME + '.G.GSC.tsv')\n",
    "rand_names = data_synth.get_rand_unique_name_list(n_names=5, name_length=5)\n",
    "gene_names = ensembl_names[0:n_spreadsheet_rows]\n",
    "spreadsheet_df = pd.DataFrame(spreadsheet_data, index=gene_names, columns=rand_names)\n",
    "spreadsheet_df.to_csv(good_spreadsheet_name, sep='\\t', index=True, header=True)\n",
    "print(BASE_NAME + '.G.GSC.tsv', '\\n', spreadsheet_df)"
   ]
  },
  {
   "cell_type": "code",
   "execution_count": 10,
   "metadata": {
    "collapsed": false
   },
   "outputs": [
    {
     "name": "stdout",
     "output_type": "stream",
     "text": [
      "spreadsheet_B_.G.GSC.tsv \n",
      "                  NWOHK  NGMGC  XYWUO  FPTXU  DADOA\n",
      "AAK1               1.0    1.0    0.0    0.0    1.0\n",
      "AATK               0.0    1.0    0.0    1.0    1.0\n",
      "ENSG00000000457    1.0    0.0    0.0    1.0    1.0\n",
      "ENSG00000000460    0.0    1.0    0.0    0.0    1.0\n",
      "ENSG00000000938    0.0    0.0    1.0    1.0    1.0\n"
     ]
    }
   ],
   "source": [
    "BASE_NAME = 'spreadsheet_B_'\n",
    "OK_spreadsheet_name = os.path.join(out_data_dir, BASE_NAME + '.G.GSC.tsv')\n",
    "gene_names_B = gene_names.copy()\n",
    "gene_names_B[0] = asorted_gene_names[0]\n",
    "gene_names_B[1] = asorted_gene_names[1]\n",
    "spreadsheet_df = pd.DataFrame(spreadsheet_data, index=gene_names_B, columns=rand_names)\n",
    "spreadsheet_df.to_csv(OK_spreadsheet_name, sep='\\t', index=True, header=True)\n",
    "print(BASE_NAME + '.G.GSC.tsv', '\\n', spreadsheet_df)"
   ]
  },
  {
   "cell_type": "code",
   "execution_count": 11,
   "metadata": {
    "collapsed": false
   },
   "outputs": [
    {
     "name": "stdout",
     "output_type": "stream",
     "text": [
      "spreadsheet_duplicate_cols_.G.GSC.tsv \n",
      "                  NWOHK  XYWUO  XYWUO  FPTXU  DADOA\n",
      "ENSG00000000005    1.0    1.0    0.0    0.0    1.0\n",
      "ENSG00000000419    0.0    1.0    0.0    1.0    1.0\n",
      "ENSG00000000457    1.0    0.0    0.0    1.0    1.0\n",
      "ENSG00000000460    0.0    1.0    0.0    0.0    1.0\n",
      "ENSG00000000938    0.0    0.0    1.0    1.0    1.0\n"
     ]
    }
   ],
   "source": [
    "BASE_NAME = 'spreadsheet_duplicate_cols_'\n",
    "dup_col_spreadsheet_name = os.path.join(out_data_dir, BASE_NAME + '.G.GSC.tsv')\n",
    "\n",
    "rand_dup_names = rand_names.copy()\n",
    "rand_dup_names[1] = rand_dup_names[2]\n",
    "spreadsheet_df = pd.DataFrame(spreadsheet_data, index=gene_names, columns=rand_dup_names)\n",
    "spreadsheet_df.to_csv(dup_col_spreadsheet_name, sep='\\t', index=True, header=True)\n",
    "print(BASE_NAME + '.G.GSC.tsv', '\\n', spreadsheet_df)"
   ]
  },
  {
   "cell_type": "code",
   "execution_count": 12,
   "metadata": {
    "collapsed": false
   },
   "outputs": [
    {
     "name": "stdout",
     "output_type": "stream",
     "text": [
      "spreadsheet_duplicate_rows_.G.GSC.tsv \n",
      "                  NWOHK  NGMGC  XYWUO  FPTXU  DADOA\n",
      "ENSG00000000005    1.0    1.0    0.0    0.0    1.0\n",
      "ENSG00000000457    0.0    1.0    0.0    1.0    1.0\n",
      "ENSG00000000457    1.0    0.0    0.0    1.0    1.0\n",
      "ENSG00000000460    0.0    1.0    0.0    0.0    1.0\n",
      "ENSG00000000938    0.0    0.0    1.0    1.0    1.0\n"
     ]
    }
   ],
   "source": [
    "BASE_NAME = 'spreadsheet_duplicate_rows_'\n",
    "dup_row_spreadsheet_name = os.path.join(out_data_dir, BASE_NAME + '.G.GSC.tsv')\n",
    "\n",
    "gene_dup_names = gene_names.copy()\n",
    "gene_dup_names[1] = gene_dup_names[2]\n",
    "spreadsheet_df = pd.DataFrame(spreadsheet_data, index=gene_dup_names, columns=rand_names)\n",
    "spreadsheet_df.to_csv(dup_row_spreadsheet_name, sep='\\t', index=True, header=True)\n",
    "print(BASE_NAME + '.G.GSC.tsv', '\\n', spreadsheet_df)"
   ]
  },
  {
   "cell_type": "code",
   "execution_count": 13,
   "metadata": {
    "collapsed": false
   },
   "outputs": [
    {
     "name": "stdout",
     "output_type": "stream",
     "text": [
      "spreadsheet_duplicates_rows_AND_cols_.G.GSC.tsv \n",
      "                  NWOHK  XYWUO  XYWUO  FPTXU  DADOA\n",
      "ENSG00000000005    1.0    1.0    0.0    0.0    1.0\n",
      "ENSG00000000457    0.0    1.0    0.0    1.0    1.0\n",
      "ENSG00000000457    1.0    0.0    0.0    1.0    1.0\n",
      "ENSG00000000460    0.0    1.0    0.0    0.0    1.0\n",
      "ENSG00000000938    0.0    0.0    1.0    1.0    1.0\n"
     ]
    }
   ],
   "source": [
    "BASE_NAME = 'spreadsheet_duplicates_rows_AND_cols_'\n",
    "dup_row_and_col_spreadsheet_name = os.path.join(out_data_dir, BASE_NAME + '.G.GSC.tsv')\n",
    "\n",
    "spreadsheet_df = pd.DataFrame(spreadsheet_data, index=gene_dup_names, columns=rand_dup_names)\n",
    "spreadsheet_df.to_csv(dup_row_and_col_spreadsheet_name, sep='\\t', index=True, header=True)\n",
    "print(BASE_NAME + '.G.GSC.tsv', '\\n', spreadsheet_df)"
   ]
  },
  {
   "cell_type": "code",
   "execution_count": 14,
   "metadata": {
    "collapsed": false
   },
   "outputs": [
    {
     "name": "stdout",
     "output_type": "stream",
     "text": [
      "spreadsheet_EMPTY_cols_.G.GSC.tsv \n",
      "\n"
     ]
    },
    {
     "data": {
      "text/html": [
       "<div>\n",
       "<table border=\"1\" class=\"dataframe\">\n",
       "  <thead>\n",
       "    <tr style=\"text-align: right;\">\n",
       "      <th></th>\n",
       "      <th>NWOHK</th>\n",
       "      <th>NGMGC</th>\n",
       "      <th>XYWUO</th>\n",
       "      <th>FPTXU</th>\n",
       "      <th>DADOA</th>\n",
       "    </tr>\n",
       "  </thead>\n",
       "  <tbody>\n",
       "  </tbody>\n",
       "</table>\n",
       "</div>"
      ],
      "text/plain": [
       "Empty DataFrame\n",
       "Columns: [NWOHK, NGMGC, XYWUO, FPTXU, DADOA]\n",
       "Index: []"
      ]
     },
     "execution_count": 14,
     "metadata": {},
     "output_type": "execute_result"
    }
   ],
   "source": [
    "BASE_NAME = 'spreadsheet_EMPTY_cols_'\n",
    "empty_col_spreadsheet_name = os.path.join(out_data_dir, BASE_NAME + '.G.GSC.tsv')\n",
    "\n",
    "spreadsheet_df = pd.DataFrame(data=None, columns=rand_names)\n",
    "spreadsheet_df.to_csv(empty_col_spreadsheet_name, sep='\\t', index=None, header=True)\n",
    "print(BASE_NAME + '.G.GSC.tsv', '\\n')\n",
    "\n",
    "spreadsheet_df"
   ]
  },
  {
   "cell_type": "code",
   "execution_count": 15,
   "metadata": {
    "collapsed": false
   },
   "outputs": [
    {
     "name": "stdout",
     "output_type": "stream",
     "text": [
      "spreadsheet_EMPTY_rows_.G.GSC.tsv \n",
      "\n"
     ]
    },
    {
     "data": {
      "text/html": [
       "<div>\n",
       "<table border=\"1\" class=\"dataframe\">\n",
       "  <thead>\n",
       "    <tr style=\"text-align: right;\">\n",
       "      <th></th>\n",
       "    </tr>\n",
       "  </thead>\n",
       "  <tbody>\n",
       "    <tr>\n",
       "      <th>ENSG00000000005</th>\n",
       "    </tr>\n",
       "    <tr>\n",
       "      <th>ENSG00000000419</th>\n",
       "    </tr>\n",
       "    <tr>\n",
       "      <th>ENSG00000000457</th>\n",
       "    </tr>\n",
       "    <tr>\n",
       "      <th>ENSG00000000460</th>\n",
       "    </tr>\n",
       "    <tr>\n",
       "      <th>ENSG00000000938</th>\n",
       "    </tr>\n",
       "  </tbody>\n",
       "</table>\n",
       "</div>"
      ],
      "text/plain": [
       "Empty DataFrame\n",
       "Columns: []\n",
       "Index: [ENSG00000000005, ENSG00000000419, ENSG00000000457, ENSG00000000460, ENSG00000000938]"
      ]
     },
     "execution_count": 15,
     "metadata": {},
     "output_type": "execute_result"
    }
   ],
   "source": [
    "BASE_NAME = 'spreadsheet_EMPTY_rows_'\n",
    "empty_row_spreadsheet_name = os.path.join(out_data_dir, BASE_NAME + '.G.GSC.tsv')\n",
    "\n",
    "spreadsheet_df = pd.DataFrame(data=None, index=gene_names)\n",
    "spreadsheet_df.to_csv(empty_row_spreadsheet_name, sep='\\t', index=True, header=None)\n",
    "print(BASE_NAME + '.G.GSC.tsv', '\\n')\n",
    "\n",
    "spreadsheet_df"
   ]
  },
  {
   "cell_type": "code",
   "execution_count": 16,
   "metadata": {
    "collapsed": false
   },
   "outputs": [
    {
     "name": "stdout",
     "output_type": "stream",
     "text": [
      "spreadsheet_NA_cols_.G.GSC.tsv \n",
      "                  NWOHK  NGMGC   NA  FPTXU  DADOA\n",
      "ENSG00000000005    1.0    1.0  0.0    0.0    1.0\n",
      "ENSG00000000419    0.0    1.0  0.0    1.0    1.0\n",
      "ENSG00000000457    1.0    0.0  0.0    1.0    1.0\n",
      "ENSG00000000460    0.0    1.0  0.0    0.0    1.0\n",
      "ENSG00000000938    0.0    0.0  1.0    1.0    1.0\n"
     ]
    }
   ],
   "source": [
    "BASE_NAME = 'spreadsheet_NA_cols_'\n",
    "NA_col_spreadsheet_name = os.path.join(out_data_dir, BASE_NAME + '.G.GSC.tsv')\n",
    "\n",
    "na_col_names = rand_names.copy()\n",
    "na_col_names[2] = 'NA'\n",
    "na_row_names = gene_names.copy()\n",
    "na_row_names[2] = 'NA'\n",
    "spreadsheet_df = pd.DataFrame(spreadsheet_data, index=gene_names, columns=na_col_names)\n",
    "spreadsheet_df.to_csv(NA_col_spreadsheet_name, sep='\\t', index=True, header=True)\n",
    "print(BASE_NAME + '.G.GSC.tsv', '\\n', spreadsheet_df)"
   ]
  },
  {
   "cell_type": "code",
   "execution_count": 17,
   "metadata": {
    "collapsed": false
   },
   "outputs": [
    {
     "name": "stdout",
     "output_type": "stream",
     "text": [
      "spreadsheet_NA_rows_.G.GSC.tsv \n",
      "                  NWOHK  NGMGC  XYWUO  FPTXU  DADOA\n",
      "ENSG00000000005    1.0    1.0    0.0    0.0    1.0\n",
      "ENSG00000000419    0.0    1.0    0.0    1.0    1.0\n",
      "NA                 1.0    0.0    0.0    1.0    1.0\n",
      "ENSG00000000460    0.0    1.0    0.0    0.0    1.0\n",
      "ENSG00000000938    0.0    0.0    1.0    1.0    1.0\n"
     ]
    }
   ],
   "source": [
    "BASE_NAME = 'spreadsheet_NA_rows_'\n",
    "NA_rows_spreadsheet_name = os.path.join(out_data_dir, BASE_NAME + '.G.GSC.tsv')\n",
    "\n",
    "spreadsheet_df = pd.DataFrame(spreadsheet_data, index=na_row_names, columns=rand_names)\n",
    "spreadsheet_df.to_csv(NA_rows_spreadsheet_name, sep='\\t', index=True, header=True)\n",
    "print(BASE_NAME + '.G.GSC.tsv', '\\n', spreadsheet_df)"
   ]
  },
  {
   "cell_type": "code",
   "execution_count": 18,
   "metadata": {
    "collapsed": false
   },
   "outputs": [
    {
     "name": "stdout",
     "output_type": "stream",
     "text": [
      "spreadsheet_NAs_rows_and_cols_.G.GSC.tsv \n",
      "                  NWOHK  NGMGC   NA  FPTXU  DADOA\n",
      "ENSG00000000005    1.0    1.0  0.0    0.0    1.0\n",
      "ENSG00000000419    0.0    1.0  0.0    1.0    1.0\n",
      "NA                 1.0    0.0  0.0    1.0    1.0\n",
      "ENSG00000000460    0.0    1.0  0.0    0.0    1.0\n",
      "ENSG00000000938    0.0    0.0  1.0    1.0    1.0\n"
     ]
    }
   ],
   "source": [
    "BASE_NAME = 'spreadsheet_NAs_rows_and_cols_'\n",
    "NA_row_and_col_spreadsheet_name = os.path.join(out_data_dir, BASE_NAME + '.G.GSC.tsv')\n",
    "\n",
    "spreadsheet_df = pd.DataFrame(spreadsheet_data, index=na_row_names, columns=na_col_names)\n",
    "spreadsheet_df.to_csv(NA_row_and_col_spreadsheet_name, sep='\\t', index=True, header=True)\n",
    "print(BASE_NAME + '.G.GSC.tsv', '\\n', spreadsheet_df)"
   ]
  },
  {
   "cell_type": "code",
   "execution_count": 19,
   "metadata": {
    "collapsed": false
   },
   "outputs": [
    {
     "name": "stdout",
     "output_type": "stream",
     "text": [
      "spreadsheet_NAN_data_.G.GSC.tsv \n",
      "                  NWOHK  NGMGC  XYWUO  FPTXU  DADOA\n",
      "ENSG00000000005    NaN    1.0    0.0    0.0    1.0\n",
      "ENSG00000000419    0.0    1.0    0.0    1.0    1.0\n",
      "ENSG00000000457    1.0    0.0    0.0    1.0    1.0\n",
      "ENSG00000000460    0.0    1.0    0.0    0.0    1.0\n",
      "ENSG00000000938    0.0    0.0    1.0    1.0    1.0\n"
     ]
    }
   ],
   "source": [
    "BASE_NAME = 'spreadsheet_NAN_data_'\n",
    "NAN_spreadsheet_name = os.path.join(out_data_dir, BASE_NAME + '.G.GSC.tsv')\n",
    "\n",
    "spreadsheet_df = pd.DataFrame(some_nan_data, index=gene_names, columns=rand_names)\n",
    "spreadsheet_df.to_csv(NAN_spreadsheet_name, sep='\\t', index=True, header=True)\n",
    "print(BASE_NAME + '.G.GSC.tsv', '\\n', spreadsheet_df)"
   ]
  },
  {
   "cell_type": "code",
   "execution_count": 20,
   "metadata": {
    "collapsed": false
   },
   "outputs": [
    {
     "name": "stdout",
     "output_type": "stream",
     "text": [
      "spreadsheet_Negative_data_.G.GSC.tsv \n",
      "                  NWOHK  NGMGC  XYWUO  FPTXU  DADOA\n",
      "ENSG00000000005   -1.0    1.0    0.0    0.0    1.0\n",
      "ENSG00000000419    0.0    1.0    0.0    1.0    1.0\n",
      "ENSG00000000457    1.0    0.0    0.0    1.0    1.0\n",
      "ENSG00000000460    0.0    1.0    0.0    0.0    1.0\n",
      "ENSG00000000938    0.0    0.0    1.0    1.0    1.0\n"
     ]
    }
   ],
   "source": [
    "BASE_NAME = 'spreadsheet_Negative_data_'\n",
    "NEG_spreadsheet_name = os.path.join(out_data_dir, BASE_NAME + '.G.GSC.tsv')\n",
    "\n",
    "spreadsheet_df = pd.DataFrame(some_neg_data, index=gene_names, columns=rand_names)\n",
    "spreadsheet_df.to_csv(NEG_spreadsheet_name, sep='\\t', index=True, header=True)\n",
    "print(BASE_NAME + '.G.GSC.tsv', '\\n', spreadsheet_df)"
   ]
  },
  {
   "cell_type": "code",
   "execution_count": 21,
   "metadata": {
    "collapsed": false
   },
   "outputs": [
    {
     "name": "stdout",
     "output_type": "stream",
     "text": [
      "spreadsheet_ALPHA_data_.G.GSC.tsv \n",
      "                 NWOHK  NGMGC  XYWUO  FPTXU  DADOA\n",
      "ENSG00000000005   abc    1.0    0.0    0.0    1.0\n",
      "ENSG00000000419     0    1.0    0.0    1.0    1.0\n",
      "ENSG00000000457     1    0.0    0.0    1.0    1.0\n",
      "ENSG00000000460     0    1.0    0.0    0.0    1.0\n",
      "ENSG00000000938     0    0.0    1.0    1.0    1.0\n"
     ]
    }
   ],
   "source": [
    "BASE_NAME = 'spreadsheet_ALPHA_data_'\n",
    "alpha_spreadsheet_name = os.path.join(out_data_dir, BASE_NAME + '.G.GSC.tsv')\n",
    "\n",
    "spreadsheet_df = pd.DataFrame(spreadsheet_data, index=gene_names, columns=rand_names)\n",
    "spreadsheet_df.loc[gene_names[0], rand_names[0]] = 'abc'\n",
    "\n",
    "spreadsheet_df.to_csv(alpha_spreadsheet_name, sep='\\t', index=True, header=True)\n",
    "print(BASE_NAME + '.G.GSC.tsv', '\\n', spreadsheet_df)"
   ]
  },
  {
   "cell_type": "code",
   "execution_count": null,
   "metadata": {
    "collapsed": true
   },
   "outputs": [],
   "source": []
  },
  {
   "cell_type": "code",
   "execution_count": null,
   "metadata": {
    "collapsed": true
   },
   "outputs": [],
   "source": []
  },
  {
   "cell_type": "code",
   "execution_count": null,
   "metadata": {
    "collapsed": true
   },
   "outputs": [],
   "source": []
  },
  {
   "cell_type": "code",
   "execution_count": null,
   "metadata": {
    "collapsed": true
   },
   "outputs": [],
   "source": []
  }
 ],
 "metadata": {
  "anaconda-cloud": {},
  "kernelspec": {
   "display_name": "Python [default]",
   "language": "python",
   "name": "python3"
  },
  "language_info": {
   "codemirror_mode": {
    "name": "ipython",
    "version": 3
   },
   "file_extension": ".py",
   "mimetype": "text/x-python",
   "name": "python",
   "nbconvert_exporter": "python",
   "pygments_lexer": "ipython3",
   "version": "3.5.2"
  }
 },
 "nbformat": 4,
 "nbformat_minor": 1
}
