{
 "cells": [
  {
   "cell_type": "markdown",
   "metadata": {},
   "source": [
    "## KnowEnG-Research/Data_Cleanup_Pipeline Feb 27, 2017 ( GeneSet Characterization )\n",
    "* new improved data from aws - latest"
   ]
  },
  {
   "cell_type": "code",
   "execution_count": 1,
   "metadata": {
    "collapsed": false
   },
   "outputs": [],
   "source": [
    "import os\n",
    "import sys\n",
    "import time\n",
    "\n",
    "import numpy as np\n",
    "import pandas as pd\n",
    "\n",
    "import knpackage.toolbox as kn\n",
    "\n",
    "sys.path.insert(1, '../../KnowEnG_Pipelines_Library/knpackage')\n",
    "import redis_utilities as redisutil\n",
    "\n",
    "sys.path.insert(1, '../../Data_Cleanup_Pipeline/src/')\n",
    "import data_cleanup_toolbox as dc\n",
    "\n",
    "sys.path.insert(1, '../src')\n",
    "import dcp_test"
   ]
  },
  {
   "cell_type": "code",
   "execution_count": 2,
   "metadata": {
    "collapsed": false
   },
   "outputs": [
    {
     "data": {
      "text/plain": [
       "'/Users/mojo/keg_tmp/keg_test_tools'"
      ]
     },
     "execution_count": 2,
     "metadata": {},
     "output_type": "execute_result"
    }
   ],
   "source": [
    "tools_base_dir, no_more_nothing = os.path.split(os.getcwd())\n",
    "tools_base_dir"
   ]
  },
  {
   "cell_type": "code",
   "execution_count": 3,
   "metadata": {
    "collapsed": true
   },
   "outputs": [],
   "source": [
    "def get_geneset_characterization_run_parameters(yml_dir, yml_file_name):\n",
    "    \"\"\" run_parameters = get_samples_clustering_run_parameters(yml_dir, yml_file_name) \"\"\"\n",
    "    run_parameters = kn.get_run_parameters(yml_dir, yml_file_name)\n",
    "    run_parameters['results_directory'] = kn.create_dir(os.getcwd(), 'run_dir')\n",
    "    run_parameters['pipeline_type'] = 'geneset_characterization'\n",
    "    run_parameters['redis_credential']['host'] = 'knowhub.org'\n",
    "    run_parameters['redis_credential']['port'] = 6379\n",
    "    run_parameters['redis_credential']['password'] = 'KnowEnG'\n",
    "    \n",
    "    return run_parameters"
   ]
  },
  {
   "cell_type": "code",
   "execution_count": 4,
   "metadata": {
    "collapsed": true
   },
   "outputs": [],
   "source": [
    "def get_spreadsheet_phenotype_dataframe(spreadsheet_data_dir, pheno_data_dir=None):\n",
    "    \"\"\" test_result_df = get_spreadsheet_phenotype_dataframe(spreadsheet_data_dir, pheno_data_dir) \"\"\"\n",
    "    \n",
    "    col_list = ['phenotype_file','validation_flag','message','spreadsheet_rows','spreadsheet_cols','cleanup_time']\n",
    "        \n",
    "    spreadsheet_file_list = sorted(os.listdir(spreadsheet_data_dir))\n",
    "    \n",
    "    test_result_df = pd.DataFrame(data=np.zeros((len(spreadsheet_file_list), len(col_list))),\n",
    "                                  index=spreadsheet_file_list, columns=col_list)\n",
    "    if pheno_data_dir is not None:\n",
    "        pheno_file_list = sorted(os.listdir(pheno_data_dir))\n",
    "        for pheno_file in pheno_file_list:\n",
    "            spreadsheet_list = get_spreadsheets_for_pheno(pheno_file, spreadsheet_file_list)\n",
    "            for spreadsheet_file in spreadsheet_list:\n",
    "                test_result_df.loc[spreadsheet_file, 'phenotype_file'] = pheno_file\n",
    "        \n",
    "    return test_result_df"
   ]
  },
  {
   "cell_type": "code",
   "execution_count": 5,
   "metadata": {
    "collapsed": true
   },
   "outputs": [],
   "source": [
    "def test_geneset_characterization_cleanup(run_parameters):\n",
    "    \"\"\" test_result_df = test_samples_clustering_cleanup(run_parameters) \"\"\"\n",
    "    \n",
    "    spreadsheet_data_dir = run_parameters['spreadsheet_data_dir']\n",
    "    \n",
    "    test_result_df = get_spreadsheet_phenotype_dataframe(spreadsheet_data_dir)\n",
    "    \n",
    "    for spreadsheet_file in list(test_result_df.index):\n",
    "        print(spreadsheet_file)\n",
    "        run_parameters['spreadsheet_name_full_path'] = os.path.join(spreadsheet_data_dir, spreadsheet_file)\n",
    "\n",
    "        tt = 0.0\n",
    "        validation_flag = False\n",
    "        message = \"Failed to finish\"\n",
    "\n",
    "        try:\n",
    "            t0 = time.time()\n",
    "            validation_flag, message = dc.run_geneset_characterization_pipeline(run_parameters)\n",
    "            tt = time.time() - t0\n",
    "        except:\n",
    "            pass\n",
    "\n",
    "        test_result_df.loc[spreadsheet_file, 'message'] = message\n",
    "        test_result_df.loc[spreadsheet_file, 'cleanup_time'] = tt\n",
    "        test_result_df.loc[spreadsheet_file, 'validation_flag'] = validation_flag\n",
    "            \n",
    "    return test_result_df"
   ]
  },
  {
   "cell_type": "code",
   "execution_count": 6,
   "metadata": {
    "collapsed": false
   },
   "outputs": [
    {
     "name": "stdout",
     "output_type": "stream",
     "text": [
      "pheno_data_dir :\t /Users/lanier4/pipeline_spreadsheets/aws_v3/SC_P_spreadsheets\n",
      "phenotype_full_path :\t ../data/spreadsheets/TEST_1_phenotype.tsv\n",
      "pipeline_type :\t geneset_characterization\n",
      "redis_credential :\t {'password': 'KnowEnG', 'port': 6379, 'host': 'knowhub.org'}\n",
      "results_directory :\t /Users/lanier4/dlanier_KnowEnG/keg_test_tools/notebooks/run_dir1488395011429015\n",
      "run_directory :\t /Users/lanier4/dlanier_KnowEnG/keg_test_tools/data/run_files\n",
      "run_file :\t dcp_test_tmplate.yml\n",
      "source_hint :\t \n",
      "spreadsheet_data_dir :\t /Users/lanier4/pipeline_spreadsheets/aws_v3/GSC_G_spreadsheets\n",
      "spreadsheet_name_full_path :\t ../data/spreadsheets/TEST_1_gene_expression.tsv\n",
      "taxonid :\t 9606\n"
     ]
    }
   ],
   "source": [
    "yml_file_name = 'dcp_test_tmplate.yml'\n",
    "yml_dir = os.path.join(tools_base_dir, 'data/run_files')\n",
    "run_parameters = get_geneset_characterization_run_parameters(yml_dir, yml_file_name)\n",
    "\n",
    "run_parameters['spreadsheet_data_dir'] = '/Users/lanier4/pipeline_spreadsheets/aws_v3/GSC_G_spreadsheets'\n",
    "\n",
    "for k in sorted(run_parameters.keys()):\n",
    "    print(k,':\\t',run_parameters[k])"
   ]
  },
  {
   "cell_type": "code",
   "execution_count": 7,
   "metadata": {
    "collapsed": false
   },
   "outputs": [
    {
     "name": "stdout",
     "output_type": "stream",
     "text": [
      "Dmel.bdgp.G.insitu_domain.binary.a.df\n",
      "Hsap.ccle.G.gene_mut.binary.a.df\n",
      "Hsap.dream11.G.exome_mut.binary.a.df\n",
      "Hsap.dream7_c1.G.rnaseq_expressed.binary.a.df\n",
      "Hsap.nbs_LUAD.G.gene_som_mut.binary.a.df\n",
      "Hsap.nbs_OV.G.gene_som_mut.binary.a.df\n",
      "Hsap.nbs_UCEC.G.gene_som_mut.binary.a.df\n",
      "Hsap.tcga_ucsc.G.som_mut.binary.a.df\n",
      "Mmus.aggression.G.diff_expr.binary.a.df\n"
     ]
    }
   ],
   "source": [
    "test_result_df = test_geneset_characterization_cleanup(run_parameters)"
   ]
  },
  {
   "cell_type": "code",
   "execution_count": 9,
   "metadata": {
    "collapsed": false
   },
   "outputs": [
    {
     "name": "stdout",
     "output_type": "stream",
     "text": [
      "\n",
      "\tStart testing geneset_characterization at Wed Mar  1 15:12:36 2017\n",
      "\t Dmel.bdgp.G.insitu_domain.binary.a.df\n",
      "\t Hsap.ccle.G.gene_mut.binary.a.df\n",
      "\t Hsap.dream11.G.exome_mut.binary.a.df\n",
      "\t Hsap.dream7_c1.G.rnaseq_expressed.binary.a.df\n",
      "\t Hsap.nbs_LUAD.G.gene_som_mut.binary.a.df\n",
      "\t Hsap.nbs_OV.G.gene_som_mut.binary.a.df\n",
      "\t Hsap.nbs_UCEC.G.gene_som_mut.binary.a.df\n",
      "\t Hsap.tcga_ucsc.G.som_mut.binary.a.df\n",
      "\t Mmus.aggression.G.diff_expr.binary.a.df\n"
     ]
    }
   ],
   "source": [
    "run_cleanup = False\n",
    "test_result_df = dcp_test.test_data_cleanup(run_parameters, run_cleanup)"
   ]
  },
  {
   "cell_type": "code",
   "execution_count": null,
   "metadata": {
    "collapsed": true
   },
   "outputs": [],
   "source": []
  },
  {
   "cell_type": "code",
   "execution_count": null,
   "metadata": {
    "collapsed": true
   },
   "outputs": [],
   "source": []
  },
  {
   "cell_type": "code",
   "execution_count": null,
   "metadata": {
    "collapsed": true
   },
   "outputs": [],
   "source": []
  },
  {
   "cell_type": "code",
   "execution_count": null,
   "metadata": {
    "collapsed": true
   },
   "outputs": [],
   "source": []
  },
  {
   "cell_type": "code",
   "execution_count": null,
   "metadata": {
    "collapsed": true
   },
   "outputs": [],
   "source": []
  },
  {
   "cell_type": "code",
   "execution_count": null,
   "metadata": {
    "collapsed": true
   },
   "outputs": [],
   "source": []
  },
  {
   "cell_type": "code",
   "execution_count": null,
   "metadata": {
    "collapsed": true
   },
   "outputs": [],
   "source": []
  },
  {
   "cell_type": "code",
   "execution_count": null,
   "metadata": {
    "collapsed": true
   },
   "outputs": [],
   "source": []
  },
  {
   "cell_type": "code",
   "execution_count": null,
   "metadata": {
    "collapsed": true
   },
   "outputs": [],
   "source": []
  },
  {
   "cell_type": "code",
   "execution_count": null,
   "metadata": {
    "collapsed": true
   },
   "outputs": [],
   "source": []
  },
  {
   "cell_type": "code",
   "execution_count": null,
   "metadata": {
    "collapsed": true
   },
   "outputs": [],
   "source": []
  }
 ],
 "metadata": {
  "anaconda-cloud": {},
  "kernelspec": {
   "display_name": "Python [default]",
   "language": "python",
   "name": "python3"
  },
  "language_info": {
   "codemirror_mode": {
    "name": "ipython",
    "version": 3
   },
   "file_extension": ".py",
   "mimetype": "text/x-python",
   "name": "python",
   "nbconvert_exporter": "python",
   "pygments_lexer": "ipython3",
   "version": "3.5.2"
  }
 },
 "nbformat": 4,
 "nbformat_minor": 1
}
