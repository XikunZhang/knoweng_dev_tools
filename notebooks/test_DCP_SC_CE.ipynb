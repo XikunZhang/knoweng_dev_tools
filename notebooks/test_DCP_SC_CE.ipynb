{
 "cells": [
  {
   "cell_type": "markdown",
   "metadata": {
    "deletable": true,
    "editable": true
   },
   "source": [
    "### KnowEnG-Research/Data_Cleanup_Pipeline test all methods notebook (for script run on cloud)\n",
    "    Use this notebook to test the KnowEnG... /Data_Cleanup_Pipeline Locally:\n",
    "\n",
    "\n",
    "* Create a directory to hold all this code with the test tools repository cloned into it.\n",
    "    * call it homely_directory\n",
    "    * git clone https://github.com/dlanier/keg_test_tools.git\n",
    "\n",
    "\n",
    "* Clone the Data_Cleanup_Pipeline from github. \n",
    "    * git clone https://github.com/KnowEnG/Data_Cleanup_Pipeline.git\n",
    "    * change to Data_Cleanup_Pipeline/test and run >make env_setup\n",
    "    * change back to the homely_directory\n",
    "\n",
    "\n",
    "* Clone the Samples_Clustering_Pipeline from github. \n",
    "    * git clone https://github.com/KnowEnG/Data_Cleanup_Pipeline.git\n",
    "    * change to Samples_Clustering_Pipeline/test and run >make env_setup\n",
    "    * change back to the homely_directory\n",
    "\n",
    "\n",
    "* Clone the Clustering_Eval_Pipeline from github. \n",
    "    * git clone https://github.com/KnowEnG/Data_Cleanup_Pipeline.git\n",
    "    * change to Clustering_Eval_Pipeline/test and run >make env_setup\n",
    "    \n",
    "    \n",
    "* Run this jupyter notebook"
   ]
  },
  {
   "cell_type": "code",
   "execution_count": 26,
   "metadata": {
    "collapsed": false,
    "deletable": true,
    "editable": true
   },
   "outputs": [],
   "source": [
    "SHOW_COMMAND_LINE_OUTPUT = True\n",
    "\n",
    "import warnings\n",
    "warnings.filterwarnings('ignore')\n",
    "\n",
    "import os\n",
    "import sys\n",
    "import time\n",
    "\n",
    "import pandas as pd\n",
    "import numpy as np\n",
    "\n",
    "dcp_src = '../../Data_Cleanup_Pipeline/src/'\n",
    "sys.path.insert(1, dcp_src)\n",
    "import data_cleanup_toolbox as dc\n",
    "\n",
    "scp_src = '../../Samples_Clustering_Pipeline/src/'\n",
    "sys.path.insert(1, scp_src)\n",
    "import sample_clustering_toolbox as sc\n",
    "\n",
    "cep_src = '../../Cluster_Evaluation_Pipeline/src'\n",
    "sys.path.insert(1, cep_src)\n",
    "import clustering_eval_toolbox as ce\n",
    "\n",
    "sys.path.insert(1, '../../keg_test_tools/src')\n",
    "import dcp_test\n",
    "import samples_clustering_test_module as sc_test\n",
    "\n",
    "import knpackage.toolbox as kn\n",
    "\n",
    "# If not running inside a docker container of the KnowEnG variety: Create this Directory\n",
    "output_data_dir = '../../test/run_dir'\n",
    "yaml_dir = '../../Data_Cleanup_Pipeline/data/run_files'\n",
    "yaml_file = 'TEMPLATE_data_cleanup.yml'"
   ]
  },
  {
   "cell_type": "code",
   "execution_count": 60,
   "metadata": {
    "collapsed": true
   },
   "outputs": [],
   "source": [
    "import samples_clustering_test_module as sc_test"
   ]
  },
  {
   "cell_type": "code",
   "execution_count": 27,
   "metadata": {
    "collapsed": false,
    "deletable": true,
    "editable": true
   },
   "outputs": [
    {
     "name": "stdout",
     "output_type": "stream",
     "text": [
      "spreadsheet_name_full_path :\t\t /Users/lanier4/pipeline_spreadsheets/aws_v3/SC_G_spreadsheets/Hsap.ccle.G.gene_mut.binary.a.df\n",
      "pheno_data_dir :\t\t /Users/lanier4/pipeline_spreadsheets/aws_v3/SC_P_spreadsheets\n",
      "run_directory :\t\t ../../Data_Cleanup_Pipeline/src/\n",
      "results_directory :\t\t ./\n",
      "SHOW_COMMAND_LINE_OUTPUT :\t\t True\n",
      "source_hint :\t\t \n",
      "pipeline_type :\t\t samples_clustering_pipeline\n",
      "spreadsheet_data_dir :\t\t /Users/lanier4/pipeline_spreadsheets/aws_v3/SC_G_spreadsheets\n",
      "taxonid :\t\t 9606\n",
      "phenotype_name_full_path :\t\t ../data/spreadsheets/TEST_1_phenotype.tsv\n",
      "phenotype_full_path :\t\t /Users/lanier4/pipeline_spreadsheets/aws_v3/SC_P_spreadsheets/Hsap.ccle.P.cell_line_info.mixed.c.df\n",
      "redis_credential :\t\t {'host': 'knowredis.knowhub.org', 'port': 6379, 'password': 'KnowEnG'}\n",
      "run_file :\t\t TEMPLATE_data_cleanup.yml\n"
     ]
    }
   ],
   "source": [
    "run_parameters = kn.get_run_parameters(yaml_dir, yaml_file)\n",
    "\n",
    "#                   Data_Cleanup_Pipeline   Samples Clustering\n",
    "data_root = '/Users/lanier4/pipeline_spreadsheets/aws_v3'\n",
    "\n",
    "sc_phenotypes_path = os.path.join(data_root, 'SC_P_spreadsheets')\n",
    "run_parameters['pheno_data_dir'] = sc_phenotypes_path\n",
    "run_parameters['phenotype_name_full_path'] = os.path.join(\n",
    "        run_parameters['pheno_data_dir'], 'Hsap.ccle.P.cell_line_info.mixed.c.df')\n",
    "\n",
    "sc_spreadsheets_path = os.path.join(data_root, 'SC_G_spreadsheets')\n",
    "run_parameters['spreadsheet_data_dir'] = sc_spreadsheets_path\n",
    "run_parameters['spreadsheet_name_full_path'] = os.path.join(\n",
    "        run_parameters['spreadsheet_data_dir'], 'Hsap.ccle.G.gene_mut.binary.a.df')\n",
    "\n",
    "run_parameters['pipeline_type'] = 'samples_clustering_pipeline'\n",
    "\n",
    "run_parameters['run_directory'] = dcp_src\n",
    "run_parameters['results_directory'] = '../test/tmp'\n",
    "\n",
    "run_parameters['SHOW_COMMAND_LINE_OUTPUT'] = True\n",
    "if SHOW_COMMAND_LINE_OUTPUT:\n",
    "    for p in list(run_parameters.keys()):\n",
    "        print(p, ':\\t\\t', run_parameters[p])\n",
    "\n",
    "# test_result_df = dcp_test.test_data_cleanup(run_parameters)"
   ]
  },
  {
   "cell_type": "code",
   "execution_count": null,
   "metadata": {
    "collapsed": false
   },
   "outputs": [],
   "source": [
    "spreadsheet_data_dir = run_parameters['spreadsheet_data_dir']\n",
    "pheno_data_dir = run_parameters['pheno_data_dir']\n",
    "\n",
    "t0 = time.time()\n",
    "sc_test_list_df = sc_test.get_SC_phenotype_viability_df(spreadsheet_data_dir, pheno_data_dir)\n",
    "tt = time.time() - t0\n",
    "print('Run time: %0.3f'%tt)"
   ]
  },
  {
   "cell_type": "code",
   "execution_count": null,
   "metadata": {
    "collapsed": true
   },
   "outputs": [],
   "source": [
    "# sc_test_list_df\n",
    "row_list = list(sc_test_list_df.index)\n",
    "row_n = row_list[0]\n",
    "spreadsheet_name = sc_test_list_df['spreadsheet'].loc[row_n]\n",
    "phenotype_name = sc_test_list_df['phenotype'].loc[row_n]"
   ]
  },
  {
   "cell_type": "code",
   "execution_count": null,
   "metadata": {
    "collapsed": false,
    "deletable": true,
    "editable": true
   },
   "outputs": [
    {
     "name": "stdout",
     "output_type": "stream",
     "text": [
      "Success! =  True\n",
      "/Users/lanier4/pipeline_spreadsheets/aws_v3/SC_G_spreadsheets/Hsap.ccle.G.gene_mut.binary.a.df \n",
      "\t /Users/lanier4/pipeline_spreadsheets/aws_v3/SC_P_spreadsheets/Hsap.tcga_ucsc.P.clinical.mixed.c.df\n",
      "Success! =  True\n",
      "/Users/lanier4/pipeline_spreadsheets/aws_v3/SC_G_spreadsheets/Hsap.ccle.G.gene_mut.binary.a.df \n",
      "\t /Users/lanier4/pipeline_spreadsheets/aws_v3/SC_P_spreadsheets/Hsap.tcga_ucsc.P.clinical.mixed.c.df\n",
      "Success! =  True\n",
      "/Users/lanier4/pipeline_spreadsheets/aws_v3/SC_G_spreadsheets/Hsap.ccle.G.gene_mut.binary.a.df \n",
      "\t /Users/lanier4/pipeline_spreadsheets/aws_v3/SC_P_spreadsheets/Hsap.tcga_ucsc.P.clinical.mixed.c.df\n"
     ]
    }
   ],
   "source": [
    "run_parameters['results_directory'] = '../test/tmp'\n",
    "\n",
    "for row_n in list(sc_test_list_df.index):\n",
    "    if sc_test_list_df['samples_intersect'].loc[row_n] > 0:\n",
    "        spreadsheet_name = sc_test_list_df['spreadsheet'].loc[row_n]\n",
    "        run_parameters['spreadsheet_name_full_path'] = os.path.join(\n",
    "            run_parameters['spreadsheet_data_dir'], spreadsheet_name)\n",
    "        \n",
    "        phenotype_name = sc_test_list_df['phenotype'].loc[row_n]\n",
    "        run_parameters['phenotype_name_full_path'] = os.path.join(\n",
    "            run_parameters['pheno_data_dir'], phenotype_name)\n",
    "        \n",
    "        validation_flag, message = dc.run_samples_clustering_pipeline(run_parameters)\n",
    "        \n",
    "        if validation_flag:\n",
    "            print('Success! = ', validation_flag)\n",
    "            print(run_parameters['spreadsheet_name_full_path'], '\\n\\t', run_parameters['phenotype_full_path'])\n",
    "#             print(message)\n",
    "        else:\n",
    "            print('Fail ! = ', validation_flag)\n",
    "            print(run_parameters['spreadsheet_name_full_path'], '\\n\\t', run_parameters['phenotype_full_path'])\n",
    "#             print(message)"
   ]
  },
  {
   "cell_type": "code",
   "execution_count": null,
   "metadata": {
    "collapsed": true
   },
   "outputs": [],
   "source": []
  },
  {
   "cell_type": "code",
   "execution_count": null,
   "metadata": {
    "collapsed": true
   },
   "outputs": [],
   "source": []
  },
  {
   "cell_type": "code",
   "execution_count": null,
   "metadata": {
    "collapsed": true
   },
   "outputs": [],
   "source": []
  },
  {
   "cell_type": "code",
   "execution_count": null,
   "metadata": {
    "collapsed": true
   },
   "outputs": [],
   "source": []
  },
  {
   "cell_type": "code",
   "execution_count": null,
   "metadata": {
    "collapsed": true
   },
   "outputs": [],
   "source": []
  },
  {
   "cell_type": "code",
   "execution_count": null,
   "metadata": {
    "collapsed": true
   },
   "outputs": [],
   "source": []
  },
  {
   "cell_type": "code",
   "execution_count": null,
   "metadata": {
    "collapsed": true
   },
   "outputs": [],
   "source": []
  },
  {
   "cell_type": "code",
   "execution_count": null,
   "metadata": {
    "collapsed": true
   },
   "outputs": [],
   "source": []
  },
  {
   "cell_type": "code",
   "execution_count": null,
   "metadata": {
    "collapsed": true,
    "deletable": true,
    "editable": true
   },
   "outputs": [],
   "source": []
  },
  {
   "cell_type": "code",
   "execution_count": null,
   "metadata": {
    "collapsed": true,
    "deletable": true,
    "editable": true
   },
   "outputs": [],
   "source": []
  },
  {
   "cell_type": "code",
   "execution_count": null,
   "metadata": {
    "collapsed": true,
    "deletable": true,
    "editable": true
   },
   "outputs": [],
   "source": []
  },
  {
   "cell_type": "code",
   "execution_count": null,
   "metadata": {
    "collapsed": true,
    "deletable": true,
    "editable": true
   },
   "outputs": [],
   "source": []
  },
  {
   "cell_type": "code",
   "execution_count": null,
   "metadata": {
    "collapsed": true,
    "deletable": true,
    "editable": true
   },
   "outputs": [],
   "source": []
  }
 ],
 "metadata": {
  "anaconda-cloud": {},
  "kernelspec": {
   "display_name": "Python [default]",
   "language": "python",
   "name": "python3"
  },
  "language_info": {
   "codemirror_mode": {
    "name": "ipython",
    "version": 3
   },
   "file_extension": ".py",
   "mimetype": "text/x-python",
   "name": "python",
   "nbconvert_exporter": "python",
   "pygments_lexer": "ipython3",
   "version": "3.5.2"
  }
 },
 "nbformat": 4,
 "nbformat_minor": 1
}
