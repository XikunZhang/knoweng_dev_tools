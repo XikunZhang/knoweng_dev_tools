{
 "cells": [
  {
   "cell_type": "markdown",
   "metadata": {
    "deletable": true,
    "editable": true
   },
   "source": [
    "# Spreadsheets .G.  genes X samples special case test data files generator\n",
    "* phenotype file with one row having so many \"NA\" values that bootstrap sampling produces empty or nearly empty rows.\n",
    "* spreadsheet files to aggrovate the same"
   ]
  },
  {
   "cell_type": "code",
   "execution_count": 1,
   "metadata": {
    "collapsed": false,
    "deletable": true,
    "editable": true
   },
   "outputs": [],
   "source": [
    "import os\n",
    "import sys\n",
    "import itertools\n",
    "import time\n",
    "import numpy as np\n",
    "import pandas as pd\n",
    "\n",
    "sys.path.insert(1, '../../KnowEnG_Pipelines_Library')\n",
    "import knpackage.redis_utilities\n",
    "sys.path.insert(1, '../../KnowEnG_Pipelines_Library/knpackage')\n",
    "import knpackage.toolbox as kn\n",
    "\n",
    "sys.path.insert(1, '../src')\n",
    "import data_synth\n",
    "import data_wrangler as dw\n",
    "\n",
    "sys.path.insert(1, '../../Data_Cleanup_Pipeline/src/')\n",
    "import data_cleanup_toolbox as dc"
   ]
  },
  {
   "cell_type": "code",
   "execution_count": 2,
   "metadata": {
    "collapsed": true,
    "deletable": true,
    "editable": true
   },
   "outputs": [],
   "source": [
    "#                                              Set output directory\n",
    "out_data_dir = '../data/GP_special_case/NA_80'\n",
    "pheno_pearson_data_dir = out_data_dir\n",
    "pheno_t_test_data_dir = out_data_dir"
   ]
  },
  {
   "cell_type": "code",
   "execution_count": 3,
   "metadata": {
    "collapsed": false,
    "deletable": true,
    "editable": true
   },
   "outputs": [
    {
     "data": {
      "text/plain": [
       "array([[ 0.,  0.,  1.,  1.,  1.,  0.,  1.,  0.,  0.,  1.],\n",
       "       [ 0.,  1.,  0.,  1.,  1.,  1.,  1.,  0.,  1.,  0.],\n",
       "       [ 0.,  0.,  1.,  0.,  1.,  1.,  0.,  1.,  0.,  0.],\n",
       "       [ 1.,  0.,  0.,  1.,  1.,  1.,  1.,  1.,  1.,  1.],\n",
       "       [ 1.,  1.,  1.,  1.,  1.,  0.,  1.,  0.,  1.,  0.],\n",
       "       [ 1.,  1.,  0.,  1.,  1.,  0.,  1.,  1.,  0.,  0.],\n",
       "       [ 1.,  1.,  0.,  0.,  1.,  1.,  1.,  1.,  1.,  1.],\n",
       "       [ 1.,  1.,  1.,  1.,  1.,  0.,  1.,  0.,  1.,  1.],\n",
       "       [ 0.,  1.,  1.,  1.,  0.,  0.,  0.,  1.,  0.,  1.],\n",
       "       [ 0.,  1.,  1.,  0.,  1.,  0.,  1.,  0.,  0.,  0.]])"
      ]
     },
     "execution_count": 3,
     "metadata": {},
     "output_type": "execute_result"
    }
   ],
   "source": [
    "#                                              Define spreadsheet data\n",
    "n_spreadsheet_rows = 10\n",
    "n_spreadsheet_cols = 10\n",
    "spreadsheet_shape = (n_spreadsheet_rows, n_spreadsheet_cols)\n",
    "\n",
    "spreadsheet_data = np.random.random(spreadsheet_shape)\n",
    "spreadsheet_data[spreadsheet_data < 0.5] = 0.0\n",
    "spreadsheet_data[spreadsheet_data != 0.0] = 1.0\n",
    "spreadsheet_data"
   ]
  },
  {
   "cell_type": "code",
   "execution_count": 4,
   "metadata": {
    "collapsed": false,
    "deletable": true,
    "editable": true
   },
   "outputs": [
    {
     "name": "stdout",
     "output_type": "stream",
     "text": [
      " pearson data:\n",
      " [[ 0.34224992  0.67804299  0.          0.          0.          0.\n",
      "   0.45465323  0.33003557  0.63063268  0.40359334]\n",
      " [ 0.          0.          0.          0.57356497  0.          0.\n",
      "   0.32752679  0.49000592  0.52517691  0.60188106]\n",
      " [ 0.          0.          0.42774474  0.55369497  0.          0.28941135\n",
      "   0.          0.          0.41051662  0.43556742]\n",
      " [ 0.54804132  0.          0.          0.42934368  0.          0.\n",
      "   0.64139926  0.26346743  0.39275985  0.        ]\n",
      " [ 0.          0.29391454  0.28232303  0.53683982  0.          0.59504041\n",
      "   0.          0.65704163  0.7339407   0.44149888]\n",
      " [ 0.          0.          0.6372794   0.34379558  0.          0.\n",
      "   0.28105551  0.          0.          0.52075051]\n",
      " [ 0.262115    0.          0.          0.3155276   0.          0.          0.\n",
      "   0.          0.          0.47020995]\n",
      " [ 0.67981726  0.          0.50088571  0.          0.3270369   0.69045738\n",
      "   0.45666225  0.          0.          0.57471769]\n",
      " [ 0.28201243  0.          0.37535389  0.          0.          0.75351619\n",
      "   0.          0.          0.65490495  0.        ]\n",
      " [ 0.          0.37733524  0.          0.29314065  0.          0.51764857\n",
      "   0.7366212   0.51803718  0.63097213  0.38029166]]\n",
      "\n",
      " t_test data:\n",
      " [[ 0.  1.  0.  0.  0.  1.  0.  1.  1.  0.]\n",
      " [ 0.  0.  1.  0.  0.  0.  1.  0.  0.  1.]\n",
      " [ 0.  0.  1.  0.  1.  0.  1.  1.  0.  1.]\n",
      " [ 0.  1.  0.  1.  1.  0.  1.  1.  1.  1.]\n",
      " [ 1.  1.  1.  0.  0.  0.  1.  1.  1.  1.]\n",
      " [ 0.  0.  0.  1.  1.  1.  0.  0.  0.  1.]\n",
      " [ 0.  0.  1.  0.  1.  1.  1.  0.  1.  0.]\n",
      " [ 0.  1.  0.  0.  1.  0.  1.  1.  0.  0.]\n",
      " [ 0.  1.  0.  1.  0.  0.  0.  1.  1.  1.]\n",
      " [ 1.  1.  1.  1.  1.  1.  0.  0.  0.  0.]]\n"
     ]
    },
    {
     "data": {
      "text/plain": [
       "['MTGFFJC',\n",
       " 'OQAKXPB',\n",
       " 'JVVYTZI',\n",
       " 'EQAOCFK',\n",
       " 'EPUMLUW',\n",
       " 'QYLOQXZ',\n",
       " 'IIRLLZM',\n",
       " 'WWLIJVJ',\n",
       " 'TYXWRHJ',\n",
       " 'RIEXTAW']"
      ]
     },
     "execution_count": 4,
     "metadata": {},
     "output_type": "execute_result"
    }
   ],
   "source": [
    "#                                              Define phenotype data\n",
    "pheno_pearson_data = np.random.random(spreadsheet_shape)\n",
    "pheno_pearson_data = pheno_pearson_data - 0.24\n",
    "pheno_pearson_data[pheno_pearson_data < 0.26] = 0.0\n",
    "print(' pearson data:\\n', pheno_pearson_data)\n",
    "\n",
    "pheno_t_test_data = np.random.random(spreadsheet_shape)\n",
    "pheno_t_test_data[pheno_t_test_data < 0.5] = 0.0\n",
    "pheno_t_test_data[pheno_t_test_data != 0.0] = 1.0\n",
    "print('\\n t_test data:\\n', pheno_t_test_data)\n",
    "\n",
    "drug_names = data_synth.get_rand_unique_name_list(n_names=n_spreadsheet_rows, name_length=7)\n",
    "drug_names"
   ]
  },
  {
   "cell_type": "code",
   "execution_count": 5,
   "metadata": {
    "collapsed": false,
    "deletable": true,
    "editable": true
   },
   "outputs": [
    {
     "data": {
      "text/plain": [
       "array([[ nan,   0.,   1.,   1.,   1.,   0.,   1.,   0.,   0.,   1.],\n",
       "       [  0.,   1.,   0.,   1.,   1.,   1.,   1.,   0.,   1.,   0.],\n",
       "       [  0.,   0.,   1.,   0.,   1.,   1.,   0.,   1.,   0.,   0.],\n",
       "       [  1.,   0.,   0.,   1.,   1.,   1.,   1.,   1.,   1.,   1.],\n",
       "       [  1.,   1.,   1.,   1.,   1.,   0.,   1.,   0.,   1.,   0.],\n",
       "       [  1.,   1.,   0.,   1.,   1.,   0.,   1.,   1.,   0.,   0.],\n",
       "       [  1.,   1.,   0.,   0.,   1.,   1.,   1.,   1.,   1.,   1.],\n",
       "       [  1.,   1.,   1.,   1.,   1.,   0.,   1.,   0.,   1.,   1.],\n",
       "       [  0.,   1.,   1.,   1.,   0.,   0.,   0.,   1.,   0.,   1.],\n",
       "       [  0.,   1.,   1.,   0.,   1.,   0.,   1.,   0.,   0.,   0.]])"
      ]
     },
     "execution_count": 5,
     "metadata": {},
     "output_type": "execute_result"
    }
   ],
   "source": [
    "#                                              Define spreadsheet Nan data\n",
    "some_nan_data = spreadsheet_data.copy()\n",
    "some_nan_data[0,0] = np.nan\n",
    "some_nan_data"
   ]
  },
  {
   "cell_type": "code",
   "execution_count": 6,
   "metadata": {
    "collapsed": false,
    "deletable": true,
    "editable": true
   },
   "outputs": [],
   "source": [
    "#                                              Get gene - ensembl names list for simulation\n",
    "KnowEnG_GP_dir = '../../Samples_Clustering_Pipeline/data/networks'\n",
    "network_full_file = os.path.join(KnowEnG_GP_dir, 'keg_ST90_4col.edge')\n",
    "adj_mat, ensembl_names = kn.get_sparse_network_matrix(network_full_file)\n",
    "del adj_mat\n",
    "raw_data_dir = '../../'"
   ]
  },
  {
   "cell_type": "code",
   "execution_count": 7,
   "metadata": {
    "collapsed": false,
    "deletable": true,
    "editable": true
   },
   "outputs": [],
   "source": [
    "#                                              Get assorted gene names list for simulation\n",
    "raw_data_dir = '../../../pipeline_spreadsheets/raw'\n",
    "sp_file = 'Hsap.ccle.G.gene_mut.binary.df'\n",
    "sp_4_gene_names_df = pd.read_csv(os.path.join(raw_data_dir,sp_file),sep='\\t',index_col=0,header=0)\n",
    "asorted_gene_names = list(sp_4_gene_names_df.index)\n",
    "del sp_4_gene_names_df"
   ]
  },
  {
   "cell_type": "markdown",
   "metadata": {},
   "source": [
    "## Create bad data: phenotype data with 80% \"NA\" in one row\n",
    "* and some bad data elsewhere"
   ]
  },
  {
   "cell_type": "code",
   "execution_count": 8,
   "metadata": {
    "collapsed": false
   },
   "outputs": [
    {
     "data": {
      "text/plain": [
       "array([[        nan,         nan,         nan,         nan,  0.        ,\n",
       "                nan,         nan,         nan,         nan,  0.40359334],\n",
       "       [ 0.        ,  0.        ,  0.        ,  0.57356497,         nan,\n",
       "         0.        ,  0.32752679,  0.49000592,  0.52517691,  0.60188106],\n",
       "       [ 0.        ,  0.        ,  0.42774474,  0.55369497,  0.        ,\n",
       "         0.28941135,  0.        ,  0.        ,         nan,  0.43556742],\n",
       "       [ 0.54804132,  0.        ,  0.        ,  0.42934368,  0.        ,\n",
       "         0.        ,  0.64139926,         nan,  0.39275985,  0.        ],\n",
       "       [ 0.        ,  0.29391454,  0.28232303,  0.53683982,  0.        ,\n",
       "         0.59504041,  0.        ,         nan,  0.7339407 ,  0.44149888],\n",
       "       [ 0.        ,  0.        ,  0.6372794 ,  0.34379558,         nan,\n",
       "         0.        ,  0.28105551,  0.        ,  0.        ,         nan],\n",
       "       [ 0.262115  ,  0.        ,  0.        ,  0.3155276 ,  0.        ,\n",
       "         0.        ,  0.        ,  0.        ,  0.        ,  0.47020995],\n",
       "       [ 0.67981726,  0.        ,  0.50088571,  0.        ,  0.3270369 ,\n",
       "         0.69045738,         nan,  0.        ,  0.        ,  0.57471769],\n",
       "       [ 0.28201243,  0.        ,  0.37535389,  0.        ,         nan,\n",
       "         0.75351619,  0.        ,  0.        ,  0.65490495,  0.        ],\n",
       "       [ 0.        ,  0.37733524,         nan,  0.29314065,  0.        ,\n",
       "         0.51764857,  0.7366212 ,  0.51803718,  0.63097213,  0.38029166]])"
      ]
     },
     "execution_count": 8,
     "metadata": {},
     "output_type": "execute_result"
    }
   ],
   "source": [
    "#                                              Set first row to 80% NA values the rest to up to 20% NA (person)\n",
    "pheno_pearson_NA_data = pheno_pearson_data.copy()\n",
    "percent_Bad = 0.8\n",
    "\n",
    "select_NA = np.random.permutation(n_spreadsheet_cols)\n",
    "select_NA = select_NA[:int(np.round(percent_Bad * n_spreadsheet_cols))]\n",
    "pheno_pearson_NA_data[0, select_NA] = np.nan\n",
    "\n",
    "percent_Bad_II = 0.2\n",
    "for r in range(1, n_spreadsheet_rows):\n",
    "    select_NA = np.random.permutation(n_spreadsheet_cols)\n",
    "    select_NA = select_NA[:int(np.round(np.random.random() * percent_Bad_II * n_spreadsheet_cols))]\n",
    "    pheno_pearson_NA_data[r, select_NA] = np.nan\n",
    "    \n",
    "pheno_pearson_NA_data"
   ]
  },
  {
   "cell_type": "code",
   "execution_count": 9,
   "metadata": {
    "collapsed": false
   },
   "outputs": [
    {
     "data": {
      "text/plain": [
       "array([[  0.,  nan,  nan,  nan,  nan,  nan,  nan,  nan,   1.,  nan],\n",
       "       [  0.,   0.,   1.,   0.,   0.,   0.,   1.,   0.,   0.,  nan],\n",
       "       [  0.,   0.,  nan,   0.,   1.,   0.,   1.,   1.,   0.,   1.],\n",
       "       [  0.,   1.,   0.,   1.,  nan,   0.,   1.,   1.,   1.,  nan],\n",
       "       [ nan,   1.,   1.,   0.,   0.,   0.,   1.,   1.,   1.,   1.],\n",
       "       [  0.,   0.,   0.,   1.,   1.,   1.,   0.,  nan,   0.,   1.],\n",
       "       [  0.,   0.,   1.,   0.,   1.,  nan,   1.,   0.,   1.,   0.],\n",
       "       [ nan,   1.,   0.,   0.,   1.,  nan,   1.,   1.,   0.,   0.],\n",
       "       [  0.,   1.,   0.,   1.,   0.,   0.,   0.,   1.,  nan,   1.],\n",
       "       [  1.,  nan,   1.,   1.,   1.,   1.,   0.,   0.,   0.,   0.]])"
      ]
     },
     "execution_count": 9,
     "metadata": {},
     "output_type": "execute_result"
    }
   ],
   "source": [
    "#                                              Set first row to 80% NA values the rest to up to 20% NA (t_test)\n",
    "pheno_t_test_NA_data = pheno_t_test_data.copy()\n",
    "percent_Bad = 0.8\n",
    "\n",
    "select_NA = np.random.permutation(n_spreadsheet_cols)\n",
    "select_NA = select_NA[:int(np.round(percent_Bad * n_spreadsheet_cols))]\n",
    "pheno_t_test_NA_data[0, select_NA] = np.nan\n",
    "\n",
    "percent_Bad_II = 0.2\n",
    "for r in range(1, n_spreadsheet_rows):\n",
    "    select_NA = np.random.permutation(n_spreadsheet_cols)\n",
    "    select_NA = select_NA[:int(np.round(np.random.random() * percent_Bad_II * n_spreadsheet_cols))]\n",
    "    pheno_t_test_NA_data[r, select_NA] = np.nan\n",
    "    \n",
    "pheno_t_test_NA_data"
   ]
  },
  {
   "cell_type": "code",
   "execution_count": 12,
   "metadata": {
    "collapsed": false,
    "deletable": true,
    "editable": true
   },
   "outputs": [
    {
     "name": "stdout",
     "output_type": "stream",
     "text": [
      "spreadsheet_C_.G.tsv \n",
      "                  LYNTN  RACUF  GJICK  NRWCQ  AEDNY  IWWPW  RGGPY  EANLT  \\\n",
      "ENSG00000000005    0.0    0.0    1.0    1.0    1.0    0.0    1.0    0.0   \n",
      "ENSG00000000419    0.0    1.0    0.0    1.0    1.0    1.0    1.0    0.0   \n",
      "ENSG00000000457    0.0    0.0    1.0    0.0    1.0    1.0    0.0    1.0   \n",
      "ENSG00000000460    1.0    0.0    0.0    1.0    1.0    1.0    1.0    1.0   \n",
      "ENSG00000000938    1.0    1.0    1.0    1.0    1.0    0.0    1.0    0.0   \n",
      "ENSG00000000971    1.0    1.0    0.0    1.0    1.0    0.0    1.0    1.0   \n",
      "ENSG00000001084    1.0    1.0    0.0    0.0    1.0    1.0    1.0    1.0   \n",
      "ENSG00000001167    1.0    1.0    1.0    1.0    1.0    0.0    1.0    0.0   \n",
      "ENSG00000001497    0.0    1.0    1.0    1.0    0.0    0.0    0.0    1.0   \n",
      "ENSG00000001617    0.0    1.0    1.0    0.0    1.0    0.0    1.0    0.0   \n",
      "\n",
      "                 REOIA  FHIEM  \n",
      "ENSG00000000005    0.0    1.0  \n",
      "ENSG00000000419    1.0    0.0  \n",
      "ENSG00000000457    0.0    0.0  \n",
      "ENSG00000000460    1.0    1.0  \n",
      "ENSG00000000938    1.0    0.0  \n",
      "ENSG00000000971    0.0    0.0  \n",
      "ENSG00000001084    1.0    1.0  \n",
      "ENSG00000001167    1.0    1.0  \n",
      "ENSG00000001497    0.0    1.0  \n",
      "ENSG00000001617    0.0    0.0  \n",
      "\n",
      " spreadsheet_C_.P.pearson.tsv \n",
      "             LYNTN     RACUF     GJICK     NRWCQ     AEDNY     IWWPW     RGGPY  \\\n",
      "MTGFFJC       NaN       NaN       NaN       NaN  0.000000       NaN       NaN   \n",
      "OQAKXPB  0.000000  0.000000  0.000000  0.573565       NaN  0.000000  0.327527   \n",
      "JVVYTZI  0.000000  0.000000  0.427745  0.553695  0.000000  0.289411  0.000000   \n",
      "EQAOCFK  0.548041  0.000000  0.000000  0.429344  0.000000  0.000000  0.641399   \n",
      "EPUMLUW  0.000000  0.293915  0.282323  0.536840  0.000000  0.595040  0.000000   \n",
      "QYLOQXZ  0.000000  0.000000  0.637279  0.343796       NaN  0.000000  0.281056   \n",
      "IIRLLZM  0.262115  0.000000  0.000000  0.315528  0.000000  0.000000  0.000000   \n",
      "WWLIJVJ  0.679817  0.000000  0.500886  0.000000  0.327037  0.690457       NaN   \n",
      "TYXWRHJ  0.282012  0.000000  0.375354  0.000000       NaN  0.753516  0.000000   \n",
      "RIEXTAW  0.000000  0.377335       NaN  0.293141  0.000000  0.517649  0.736621   \n",
      "\n",
      "            EANLT     REOIA     FHIEM  \n",
      "MTGFFJC       NaN       NaN  0.403593  \n",
      "OQAKXPB  0.490006  0.525177  0.601881  \n",
      "JVVYTZI  0.000000       NaN  0.435567  \n",
      "EQAOCFK       NaN  0.392760  0.000000  \n",
      "EPUMLUW       NaN  0.733941  0.441499  \n",
      "QYLOQXZ  0.000000  0.000000       NaN  \n",
      "IIRLLZM  0.000000  0.000000  0.470210  \n",
      "WWLIJVJ  0.000000  0.000000  0.574718  \n",
      "TYXWRHJ  0.000000  0.654905  0.000000  \n",
      "RIEXTAW  0.518037  0.630972  0.380292  \n",
      "\n",
      " spreadsheet_C_.P.t_test.tsv \n",
      "          LYNTN  RACUF  GJICK  NRWCQ  AEDNY  IWWPW  RGGPY  EANLT  REOIA  FHIEM\n",
      "MTGFFJC    0.0    NaN    NaN    NaN    NaN    NaN    NaN    NaN    1.0    NaN\n",
      "OQAKXPB    0.0    0.0    1.0    0.0    0.0    0.0    1.0    0.0    0.0    NaN\n",
      "JVVYTZI    0.0    0.0    NaN    0.0    1.0    0.0    1.0    1.0    0.0    1.0\n",
      "EQAOCFK    0.0    1.0    0.0    1.0    NaN    0.0    1.0    1.0    1.0    NaN\n",
      "EPUMLUW    NaN    1.0    1.0    0.0    0.0    0.0    1.0    1.0    1.0    1.0\n",
      "QYLOQXZ    0.0    0.0    0.0    1.0    1.0    1.0    0.0    NaN    0.0    1.0\n",
      "IIRLLZM    0.0    0.0    1.0    0.0    1.0    NaN    1.0    0.0    1.0    0.0\n",
      "WWLIJVJ    NaN    1.0    0.0    0.0    1.0    NaN    1.0    1.0    0.0    0.0\n",
      "TYXWRHJ    0.0    1.0    0.0    1.0    0.0    0.0    0.0    1.0    NaN    1.0\n",
      "RIEXTAW    1.0    NaN    1.0    1.0    1.0    1.0    0.0    0.0    0.0    0.0\n"
     ]
    }
   ],
   "source": [
    "#                                              Output a spreadsheet and phenotype with paired names\n",
    "DO_WRITE_OUT = True\n",
    "BASE_NAME = 'spreadsheet_C_'\n",
    "good_spreadsheet_name = os.path.join(out_data_dir, BASE_NAME + '.G.tsv')\n",
    "rand_names = data_synth.get_rand_unique_name_list(n_names=n_spreadsheet_cols, name_length=5)\n",
    "gene_names = ensembl_names[0:n_spreadsheet_rows]\n",
    "spreadsheet_df = pd.DataFrame(spreadsheet_data, index=gene_names, columns=rand_names)\n",
    "if DO_WRITE_OUT:\n",
    "    spreadsheet_df.to_csv(good_spreadsheet_name, sep='\\t', index=True, header=True)\n",
    "print(BASE_NAME + '.G.tsv', '\\n', spreadsheet_df)\n",
    "\n",
    "drug_names_dict = {spreadsheet_df.index.values[k]: drug_names[k] for k in range(len(drug_names))}\n",
    "\n",
    "spreadsheet_df.rename(index=drug_names_dict, inplace=True)\n",
    "spreadsheet_df[:][:] = pheno_pearson_NA_data\n",
    "if DO_WRITE_OUT:\n",
    "    spreadsheet_df.to_csv(os.path.join(pheno_pearson_data_dir, BASE_NAME + '.P.pearson.tsv'), sep='\\t', \n",
    "                          index=True, header=True)\n",
    "print('\\n', BASE_NAME + '.P.pearson.tsv', '\\n', spreadsheet_df)\n",
    "spreadsheet_df[:][:] = pheno_t_test_NA_data\n",
    "if DO_WRITE_OUT:\n",
    "    spreadsheet_df.to_csv(os.path.join(pheno_t_test_data_dir, BASE_NAME + '.P.t_test.tsv'), sep='\\t', \n",
    "                          index=True, header=True)\n",
    "print('\\n', BASE_NAME + '.P.t_test.tsv', '\\n', spreadsheet_df)"
   ]
  },
  {
   "cell_type": "code",
   "execution_count": 16,
   "metadata": {
    "collapsed": false,
    "deletable": true,
    "editable": true
   },
   "outputs": [
    {
     "data": {
      "text/html": [
       "<div>\n",
       "<table border=\"1\" class=\"dataframe\">\n",
       "  <thead>\n",
       "    <tr style=\"text-align: right;\">\n",
       "      <th></th>\n",
       "      <th>LYNTN</th>\n",
       "      <th>RACUF</th>\n",
       "      <th>GJICK</th>\n",
       "      <th>NRWCQ</th>\n",
       "      <th>AEDNY</th>\n",
       "      <th>IWWPW</th>\n",
       "      <th>RGGPY</th>\n",
       "      <th>EANLT</th>\n",
       "      <th>REOIA</th>\n",
       "      <th>FHIEM</th>\n",
       "    </tr>\n",
       "  </thead>\n",
       "  <tbody>\n",
       "    <tr>\n",
       "      <th>MTGFFJC</th>\n",
       "      <td>NaN</td>\n",
       "      <td>NaN</td>\n",
       "      <td>NaN</td>\n",
       "      <td>NaN</td>\n",
       "      <td>0.000000</td>\n",
       "      <td>NaN</td>\n",
       "      <td>NaN</td>\n",
       "      <td>NaN</td>\n",
       "      <td>NaN</td>\n",
       "      <td>0.403593</td>\n",
       "    </tr>\n",
       "    <tr>\n",
       "      <th>OQAKXPB</th>\n",
       "      <td>0.000000</td>\n",
       "      <td>0.000000</td>\n",
       "      <td>0.000000</td>\n",
       "      <td>0.573565</td>\n",
       "      <td>NaN</td>\n",
       "      <td>0.000000</td>\n",
       "      <td>0.327527</td>\n",
       "      <td>0.490006</td>\n",
       "      <td>0.525177</td>\n",
       "      <td>0.601881</td>\n",
       "    </tr>\n",
       "    <tr>\n",
       "      <th>JVVYTZI</th>\n",
       "      <td>0.000000</td>\n",
       "      <td>0.000000</td>\n",
       "      <td>0.427745</td>\n",
       "      <td>0.553695</td>\n",
       "      <td>0.000000</td>\n",
       "      <td>0.289411</td>\n",
       "      <td>0.000000</td>\n",
       "      <td>0.000000</td>\n",
       "      <td>NaN</td>\n",
       "      <td>0.435567</td>\n",
       "    </tr>\n",
       "    <tr>\n",
       "      <th>EQAOCFK</th>\n",
       "      <td>0.548041</td>\n",
       "      <td>0.000000</td>\n",
       "      <td>0.000000</td>\n",
       "      <td>0.429344</td>\n",
       "      <td>0.000000</td>\n",
       "      <td>0.000000</td>\n",
       "      <td>0.641399</td>\n",
       "      <td>NaN</td>\n",
       "      <td>0.392760</td>\n",
       "      <td>0.000000</td>\n",
       "    </tr>\n",
       "    <tr>\n",
       "      <th>EPUMLUW</th>\n",
       "      <td>0.000000</td>\n",
       "      <td>0.293915</td>\n",
       "      <td>0.282323</td>\n",
       "      <td>0.536840</td>\n",
       "      <td>0.000000</td>\n",
       "      <td>0.595040</td>\n",
       "      <td>0.000000</td>\n",
       "      <td>NaN</td>\n",
       "      <td>0.733941</td>\n",
       "      <td>0.441499</td>\n",
       "    </tr>\n",
       "    <tr>\n",
       "      <th>QYLOQXZ</th>\n",
       "      <td>0.000000</td>\n",
       "      <td>0.000000</td>\n",
       "      <td>0.637279</td>\n",
       "      <td>0.343796</td>\n",
       "      <td>NaN</td>\n",
       "      <td>0.000000</td>\n",
       "      <td>0.281056</td>\n",
       "      <td>0.000000</td>\n",
       "      <td>0.000000</td>\n",
       "      <td>NaN</td>\n",
       "    </tr>\n",
       "    <tr>\n",
       "      <th>IIRLLZM</th>\n",
       "      <td>0.262115</td>\n",
       "      <td>0.000000</td>\n",
       "      <td>0.000000</td>\n",
       "      <td>0.315528</td>\n",
       "      <td>0.000000</td>\n",
       "      <td>0.000000</td>\n",
       "      <td>0.000000</td>\n",
       "      <td>0.000000</td>\n",
       "      <td>0.000000</td>\n",
       "      <td>0.470210</td>\n",
       "    </tr>\n",
       "    <tr>\n",
       "      <th>WWLIJVJ</th>\n",
       "      <td>0.679817</td>\n",
       "      <td>0.000000</td>\n",
       "      <td>0.500886</td>\n",
       "      <td>0.000000</td>\n",
       "      <td>0.327037</td>\n",
       "      <td>0.690457</td>\n",
       "      <td>NaN</td>\n",
       "      <td>0.000000</td>\n",
       "      <td>0.000000</td>\n",
       "      <td>0.574718</td>\n",
       "    </tr>\n",
       "    <tr>\n",
       "      <th>TYXWRHJ</th>\n",
       "      <td>0.282012</td>\n",
       "      <td>0.000000</td>\n",
       "      <td>0.375354</td>\n",
       "      <td>0.000000</td>\n",
       "      <td>NaN</td>\n",
       "      <td>0.753516</td>\n",
       "      <td>0.000000</td>\n",
       "      <td>0.000000</td>\n",
       "      <td>0.654905</td>\n",
       "      <td>0.000000</td>\n",
       "    </tr>\n",
       "    <tr>\n",
       "      <th>RIEXTAW</th>\n",
       "      <td>0.000000</td>\n",
       "      <td>0.377335</td>\n",
       "      <td>NaN</td>\n",
       "      <td>0.293141</td>\n",
       "      <td>0.000000</td>\n",
       "      <td>0.517649</td>\n",
       "      <td>0.736621</td>\n",
       "      <td>0.518037</td>\n",
       "      <td>0.630972</td>\n",
       "      <td>0.380292</td>\n",
       "    </tr>\n",
       "  </tbody>\n",
       "</table>\n",
       "</div>"
      ],
      "text/plain": [
       "            LYNTN     RACUF     GJICK     NRWCQ     AEDNY     IWWPW     RGGPY  \\\n",
       "MTGFFJC       NaN       NaN       NaN       NaN  0.000000       NaN       NaN   \n",
       "OQAKXPB  0.000000  0.000000  0.000000  0.573565       NaN  0.000000  0.327527   \n",
       "JVVYTZI  0.000000  0.000000  0.427745  0.553695  0.000000  0.289411  0.000000   \n",
       "EQAOCFK  0.548041  0.000000  0.000000  0.429344  0.000000  0.000000  0.641399   \n",
       "EPUMLUW  0.000000  0.293915  0.282323  0.536840  0.000000  0.595040  0.000000   \n",
       "QYLOQXZ  0.000000  0.000000  0.637279  0.343796       NaN  0.000000  0.281056   \n",
       "IIRLLZM  0.262115  0.000000  0.000000  0.315528  0.000000  0.000000  0.000000   \n",
       "WWLIJVJ  0.679817  0.000000  0.500886  0.000000  0.327037  0.690457       NaN   \n",
       "TYXWRHJ  0.282012  0.000000  0.375354  0.000000       NaN  0.753516  0.000000   \n",
       "RIEXTAW  0.000000  0.377335       NaN  0.293141  0.000000  0.517649  0.736621   \n",
       "\n",
       "            EANLT     REOIA     FHIEM  \n",
       "MTGFFJC       NaN       NaN  0.403593  \n",
       "OQAKXPB  0.490006  0.525177  0.601881  \n",
       "JVVYTZI  0.000000       NaN  0.435567  \n",
       "EQAOCFK       NaN  0.392760  0.000000  \n",
       "EPUMLUW       NaN  0.733941  0.441499  \n",
       "QYLOQXZ  0.000000  0.000000       NaN  \n",
       "IIRLLZM  0.000000  0.000000  0.470210  \n",
       "WWLIJVJ  0.000000  0.000000  0.574718  \n",
       "TYXWRHJ  0.000000  0.654905  0.000000  \n",
       "RIEXTAW  0.518037  0.630972  0.380292  "
      ]
     },
     "execution_count": 16,
     "metadata": {},
     "output_type": "execute_result"
    }
   ],
   "source": [
    "pearson_name = os.path.join(pheno_t_test_data_dir, 'spreadsheet_C_.P.pearson.tsv')\n",
    "pheno_pearson_df = pd.read_csv(pearson_name, sep='\\t', index_col=0, header=0)\n",
    "pheno_pearson_df"
   ]
  },
  {
   "cell_type": "code",
   "execution_count": 17,
   "metadata": {
    "collapsed": false,
    "deletable": true,
    "editable": true
   },
   "outputs": [
    {
     "data": {
      "text/plain": [
       "LYNTN         NaN\n",
       "RACUF         NaN\n",
       "GJICK         NaN\n",
       "NRWCQ         NaN\n",
       "AEDNY    0.000000\n",
       "IWWPW         NaN\n",
       "RGGPY         NaN\n",
       "EANLT         NaN\n",
       "REOIA         NaN\n",
       "FHIEM    0.403593\n",
       "Name: MTGFFJC, dtype: float64"
      ]
     },
     "execution_count": 17,
     "metadata": {},
     "output_type": "execute_result"
    }
   ],
   "source": [
    "pheno_pearson_df.loc['MTGFFJC']"
   ]
  },
  {
   "cell_type": "code",
   "execution_count": null,
   "metadata": {
    "collapsed": true,
    "deletable": true,
    "editable": true
   },
   "outputs": [],
   "source": []
  },
  {
   "cell_type": "code",
   "execution_count": null,
   "metadata": {
    "collapsed": true,
    "deletable": true,
    "editable": true
   },
   "outputs": [],
   "source": []
  }
 ],
 "metadata": {
  "anaconda-cloud": {},
  "kernelspec": {
   "display_name": "Python [default]",
   "language": "python",
   "name": "python3"
  },
  "language_info": {
   "codemirror_mode": {
    "name": "ipython",
    "version": 3
   },
   "file_extension": ".py",
   "mimetype": "text/x-python",
   "name": "python",
   "nbconvert_exporter": "python",
   "pygments_lexer": "ipython3",
   "version": "3.5.2"
  }
 },
 "nbformat": 4,
 "nbformat_minor": 1
}
