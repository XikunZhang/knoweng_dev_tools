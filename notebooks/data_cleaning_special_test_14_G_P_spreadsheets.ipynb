{
 "cells": [
  {
   "cell_type": "markdown",
   "metadata": {
    "deletable": true,
    "editable": true
   },
   "source": [
    "# Spreadsheets .G.  genes X samples special case test data files generator\n",
    "* phenotype file with one row having so many \"NA\" values that bootstrap sampling produces empty or nearly empty rows.\n",
    "* spreadsheet files to aggrovate the same"
   ]
  },
  {
   "cell_type": "code",
   "execution_count": 1,
   "metadata": {
    "collapsed": false,
    "deletable": true,
    "editable": true
   },
   "outputs": [],
   "source": [
    "import os\n",
    "import sys\n",
    "import itertools\n",
    "import time\n",
    "import numpy as np\n",
    "import pandas as pd\n",
    "\n",
    "sys.path.insert(1, '../../KnowEnG_Pipelines_Library')\n",
    "import knpackage.redis_utilities\n",
    "sys.path.insert(1, '../../KnowEnG_Pipelines_Library/knpackage')\n",
    "import knpackage.toolbox as kn\n",
    "\n",
    "sys.path.insert(1, '../src')\n",
    "import data_synth\n",
    "import data_wrangler as dw\n",
    "\n",
    "sys.path.insert(1, '../../Data_Cleanup_Pipeline/src/')\n",
    "import data_cleanup_toolbox as dc"
   ]
  },
  {
   "cell_type": "code",
   "execution_count": 2,
   "metadata": {
    "collapsed": true,
    "deletable": true,
    "editable": true
   },
   "outputs": [],
   "source": [
    "#                                              Set output directory\n",
    "out_data_dir = '../data/GP_special_case/NA_80'\n",
    "pheno_pearson_data_dir = out_data_dir\n",
    "pheno_t_test_data_dir = out_data_dir"
   ]
  },
  {
   "cell_type": "code",
   "execution_count": 3,
   "metadata": {
    "collapsed": false,
    "deletable": true,
    "editable": true
   },
   "outputs": [
    {
     "data": {
      "text/plain": [
       "array([[ 0.,  1.,  1.,  1.,  0.,  1.,  0.,  1.,  0.],\n",
       "       [ 0.,  0.,  0.,  0.,  1.,  1.,  0.,  1.,  1.],\n",
       "       [ 1.,  0.,  1.,  1.,  1.,  1.,  1.,  0.,  1.],\n",
       "       [ 1.,  0.,  1.,  0.,  1.,  1.,  1.,  1.,  0.],\n",
       "       [ 0.,  1.,  0.,  1.,  0.,  0.,  1.,  0.,  1.],\n",
       "       [ 0.,  1.,  1.,  0.,  1.,  0.,  1.,  0.,  0.],\n",
       "       [ 1.,  1.,  1.,  1.,  0.,  1.,  1.,  0.,  1.],\n",
       "       [ 0.,  1.,  0.,  0.,  1.,  1.,  1.,  1.,  1.],\n",
       "       [ 1.,  0.,  1.,  1.,  0.,  1.,  1.,  1.,  0.],\n",
       "       [ 0.,  1.,  0.,  1.,  0.,  0.,  0.,  0.,  1.],\n",
       "       [ 1.,  0.,  1.,  1.,  1.,  1.,  1.,  1.,  1.],\n",
       "       [ 1.,  1.,  1.,  1.,  1.,  0.,  1.,  1.,  1.]])"
      ]
     },
     "execution_count": 3,
     "metadata": {},
     "output_type": "execute_result"
    }
   ],
   "source": [
    "#                                              Define spreadsheet data\n",
    "n_spreadsheet_rows = 12\n",
    "n_phenotype_rows = 7 \n",
    "n_spreadsheet_cols = 9\n",
    "spreadsheet_shape = (n_spreadsheet_rows, n_spreadsheet_cols)\n",
    "phenotype_shape = (n_phenotype_rows, n_spreadsheet_cols)\n",
    "\n",
    "spreadsheet_data = np.random.random(spreadsheet_shape)\n",
    "spreadsheet_data[spreadsheet_data < 0.5] = 0.0\n",
    "spreadsheet_data[spreadsheet_data != 0.0] = 1.0\n",
    "spreadsheet_data"
   ]
  },
  {
   "cell_type": "code",
   "execution_count": 4,
   "metadata": {
    "collapsed": false,
    "deletable": true,
    "editable": true
   },
   "outputs": [
    {
     "name": "stdout",
     "output_type": "stream",
     "text": [
      " pearson data:\n",
      " [[ 0.          0.          0.34452088  0.47227906  0.28130707  0.36308518\n",
      "   0.          0.26665427  0.        ]\n",
      " [ 0.          0.35713199  0.          0.          0.          0.56337751\n",
      "   0.30125909  0.61891223  0.        ]\n",
      " [ 0.69733128  0.          0.72615545  0.          0.322662    0.43242509\n",
      "   0.          0.          0.        ]\n",
      " [ 0.          0.51617701  0.61376067  0.47053311  0.          0.\n",
      "   0.34009851  0.40214373  0.68922356]\n",
      " [ 0.          0.29285254  0.51516262  0.          0.60383118  0.          0.\n",
      "   0.58694326  0.        ]\n",
      " [ 0.          0.          0.63170117  0.          0.66296053  0.\n",
      "   0.42195521  0.          0.75718137]\n",
      " [ 0.5022138   0.          0.45299663  0.          0.28225057  0.\n",
      "   0.49233856  0.          0.        ]]\n",
      "\n",
      " t_test data:\n",
      " [[ 0.  0.  0.  1.  0.  1.  1.  0.  1.]\n",
      " [ 1.  1.  0.  1.  1.  1.  1.  1.  0.]\n",
      " [ 1.  1.  1.  1.  1.  0.  1.  1.  1.]\n",
      " [ 0.  0.  1.  1.  1.  0.  0.  0.  0.]\n",
      " [ 1.  1.  0.  0.  1.  0.  0.  1.  0.]\n",
      " [ 0.  1.  0.  0.  1.  1.  0.  0.  1.]\n",
      " [ 1.  0.  0.  0.  1.  1.  0.  1.  0.]]\n"
     ]
    },
    {
     "data": {
      "text/plain": [
       "['SVEIPFK', 'SCKALDE', 'VDRUXUI', 'JPASLFW', 'FMSPWML', 'SMDMQRO', 'GBTTTOI']"
      ]
     },
     "execution_count": 4,
     "metadata": {},
     "output_type": "execute_result"
    }
   ],
   "source": [
    "#                                              Define phenotype data\n",
    "pheno_pearson_data = np.random.random(phenotype_shape)\n",
    "pheno_pearson_data = pheno_pearson_data - 0.24\n",
    "pheno_pearson_data[pheno_pearson_data < 0.26] = 0.0\n",
    "print(' pearson data:\\n', pheno_pearson_data)\n",
    "\n",
    "pheno_t_test_data = np.random.random(phenotype_shape)\n",
    "pheno_t_test_data[pheno_t_test_data < 0.5] = 0.0\n",
    "pheno_t_test_data[pheno_t_test_data != 0.0] = 1.0\n",
    "print('\\n t_test data:\\n', pheno_t_test_data)\n",
    "\n",
    "drug_names = data_synth.get_rand_unique_name_list(n_names=n_phenotype_rows, name_length=7)\n",
    "drug_names"
   ]
  },
  {
   "cell_type": "code",
   "execution_count": 5,
   "metadata": {
    "collapsed": false,
    "deletable": true,
    "editable": true
   },
   "outputs": [
    {
     "data": {
      "text/plain": [
       "array([[ nan,   1.,   1.,   1.,   0.,   1.,   0.,   1.,   0.],\n",
       "       [  0.,   0.,   0.,   0.,   1.,   1.,   0.,   1.,   1.],\n",
       "       [  1.,   0.,   1.,   1.,   1.,   1.,   1.,   0.,   1.],\n",
       "       [  1.,   0.,   1.,   0.,   1.,   1.,   1.,   1.,   0.],\n",
       "       [  0.,   1.,   0.,   1.,   0.,   0.,   1.,   0.,   1.],\n",
       "       [  0.,   1.,   1.,   0.,   1.,   0.,   1.,   0.,   0.],\n",
       "       [  1.,   1.,   1.,   1.,   0.,   1.,   1.,   0.,   1.],\n",
       "       [  0.,   1.,   0.,   0.,   1.,   1.,   1.,   1.,   1.],\n",
       "       [  1.,   0.,   1.,   1.,   0.,   1.,   1.,   1.,   0.],\n",
       "       [  0.,   1.,   0.,   1.,   0.,   0.,   0.,   0.,   1.],\n",
       "       [  1.,   0.,   1.,   1.,   1.,   1.,   1.,   1.,   1.],\n",
       "       [  1.,   1.,   1.,   1.,   1.,   0.,   1.,   1.,   1.]])"
      ]
     },
     "execution_count": 5,
     "metadata": {},
     "output_type": "execute_result"
    }
   ],
   "source": [
    "#                                              Define spreadsheet Nan data\n",
    "some_nan_data = spreadsheet_data.copy()\n",
    "some_nan_data[0,0] = np.nan\n",
    "some_nan_data"
   ]
  },
  {
   "cell_type": "code",
   "execution_count": 6,
   "metadata": {
    "collapsed": false,
    "deletable": true,
    "editable": true
   },
   "outputs": [],
   "source": [
    "#                                              Get gene - ensembl names list for simulation\n",
    "KnowEnG_GP_dir = '../../Samples_Clustering_Pipeline/data/networks'\n",
    "network_full_file = os.path.join(KnowEnG_GP_dir, 'keg_ST90_4col.edge')\n",
    "adj_mat, ensembl_names = kn.get_sparse_network_matrix(network_full_file)\n",
    "del adj_mat\n",
    "raw_data_dir = '../../'"
   ]
  },
  {
   "cell_type": "code",
   "execution_count": 7,
   "metadata": {
    "collapsed": false,
    "deletable": true,
    "editable": true
   },
   "outputs": [],
   "source": [
    "#                                              Get assorted gene names list for simulation\n",
    "raw_data_dir = '../../../pipeline_spreadsheets/raw'\n",
    "sp_file = 'Hsap.ccle.G.gene_mut.binary.df'\n",
    "sp_4_gene_names_df = pd.read_csv(os.path.join(raw_data_dir,sp_file),sep='\\t',index_col=0,header=0)\n",
    "asorted_gene_names = list(sp_4_gene_names_df.index)\n",
    "del sp_4_gene_names_df"
   ]
  },
  {
   "cell_type": "markdown",
   "metadata": {},
   "source": [
    "## Create bad data: phenotype data with 80% \"NA\" in one row\n",
    "* and some bad data elsewhere"
   ]
  },
  {
   "cell_type": "code",
   "execution_count": 8,
   "metadata": {
    "collapsed": false
   },
   "outputs": [
    {
     "data": {
      "text/plain": [
       "array([[        nan,         nan,         nan,         nan,  0.28130707,\n",
       "         0.36308518,         nan,         nan,         nan],\n",
       "       [ 0.        ,         nan,  0.        ,  0.        ,  0.        ,\n",
       "         0.56337751,         nan,  0.61891223,  0.        ],\n",
       "       [        nan,  0.        ,  0.72615545,  0.        ,  0.322662  ,\n",
       "         0.43242509,  0.        ,  0.        ,  0.        ],\n",
       "       [ 0.        ,  0.51617701,  0.61376067,  0.47053311,  0.        ,\n",
       "         0.        ,  0.34009851,         nan,  0.68922356],\n",
       "       [        nan,  0.29285254,  0.51516262,  0.        ,  0.60383118,\n",
       "         0.        ,  0.        ,  0.58694326,  0.        ],\n",
       "       [ 0.        ,  0.        ,  0.63170117,  0.        ,  0.66296053,\n",
       "                nan,  0.42195521,  0.        ,  0.75718137],\n",
       "       [        nan,  0.        ,  0.45299663,  0.        ,  0.28225057,\n",
       "         0.        ,  0.49233856,  0.        ,  0.        ]])"
      ]
     },
     "execution_count": 8,
     "metadata": {},
     "output_type": "execute_result"
    }
   ],
   "source": [
    "#                                              Set first row to 80% NA values the rest to up to 20% NA (person)\n",
    "pheno_pearson_NA_data = pheno_pearson_data.copy()\n",
    "percent_Bad = 0.8\n",
    "\n",
    "select_NA = np.random.permutation(n_spreadsheet_cols)\n",
    "select_NA = select_NA[:int(np.round(percent_Bad * n_spreadsheet_cols))]\n",
    "pheno_pearson_NA_data[0, select_NA] = np.nan\n",
    "\n",
    "percent_Bad_II = 0.2\n",
    "for r in range(1, n_phenotype_rows):\n",
    "    select_NA = np.random.permutation(n_spreadsheet_cols)\n",
    "    select_NA = select_NA[:int(np.round(np.random.random() * percent_Bad_II * n_spreadsheet_cols))]\n",
    "    pheno_pearson_NA_data[r, select_NA] = np.nan\n",
    "    \n",
    "pheno_pearson_NA_data"
   ]
  },
  {
   "cell_type": "code",
   "execution_count": 9,
   "metadata": {
    "collapsed": false
   },
   "outputs": [
    {
     "data": {
      "text/plain": [
       "array([[ nan,  nan,   0.,  nan,  nan,  nan,   1.,  nan,  nan],\n",
       "       [  1.,   1.,   0.,   1.,   1.,   1.,   1.,   1.,  nan],\n",
       "       [  1.,   1.,   1.,   1.,   1.,   0.,   1.,  nan,   1.],\n",
       "       [  0.,   0.,   1.,   1.,   1.,   0.,  nan,   0.,   0.],\n",
       "       [  1.,   1.,   0.,   0.,   1.,   0.,   0.,   1.,   0.],\n",
       "       [  0.,   1.,   0.,   0.,   1.,   1.,   0.,   0.,   1.],\n",
       "       [  1.,   0.,   0.,   0.,   1.,   1.,   0.,   1.,   0.]])"
      ]
     },
     "execution_count": 9,
     "metadata": {},
     "output_type": "execute_result"
    }
   ],
   "source": [
    "#                                              Set first row to 80% NA values the rest to up to 20% NA (t_test)\n",
    "pheno_t_test_NA_data = pheno_t_test_data.copy()\n",
    "percent_Bad = 0.8\n",
    "\n",
    "select_NA = np.random.permutation(n_spreadsheet_cols)\n",
    "select_NA = select_NA[:int(np.round(percent_Bad * n_spreadsheet_cols))]\n",
    "pheno_t_test_NA_data[0, select_NA] = np.nan\n",
    "\n",
    "percent_Bad_II = 0.2\n",
    "for r in range(1, n_phenotype_rows):\n",
    "    select_NA = np.random.permutation(n_spreadsheet_cols)\n",
    "    select_NA = select_NA[:int(np.round(np.random.random() * percent_Bad_II * n_spreadsheet_cols))]\n",
    "    pheno_t_test_NA_data[r, select_NA] = np.nan\n",
    "    \n",
    "pheno_t_test_NA_data"
   ]
  },
  {
   "cell_type": "code",
   "execution_count": 18,
   "metadata": {
    "collapsed": false,
    "deletable": true,
    "editable": true
   },
   "outputs": [
    {
     "name": "stdout",
     "output_type": "stream",
     "text": [
      "spreadsheet_C_.G.tsv \n",
      "                  SNHGW  DSVZL  LMIBW  QGLJS  VDJAT  XLGSY  BHZNK  SDCGW  FNAJX\n",
      "ENSG00000000005    0.0    1.0    1.0    1.0    0.0    1.0    0.0    1.0    0.0\n",
      "ENSG00000000419    0.0    0.0    0.0    0.0    1.0    1.0    0.0    1.0    1.0\n",
      "ENSG00000000457    1.0    0.0    1.0    1.0    1.0    1.0    1.0    0.0    1.0\n",
      "ENSG00000000460    1.0    0.0    1.0    0.0    1.0    1.0    1.0    1.0    0.0\n",
      "ENSG00000000938    0.0    1.0    0.0    1.0    0.0    0.0    1.0    0.0    1.0\n",
      "ENSG00000000971    0.0    1.0    1.0    0.0    1.0    0.0    1.0    0.0    0.0\n",
      "ENSG00000001084    1.0    1.0    1.0    1.0    0.0    1.0    1.0    0.0    1.0\n",
      "ENSG00000001167    0.0    1.0    0.0    0.0    1.0    1.0    1.0    1.0    1.0\n",
      "ENSG00000001497    1.0    0.0    1.0    1.0    0.0    1.0    1.0    1.0    0.0\n",
      "ENSG00000001617    0.0    1.0    0.0    1.0    0.0    0.0    0.0    0.0    1.0\n",
      "ENSG00000001626    1.0    0.0    1.0    1.0    1.0    1.0    1.0    1.0    1.0\n",
      "ENSG00000001630    1.0    1.0    1.0    1.0    1.0    0.0    1.0    1.0    1.0\n",
      "\n",
      "\n",
      "\n",
      " spreadsheet_C_.P.pearson.tsv \n",
      "          SNHGW     DSVZL     LMIBW     QGLJS     VDJAT     XLGSY     BHZNK  \\\n",
      "SVEIPFK    NaN       NaN       NaN       NaN  0.281307  0.363085       NaN   \n",
      "SCKALDE    0.0       NaN  0.000000  0.000000  0.000000  0.563378       NaN   \n",
      "VDRUXUI    NaN  0.000000  0.726155  0.000000  0.322662  0.432425  0.000000   \n",
      "JPASLFW    0.0  0.516177  0.613761  0.470533  0.000000  0.000000  0.340099   \n",
      "FMSPWML    NaN  0.292853  0.515163  0.000000  0.603831  0.000000  0.000000   \n",
      "SMDMQRO    0.0  0.000000  0.631701  0.000000  0.662961       NaN  0.421955   \n",
      "GBTTTOI    NaN  0.000000  0.452997  0.000000  0.282251  0.000000  0.492339   \n",
      "\n",
      "            SDCGW     FNAJX  \n",
      "SVEIPFK       NaN       NaN  \n",
      "SCKALDE  0.618912  0.000000  \n",
      "VDRUXUI  0.000000  0.000000  \n",
      "JPASLFW       NaN  0.689224  \n",
      "FMSPWML  0.586943  0.000000  \n",
      "SMDMQRO  0.000000  0.757181  \n",
      "GBTTTOI  0.000000  0.000000  \n",
      "\n",
      " spreadsheet_C_.P.pearson.T.tsv \n",
      "         SVEIPFK   SCKALDE   VDRUXUI   JPASLFW   FMSPWML   SMDMQRO   GBTTTOI\n",
      "SNHGW       NaN  0.000000       NaN  0.000000       NaN  0.000000       NaN\n",
      "DSVZL       NaN       NaN  0.000000  0.516177  0.292853  0.000000  0.000000\n",
      "LMIBW       NaN  0.000000  0.726155  0.613761  0.515163  0.631701  0.452997\n",
      "QGLJS       NaN  0.000000  0.000000  0.470533  0.000000  0.000000  0.000000\n",
      "VDJAT  0.281307  0.000000  0.322662  0.000000  0.603831  0.662961  0.282251\n",
      "XLGSY  0.363085  0.563378  0.432425  0.000000  0.000000       NaN  0.000000\n",
      "BHZNK       NaN       NaN  0.000000  0.340099  0.000000  0.421955  0.492339\n",
      "SDCGW       NaN  0.618912  0.000000       NaN  0.586943  0.000000  0.000000\n",
      "FNAJX       NaN  0.000000  0.000000  0.689224  0.000000  0.757181  0.000000\n",
      "\n",
      "\n",
      "\n",
      " spreadsheet_C_.P.t_test.tsv \n",
      "          SNHGW  DSVZL  LMIBW  QGLJS  VDJAT  XLGSY  BHZNK  SDCGW  FNAJX\n",
      "SVEIPFK    NaN    NaN    0.0    NaN    NaN    NaN    1.0    NaN    NaN\n",
      "SCKALDE    1.0    1.0    0.0    1.0    1.0    1.0    1.0    1.0    NaN\n",
      "VDRUXUI    1.0    1.0    1.0    1.0    1.0    0.0    1.0    NaN    1.0\n",
      "JPASLFW    0.0    0.0    1.0    1.0    1.0    0.0    NaN    0.0    0.0\n",
      "FMSPWML    1.0    1.0    0.0    0.0    1.0    0.0    0.0    1.0    0.0\n",
      "SMDMQRO    0.0    1.0    0.0    0.0    1.0    1.0    0.0    0.0    1.0\n",
      "GBTTTOI    1.0    0.0    0.0    0.0    1.0    1.0    0.0    1.0    0.0\n",
      "\n",
      " spreadsheet_C_.P.t_test.T.tsv \n",
      "        SVEIPFK  SCKALDE  VDRUXUI  JPASLFW  FMSPWML  SMDMQRO  GBTTTOI\n",
      "SNHGW      NaN      1.0      1.0      0.0      1.0      0.0      1.0\n",
      "DSVZL      NaN      1.0      1.0      0.0      1.0      1.0      0.0\n",
      "LMIBW      0.0      0.0      1.0      1.0      0.0      0.0      0.0\n",
      "QGLJS      NaN      1.0      1.0      1.0      0.0      0.0      0.0\n",
      "VDJAT      NaN      1.0      1.0      1.0      1.0      1.0      1.0\n",
      "XLGSY      NaN      1.0      0.0      0.0      0.0      1.0      1.0\n",
      "BHZNK      1.0      1.0      1.0      NaN      0.0      0.0      0.0\n",
      "SDCGW      NaN      1.0      NaN      0.0      1.0      0.0      1.0\n",
      "FNAJX      NaN      NaN      1.0      0.0      0.0      1.0      0.0\n"
     ]
    }
   ],
   "source": [
    "#                                              Output a spreadsheet and phenotype with paired names\n",
    "DO_WRITE_OUT = True\n",
    "BASE_NAME = 'spreadsheet_C_'\n",
    "good_spreadsheet_name = os.path.join(out_data_dir, BASE_NAME + '.G.tsv')\n",
    "rand_names = data_synth.get_rand_unique_name_list(n_names=n_spreadsheet_cols, name_length=5)\n",
    "gene_names = ensembl_names[0:n_spreadsheet_rows]\n",
    "spreadsheet_df = pd.DataFrame(spreadsheet_data, index=gene_names, columns=rand_names)\n",
    "if DO_WRITE_OUT:\n",
    "    spreadsheet_df.to_csv(good_spreadsheet_name, sep='\\t', index=True, header=True)\n",
    "print(BASE_NAME + '.G.tsv', '\\n', spreadsheet_df)\n",
    "\n",
    "\n",
    "\n",
    "pheno_pearson_df = pd.DataFrame(pheno_pearson_NA_data, index=drug_names, columns=rand_names)\n",
    "if DO_WRITE_OUT:\n",
    "    pheno_pearson_df.to_csv(os.path.join(pheno_pearson_data_dir, BASE_NAME + '.P.pearson.tsv'), sep='\\t', \n",
    "                          index=True, header=True)\n",
    "print('\\n\\n\\n', BASE_NAME + '.P.pearson.tsv', '\\n', pheno_pearson_df)\n",
    "\n",
    "pheno_pearson_df = pheno_pearson_df.transpose()\n",
    "if DO_WRITE_OUT:\n",
    "    pheno_pearson_df.to_csv(os.path.join(pheno_pearson_data_dir, BASE_NAME + '.P.pearson.T.tsv'), sep='\\t', \n",
    "                          index=True, header=True)\n",
    "print('\\n', BASE_NAME + '.P.pearson.T.tsv', '\\n', pheno_pearson_df)\n",
    "\n",
    "\n",
    "\n",
    "pheno_t_test_df = pd.DataFrame(pheno_t_test_NA_data, index=drug_names, columns=rand_names)\n",
    "if DO_WRITE_OUT:\n",
    "    pheno_t_test_df.to_csv(os.path.join(pheno_t_test_data_dir, BASE_NAME + '.P.t_test.tsv'), sep='\\t', \n",
    "                          index=True, header=True)\n",
    "print('\\n\\n\\n', BASE_NAME + '.P.t_test.tsv', '\\n', pheno_t_test_df)\n",
    "\n",
    "pheno_t_test_df = pheno_t_test_df.transpose()\n",
    "if DO_WRITE_OUT:\n",
    "    pheno_t_test_df.to_csv(os.path.join(pheno_t_test_data_dir, BASE_NAME + '.P.t_test.T.tsv'), sep='\\t', \n",
    "                          index=True, header=True)\n",
    "print('\\n', BASE_NAME + '.P.t_test.T.tsv', '\\n', pheno_t_test_df)"
   ]
  },
  {
   "cell_type": "markdown",
   "metadata": {},
   "source": [
    "## Get the files returned by Data Cleanup, transpose and re-write for use in GP"
   ]
  },
  {
   "cell_type": "code",
   "execution_count": 19,
   "metadata": {
    "collapsed": false,
    "deletable": true,
    "editable": true
   },
   "outputs": [
    {
     "data": {
      "text/plain": [
       "['.DS_Store',\n",
       " 'log_gene_prioritization_pipeline.yml',\n",
       " 'spreadsheet_C_.G_ETL.tsv',\n",
       " 'spreadsheet_C_.G_MAP.tsv',\n",
       " 'spreadsheet_C_.G_UNMAPPED.tsv',\n",
       " 'spreadsheet_C_.P.pearson.T_ETL.tsv']"
      ]
     },
     "execution_count": 19,
     "metadata": {},
     "output_type": "execute_result"
    }
   ],
   "source": [
    "post_clean_dir = '../../Data_Cleanup_Pipeline/test/run_dir/results'\n",
    "os.listdir(post_clean_dir)"
   ]
  },
  {
   "cell_type": "code",
   "execution_count": 26,
   "metadata": {
    "collapsed": false,
    "deletable": true,
    "editable": true
   },
   "outputs": [
    {
     "name": "stdout",
     "output_type": "stream",
     "text": [
      "post cleanup:\n",
      "          SNHGW     DSVZL     LMIBW     QGLJS     VDJAT     XLGSY     BHZNK  \\\n",
      "SVEIPFK    NaN       NaN       NaN       NaN  0.281307  0.363085       NaN   \n",
      "SCKALDE    0.0       NaN  0.000000  0.000000  0.000000  0.563378       NaN   \n",
      "VDRUXUI    NaN  0.000000  0.726155  0.000000  0.322662  0.432425  0.000000   \n",
      "JPASLFW    0.0  0.516177  0.613761  0.470533  0.000000  0.000000  0.340099   \n",
      "FMSPWML    NaN  0.292853  0.515163  0.000000  0.603831  0.000000  0.000000   \n",
      "SMDMQRO    0.0  0.000000  0.631701  0.000000  0.662961       NaN  0.421955   \n",
      "GBTTTOI    NaN  0.000000  0.452997  0.000000  0.282251  0.000000  0.492339   \n",
      "\n",
      "            SDCGW     FNAJX  \n",
      "SVEIPFK       NaN       NaN  \n",
      "SCKALDE  0.618912  0.000000  \n",
      "VDRUXUI  0.000000  0.000000  \n",
      "JPASLFW       NaN  0.689224  \n",
      "FMSPWML  0.586943  0.000000  \n",
      "SMDMQRO  0.000000  0.757181  \n",
      "GBTTTOI  0.000000  0.000000  \n"
     ]
    },
    {
     "data": {
      "text/html": [
       "<div>\n",
       "<table border=\"1\" class=\"dataframe\">\n",
       "  <thead>\n",
       "    <tr style=\"text-align: right;\">\n",
       "      <th></th>\n",
       "      <th>SVEIPFK</th>\n",
       "      <th>SCKALDE</th>\n",
       "      <th>VDRUXUI</th>\n",
       "      <th>JPASLFW</th>\n",
       "      <th>FMSPWML</th>\n",
       "      <th>SMDMQRO</th>\n",
       "      <th>GBTTTOI</th>\n",
       "    </tr>\n",
       "  </thead>\n",
       "  <tbody>\n",
       "    <tr>\n",
       "      <th>SNHGW</th>\n",
       "      <td>NaN</td>\n",
       "      <td>0.000000</td>\n",
       "      <td>NaN</td>\n",
       "      <td>0.000000</td>\n",
       "      <td>NaN</td>\n",
       "      <td>0.000000</td>\n",
       "      <td>NaN</td>\n",
       "    </tr>\n",
       "    <tr>\n",
       "      <th>DSVZL</th>\n",
       "      <td>NaN</td>\n",
       "      <td>NaN</td>\n",
       "      <td>0.000000</td>\n",
       "      <td>0.516177</td>\n",
       "      <td>0.292853</td>\n",
       "      <td>0.000000</td>\n",
       "      <td>0.000000</td>\n",
       "    </tr>\n",
       "    <tr>\n",
       "      <th>LMIBW</th>\n",
       "      <td>NaN</td>\n",
       "      <td>0.000000</td>\n",
       "      <td>0.726155</td>\n",
       "      <td>0.613761</td>\n",
       "      <td>0.515163</td>\n",
       "      <td>0.631701</td>\n",
       "      <td>0.452997</td>\n",
       "    </tr>\n",
       "    <tr>\n",
       "      <th>QGLJS</th>\n",
       "      <td>NaN</td>\n",
       "      <td>0.000000</td>\n",
       "      <td>0.000000</td>\n",
       "      <td>0.470533</td>\n",
       "      <td>0.000000</td>\n",
       "      <td>0.000000</td>\n",
       "      <td>0.000000</td>\n",
       "    </tr>\n",
       "    <tr>\n",
       "      <th>VDJAT</th>\n",
       "      <td>0.281307</td>\n",
       "      <td>0.000000</td>\n",
       "      <td>0.322662</td>\n",
       "      <td>0.000000</td>\n",
       "      <td>0.603831</td>\n",
       "      <td>0.662961</td>\n",
       "      <td>0.282251</td>\n",
       "    </tr>\n",
       "    <tr>\n",
       "      <th>XLGSY</th>\n",
       "      <td>0.363085</td>\n",
       "      <td>0.563378</td>\n",
       "      <td>0.432425</td>\n",
       "      <td>0.000000</td>\n",
       "      <td>0.000000</td>\n",
       "      <td>NaN</td>\n",
       "      <td>0.000000</td>\n",
       "    </tr>\n",
       "    <tr>\n",
       "      <th>BHZNK</th>\n",
       "      <td>NaN</td>\n",
       "      <td>NaN</td>\n",
       "      <td>0.000000</td>\n",
       "      <td>0.340099</td>\n",
       "      <td>0.000000</td>\n",
       "      <td>0.421955</td>\n",
       "      <td>0.492339</td>\n",
       "    </tr>\n",
       "    <tr>\n",
       "      <th>SDCGW</th>\n",
       "      <td>NaN</td>\n",
       "      <td>0.618912</td>\n",
       "      <td>0.000000</td>\n",
       "      <td>NaN</td>\n",
       "      <td>0.586943</td>\n",
       "      <td>0.000000</td>\n",
       "      <td>0.000000</td>\n",
       "    </tr>\n",
       "    <tr>\n",
       "      <th>FNAJX</th>\n",
       "      <td>NaN</td>\n",
       "      <td>0.000000</td>\n",
       "      <td>0.000000</td>\n",
       "      <td>0.689224</td>\n",
       "      <td>0.000000</td>\n",
       "      <td>0.757181</td>\n",
       "      <td>0.000000</td>\n",
       "    </tr>\n",
       "  </tbody>\n",
       "</table>\n",
       "</div>"
      ],
      "text/plain": [
       "        SVEIPFK   SCKALDE   VDRUXUI   JPASLFW   FMSPWML   SMDMQRO   GBTTTOI\n",
       "SNHGW       NaN  0.000000       NaN  0.000000       NaN  0.000000       NaN\n",
       "DSVZL       NaN       NaN  0.000000  0.516177  0.292853  0.000000  0.000000\n",
       "LMIBW       NaN  0.000000  0.726155  0.613761  0.515163  0.631701  0.452997\n",
       "QGLJS       NaN  0.000000  0.000000  0.470533  0.000000  0.000000  0.000000\n",
       "VDJAT  0.281307  0.000000  0.322662  0.000000  0.603831  0.662961  0.282251\n",
       "XLGSY  0.363085  0.563378  0.432425  0.000000  0.000000       NaN  0.000000\n",
       "BHZNK       NaN       NaN  0.000000  0.340099  0.000000  0.421955  0.492339\n",
       "SDCGW       NaN  0.618912  0.000000       NaN  0.586943  0.000000  0.000000\n",
       "FNAJX       NaN  0.000000  0.000000  0.689224  0.000000  0.757181  0.000000"
      ]
     },
     "execution_count": 26,
     "metadata": {},
     "output_type": "execute_result"
    }
   ],
   "source": [
    "po_pheno_pearson_df = pd.read_csv(\n",
    "    os.path.join(post_clean_dir, 'spreadsheet_C_.P.pearson.T_ETL.tsv'), sep='\\t', index_col=0, header=0)\n",
    "print('post cleanup:\\n', po_pheno_pearson_df)\n",
    "po_pheno_pearson_df = po_pheno_pearson_df.transpose()\n",
    "po_pheno_pearson_df.to_csv(os.path.join(pheno_pearson_data_dir, BASE_NAME + '.P.pearson_PC_from_T.tsv'))\n",
    "po_pheno_pearson_df"
   ]
  },
  {
   "cell_type": "code",
   "execution_count": 23,
   "metadata": {
    "collapsed": false
   },
   "outputs": [
    {
     "data": {
      "text/html": [
       "<div>\n",
       "<table border=\"1\" class=\"dataframe\">\n",
       "  <thead>\n",
       "    <tr style=\"text-align: right;\">\n",
       "      <th></th>\n",
       "      <th>SNHGW</th>\n",
       "      <th>DSVZL</th>\n",
       "      <th>LMIBW</th>\n",
       "      <th>QGLJS</th>\n",
       "      <th>VDJAT</th>\n",
       "      <th>XLGSY</th>\n",
       "      <th>BHZNK</th>\n",
       "      <th>SDCGW</th>\n",
       "      <th>FNAJX</th>\n",
       "    </tr>\n",
       "  </thead>\n",
       "  <tbody>\n",
       "    <tr>\n",
       "      <th>SVEIPFK</th>\n",
       "      <td>NaN</td>\n",
       "      <td>NaN</td>\n",
       "      <td>NaN</td>\n",
       "      <td>NaN</td>\n",
       "      <td>0.281307</td>\n",
       "      <td>0.363085</td>\n",
       "      <td>NaN</td>\n",
       "      <td>NaN</td>\n",
       "      <td>NaN</td>\n",
       "    </tr>\n",
       "    <tr>\n",
       "      <th>SCKALDE</th>\n",
       "      <td>0.0</td>\n",
       "      <td>NaN</td>\n",
       "      <td>0.000000</td>\n",
       "      <td>0.000000</td>\n",
       "      <td>0.000000</td>\n",
       "      <td>0.563378</td>\n",
       "      <td>NaN</td>\n",
       "      <td>0.618912</td>\n",
       "      <td>0.000000</td>\n",
       "    </tr>\n",
       "    <tr>\n",
       "      <th>VDRUXUI</th>\n",
       "      <td>NaN</td>\n",
       "      <td>0.000000</td>\n",
       "      <td>0.726155</td>\n",
       "      <td>0.000000</td>\n",
       "      <td>0.322662</td>\n",
       "      <td>0.432425</td>\n",
       "      <td>0.000000</td>\n",
       "      <td>0.000000</td>\n",
       "      <td>0.000000</td>\n",
       "    </tr>\n",
       "    <tr>\n",
       "      <th>JPASLFW</th>\n",
       "      <td>0.0</td>\n",
       "      <td>0.516177</td>\n",
       "      <td>0.613761</td>\n",
       "      <td>0.470533</td>\n",
       "      <td>0.000000</td>\n",
       "      <td>0.000000</td>\n",
       "      <td>0.340099</td>\n",
       "      <td>NaN</td>\n",
       "      <td>0.689224</td>\n",
       "    </tr>\n",
       "    <tr>\n",
       "      <th>FMSPWML</th>\n",
       "      <td>NaN</td>\n",
       "      <td>0.292853</td>\n",
       "      <td>0.515163</td>\n",
       "      <td>0.000000</td>\n",
       "      <td>0.603831</td>\n",
       "      <td>0.000000</td>\n",
       "      <td>0.000000</td>\n",
       "      <td>0.586943</td>\n",
       "      <td>0.000000</td>\n",
       "    </tr>\n",
       "    <tr>\n",
       "      <th>SMDMQRO</th>\n",
       "      <td>0.0</td>\n",
       "      <td>0.000000</td>\n",
       "      <td>0.631701</td>\n",
       "      <td>0.000000</td>\n",
       "      <td>0.662961</td>\n",
       "      <td>NaN</td>\n",
       "      <td>0.421955</td>\n",
       "      <td>0.000000</td>\n",
       "      <td>0.757181</td>\n",
       "    </tr>\n",
       "    <tr>\n",
       "      <th>GBTTTOI</th>\n",
       "      <td>NaN</td>\n",
       "      <td>0.000000</td>\n",
       "      <td>0.452997</td>\n",
       "      <td>0.000000</td>\n",
       "      <td>0.282251</td>\n",
       "      <td>0.000000</td>\n",
       "      <td>0.492339</td>\n",
       "      <td>0.000000</td>\n",
       "      <td>0.000000</td>\n",
       "    </tr>\n",
       "  </tbody>\n",
       "</table>\n",
       "</div>"
      ],
      "text/plain": [
       "         SNHGW     DSVZL     LMIBW     QGLJS     VDJAT     XLGSY     BHZNK  \\\n",
       "SVEIPFK    NaN       NaN       NaN       NaN  0.281307  0.363085       NaN   \n",
       "SCKALDE    0.0       NaN  0.000000  0.000000  0.000000  0.563378       NaN   \n",
       "VDRUXUI    NaN  0.000000  0.726155  0.000000  0.322662  0.432425  0.000000   \n",
       "JPASLFW    0.0  0.516177  0.613761  0.470533  0.000000  0.000000  0.340099   \n",
       "FMSPWML    NaN  0.292853  0.515163  0.000000  0.603831  0.000000  0.000000   \n",
       "SMDMQRO    0.0  0.000000  0.631701  0.000000  0.662961       NaN  0.421955   \n",
       "GBTTTOI    NaN  0.000000  0.452997  0.000000  0.282251  0.000000  0.492339   \n",
       "\n",
       "            SDCGW     FNAJX  \n",
       "SVEIPFK       NaN       NaN  \n",
       "SCKALDE  0.618912  0.000000  \n",
       "VDRUXUI  0.000000  0.000000  \n",
       "JPASLFW       NaN  0.689224  \n",
       "FMSPWML  0.586943  0.000000  \n",
       "SMDMQRO  0.000000  0.757181  \n",
       "GBTTTOI  0.000000  0.000000  "
      ]
     },
     "execution_count": 23,
     "metadata": {},
     "output_type": "execute_result"
    }
   ],
   "source": [
    "po_pheno_pearson_df = pd.read_csv(\n",
    "    os.path.join(post_clean_dir, 'spreadsheet_C_.P.pearson.T_ETL.tsv'), sep='\\t', index_col=0, header=0)\n",
    "po_pheno_pearson_df"
   ]
  },
  {
   "cell_type": "code",
   "execution_count": null,
   "metadata": {
    "collapsed": true
   },
   "outputs": [],
   "source": [
    "po_pheno_pearson_df = po_pheno_pearson_df.transpose()\n",
    "po_pheno_pearson_df.to_csv(os.path.join(pheno_pearson_data_dir, BASE_NAME + '.P.pearson_PC_from_T.tsv'))"
   ]
  },
  {
   "cell_type": "code",
   "execution_count": 27,
   "metadata": {
    "collapsed": false
   },
   "outputs": [
    {
     "data": {
      "text/plain": [
       "['.DS_Store', 'log_gene_prioritization_pipeline.yml']"
      ]
     },
     "execution_count": 27,
     "metadata": {},
     "output_type": "execute_result"
    }
   ],
   "source": [
    "post_clean_dir = '../../Data_Cleanup_Pipeline/test/run_dir/results'\n",
    "os.listdir(post_clean_dir)"
   ]
  },
  {
   "cell_type": "code",
   "execution_count": null,
   "metadata": {
    "collapsed": true
   },
   "outputs": [],
   "source": []
  },
  {
   "cell_type": "code",
   "execution_count": null,
   "metadata": {
    "collapsed": true
   },
   "outputs": [],
   "source": []
  },
  {
   "cell_type": "code",
   "execution_count": null,
   "metadata": {
    "collapsed": true
   },
   "outputs": [],
   "source": []
  },
  {
   "cell_type": "code",
   "execution_count": null,
   "metadata": {
    "collapsed": true
   },
   "outputs": [],
   "source": []
  },
  {
   "cell_type": "code",
   "execution_count": null,
   "metadata": {
    "collapsed": true
   },
   "outputs": [],
   "source": []
  },
  {
   "cell_type": "code",
   "execution_count": null,
   "metadata": {
    "collapsed": true
   },
   "outputs": [],
   "source": []
  },
  {
   "cell_type": "code",
   "execution_count": null,
   "metadata": {
    "collapsed": true
   },
   "outputs": [],
   "source": []
  },
  {
   "cell_type": "code",
   "execution_count": null,
   "metadata": {
    "collapsed": true
   },
   "outputs": [],
   "source": []
  }
 ],
 "metadata": {
  "anaconda-cloud": {},
  "kernelspec": {
   "display_name": "Python 3",
   "language": "python",
   "name": "python3"
  },
  "language_info": {
   "codemirror_mode": {
    "name": "ipython",
    "version": 3
   },
   "file_extension": ".py",
   "mimetype": "text/x-python",
   "name": "python",
   "nbconvert_exporter": "python",
   "pygments_lexer": "ipython3",
   "version": "3.6.0"
  }
 },
 "nbformat": 4,
 "nbformat_minor": 1
}
