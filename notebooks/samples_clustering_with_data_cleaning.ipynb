{
 "cells": [
  {
   "cell_type": "markdown",
   "metadata": {
    "collapsed": true
   },
   "source": [
    "# Test Samples Clustering incorporation of Cluster Evaluation\n",
    "* keg_test_tools, Data_Cleanup_Pipeline and Samples_Clustering_Pipeline all in the same directory here.\n",
    "* knpackage (0.1.16)"
   ]
  },
  {
   "cell_type": "code",
   "execution_count": 1,
   "metadata": {
    "collapsed": false
   },
   "outputs": [],
   "source": [
    "SHOW_COMMAND_LINE_OUTPUT = False\n",
    "\n",
    "import os\n",
    "import sys\n",
    "\n",
    "dcp_src = '../../Data_Cleanup_Pipeline/src'\n",
    "sys.path.insert(1, dcp_src)\n",
    "import data_cleanup_toolbox as dc\n",
    "\n",
    "smpc_src = '../../Samples_Clustering_Pipeline/src'\n",
    "sys.path.insert(1, smpc_src)\n",
    "import sample_clustering_toolbox as sc\n",
    "\n",
    "import knpackage.toolbox as kn\n",
    "\n",
    "# If not running inside a docker container of the KnowEnG variety: Create this Directory\n",
    "output_data_dir = '../../test/run_dir'\n",
    "yaml_dir = '../../data/run_files'\n",
    "yaml_file = 'TEMPLATE_data_cleanup.yml'"
   ]
  },
  {
   "cell_type": "code",
   "execution_count": 21,
   "metadata": {
    "collapsed": true
   },
   "outputs": [],
   "source": [
    "#   local convenience function\n",
    "def show_dictionary(a_dict):\n",
    "    for k in list(a_dict.keys()):\n",
    "        print(k,':\\t',a_dict[k])"
   ]
  },
  {
   "cell_type": "code",
   "execution_count": 22,
   "metadata": {
    "collapsed": false
   },
   "outputs": [
    {
     "name": "stdout",
     "output_type": "stream",
     "text": [
      "redis_credential :\t {'port': 6379, 'host': 'knowredis.knowhub.org', 'password': 'KnowEnG'}\n",
      "pipeline_type :\t sample_clustering_pipeline\n",
      "spreadsheet_name_full_path :\t ../../Samples_Clustering_Pipeline/data/spreadsheets/tcga_ucec_somatic_mutation_data.df\n",
      "phenotype_full_path :\t ../data/spreadsheets/TEST_1_phenotype.tsv\n",
      "run_directory :\t ../../Data_Cleanup_Pipeline/src\n",
      "run_file :\t TEMPLATE_data_cleanup.yml\n",
      "taxonid :\t 9606\n",
      "results_directory :\t /Users/mojo/BigDataTank/trifecta_tank\n",
      "source_hint :\t \n"
     ]
    }
   ],
   "source": [
    "# Get the template yaml file\n",
    "data_cleanup_yaml_dir = os.path.join(os.getcwd(), '../../Data_Cleanup_Pipeline/data/run_files')\n",
    "data_cleanup_pars = kn.get_run_parameters(data_cleanup_yaml_dir, 'TEMPLATE_data_cleanup.yml')\n",
    "\n",
    "spreadsheet_path = '../../Samples_Clustering_Pipeline/data/spreadsheets'\n",
    "spreadsheet_file_name = 'tcga_ucec_somatic_mutation_data.df'\n",
    "data_cleanup_pars['spreadsheet_name_full_path'] =\\\n",
    "    os.path.join(spreadsheet_path, spreadsheet_file_name)\n",
    "\n",
    "data_cleanup_pars['run_directory'] = '../../Data_Cleanup_Pipeline/src'\n",
    "data_cleanup_pars['results_directory'] = local_results\n",
    "\n",
    "# gene_priorization_pipeline, sample_clustering_pipeline, geneset_characterization_pipeline\n",
    "data_cleanup_pars['pipeline_type'] = 'sample_clustering_pipeline'\n",
    "\n",
    "show_dictionary(data_cleanup_pars)"
   ]
  },
  {
   "cell_type": "code",
   "execution_count": 12,
   "metadata": {
    "collapsed": false
   },
   "outputs": [
    {
     "name": "stdout",
     "output_type": "stream",
     "text": [
      "WARNING: Converted 0 negative number to their positive value.\n",
      "INFO: Cleaned user_spreadsheet has 17490 rows, 248 columns.\n",
      "\n",
      "\n",
      "tcga_ucec_somatic_mutation_data_ETL.tsv\n",
      "tcga_ucec_somatic_mutation_data_MAP.tsv\n",
      "tcga_ucec_somatic_mutation_data_UNMAPPED.tsv\n"
     ]
    }
   ],
   "source": [
    "#         Run the samples clustering data cleaning pipeline to get the output files\n",
    "STATUS, message_string = dc.run_samples_clustering_pipeline(data_cleanup_pars)\n",
    "for l in message_string:\n",
    "    print(l)\n",
    "\n",
    "if STATUS:\n",
    "    output_files_list = os.listdir(data_cleanup_pars['results_directory'])\n",
    "    print('\\n')\n",
    "    for file_name in output_files_list:\n",
    "        print(file_name)"
   ]
  },
  {
   "cell_type": "code",
   "execution_count": null,
   "metadata": {
    "collapsed": true
   },
   "outputs": [],
   "source": [
    "phenotype_path = '../../Samples_Clustering_Pipeline/data/spreadsheets'\n",
    "phenotype_file = 'UCEC_phenotype.txt'\n",
    "# cluster_evaluation_pars['phenotype_data_full_path'] =\\\n",
    "#     os.path.join(phenotype_path, phenotype_file)\n",
    "\n",
    "data_cleanup_pars['spreadsheet_name_full_path'] =\\\n",
    "    os.path.join(phenotype_path, phenotype_file)\n",
    "    \n",
    "    \n",
    "    "
   ]
  },
  {
   "cell_type": "markdown",
   "metadata": {},
   "source": [
    "## Cluster the data using a samples_clustering_parameters dictionary\n",
    "\n",
    "### Note that you may need to run \"make env_setup\" from the .../Samples_Clustering_Pipeline/test    directory"
   ]
  },
  {
   "cell_type": "code",
   "execution_count": 30,
   "metadata": {
    "collapsed": false
   },
   "outputs": [
    {
     "name": "stdout",
     "output_type": "stream",
     "text": [
      "cols_sampling_fraction :\t 0.8\n",
      "rwr_restart_probability :\t 0.5\n",
      "run_directory :\t ../../Samples_Clustering_Pipeline/src\n",
      "parallelism :\t 4\n",
      "rwr_max_iterations :\t 100\n",
      "results_directory :\t /Users/mojo/BigDataTank/trifecta_tank\n",
      "run_file :\t BENCHMARK_7_SC_cc_net_nmf_parallel_shared.yml\n",
      "tmp_directory :\t /Users/mojo/BigDataTank/trifecta_tank\n",
      "top_number_of_genes :\t 100\n",
      "nmf_penalty_parameter :\t 1400\n",
      "nmf_max_iterations :\t 10000\n",
      "processing_method :\t parallel\n",
      "rwr_convergence_tolerence :\t 0.0001\n",
      "gg_network_name_full_path :\t ../../Samples_Clustering_Pipeline/data/networks/keg_ST90_4col.edge\n",
      "nmf_conv_check_freq :\t 50\n",
      "nmf_max_invariance :\t 200\n",
      "spreadsheet_name_full_path :\t /Users/mojo/BigDataTank/trifecta_tank/tcga_ucec_somatic_mutation_data_ETL.tsv\n",
      "number_of_bootstraps :\t 20\n",
      "rows_sampling_fraction :\t 0.8\n",
      "method :\t cc_net_nmf\n",
      "number_of_clusters :\t 3\n"
     ]
    }
   ],
   "source": [
    "samples_clustering_yaml_dir = os.path.join(os.getcwd(), \n",
    "                                           '../../Samples_Clustering_Pipeline/data/run_files')\n",
    "samples_clustering_pars = kn.get_run_parameters(samples_clustering_yaml_dir, \n",
    "                                            'BENCHMARK_7_SC_cc_net_nmf_parallel_shared.yml')\n",
    "\n",
    "spreadsheet_path = data_cleanup_pars['results_directory']\n",
    "spreadsheet_file_name = 'tcga_ucec_somatic_mutation_data_ETL.tsv'\n",
    "samples_clustering_pars['spreadsheet_name_full_path'] =\\\n",
    "    os.path.join(spreadsheet_path, spreadsheet_file_name)\n",
    "network_path = '../../Samples_Clustering_Pipeline/data/networks'\n",
    "network_file_name = 'keg_ST90_4col.edge'\n",
    "samples_clustering_pars['gg_network_name_full_path'] =\\\n",
    "    os.path.join(network_path, network_file_name)\n",
    "\n",
    "samples_clustering_pars.pop('phenotype_name_full_path', None)\n",
    "\n",
    "samples_clustering_pars['run_directory'] = '../../Samples_Clustering_Pipeline/src'\n",
    "samples_clustering_pars['results_directory'] = local_results\n",
    "samples_clustering_pars['tmp_directory'] = '/Users/mojo/BigDataTank/trifecta_tank'\n",
    "\n",
    "samples_clustering_pars['number_of_bootstraps'] = 20\n",
    "samples_clustering_pars['number_of_clusters'] = 3\n",
    "\n",
    "samples_clustering_pars['rows_sampling_fraction'] = 0.8\n",
    "samples_clustering_pars['cols_sampling_fraction'] = 0.8\n",
    "\n",
    "samples_clustering_pars['rwr_restart_probability'] = 0.5\n",
    "\n",
    "show_dictionary(samples_clustering_pars)"
   ]
  },
  {
   "cell_type": "code",
   "execution_count": 31,
   "metadata": {
    "collapsed": false
   },
   "outputs": [
    {
     "name": "stdout",
     "output_type": "stream",
     "text": [
      "\n",
      "\t\t run_cc_net_nmf\n",
      "spreadsheet_mat (11128, 248): 112\n",
      "network_mat (11128, 11128): 56\n",
      "lap_diag (11128, 11128)\n",
      "lap_pos (11128, 11128)\n",
      "saved spreadsheet_mat to /Users/mojo/keg_tmp/keg_notebooks/A_Top_Secret/test_file_4_npdump in 0.0869 seconds\n",
      "In find_and_save_cc_net_nmf_clusters_parallel: file name is  /Users/mojo/keg_tmp/keg_notebooks/A_Top_Secret/test_file_4_npdump\n",
      "spreadsheet_mat = \n",
      "1.0\n",
      "Using number_of_cores = 20\n",
      "spreadsheet_mat shape =  (11128, 248)\n",
      "spreadsheet_mat shape =  (11128, 248)\n",
      "spreadsheet_mat shape =  (11128, 248)\n",
      "spreadsheet_mat shape =  (11128, 248)\n",
      "spreadsheet_mat shape =  (11128, 248)\n",
      "spreadsheet_mat shape =  (11128, 248)\n",
      "spreadsheet_mat shape =  (11128, 248)\n",
      "spreadsheet_mat shape =  (11128, 248)\n",
      "spreadsheet_mat shape =  (11128, 248)\n",
      "spreadsheet_mat shape =  (11128, 248)\n",
      "spreadsheet_mat shape =  (11128, 248)\n",
      "spreadsheet_mat shape =  (11128, 248)\n",
      "spreadsheet_mat shape =  (11128, 248)\n",
      "spreadsheet_mat shape =  (11128, 248)\n",
      "spreadsheet_mat shape =  (11128, 248)\n",
      "spreadsheet_mat shape =  (11128, 248)\n",
      "spreadsheet_mat shape =  (11128, 248)\n",
      "spreadsheet_mat shape =  (11128, 248)\n",
      "spreadsheet_mat shape =  (11128, 248)\n",
      "spreadsheet_mat shape =  (11128, 248)\n",
      "\n",
      "\t\tSun Mar 12 22:15:10 2017 \n",
      "\t\tTemporary files written: getting consensus matrix\n",
      "\n",
      "\n",
      "\t\tConsensus Matrix Complete: 0.022 calling k-means\n",
      "\n",
      "\t\tk-means completed in 0.047 seconds\n",
      "\n",
      "samples clustering run time:\t 119.68846893310547\n"
     ]
    }
   ],
   "source": [
    "# Note that the printed output below is from a development version\n",
    "# of samples clustering dependencies.\n",
    "start_clock = time.time()\n",
    "sc.run_cc_net_nmf(samples_clustering_pars)\n",
    "run_time = time.time() - start_clock\n",
    "print('samples clustering run time:\\t', run_time)"
   ]
  },
  {
   "cell_type": "code",
   "execution_count": 32,
   "metadata": {
    "collapsed": false
   },
   "outputs": [
    {
     "name": "stdout",
     "output_type": "stream",
     "text": [
      "consensus_matrix_cc_net_nmf_Sun_12_Mar_2017_17_15_10.206341028_viz.tsv\n",
      "genes_averages_by_cluster_cc_net_nmf_Sun_12_Mar_2017_17_15_21.663466930_viz.tsv\n",
      "genes_by_samples_heatmap_cc_net_nmf_Sun_12_Mar_2017_17_15_12.265441894_viz.tsv\n",
      "genes_variance_cc_net_nmf_Sun_12_Mar_2017_17_15_21.768404960_viz.tsv\n",
      "samples_label_by_cluster_cc_net_nmf_Sun_12_Mar_2017_17_15_10.395998954_viz.tsv\n",
      "silhouette_average_cc_net_nmf_Sun_12_Mar_2017_17_15_10.393580913_viz.tsv\n",
      "tcga_ucec_somatic_mutation_data_ETL.tsv\n",
      "tcga_ucec_somatic_mutation_data_MAP.tsv\n",
      "tcga_ucec_somatic_mutation_data_UNMAPPED.tsv\n",
      "top_genes_by_cluster_cc_net_nmf_Sun_12_Mar_2017_17_15_21.816582918_download.tsv\n"
     ]
    }
   ],
   "source": [
    "results_dir_list = os.listdir(samples_clustering_pars['results_directory'])\n",
    "for l in results_dir_list:\n",
    "    print(l)"
   ]
  },
  {
   "cell_type": "code",
   "execution_count": null,
   "metadata": {
    "collapsed": true
   },
   "outputs": [],
   "source": []
  },
  {
   "cell_type": "code",
   "execution_count": null,
   "metadata": {
    "collapsed": true
   },
   "outputs": [],
   "source": []
  },
  {
   "cell_type": "code",
   "execution_count": null,
   "metadata": {
    "collapsed": true
   },
   "outputs": [],
   "source": []
  },
  {
   "cell_type": "markdown",
   "metadata": {},
   "source": [
    "## Evaluate the clustering using clustering_evaluation_parameters dictionary"
   ]
  },
  {
   "cell_type": "code",
   "execution_count": 35,
   "metadata": {
    "collapsed": false
   },
   "outputs": [
    {
     "name": "stdout",
     "output_type": "stream",
     "text": [
      "cluster_mapping_full_path :\t /Users/mojo/BigDataTank/trifecta_tank/samples_label_by_cluster_cc_net_nmf_Sun_12_Mar_2017_17_15_10.395998954_viz.tsv\n",
      "phenotype_data_full_path :\t ../../Samples_Clustering_Pipeline/data/spreadsheets/UCEC_phenotype.txt\n",
      "run_file :\t BENCHMARK_1_cluster_eval.yml\n",
      "run_directory :\t ../../Clustering_Evaluation/src\n",
      "threshold :\t 10\n",
      "results_directory :\t /Users/mojo/BigDataTank/trifecta_tank\n"
     ]
    }
   ],
   "source": [
    "cluster_evaluation_yaml_dir = os.path.join(os.getcwd(), \n",
    "                                           '../../Clustering_Evaluation/data/run_files')\n",
    "cluster_evaluation_pars = kn.get_run_parameters(cluster_evaluation_yaml_dir, \n",
    "                                                'BENCHMARK_1_cluster_eval.yml')\n",
    "\n",
    "cluster_evaluation_pars['run_directory'] = '../../Clustering_Evaluation/src'\n",
    "cluster_evaluation_pars['results_directory'] = local_results\n",
    "\n",
    "phenotype_path = '../../Samples_Clustering_Pipeline/data/spreadsheets'\n",
    "phenotype_file = 'UCEC_phenotype.txt'\n",
    "cluster_evaluation_pars['phenotype_data_full_path'] =\\\n",
    "    os.path.join(phenotype_path, phenotype_file)\n",
    "    \n",
    "cluster_mapping_path = cluster_evaluation_pars['results_directory']\n",
    "cluster_mapping_file =\\\n",
    "'samples_label_by_cluster_cc_net_nmf_Sun_12_Mar_2017_17_15_10.395998954_viz.tsv'\n",
    "cluster_evaluation_pars['cluster_mapping_full_path'] =\\\n",
    "    os.path.join(cluster_mapping_path, cluster_mapping_file)\n",
    "\n",
    "cluster_evaluation_pars['threshold'] = 10\n",
    "\n",
    "show_dictionary(cluster_evaluation_pars)"
   ]
  },
  {
   "cell_type": "code",
   "execution_count": 36,
   "metadata": {
    "collapsed": false
   },
   "outputs": [
    {
     "name": "stdout",
     "output_type": "stream",
     "text": [
      "samples clustering run time:\t 0.8598310947418213\n"
     ]
    }
   ],
   "source": [
    "start_clock = time.time()\n",
    "ce.clustering_evaluation(cluster_evaluation_pars)\n",
    "run_time = time.time() - start_clock\n",
    "print('samples clustering run time:\\t', run_time)"
   ]
  },
  {
   "cell_type": "code",
   "execution_count": 37,
   "metadata": {
    "collapsed": false
   },
   "outputs": [
    {
     "name": "stdout",
     "output_type": "stream",
     "text": [
      "clustering_evaluation_result_Sun_12_Mar_2017_17_29_31.757781982.tsv\n",
      "consensus_matrix_cc_net_nmf_Sun_12_Mar_2017_17_15_10.206341028_viz.tsv\n",
      "genes_averages_by_cluster_cc_net_nmf_Sun_12_Mar_2017_17_15_21.663466930_viz.tsv\n",
      "genes_by_samples_heatmap_cc_net_nmf_Sun_12_Mar_2017_17_15_12.265441894_viz.tsv\n",
      "genes_variance_cc_net_nmf_Sun_12_Mar_2017_17_15_21.768404960_viz.tsv\n",
      "samples_label_by_cluster_cc_net_nmf_Sun_12_Mar_2017_17_15_10.395998954_viz.tsv\n",
      "silhouette_average_cc_net_nmf_Sun_12_Mar_2017_17_15_10.393580913_viz.tsv\n",
      "tcga_ucec_somatic_mutation_data_ETL.tsv\n",
      "tcga_ucec_somatic_mutation_data_MAP.tsv\n",
      "tcga_ucec_somatic_mutation_data_UNMAPPED.tsv\n",
      "top_genes_by_cluster_cc_net_nmf_Sun_12_Mar_2017_17_15_21.816582918_download.tsv\n"
     ]
    }
   ],
   "source": [
    "results_dir_list = os.listdir(samples_clustering_pars['results_directory'])\n",
    "for l in results_dir_list:\n",
    "    print(l)"
   ]
  },
  {
   "cell_type": "code",
   "execution_count": 39,
   "metadata": {
    "collapsed": false
   },
   "outputs": [
    {
     "data": {
      "text/html": [
       "<div>\n",
       "<table border=\"1\" class=\"dataframe\">\n",
       "  <thead>\n",
       "    <tr style=\"text-align: right;\">\n",
       "      <th></th>\n",
       "      <th>Measure</th>\n",
       "      <th>Trait_length_after_dropna</th>\n",
       "      <th>Sample_number_after_dropna</th>\n",
       "      <th>chi/fval</th>\n",
       "      <th>pval</th>\n",
       "    </tr>\n",
       "  </thead>\n",
       "  <tbody>\n",
       "    <tr>\n",
       "      <th>days_to_death</th>\n",
       "      <td>f_oneway</td>\n",
       "      <td>17</td>\n",
       "      <td>17</td>\n",
       "      <td>0.485346</td>\n",
       "      <td>0.496666</td>\n",
       "    </tr>\n",
       "    <tr>\n",
       "      <th>days_to_last</th>\n",
       "      <td>f_oneway</td>\n",
       "      <td>216</td>\n",
       "      <td>231</td>\n",
       "      <td>0.230072</td>\n",
       "      <td>0.794660</td>\n",
       "    </tr>\n",
       "    <tr>\n",
       "      <th>days_survival</th>\n",
       "      <td>f_oneway</td>\n",
       "      <td>232</td>\n",
       "      <td>248</td>\n",
       "      <td>0.229441</td>\n",
       "      <td>0.795149</td>\n",
       "    </tr>\n",
       "    <tr>\n",
       "      <th>diag_age</th>\n",
       "      <td>f_oneway</td>\n",
       "      <td>53</td>\n",
       "      <td>248</td>\n",
       "      <td>0.774910</td>\n",
       "      <td>0.461871</td>\n",
       "    </tr>\n",
       "    <tr>\n",
       "      <th>race</th>\n",
       "      <td>chisquare</td>\n",
       "      <td>5</td>\n",
       "      <td>241</td>\n",
       "      <td>4.220557</td>\n",
       "      <td>0.836696</td>\n",
       "    </tr>\n",
       "    <tr>\n",
       "      <th>ethnicity</th>\n",
       "      <td>chisquare</td>\n",
       "      <td>2</td>\n",
       "      <td>171</td>\n",
       "      <td>2.737333</td>\n",
       "      <td>0.254446</td>\n",
       "    </tr>\n",
       "    <tr>\n",
       "      <th>living</th>\n",
       "      <td>chisquare</td>\n",
       "      <td>2</td>\n",
       "      <td>248</td>\n",
       "      <td>1.965984</td>\n",
       "      <td>0.374190</td>\n",
       "    </tr>\n",
       "    <tr>\n",
       "      <th>histICDO3</th>\n",
       "      <td>chisquare</td>\n",
       "      <td>7</td>\n",
       "      <td>248</td>\n",
       "      <td>25.434013</td>\n",
       "      <td>0.012895</td>\n",
       "    </tr>\n",
       "    <tr>\n",
       "      <th>hist_simple</th>\n",
       "      <td>chisquare</td>\n",
       "      <td>3</td>\n",
       "      <td>248</td>\n",
       "      <td>19.232251</td>\n",
       "      <td>0.000708</td>\n",
       "    </tr>\n",
       "    <tr>\n",
       "      <th>ICD10</th>\n",
       "      <td>chisquare</td>\n",
       "      <td>2</td>\n",
       "      <td>230</td>\n",
       "      <td>2.443460</td>\n",
       "      <td>0.294720</td>\n",
       "    </tr>\n",
       "    <tr>\n",
       "      <th>ICD10_simple</th>\n",
       "      <td>chisquare</td>\n",
       "      <td>2</td>\n",
       "      <td>230</td>\n",
       "      <td>2.443460</td>\n",
       "      <td>0.294720</td>\n",
       "    </tr>\n",
       "    <tr>\n",
       "      <th>stage_simple</th>\n",
       "      <td>chisquare</td>\n",
       "      <td>4</td>\n",
       "      <td>248</td>\n",
       "      <td>3.172817</td>\n",
       "      <td>0.786865</td>\n",
       "    </tr>\n",
       "    <tr>\n",
       "      <th>stage_ismeta</th>\n",
       "      <td>chisquare</td>\n",
       "      <td>2</td>\n",
       "      <td>248</td>\n",
       "      <td>1.692543</td>\n",
       "      <td>0.429012</td>\n",
       "    </tr>\n",
       "    <tr>\n",
       "      <th>grade</th>\n",
       "      <td>chisquare</td>\n",
       "      <td>4</td>\n",
       "      <td>248</td>\n",
       "      <td>4.566643</td>\n",
       "      <td>0.600466</td>\n",
       "    </tr>\n",
       "    <tr>\n",
       "      <th>grade_simple</th>\n",
       "      <td>chisquare</td>\n",
       "      <td>2</td>\n",
       "      <td>248</td>\n",
       "      <td>2.093836</td>\n",
       "      <td>0.351018</td>\n",
       "    </tr>\n",
       "    <tr>\n",
       "      <th>residual</th>\n",
       "      <td>chisquare</td>\n",
       "      <td>4</td>\n",
       "      <td>207</td>\n",
       "      <td>4.164237</td>\n",
       "      <td>0.654462</td>\n",
       "    </tr>\n",
       "  </tbody>\n",
       "</table>\n",
       "</div>"
      ],
      "text/plain": [
       "                 Measure  Trait_length_after_dropna  \\\n",
       "days_to_death   f_oneway                         17   \n",
       "days_to_last    f_oneway                        216   \n",
       "days_survival   f_oneway                        232   \n",
       "diag_age        f_oneway                         53   \n",
       "race           chisquare                          5   \n",
       "ethnicity      chisquare                          2   \n",
       "living         chisquare                          2   \n",
       "histICDO3      chisquare                          7   \n",
       "hist_simple    chisquare                          3   \n",
       "ICD10          chisquare                          2   \n",
       "ICD10_simple   chisquare                          2   \n",
       "stage_simple   chisquare                          4   \n",
       "stage_ismeta   chisquare                          2   \n",
       "grade          chisquare                          4   \n",
       "grade_simple   chisquare                          2   \n",
       "residual       chisquare                          4   \n",
       "\n",
       "               Sample_number_after_dropna   chi/fval      pval  \n",
       "days_to_death                          17   0.485346  0.496666  \n",
       "days_to_last                          231   0.230072  0.794660  \n",
       "days_survival                         248   0.229441  0.795149  \n",
       "diag_age                              248   0.774910  0.461871  \n",
       "race                                  241   4.220557  0.836696  \n",
       "ethnicity                             171   2.737333  0.254446  \n",
       "living                                248   1.965984  0.374190  \n",
       "histICDO3                             248  25.434013  0.012895  \n",
       "hist_simple                           248  19.232251  0.000708  \n",
       "ICD10                                 230   2.443460  0.294720  \n",
       "ICD10_simple                          230   2.443460  0.294720  \n",
       "stage_simple                          248   3.172817  0.786865  \n",
       "stage_ismeta                          248   1.692543  0.429012  \n",
       "grade                                 248   4.566643  0.600466  \n",
       "grade_simple                          248   2.093836  0.351018  \n",
       "residual                              207   4.164237  0.654462  "
      ]
     },
     "execution_count": 39,
     "metadata": {},
     "output_type": "execute_result"
    }
   ],
   "source": [
    "result_dir = samples_clustering_pars['results_directory']\n",
    "resluts_file = 'clustering_evaluation_result_Sun_12_Mar_2017_17_29_31.757781982.tsv'\n",
    "cluster_eval_df = pd.read_csv(os.path.join(result_dir, resluts_file), sep='\\t', \n",
    "                              index_col=0, header=0)\n",
    "cluster_eval_df"
   ]
  },
  {
   "cell_type": "code",
   "execution_count": null,
   "metadata": {
    "collapsed": true
   },
   "outputs": [],
   "source": []
  },
  {
   "cell_type": "code",
   "execution_count": null,
   "metadata": {
    "collapsed": true
   },
   "outputs": [],
   "source": []
  }
 ],
 "metadata": {
  "anaconda-cloud": {},
  "kernelspec": {
   "display_name": "Python [default]",
   "language": "python",
   "name": "python3"
  },
  "language_info": {
   "codemirror_mode": {
    "name": "ipython",
    "version": 3
   },
   "file_extension": ".py",
   "mimetype": "text/x-python",
   "name": "python",
   "nbconvert_exporter": "python",
   "pygments_lexer": "ipython3",
   "version": "3.5.2"
  }
 },
 "nbformat": 4,
 "nbformat_minor": 1
}
