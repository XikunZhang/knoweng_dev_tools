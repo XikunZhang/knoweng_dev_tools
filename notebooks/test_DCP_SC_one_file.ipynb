{
 "cells": [
  {
   "cell_type": "markdown",
   "metadata": {},
   "source": [
    "### KnowEnG-Research/Data_Cleanup_Pipeline test all methods notebook (for script run on cloud)\n",
    "    Use this notebook to test the KnowEnG... /Data_Cleanup_Pipeline Locally:\n",
    "* Clone the Data_Cleanup_Pipeline from github. \n",
    "    * git clone https://github.com/KnowEnG/Data_Cleanup_Pipeline.git\n",
    "    * change to Data_Cleanup_Pipeline/test and run >make env_setup\n",
    "    * change back to Data_Cleanup_Pipeline directory\n",
    "    \n",
    "* Clone the repository that holds this notebook.\n",
    "    * git clone https://github.com/dlanier/keg_test_tools.git\n",
    "    \n",
    "* Run this jupyter notebook.\n",
    "\n",
    "    \n",
    "    To run on the cloud use the same cloned directory structure as above.\n",
    "    \n",
    "* Run the script version of this notebook in directory .../Data_Cleanup_Pipeline/keg_test_tools/notebooks/\n",
    "* like: >python3 cloud_test_DCP.py\n",
    "\n",
    "* you may edit and create your own version of the command line script from File - Download as - Python (.py) above"
   ]
  },
  {
   "cell_type": "code",
   "execution_count": 1,
   "metadata": {
    "collapsed": false
   },
   "outputs": [],
   "source": [
    "SHOW_COMMAND_LINE_OUTPUT = True\n",
    "\n",
    "import os\n",
    "import sys\n",
    "\n",
    "dcp_src = '../../Data_Cleanup_Pipeline/src/'\n",
    "sys.path.insert(1, dcp_src)\n",
    "import data_cleanup_toolbox as dc\n",
    "\n",
    "sys.path.insert(1, '../../keg_test_tools/src')\n",
    "import dcp_test\n",
    "\n",
    "import knpackage.toolbox as kn\n",
    "\n",
    "# If not running inside a docker container of the KnowEnG variety: Create this Directory\n",
    "output_data_dir = '../../test/run_dir'\n",
    "yaml_dir = '../../Data_Cleanup_Pipeline/data/run_files'\n",
    "yaml_file = 'TEMPLATE_data_cleanup.yml'"
   ]
  },
  {
   "cell_type": "code",
   "execution_count": 2,
   "metadata": {
    "collapsed": false
   },
   "outputs": [
    {
     "name": "stdout",
     "output_type": "stream",
     "text": [
      "source_hint :\t\t \n",
      "spreadsheet_name_full_path :\t\t ../../keg_test_tools/data/samples_clustering/spreadsheets_SC/spreadsheet_duplicates_rows_AND_cols_.G.SC.tsv\n",
      "pipeline_type :\t\t samples_clustering_pipeline\n",
      "pheno_data_dir :\t\t ../../keg_test_tools/data/samples_clustering/phenotypes_SC\n",
      "redis_credential :\t\t {'password': 'KnowEnG', 'host': 'knowredis.knowhub.org', 'port': 6379}\n",
      "run_directory :\t\t ../../Data_Cleanup_Pipeline/src/\n",
      "SHOW_COMMAND_LINE_OUTPUT :\t\t True\n",
      "results_directory :\t\t ./\n",
      "phenotype_full_path :\t\t ../../keg_test_tools/data/samples_clustering/phenotypes_SC/spreadsheet_duplicates_rows_AND_cols_.P.SC_pheno.tsv\n",
      "run_file :\t\t TEMPLATE_data_cleanup.yml\n",
      "spreadsheet_data_dir :\t\t ../../keg_test_tools/data/samples_clustering/spreadsheets_SC\n",
      "taxonid :\t\t 9606\n"
     ]
    }
   ],
   "source": [
    "#                   Data_Cleanup_Pipeline   Samples Clustering\n",
    "run_parameters = kn.get_run_parameters(yaml_dir, yaml_file)   \n",
    "\n",
    "run_parameters['pheno_data_dir'] = '../../keg_test_tools/data/samples_clustering/phenotypes_SC'\n",
    "run_parameters['phenotype_full_path'] = os.path.join(run_parameters['pheno_data_dir'], \n",
    "                                                     'spreadsheet_duplicates_rows_AND_cols_.P.SC_pheno.tsv')\n",
    "\n",
    "run_parameters['spreadsheet_data_dir'] = '../../keg_test_tools/data/samples_clustering/spreadsheets_SC'\n",
    "run_parameters['spreadsheet_name_full_path'] = os.path.join(run_parameters['spreadsheet_data_dir'], \n",
    "                                                     'spreadsheet_duplicates_rows_AND_cols_.G.SC.tsv')\n",
    "\n",
    "run_parameters['pipeline_type'] = 'samples_clustering_pipeline'\n",
    "\n",
    "run_parameters['run_directory'] = dcp_src\n",
    "run_parameters['results_directory'] = './'\n",
    "\n",
    "run_parameters['SHOW_COMMAND_LINE_OUTPUT'] = SHOW_COMMAND_LINE_OUTPUT\n",
    "\n",
    "if SHOW_COMMAND_LINE_OUTPUT:\n",
    "    for p in list(run_parameters.keys()):\n",
    "        print(p, ':\\t\\t', run_parameters[p])\n",
    "\n",
    "# test_result_df = dcp_test.test_data_cleanup(run_parameters)"
   ]
  },
  {
   "cell_type": "code",
   "execution_count": 5,
   "metadata": {
    "collapsed": false
   },
   "outputs": [
    {
     "name": "stdout",
     "output_type": "stream",
     "text": [
      "True\n",
      "WARNING: Converted 0 negative number to their positive value.\n",
      "WARNING: Removed 1 duplicate columns from user spreadsheet.\n",
      "INFO: Cleaned user_spreadsheet has 4 rows, 4 columns.\n"
     ]
    }
   ],
   "source": [
    "# STATUS, LOG_List = dc.run_samples_clustering_pipeline(run_parameters)\n",
    "print(STATUS)\n",
    "for loggie in LOG_List:\n",
    "    print(loggie)"
   ]
  }
 ],
 "metadata": {
  "anaconda-cloud": {},
  "kernelspec": {
   "display_name": "Python [default]",
   "language": "python",
   "name": "python3"
  },
  "language_info": {
   "codemirror_mode": {
    "name": "ipython",
    "version": 3
   },
   "file_extension": ".py",
   "mimetype": "text/x-python",
   "name": "python",
   "nbconvert_exporter": "python",
   "pygments_lexer": "ipython3",
   "version": "3.5.2"
  }
 },
 "nbformat": 4,
 "nbformat_minor": 1
}
