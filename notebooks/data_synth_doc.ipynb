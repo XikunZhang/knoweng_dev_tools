{
 "cells": [
  {
   "cell_type": "markdown",
   "metadata": {},
   "source": [
    "# data_synth.py\n",
    "### notebook demo of data_synth module functions:\n",
    "* r_df = data_synth. **get_rand_dataframe** (n_rows, n_cols, row_name_chars=5, col_name_chars=8)\n",
    "* nw = data_synth. **get_nodes_from_spreadsheet** (adj_mat)\n",
    "* spreadsheet_mat = data_synth. **get_clustered_spreadsheet** (n_clusters, cluster_width, row_multiplier=1)\n",
    "\n",
    "\n"
   ]
  },
  {
   "cell_type": "code",
   "execution_count": 1,
   "metadata": {
    "collapsed": false
   },
   "outputs": [],
   "source": [
    "# Link lifted from above: [home](https://dlanier.github.io/keg_notebooks/)  :format correct but wrong address\n",
    "\n",
    "import os\n",
    "import sys\n",
    "import numpy as np\n",
    "sys.path.insert(1, '../src')\n",
    "import data_synth as ds"
   ]
  },
  {
   "cell_type": "markdown",
   "metadata": {
    "collapsed": true
   },
   "source": [
    "def append_dictionary_file(full_file, run_pars):\n",
    "\n",
    "    \"\"\" Append or create a log file using yaml compatible format \"\"\""
   ]
  },
  {
   "cell_type": "code",
   "execution_count": 4,
   "metadata": {
    "collapsed": false
   },
   "outputs": [
    {
     "name": "stdout",
     "output_type": "stream",
     "text": [
      "/Users/lanier4/dlanier_KnowEnG/tmp_Trash/junk_test.yml\n"
     ]
    }
   ],
   "source": [
    "full_file = os.path.join('/Users/lanier4/dlanier_KnowEnG/tmp_Trash', 'junk_test.yml')\n",
    "print(full_file)\n",
    "run_pars = {'rinky':'dinky'}\n",
    "writ_status = ds.append_dictionary_file(full_file, run_pars)\n",
    "run_pars = {'parley':'vu'}\n",
    "writ_status = ds.append_dictionary_file(full_file, run_pars)"
   ]
  },
  {
   "cell_type": "markdown",
   "metadata": {},
   "source": [
    "def base_coef_arr(big_n, bas, arr_len):\n",
    "\n",
    "    \"\"\" convert an integer to an array of position multipliers in input base\n",
    "    Args:\n",
    "        big_n: an integer\n",
    "        bas: the base to convert it to\n",
    "        arr_len: pad the output with zeros to make it this length\n",
    "    Returns:\n",
    "        base_coef_arr: array of integers input integer in new base\n",
    "    \"\"\""
   ]
  },
  {
   "cell_type": "code",
   "execution_count": 5,
   "metadata": {
    "collapsed": false
   },
   "outputs": [
    {
     "data": {
      "text/plain": [
       "array([0, 0, 1])"
      ]
     },
     "execution_count": 5,
     "metadata": {},
     "output_type": "execute_result"
    }
   ],
   "source": [
    "base_coef_arr = ds.base_coef_arr(big_n=57, bas=2, arr_len=3)\n",
    "base_coef_arr"
   ]
  },
  {
   "cell_type": "markdown",
   "metadata": {},
   "source": [
    "def get_character_seq(bas_arr, caps=True):\n",
    "\n",
    "    \"\"\" get a random sequence of characters\n",
    "    Args:\n",
    "        bas_arr: array of numbers in range 0, 25\n",
    "        caps:  use Capital letters ? True or False\n",
    "    Returns:\n",
    "        char_arr\n",
    "    \"\"\""
   ]
  },
  {
   "cell_type": "code",
   "execution_count": 10,
   "metadata": {
    "collapsed": false
   },
   "outputs": [
    {
     "data": {
      "text/plain": [
       "'XFHA'"
      ]
     },
     "execution_count": 10,
     "metadata": {},
     "output_type": "execute_result"
    }
   ],
   "source": [
    "char_arr = ds.get_character_seq(bas_arr=np.array([23,5,7,0]), caps=True)\n",
    "char_arr"
   ]
  },
  {
   "cell_type": "markdown",
   "metadata": {},
   "source": [
    "def get_rand_unique_name_list(n_names, name_length):\n",
    "\n",
    "    \"\"\" get a list of unique random names with same number of characters (dog-slow if n_names >100k)\n",
    "    Args:\n",
    "        n_names: number of unique names in the output\n",
    "        name_length: number of characters in each name\n",
    "    Returns:\n",
    "        rand_uniq_name_list: list of names\n",
    "    \"\"\""
   ]
  },
  {
   "cell_type": "code",
   "execution_count": 12,
   "metadata": {
    "collapsed": false
   },
   "outputs": [
    {
     "data": {
      "text/plain": [
       "['LVEQQZNHWGHS',\n",
       " 'YRAPLXLEBZYE',\n",
       " 'NRRDYCANGMIA',\n",
       " 'FAYZYXIGSZWU',\n",
       " 'JKYSURZOUGKI']"
      ]
     },
     "execution_count": 12,
     "metadata": {},
     "output_type": "execute_result"
    }
   ],
   "source": [
    "rand_uniq_name_list = ds.get_rand_unique_name_list(n_names=5, name_length=12)\n",
    "rand_uniq_name_list"
   ]
  },
  {
   "cell_type": "markdown",
   "metadata": {},
   "source": [
    "def get_random_clusters(ncols, number_of_clusters=3):\n",
    "\n",
    "    \"\"\" get a random set of clusters and construct an encoding matrix from those\n",
    "\n",
    "    Args:\n",
    "        ncols: number of columns\n",
    "        number_of_clusters: number of rows\n",
    "\n",
    "    Returns:\n",
    "        H: encoding of the cluster number array\n",
    "        C: cluster number array\n",
    "    \"\"\""
   ]
  },
  {
   "cell_type": "code",
   "execution_count": 15,
   "metadata": {
    "collapsed": false
   },
   "outputs": [
    {
     "name": "stdout",
     "output_type": "stream",
     "text": [
      "[[ 1.  1.  0.  0.  0.  1.  0.  0.  0.  0.  1.  0.]\n",
      " [ 0.  0.  0.  1.  0.  0.  0.  0.  1.  0.  0.  1.]\n",
      " [ 0.  0.  1.  0.  1.  0.  1.  1.  0.  1.  0.  0.]] \n",
      "\n",
      " [0 0 2 1 2 0 2 2 1 2 0 1]\n"
     ]
    }
   ],
   "source": [
    "H, C = ds.get_random_clusters(ncols=12, number_of_clusters=3)\n",
    "print(H, '\\n\\n', C)"
   ]
  },
  {
   "cell_type": "markdown",
   "metadata": {},
   "source": [
    "def symmetric_random_adjacency_matrix(network_dim, pct_nodes=0.3):\n",
    "\n",
    "    \"\"\" symmetric random adjacency matrix from random set of nodes\n",
    "    Args:\n",
    "        network_dim: number of rows and columns in the symmetric output matrix\n",
    "        pct_nodes: number of connections (nodes) as a function of network size.\n",
    "    Returns:\n",
    "        network: a symmetric adjacency matrix (0 or 1 in network_dim x network_dim matrix)\n",
    "    \"\"\""
   ]
  },
  {
   "cell_type": "code",
   "execution_count": 16,
   "metadata": {
    "collapsed": false
   },
   "outputs": [
    {
     "data": {
      "text/plain": [
       "array([[ 0.,  0.,  1.,  0.,  0.],\n",
       "       [ 0.,  0.,  0.,  1.,  0.],\n",
       "       [ 1.,  0.,  0.,  0.,  1.],\n",
       "       [ 0.,  1.,  0.,  0.,  1.],\n",
       "       [ 0.,  0.,  1.,  1.,  0.]])"
      ]
     },
     "execution_count": 16,
     "metadata": {},
     "output_type": "execute_result"
    }
   ],
   "source": [
    "network = ds.symmetric_random_adjacency_matrix(network_dim=5, pct_nodes=0.3)\n",
    "network"
   ]
  },
  {
   "cell_type": "markdown",
   "metadata": {},
   "source": [
    "def adjacency_matrix_to_node_set(N):\n",
    "\n",
    "    \"\"\" create a network of nodes with edges from an adjacency matrix \"\"\""
   ]
  },
  {
   "cell_type": "code",
   "execution_count": 17,
   "metadata": {
    "collapsed": false
   },
   "outputs": [
    {
     "data": {
      "text/plain": [
       "array([[0, 2, 1],\n",
       "       [1, 3, 1],\n",
       "       [2, 4, 1],\n",
       "       [3, 4, 1]])"
      ]
     },
     "execution_count": 17,
     "metadata": {},
     "output_type": "execute_result"
    }
   ],
   "source": [
    "Node_set = ds.adjacency_matrix_to_node_set(network)\n",
    "Node_set"
   ]
  },
  {
   "cell_type": "markdown",
   "metadata": {},
   "source": [
    "def node_set_to_adj_mat(node_set):\n",
    "\n",
    "    \"\"\" create and adjacency matrix from a network of nodes with edges \"\"\""
   ]
  },
  {
   "cell_type": "code",
   "execution_count": 18,
   "metadata": {
    "collapsed": false
   },
   "outputs": [
    {
     "data": {
      "text/plain": [
       "array([[ 0.,  0.,  1.,  0.,  0.],\n",
       "       [ 0.,  0.,  0.,  1.,  0.],\n",
       "       [ 1.,  0.,  0.,  0.,  1.],\n",
       "       [ 0.,  1.,  0.,  0.,  1.],\n",
       "       [ 0.,  0.,  1.,  1.,  0.]])"
      ]
     },
     "execution_count": 18,
     "metadata": {},
     "output_type": "execute_result"
    }
   ],
   "source": [
    "network_bak = ds.node_set_to_adj_mat(Node_set)\n",
    "network_bak"
   ]
  },
  {
   "cell_type": "markdown",
   "metadata": {},
   "source": [
    "def get_clustered_spreadsheet(n_clusters, cluster_width, nrows):\n",
    "\n",
    "    \"\"\" synthetic spreadsheet data with n_clusters (2 : 7) of n_clusters * cluster_width samplse \"\"\""
   ]
  },
  {
   "cell_type": "code",
   "execution_count": 3,
   "metadata": {
    "collapsed": false
   },
   "outputs": [
    {
     "data": {
      "text/plain": [
       "array([[ 1.,  1.,  1.,  0.,  0.,  0.,  0.,  0.,  0.],\n",
       "       [ 1.,  1.,  1.,  0.,  0.,  0.,  0.,  0.,  0.],\n",
       "       [ 1.,  1.,  1.,  0.,  0.,  0.,  0.,  0.,  0.],\n",
       "       [ 1.,  1.,  1.,  0.,  0.,  0.,  0.,  0.,  0.],\n",
       "       [ 0.,  0.,  0.,  1.,  1.,  1.,  0.,  0.,  0.],\n",
       "       [ 0.,  0.,  0.,  1.,  1.,  1.,  0.,  0.,  0.],\n",
       "       [ 0.,  0.,  0.,  1.,  1.,  1.,  0.,  0.,  0.],\n",
       "       [ 0.,  0.,  0.,  1.,  1.,  1.,  0.,  0.,  0.],\n",
       "       [ 0.,  0.,  0.,  0.,  0.,  0.,  1.,  1.,  1.],\n",
       "       [ 0.,  0.,  0.,  0.,  0.,  0.,  1.,  1.,  1.],\n",
       "       [ 0.,  0.,  0.,  0.,  0.,  0.,  1.,  1.,  1.],\n",
       "       [ 0.,  0.,  0.,  0.,  0.,  0.,  1.,  1.,  1.]])"
      ]
     },
     "execution_count": 3,
     "metadata": {},
     "output_type": "execute_result"
    }
   ],
   "source": [
    "spreadsheet_mat = ds.get_clustered_spreadsheet(n_clusters=3, cluster_width=3, nrows=12)\n",
    "spreadsheet_mat"
   ]
  },
  {
   "cell_type": "code",
   "execution_count": 4,
   "metadata": {
    "collapsed": true
   },
   "outputs": [],
   "source": [
    "#                              get_clustered_spreadsheet needs redefinition of inputs"
   ]
  },
  {
   "cell_type": "code",
   "execution_count": null,
   "metadata": {
    "collapsed": true
   },
   "outputs": [],
   "source": []
  },
  {
   "cell_type": "markdown",
   "metadata": {},
   "source": [
    "def get_nodes_from_spreadsheet(SSArr):\n",
    "\n",
    "    \"\"\" get the .edge set from a spreadsheet \"\"\""
   ]
  },
  {
   "cell_type": "code",
   "execution_count": 5,
   "metadata": {
    "collapsed": false
   },
   "outputs": [
    {
     "data": {
      "text/plain": [
       "array([[ 0,  1,  1],\n",
       "       [ 0,  2,  1],\n",
       "       [ 0,  3,  1],\n",
       "       [ 1,  2,  1],\n",
       "       [ 1,  3,  1],\n",
       "       [ 2,  3,  1],\n",
       "       [ 3,  4,  1],\n",
       "       [ 3,  5,  1],\n",
       "       [ 3,  6,  1],\n",
       "       [ 3,  7,  1],\n",
       "       [ 4,  5,  1],\n",
       "       [ 4,  6,  1],\n",
       "       [ 4,  7,  1],\n",
       "       [ 5,  6,  1],\n",
       "       [ 5,  7,  1],\n",
       "       [ 6,  8,  1],\n",
       "       [ 6,  9,  1],\n",
       "       [ 6, 10,  1],\n",
       "       [ 6, 11,  1],\n",
       "       [ 7,  8,  1],\n",
       "       [ 7,  9,  1],\n",
       "       [ 7, 10,  1],\n",
       "       [ 7, 11,  1],\n",
       "       [ 0,  0,  0],\n",
       "       [ 0,  0,  0],\n",
       "       [ 0,  0,  0],\n",
       "       [ 0,  0,  0],\n",
       "       [ 0,  0,  0],\n",
       "       [ 0,  0,  0],\n",
       "       [ 0,  0,  0],\n",
       "       [ 0,  0,  0],\n",
       "       [ 0,  0,  0],\n",
       "       [ 0,  0,  0],\n",
       "       [ 0,  0,  0],\n",
       "       [ 0,  0,  0],\n",
       "       [ 0,  0,  0]])"
      ]
     },
     "execution_count": 5,
     "metadata": {},
     "output_type": "execute_result"
    }
   ],
   "source": [
    "node_set_2 = ds.get_nodes_from_spreadsheet(spreadsheet_mat)\n",
    "node_set_2"
   ]
  },
  {
   "cell_type": "markdown",
   "metadata": {},
   "source": [
    "def get_rand_dataframe(n_rows, n_cols, row_name_chars=5, col_name_chars=8):\n",
    "\n",
    "    \"\"\" get a radom number dataframe for test or whatever \"\"\""
   ]
  },
  {
   "cell_type": "code",
   "execution_count": 6,
   "metadata": {
    "collapsed": false
   },
   "outputs": [
    {
     "data": {
      "text/html": [
       "<div>\n",
       "<table border=\"1\" class=\"dataframe\">\n",
       "  <thead>\n",
       "    <tr style=\"text-align: right;\">\n",
       "      <th></th>\n",
       "      <th>LBAZBNKY</th>\n",
       "      <th>KOVHRMAM</th>\n",
       "      <th>KTMQBHZC</th>\n",
       "      <th>ESQEJTWE</th>\n",
       "      <th>DIHHCUBK</th>\n",
       "    </tr>\n",
       "  </thead>\n",
       "  <tbody>\n",
       "    <tr>\n",
       "      <th>UKAFF</th>\n",
       "      <td>0.468275</td>\n",
       "      <td>0.158010</td>\n",
       "      <td>0.247391</td>\n",
       "      <td>0.086890</td>\n",
       "      <td>0.197224</td>\n",
       "    </tr>\n",
       "    <tr>\n",
       "      <th>NFIYC</th>\n",
       "      <td>0.618764</td>\n",
       "      <td>0.250177</td>\n",
       "      <td>0.758779</td>\n",
       "      <td>0.129007</td>\n",
       "      <td>0.510853</td>\n",
       "    </tr>\n",
       "    <tr>\n",
       "      <th>QDLUL</th>\n",
       "      <td>0.222740</td>\n",
       "      <td>0.224529</td>\n",
       "      <td>0.164515</td>\n",
       "      <td>0.951284</td>\n",
       "      <td>0.307150</td>\n",
       "    </tr>\n",
       "    <tr>\n",
       "      <th>PUXYV</th>\n",
       "      <td>0.616959</td>\n",
       "      <td>0.578258</td>\n",
       "      <td>0.318280</td>\n",
       "      <td>0.198296</td>\n",
       "      <td>0.542738</td>\n",
       "    </tr>\n",
       "    <tr>\n",
       "      <th>ZPYDE</th>\n",
       "      <td>0.968946</td>\n",
       "      <td>0.679309</td>\n",
       "      <td>0.107965</td>\n",
       "      <td>0.144245</td>\n",
       "      <td>0.482047</td>\n",
       "    </tr>\n",
       "    <tr>\n",
       "      <th>NJAOS</th>\n",
       "      <td>0.756333</td>\n",
       "      <td>0.378778</td>\n",
       "      <td>0.705876</td>\n",
       "      <td>0.280156</td>\n",
       "      <td>0.388149</td>\n",
       "    </tr>\n",
       "    <tr>\n",
       "      <th>CWDPE</th>\n",
       "      <td>0.207702</td>\n",
       "      <td>0.065338</td>\n",
       "      <td>0.668899</td>\n",
       "      <td>0.633714</td>\n",
       "      <td>0.642047</td>\n",
       "    </tr>\n",
       "    <tr>\n",
       "      <th>WIRUP</th>\n",
       "      <td>0.641219</td>\n",
       "      <td>0.193301</td>\n",
       "      <td>0.026592</td>\n",
       "      <td>0.567361</td>\n",
       "      <td>0.715241</td>\n",
       "    </tr>\n",
       "    <tr>\n",
       "      <th>SXXKY</th>\n",
       "      <td>0.614207</td>\n",
       "      <td>0.177891</td>\n",
       "      <td>0.839989</td>\n",
       "      <td>0.248416</td>\n",
       "      <td>0.692268</td>\n",
       "    </tr>\n",
       "    <tr>\n",
       "      <th>CDWAC</th>\n",
       "      <td>0.949421</td>\n",
       "      <td>0.045724</td>\n",
       "      <td>0.481480</td>\n",
       "      <td>0.789135</td>\n",
       "      <td>0.333737</td>\n",
       "    </tr>\n",
       "    <tr>\n",
       "      <th>KLSJJ</th>\n",
       "      <td>0.287849</td>\n",
       "      <td>0.840916</td>\n",
       "      <td>0.384659</td>\n",
       "      <td>0.200210</td>\n",
       "      <td>0.646236</td>\n",
       "    </tr>\n",
       "    <tr>\n",
       "      <th>UQWQD</th>\n",
       "      <td>0.388293</td>\n",
       "      <td>0.763647</td>\n",
       "      <td>0.106070</td>\n",
       "      <td>0.482842</td>\n",
       "      <td>0.510429</td>\n",
       "    </tr>\n",
       "  </tbody>\n",
       "</table>\n",
       "</div>"
      ],
      "text/plain": [
       "       LBAZBNKY  KOVHRMAM  KTMQBHZC  ESQEJTWE  DIHHCUBK\n",
       "UKAFF  0.468275  0.158010  0.247391  0.086890  0.197224\n",
       "NFIYC  0.618764  0.250177  0.758779  0.129007  0.510853\n",
       "QDLUL  0.222740  0.224529  0.164515  0.951284  0.307150\n",
       "PUXYV  0.616959  0.578258  0.318280  0.198296  0.542738\n",
       "ZPYDE  0.968946  0.679309  0.107965  0.144245  0.482047\n",
       "NJAOS  0.756333  0.378778  0.705876  0.280156  0.388149\n",
       "CWDPE  0.207702  0.065338  0.668899  0.633714  0.642047\n",
       "WIRUP  0.641219  0.193301  0.026592  0.567361  0.715241\n",
       "SXXKY  0.614207  0.177891  0.839989  0.248416  0.692268\n",
       "CDWAC  0.949421  0.045724  0.481480  0.789135  0.333737\n",
       "KLSJJ  0.287849  0.840916  0.384659  0.200210  0.646236\n",
       "UQWQD  0.388293  0.763647  0.106070  0.482842  0.510429"
      ]
     },
     "execution_count": 6,
     "metadata": {},
     "output_type": "execute_result"
    }
   ],
   "source": [
    "ran_df = ds.get_rand_dataframe(n_rows=12, n_cols=5, row_name_chars=5, col_name_chars=8)\n",
    "ran_df"
   ]
  },
  {
   "cell_type": "markdown",
   "metadata": {},
   "source": [
    "def get_test_paramters_dictionary():\n",
    "\n",
    "    \"\"\" universal dctionary of run parameters \"\"\""
   ]
  },
  {
   "cell_type": "code",
   "execution_count": 7,
   "metadata": {
    "collapsed": false
   },
   "outputs": [
    {
     "name": "stdout",
     "output_type": "stream",
     "text": [
      "cols_sampling_fraction \t\t 0.8\n",
      "display_clusters \t\t 0\n",
      "gg_network_name_full_path \t\t ./run_dir/input_data/final_clean_4col.edge\n",
      "method \t\t cc_net_cluster_nmf\n",
      "method_1 \t\t cluster_nmf\n",
      "method_2 \t\t cc_cluster_nmf\n",
      "method_3 \t\t net_cluster_nmf\n",
      "method_4 \t\t cc_net_cluster_nmf\n",
      "nmf_conv_check_freq \t\t 50\n",
      "nmf_max_invariance \t\t 200\n",
      "nmf_max_iterations \t\t 10000\n",
      "nmf_penalty_parameter \t\t 1400\n",
      "number_of_bootstraps \t\t 5\n",
      "number_of_clusters \t\t 3\n",
      "results_directory \t\t ./run_dir/results\n",
      "rows_sampling_fraction \t\t 0.8\n",
      "rwr_convergence_tolerence \t\t 0.0001\n",
      "rwr_max_iterations \t\t 100\n",
      "rwr_restart_probability \t\t 0.7\n",
      "spreadsheet_name_full_path \t\t ./run_dir/input_data/final_clean_full_matrix.df\n",
      "tmp_directory \t\t ./run_dir/tmp\n",
      "use_parallel_processing \t\t 0\n"
     ]
    }
   ],
   "source": [
    "run_parameters = ds.get_test_paramters_dictionary()\n",
    "\n",
    "for k in sorted(run_parameters.keys()):\n",
    "    print(k, '\\t\\t', run_parameters[k])"
   ]
  },
  {
   "cell_type": "code",
   "execution_count": null,
   "metadata": {
    "collapsed": true
   },
   "outputs": [],
   "source": []
  },
  {
   "cell_type": "code",
   "execution_count": null,
   "metadata": {
    "collapsed": true
   },
   "outputs": [],
   "source": []
  },
  {
   "cell_type": "code",
   "execution_count": null,
   "metadata": {
    "collapsed": true
   },
   "outputs": [],
   "source": []
  },
  {
   "cell_type": "code",
   "execution_count": null,
   "metadata": {
    "collapsed": true
   },
   "outputs": [],
   "source": []
  },
  {
   "cell_type": "code",
   "execution_count": null,
   "metadata": {
    "collapsed": true
   },
   "outputs": [],
   "source": []
  },
  {
   "cell_type": "code",
   "execution_count": null,
   "metadata": {
    "collapsed": true
   },
   "outputs": [],
   "source": []
  },
  {
   "cell_type": "code",
   "execution_count": null,
   "metadata": {
    "collapsed": true
   },
   "outputs": [],
   "source": []
  },
  {
   "cell_type": "code",
   "execution_count": null,
   "metadata": {
    "collapsed": true
   },
   "outputs": [],
   "source": []
  }
 ],
 "metadata": {
  "anaconda-cloud": {},
  "kernelspec": {
   "display_name": "Python [default]",
   "language": "python",
   "name": "python3"
  },
  "language_info": {
   "codemirror_mode": {
    "name": "ipython",
    "version": 3
   },
   "file_extension": ".py",
   "mimetype": "text/x-python",
   "name": "python",
   "nbconvert_exporter": "python",
   "pygments_lexer": "ipython3",
   "version": "3.5.2"
  }
 },
 "nbformat": 4,
 "nbformat_minor": 1
}
