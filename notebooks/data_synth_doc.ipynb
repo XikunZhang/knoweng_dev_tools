{
 "cells": [
  {
   "cell_type": "code",
   "execution_count": 1,
   "metadata": {
    "collapsed": true
   },
   "outputs": [],
   "source": [
    "import os\n",
    "import sys\n",
    "import numpy as np\n",
    "#                     \\!/     Note relative local path to data_synth.py module here\n",
    "sys.path.insert(1, '../src')\n",
    "import data_synth as ds"
   ]
  },
  {
   "cell_type": "markdown",
   "metadata": {},
   "source": [
    "# data_synth.py   --   notebook demo of data_synth module functions:\n",
    "\n",
    "* r_df = data_synth. **get_rand_dataframe** (n_rows, n_cols, row_name_chars=5, col_name_chars=8)\n",
    "* nw = data_synth. **get_nodes_from_spreadsheet** (adj_mat)\n",
    "* spreadsheet_mat = data_synth. **get_clustered_spreadsheet** (n_clusters, cluster_width, row_multiplier=1)\n",
    "* **node_set_to_adj_mat** (node_set)"
   ]
  },
  {
   "cell_type": "code",
   "execution_count": 7,
   "metadata": {
    "collapsed": false
   },
   "outputs": [
    {
     "data": {
      "text/html": [
       "<div>\n",
       "<table border=\"1\" class=\"dataframe\">\n",
       "  <thead>\n",
       "    <tr style=\"text-align: right;\">\n",
       "      <th></th>\n",
       "      <th>FSZKGTTS</th>\n",
       "      <th>XRVPYUYT</th>\n",
       "      <th>MZEDSGTF</th>\n",
       "      <th>VRPLXFWH</th>\n",
       "      <th>VZASRTYN</th>\n",
       "    </tr>\n",
       "  </thead>\n",
       "  <tbody>\n",
       "    <tr>\n",
       "      <th>GNQRK</th>\n",
       "      <td>0.688186</td>\n",
       "      <td>0.891568</td>\n",
       "      <td>0.622043</td>\n",
       "      <td>0.933769</td>\n",
       "      <td>0.303421</td>\n",
       "    </tr>\n",
       "    <tr>\n",
       "      <th>FOFUD</th>\n",
       "      <td>0.310129</td>\n",
       "      <td>0.154152</td>\n",
       "      <td>0.940825</td>\n",
       "      <td>0.428457</td>\n",
       "      <td>0.981142</td>\n",
       "    </tr>\n",
       "    <tr>\n",
       "      <th>UBFCQ</th>\n",
       "      <td>0.259829</td>\n",
       "      <td>0.978734</td>\n",
       "      <td>0.828126</td>\n",
       "      <td>0.259925</td>\n",
       "      <td>0.840683</td>\n",
       "    </tr>\n",
       "    <tr>\n",
       "      <th>HZRCE</th>\n",
       "      <td>0.137648</td>\n",
       "      <td>0.523366</td>\n",
       "      <td>0.190724</td>\n",
       "      <td>0.834988</td>\n",
       "      <td>0.188678</td>\n",
       "    </tr>\n",
       "    <tr>\n",
       "      <th>KRIQC</th>\n",
       "      <td>0.172895</td>\n",
       "      <td>0.701869</td>\n",
       "      <td>0.255003</td>\n",
       "      <td>0.706506</td>\n",
       "      <td>0.677475</td>\n",
       "    </tr>\n",
       "    <tr>\n",
       "      <th>QGOJP</th>\n",
       "      <td>0.279359</td>\n",
       "      <td>0.499722</td>\n",
       "      <td>0.830834</td>\n",
       "      <td>0.377990</td>\n",
       "      <td>0.476512</td>\n",
       "    </tr>\n",
       "    <tr>\n",
       "      <th>KJPPJ</th>\n",
       "      <td>0.537493</td>\n",
       "      <td>0.295409</td>\n",
       "      <td>0.819021</td>\n",
       "      <td>0.666839</td>\n",
       "      <td>0.405335</td>\n",
       "    </tr>\n",
       "    <tr>\n",
       "      <th>YAZZW</th>\n",
       "      <td>0.049948</td>\n",
       "      <td>0.665570</td>\n",
       "      <td>0.475085</td>\n",
       "      <td>0.161119</td>\n",
       "      <td>0.832102</td>\n",
       "    </tr>\n",
       "    <tr>\n",
       "      <th>GWYQQ</th>\n",
       "      <td>0.731122</td>\n",
       "      <td>0.515208</td>\n",
       "      <td>0.150900</td>\n",
       "      <td>0.844573</td>\n",
       "      <td>0.690910</td>\n",
       "    </tr>\n",
       "    <tr>\n",
       "      <th>XUPBL</th>\n",
       "      <td>0.950923</td>\n",
       "      <td>0.437826</td>\n",
       "      <td>0.798231</td>\n",
       "      <td>0.529648</td>\n",
       "      <td>0.685487</td>\n",
       "    </tr>\n",
       "    <tr>\n",
       "      <th>KVQIE</th>\n",
       "      <td>0.059817</td>\n",
       "      <td>0.201041</td>\n",
       "      <td>0.573329</td>\n",
       "      <td>0.076114</td>\n",
       "      <td>0.680559</td>\n",
       "    </tr>\n",
       "    <tr>\n",
       "      <th>TQKHR</th>\n",
       "      <td>0.771358</td>\n",
       "      <td>0.354958</td>\n",
       "      <td>0.502764</td>\n",
       "      <td>0.035081</td>\n",
       "      <td>0.701730</td>\n",
       "    </tr>\n",
       "  </tbody>\n",
       "</table>\n",
       "</div>"
      ],
      "text/plain": [
       "       FSZKGTTS  XRVPYUYT  MZEDSGTF  VRPLXFWH  VZASRTYN\n",
       "GNQRK  0.688186  0.891568  0.622043  0.933769  0.303421\n",
       "FOFUD  0.310129  0.154152  0.940825  0.428457  0.981142\n",
       "UBFCQ  0.259829  0.978734  0.828126  0.259925  0.840683\n",
       "HZRCE  0.137648  0.523366  0.190724  0.834988  0.188678\n",
       "KRIQC  0.172895  0.701869  0.255003  0.706506  0.677475\n",
       "QGOJP  0.279359  0.499722  0.830834  0.377990  0.476512\n",
       "KJPPJ  0.537493  0.295409  0.819021  0.666839  0.405335\n",
       "YAZZW  0.049948  0.665570  0.475085  0.161119  0.832102\n",
       "GWYQQ  0.731122  0.515208  0.150900  0.844573  0.690910\n",
       "XUPBL  0.950923  0.437826  0.798231  0.529648  0.685487\n",
       "KVQIE  0.059817  0.201041  0.573329  0.076114  0.680559\n",
       "TQKHR  0.771358  0.354958  0.502764  0.035081  0.701730"
      ]
     },
     "execution_count": 7,
     "metadata": {},
     "output_type": "execute_result"
    }
   ],
   "source": [
    "ran_df = ds.get_rand_dataframe(n_rows=12, n_cols=5, row_name_chars=5, col_name_chars=8)\n",
    "ran_df"
   ]
  },
  {
   "cell_type": "code",
   "execution_count": 2,
   "metadata": {
    "collapsed": false
   },
   "outputs": [
    {
     "data": {
      "text/plain": [
       "['KVUOY', 'WOAIE', 'LDILB', 'KYCRL', 'UUEUU']"
      ]
     },
     "execution_count": 2,
     "metadata": {},
     "output_type": "execute_result"
    }
   ],
   "source": [
    "rand_names = ds.get_rand_unique_name_list(n_names=5, name_length=5)\n",
    "rand_names"
   ]
  },
  {
   "cell_type": "code",
   "execution_count": 8,
   "metadata": {
    "collapsed": false
   },
   "outputs": [
    {
     "data": {
      "text/plain": [
       "array([[ 0,  1,  1],\n",
       "       [ 0,  2,  1],\n",
       "       [ 0,  3,  1],\n",
       "       [ 0,  4,  1],\n",
       "       [ 0,  5,  1],\n",
       "       [ 0,  6,  1],\n",
       "       [ 0,  7,  1],\n",
       "       [ 0,  8,  1],\n",
       "       [ 0,  9,  1],\n",
       "       [ 0, 10,  1],\n",
       "       [ 0, 11,  1],\n",
       "       [ 1,  2,  1],\n",
       "       [ 1,  3,  1],\n",
       "       [ 1,  4,  1],\n",
       "       [ 1,  5,  1],\n",
       "       [ 1,  6,  1],\n",
       "       [ 1,  7,  1],\n",
       "       [ 1,  8,  1],\n",
       "       [ 1,  9,  1],\n",
       "       [ 1, 10,  1],\n",
       "       [ 1, 11,  1],\n",
       "       [ 2,  3,  1],\n",
       "       [ 2,  4,  1],\n",
       "       [ 2,  5,  1],\n",
       "       [ 2,  6,  1],\n",
       "       [ 2,  7,  1],\n",
       "       [ 2,  8,  1],\n",
       "       [ 2,  9,  1],\n",
       "       [ 2, 10,  1],\n",
       "       [ 2, 11,  1],\n",
       "       [ 3,  4,  1],\n",
       "       [ 3,  5,  1],\n",
       "       [ 3,  6,  1],\n",
       "       [ 3,  7,  1],\n",
       "       [ 3,  8,  1],\n",
       "       [ 3,  9,  1],\n",
       "       [ 3, 10,  1],\n",
       "       [ 3, 11,  1],\n",
       "       [ 0,  0,  0],\n",
       "       [ 0,  0,  0],\n",
       "       [ 0,  0,  0],\n",
       "       [ 0,  0,  0],\n",
       "       [ 0,  0,  0],\n",
       "       [ 0,  0,  0],\n",
       "       [ 0,  0,  0],\n",
       "       [ 0,  0,  0],\n",
       "       [ 0,  0,  0],\n",
       "       [ 0,  0,  0],\n",
       "       [ 0,  0,  0],\n",
       "       [ 0,  0,  0],\n",
       "       [ 0,  0,  0],\n",
       "       [ 0,  0,  0],\n",
       "       [ 0,  0,  0],\n",
       "       [ 0,  0,  0],\n",
       "       [ 0,  0,  0],\n",
       "       [ 0,  0,  0],\n",
       "       [ 0,  0,  0],\n",
       "       [ 0,  0,  0],\n",
       "       [ 0,  0,  0],\n",
       "       [ 0,  0,  0]])"
      ]
     },
     "execution_count": 8,
     "metadata": {},
     "output_type": "execute_result"
    }
   ],
   "source": [
    "#                                                           2 do: debug - values lost, zeros left over\n",
    "node_set = ds.get_nodes_from_spreadsheet(ran_df.as_matrix())\n",
    "node_set"
   ]
  },
  {
   "cell_type": "code",
   "execution_count": 9,
   "metadata": {
    "collapsed": false
   },
   "outputs": [
    {
     "data": {
      "text/plain": [
       "array([[ 0.,  1.,  1.,  1.,  1.,  1.,  1.,  1.,  1.,  1.,  1.,  1.],\n",
       "       [ 1.,  0.,  1.,  1.,  1.,  1.,  1.,  1.,  1.,  1.,  1.,  1.],\n",
       "       [ 1.,  1.,  0.,  1.,  1.,  1.,  1.,  1.,  1.,  1.,  1.,  1.],\n",
       "       [ 1.,  1.,  1.,  0.,  1.,  1.,  1.,  1.,  1.,  1.,  1.,  1.],\n",
       "       [ 1.,  1.,  1.,  1.,  0.,  0.,  0.,  0.,  0.,  0.,  0.,  0.],\n",
       "       [ 1.,  1.,  1.,  1.,  0.,  0.,  0.,  0.,  0.,  0.,  0.,  0.],\n",
       "       [ 1.,  1.,  1.,  1.,  0.,  0.,  0.,  0.,  0.,  0.,  0.,  0.],\n",
       "       [ 1.,  1.,  1.,  1.,  0.,  0.,  0.,  0.,  0.,  0.,  0.,  0.],\n",
       "       [ 1.,  1.,  1.,  1.,  0.,  0.,  0.,  0.,  0.,  0.,  0.,  0.],\n",
       "       [ 1.,  1.,  1.,  1.,  0.,  0.,  0.,  0.,  0.,  0.,  0.,  0.],\n",
       "       [ 1.,  1.,  1.,  1.,  0.,  0.,  0.,  0.,  0.,  0.,  0.,  0.],\n",
       "       [ 1.,  1.,  1.,  1.,  0.,  0.,  0.,  0.,  0.,  0.,  0.,  0.]])"
      ]
     },
     "execution_count": 9,
     "metadata": {},
     "output_type": "execute_result"
    }
   ],
   "source": [
    "network_bak = ds.node_set_to_adj_mat(node_set)\n",
    "network_bak"
   ]
  },
  {
   "cell_type": "code",
   "execution_count": 4,
   "metadata": {
    "collapsed": false
   },
   "outputs": [
    {
     "data": {
      "text/plain": [
       "array([[ 1.,  1.,  1.,  0.,  0.,  0.,  0.,  0.,  0.],\n",
       "       [ 1.,  1.,  1.,  0.,  0.,  0.,  0.,  0.,  0.],\n",
       "       [ 1.,  1.,  1.,  0.,  0.,  0.,  0.,  0.,  0.],\n",
       "       [ 1.,  1.,  1.,  0.,  0.,  0.,  0.,  0.,  0.],\n",
       "       [ 0.,  0.,  0.,  1.,  1.,  1.,  0.,  0.,  0.],\n",
       "       [ 0.,  0.,  0.,  1.,  1.,  1.,  0.,  0.,  0.],\n",
       "       [ 0.,  0.,  0.,  1.,  1.,  1.,  0.,  0.,  0.],\n",
       "       [ 0.,  0.,  0.,  1.,  1.,  1.,  0.,  0.,  0.],\n",
       "       [ 0.,  0.,  0.,  0.,  0.,  0.,  1.,  1.,  1.],\n",
       "       [ 0.,  0.,  0.,  0.,  0.,  0.,  1.,  1.,  1.],\n",
       "       [ 0.,  0.,  0.,  0.,  0.,  0.,  1.,  1.,  1.],\n",
       "       [ 0.,  0.,  0.,  0.,  0.,  0.,  1.,  1.,  1.]])"
      ]
     },
     "execution_count": 4,
     "metadata": {},
     "output_type": "execute_result"
    }
   ],
   "source": [
    "# 2 do get_clustered_spreadsheet needs redefinition of inputs -- not clear how many rows & cols\n",
    "# 2 do randomization function: shuffle row-columns, randomize values\n",
    "spreadsheet_mat = ds.get_clustered_spreadsheet(n_clusters=3, cluster_width=3, nrows=12)\n",
    "spreadsheet_mat"
   ]
  },
  {
   "cell_type": "code",
   "execution_count": null,
   "metadata": {
    "collapsed": true
   },
   "outputs": [],
   "source": []
  },
  {
   "cell_type": "markdown",
   "metadata": {
    "collapsed": true
   },
   "source": [
    "def append_dictionary_file(full_file, run_pars):\n",
    "\n",
    "    \"\"\" Append or create a log file using yaml compatible format \"\"\""
   ]
  },
  {
   "cell_type": "code",
   "execution_count": null,
   "metadata": {
    "collapsed": false
   },
   "outputs": [],
   "source": [
    "full_file = os.path.join('/Users/lanier4/dlanier_KnowEnG/tmp_Trash', 'junk_test.yml')\n",
    "print(full_file)\n",
    "run_pars = {'rinky':'dinky'}\n",
    "writ_status = ds.append_dictionary_file(full_file, run_pars)\n",
    "run_pars = {'parley':'vu'}\n",
    "writ_status = ds.append_dictionary_file(full_file, run_pars)"
   ]
  },
  {
   "cell_type": "markdown",
   "metadata": {},
   "source": [
    "def base_coef_arr(big_n, bas, arr_len):\n",
    "\n",
    "    \"\"\" convert an integer to an array of position multipliers in input base\n",
    "    Args:\n",
    "        big_n: an integer\n",
    "        bas: the base to convert it to\n",
    "        arr_len: pad the output with zeros to make it this length\n",
    "    Returns:\n",
    "        base_coef_arr: array of integers input integer in new base\n",
    "    \"\"\""
   ]
  },
  {
   "cell_type": "code",
   "execution_count": null,
   "metadata": {
    "collapsed": false
   },
   "outputs": [],
   "source": [
    "base_coef_arr = ds.base_coef_arr(big_n=57, bas=2, arr_len=3)\n",
    "base_coef_arr"
   ]
  },
  {
   "cell_type": "markdown",
   "metadata": {},
   "source": [
    "def get_character_seq(bas_arr, caps=True):\n",
    "\n",
    "    \"\"\" get a random sequence of characters\n",
    "    Args:\n",
    "        bas_arr: array of numbers in range 0, 25\n",
    "        caps:  use Capital letters ? True or False\n",
    "    Returns:\n",
    "        char_arr\n",
    "    \"\"\""
   ]
  },
  {
   "cell_type": "code",
   "execution_count": null,
   "metadata": {
    "collapsed": false
   },
   "outputs": [],
   "source": [
    "char_arr = ds.get_character_seq(bas_arr=np.array([23,5,7,0]), caps=True)\n",
    "char_arr"
   ]
  },
  {
   "cell_type": "markdown",
   "metadata": {},
   "source": [
    "def get_rand_unique_name_list(n_names, name_length):\n",
    "\n",
    "    \"\"\" get a list of unique random names with same number of characters (dog-slow if n_names >100k)\n",
    "    Args:\n",
    "        n_names: number of unique names in the output\n",
    "        name_length: number of characters in each name\n",
    "    Returns:\n",
    "        rand_uniq_name_list: list of names\n",
    "    \"\"\""
   ]
  },
  {
   "cell_type": "code",
   "execution_count": null,
   "metadata": {
    "collapsed": false
   },
   "outputs": [],
   "source": [
    "rand_uniq_name_list = ds.get_rand_unique_name_list(n_names=5, name_length=12)\n",
    "rand_uniq_name_list"
   ]
  },
  {
   "cell_type": "markdown",
   "metadata": {},
   "source": [
    "def get_random_clusters(ncols, number_of_clusters=3):\n",
    "\n",
    "    \"\"\" get a random set of clusters and construct an encoding matrix from those\n",
    "\n",
    "    Args:\n",
    "        ncols: number of columns\n",
    "        number_of_clusters: number of rows\n",
    "\n",
    "    Returns:\n",
    "        H: encoding of the cluster number array\n",
    "        C: cluster number array\n",
    "    \"\"\""
   ]
  },
  {
   "cell_type": "code",
   "execution_count": 12,
   "metadata": {
    "collapsed": false
   },
   "outputs": [
    {
     "name": "stdout",
     "output_type": "stream",
     "text": [
      "[[ 1.  0.  0.  0.  0.  1.  0.  0.  1.  0.  0.  1.]\n",
      " [ 0.  1.  0.  1.  0.  0.  0.  0.  0.  1.  0.  0.]\n",
      " [ 0.  0.  1.  0.  1.  0.  1.  1.  0.  0.  1.  0.]] \n",
      "\n",
      " [0 1 2 1 2 0 2 2 0 1 2 0]\n"
     ]
    }
   ],
   "source": [
    "H, C = ds.get_random_clusters(ncols=12, number_of_clusters=3)\n",
    "print(H, '\\n\\n', C)"
   ]
  },
  {
   "cell_type": "markdown",
   "metadata": {},
   "source": [
    "def symmetric_random_adjacency_matrix(network_dim, pct_nodes=0.3):\n",
    "\n",
    "    \"\"\" symmetric random adjacency matrix from random set of nodes\n",
    "    Args:\n",
    "        network_dim: number of rows and columns in the symmetric output matrix\n",
    "        pct_nodes: number of connections (nodes) as a function of network size.\n",
    "    Returns:\n",
    "        network: a symmetric adjacency matrix (0 or 1 in network_dim x network_dim matrix)\n",
    "    \"\"\""
   ]
  },
  {
   "cell_type": "code",
   "execution_count": 10,
   "metadata": {
    "collapsed": false
   },
   "outputs": [
    {
     "data": {
      "text/plain": [
       "array([[ 0.,  0.,  1.,  1.,  0.],\n",
       "       [ 0.,  0.,  0.,  1.,  0.],\n",
       "       [ 1.,  0.,  0.,  1.,  1.],\n",
       "       [ 1.,  1.,  1.,  0.,  1.],\n",
       "       [ 0.,  0.,  1.,  1.,  0.]])"
      ]
     },
     "execution_count": 10,
     "metadata": {},
     "output_type": "execute_result"
    }
   ],
   "source": [
    "network = ds.symmetric_random_adjacency_matrix(network_dim=5, pct_nodes=0.3)\n",
    "network"
   ]
  },
  {
   "cell_type": "markdown",
   "metadata": {},
   "source": [
    "def adjacency_matrix_to_node_set(N):\n",
    "\n",
    "    \"\"\" create a network of nodes with edges from an adjacency matrix \"\"\""
   ]
  },
  {
   "cell_type": "code",
   "execution_count": 11,
   "metadata": {
    "collapsed": false
   },
   "outputs": [
    {
     "data": {
      "text/plain": [
       "array([[0, 2, 1],\n",
       "       [0, 3, 1],\n",
       "       [1, 3, 1],\n",
       "       [2, 3, 1],\n",
       "       [2, 4, 1],\n",
       "       [3, 4, 1]])"
      ]
     },
     "execution_count": 11,
     "metadata": {},
     "output_type": "execute_result"
    }
   ],
   "source": [
    "Node_set = ds.adjacency_matrix_to_node_set(network)\n",
    "Node_set"
   ]
  },
  {
   "cell_type": "code",
   "execution_count": null,
   "metadata": {
    "collapsed": true
   },
   "outputs": [],
   "source": []
  },
  {
   "cell_type": "markdown",
   "metadata": {},
   "source": [
    "### run parameters synthesis\n",
    "**def get_test_paramters_dictionary():**\n",
    "\n",
    "    \"\"\" universal dctionary of run parameters \"\"\""
   ]
  },
  {
   "cell_type": "code",
   "execution_count": null,
   "metadata": {
    "collapsed": false
   },
   "outputs": [],
   "source": [
    "run_parameters = ds.get_test_paramters_dictionary()\n",
    "\n",
    "for k in sorted(run_parameters.keys()):\n",
    "    print(k, '\\t\\t', run_parameters[k])"
   ]
  },
  {
   "cell_type": "code",
   "execution_count": null,
   "metadata": {
    "collapsed": true
   },
   "outputs": [],
   "source": []
  },
  {
   "cell_type": "code",
   "execution_count": null,
   "metadata": {
    "collapsed": true
   },
   "outputs": [],
   "source": []
  },
  {
   "cell_type": "code",
   "execution_count": null,
   "metadata": {
    "collapsed": true
   },
   "outputs": [],
   "source": []
  },
  {
   "cell_type": "code",
   "execution_count": null,
   "metadata": {
    "collapsed": true
   },
   "outputs": [],
   "source": []
  },
  {
   "cell_type": "code",
   "execution_count": null,
   "metadata": {
    "collapsed": true
   },
   "outputs": [],
   "source": []
  },
  {
   "cell_type": "code",
   "execution_count": null,
   "metadata": {
    "collapsed": true
   },
   "outputs": [],
   "source": []
  },
  {
   "cell_type": "code",
   "execution_count": null,
   "metadata": {
    "collapsed": true
   },
   "outputs": [],
   "source": []
  },
  {
   "cell_type": "code",
   "execution_count": null,
   "metadata": {
    "collapsed": true
   },
   "outputs": [],
   "source": []
  }
 ],
 "metadata": {
  "anaconda-cloud": {},
  "kernelspec": {
   "display_name": "Python [default]",
   "language": "python",
   "name": "python3"
  },
  "language_info": {
   "codemirror_mode": {
    "name": "ipython",
    "version": 3
   },
   "file_extension": ".py",
   "mimetype": "text/x-python",
   "name": "python",
   "nbconvert_exporter": "python",
   "pygments_lexer": "ipython3",
   "version": "3.5.2"
  }
 },
 "nbformat": 4,
 "nbformat_minor": 1
}
