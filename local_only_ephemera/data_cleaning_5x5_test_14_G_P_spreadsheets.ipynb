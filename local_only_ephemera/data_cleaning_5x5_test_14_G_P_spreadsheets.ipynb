{
 "cells": [
  {
   "cell_type": "markdown",
   "metadata": {},
   "source": [
    "# Spreadsheets .G.  genes X samples test data files generator"
   ]
  },
  {
   "cell_type": "code",
   "execution_count": 1,
   "metadata": {
    "collapsed": false
   },
   "outputs": [],
   "source": [
    "import os\n",
    "import sys\n",
    "import itertools\n",
    "import time\n",
    "import numpy as np\n",
    "import pandas as pd\n",
    "\n",
    "sys.path.insert(1, '../../KnowEnG_Pipelines_Library')\n",
    "import knpackage.redis_utilities\n",
    "sys.path.insert(1, '../../KnowEnG_Pipelines_Library/knpackage')\n",
    "import knpackage.toolbox as kn\n",
    "\n",
    "sys.path.insert(1, '../src')\n",
    "import data_synth\n",
    "import data_wrangler as dw\n",
    "\n",
    "sys.path.insert(1, '../../Data_Cleanup_Pipeline/src/')\n",
    "import data_cleanup_toolbox as dc"
   ]
  },
  {
   "cell_type": "markdown",
   "metadata": {},
   "source": [
    "# data_cleanup_toolbox test: Set of 14 Spreadsheets"
   ]
  },
  {
   "cell_type": "code",
   "execution_count": 2,
   "metadata": {
    "collapsed": false
   },
   "outputs": [
    {
     "data": {
      "text/plain": [
       "array([[ 0.,  1.,  1.,  1.,  1.],\n",
       "       [ 0.,  0.,  1.,  0.,  0.],\n",
       "       [ 0.,  1.,  1.,  1.,  0.],\n",
       "       [ 0.,  0.,  1.,  0.,  1.],\n",
       "       [ 1.,  1.,  0.,  1.,  1.]])"
      ]
     },
     "execution_count": 2,
     "metadata": {},
     "output_type": "execute_result"
    }
   ],
   "source": [
    "n_spreadsheet_rows = 5\n",
    "n_spreadsheet_cols = 5\n",
    "spreadsheet_shape = (n_spreadsheet_rows, n_spreadsheet_cols)\n",
    "out_data_dir = './spreadsheets.G.etc'\n",
    "spreadsheet_data = np.random.random(spreadsheet_shape)\n",
    "spreadsheet_data[spreadsheet_data < 0.5] = 0.0\n",
    "spreadsheet_data[spreadsheet_data != 0.0] = 1.0\n",
    "spreadsheet_data"
   ]
  },
  {
   "cell_type": "code",
   "execution_count": 3,
   "metadata": {
    "collapsed": false
   },
   "outputs": [
    {
     "name": "stdout",
     "output_type": "stream",
     "text": [
      "./spreadsheets.G.etc/spreadsheet_DNE_.G.tsv \n",
      "\n"
     ]
    },
    {
     "data": {
      "text/html": [
       "<div>\n",
       "<table border=\"1\" class=\"dataframe\">\n",
       "  <thead>\n",
       "    <tr style=\"text-align: right;\">\n",
       "      <th></th>\n",
       "      <th>EOTKYGTZ</th>\n",
       "      <th>IGZDXYOF</th>\n",
       "      <th>VTYNKBYU</th>\n",
       "      <th>YMKODNRE</th>\n",
       "      <th>WMDMDBHY</th>\n",
       "    </tr>\n",
       "  </thead>\n",
       "  <tbody>\n",
       "    <tr>\n",
       "      <th>MCDSF</th>\n",
       "      <td>0.689317</td>\n",
       "      <td>0.177434</td>\n",
       "      <td>0.075393</td>\n",
       "      <td>0.101730</td>\n",
       "      <td>0.335343</td>\n",
       "    </tr>\n",
       "    <tr>\n",
       "      <th>CTKTZ</th>\n",
       "      <td>0.004389</td>\n",
       "      <td>0.627149</td>\n",
       "      <td>0.886388</td>\n",
       "      <td>0.555164</td>\n",
       "      <td>0.324254</td>\n",
       "    </tr>\n",
       "    <tr>\n",
       "      <th>ZXPUT</th>\n",
       "      <td>0.234505</td>\n",
       "      <td>0.181385</td>\n",
       "      <td>0.753029</td>\n",
       "      <td>0.387288</td>\n",
       "      <td>0.531604</td>\n",
       "    </tr>\n",
       "    <tr>\n",
       "      <th>CJEBT</th>\n",
       "      <td>0.760613</td>\n",
       "      <td>0.869129</td>\n",
       "      <td>0.934562</td>\n",
       "      <td>0.306075</td>\n",
       "      <td>0.917740</td>\n",
       "    </tr>\n",
       "    <tr>\n",
       "      <th>YQCOO</th>\n",
       "      <td>0.566154</td>\n",
       "      <td>0.101964</td>\n",
       "      <td>0.460603</td>\n",
       "      <td>0.477487</td>\n",
       "      <td>0.501907</td>\n",
       "    </tr>\n",
       "  </tbody>\n",
       "</table>\n",
       "</div>"
      ],
      "text/plain": [
       "       EOTKYGTZ  IGZDXYOF  VTYNKBYU  YMKODNRE  WMDMDBHY\n",
       "MCDSF  0.689317  0.177434  0.075393  0.101730  0.335343\n",
       "CTKTZ  0.004389  0.627149  0.886388  0.555164  0.324254\n",
       "ZXPUT  0.234505  0.181385  0.753029  0.387288  0.531604\n",
       "CJEBT  0.760613  0.869129  0.934562  0.306075  0.917740\n",
       "YQCOO  0.566154  0.101964  0.460603  0.477487  0.501907"
      ]
     },
     "execution_count": 3,
     "metadata": {},
     "output_type": "execute_result"
    }
   ],
   "source": [
    "DNE_spreadsheet_name = os.path.join(out_data_dir, 'spreadsheet_DNE_.G.tsv')\n",
    "spreadsheet_df = data_synth.get_rand_dataframe(\n",
    "                    n_spreadsheet_rows, n_spreadsheet_cols, row_name_chars=5, col_name_chars=8)\n",
    "\n",
    "spreadsheet_df.to_csv(DNE_spreadsheet_name, sep='\\t', index=True, header=True)\n",
    "print(DNE_spreadsheet_name, '\\n')\n",
    "spreadsheet_df"
   ]
  },
  {
   "cell_type": "code",
   "execution_count": 4,
   "metadata": {
    "collapsed": false
   },
   "outputs": [
    {
     "data": {
      "text/plain": [
       "array([[-1.,  1.,  1.,  1.,  1.],\n",
       "       [ 0.,  0.,  1.,  0.,  0.],\n",
       "       [ 0.,  1.,  1.,  1.,  0.],\n",
       "       [ 0.,  0.,  1.,  0.,  1.],\n",
       "       [ 1.,  1.,  0.,  1.,  1.]])"
      ]
     },
     "execution_count": 4,
     "metadata": {},
     "output_type": "execute_result"
    }
   ],
   "source": [
    "some_neg_data = spreadsheet_data.copy()\n",
    "some_neg_data[0,0] = -1\n",
    "some_neg_data"
   ]
  },
  {
   "cell_type": "code",
   "execution_count": 5,
   "metadata": {
    "collapsed": false
   },
   "outputs": [
    {
     "data": {
      "text/plain": [
       "array([[ nan,   1.,   1.,   1.,   1.],\n",
       "       [  0.,   0.,   1.,   0.,   0.],\n",
       "       [  0.,   1.,   1.,   1.,   0.],\n",
       "       [  0.,   0.,   1.,   0.,   1.],\n",
       "       [  1.,   1.,   0.,   1.,   1.]])"
      ]
     },
     "execution_count": 5,
     "metadata": {},
     "output_type": "execute_result"
    }
   ],
   "source": [
    "some_nan_data = spreadsheet_data.copy()\n",
    "some_nan_data[0,0] = np.nan\n",
    "some_nan_data"
   ]
  },
  {
   "cell_type": "code",
   "execution_count": 6,
   "metadata": {
    "collapsed": false
   },
   "outputs": [],
   "source": [
    "KnowEnG_GP_dir = '../../Samples_Clustering_Pipeline/data/networks'\n",
    "network_full_file = os.path.join(KnowEnG_GP_dir, 'keg_ST90_4col.edge')\n",
    "adj_mat, ensembl_names = kn.get_sparse_network_matrix(network_full_file)\n",
    "del adj_mat\n",
    "raw_data_dir = '../../'"
   ]
  },
  {
   "cell_type": "code",
   "execution_count": 7,
   "metadata": {
    "collapsed": true
   },
   "outputs": [],
   "source": [
    "raw_data_dir = '../../../BigDataTank/pipeline_spreadsheets/raw'\n",
    "sp_file = 'Hsap.ccle.G.gene_mut.binary.df'\n",
    "sp_4_gene_names_df = pd.read_csv(os.path.join(raw_data_dir,sp_file),sep='\\t',index_col=0,header=0)\n",
    "asorted_gene_names = list(sp_4_gene_names_df.index)\n",
    "del sp_4_gene_names_df"
   ]
  },
  {
   "cell_type": "code",
   "execution_count": 8,
   "metadata": {
    "collapsed": false
   },
   "outputs": [
    {
     "name": "stdout",
     "output_type": "stream",
     "text": [
      "./spreadsheets/spreadsheet_A_df.tsv \n",
      "\n"
     ]
    },
    {
     "data": {
      "text/html": [
       "<div>\n",
       "<table border=\"1\" class=\"dataframe\">\n",
       "  <thead>\n",
       "    <tr style=\"text-align: right;\">\n",
       "      <th></th>\n",
       "      <th>HUNDR</th>\n",
       "      <th>IAGIC</th>\n",
       "      <th>ZDAIV</th>\n",
       "      <th>DCIQI</th>\n",
       "      <th>FRTWY</th>\n",
       "    </tr>\n",
       "  </thead>\n",
       "  <tbody>\n",
       "    <tr>\n",
       "      <th>ENSG00000000003</th>\n",
       "      <td>1.0</td>\n",
       "      <td>0.0</td>\n",
       "      <td>1.0</td>\n",
       "      <td>1.0</td>\n",
       "      <td>1.0</td>\n",
       "    </tr>\n",
       "    <tr>\n",
       "      <th>ENSG00000000005</th>\n",
       "      <td>0.0</td>\n",
       "      <td>1.0</td>\n",
       "      <td>1.0</td>\n",
       "      <td>1.0</td>\n",
       "      <td>1.0</td>\n",
       "    </tr>\n",
       "    <tr>\n",
       "      <th>ENSG00000000419</th>\n",
       "      <td>1.0</td>\n",
       "      <td>1.0</td>\n",
       "      <td>1.0</td>\n",
       "      <td>0.0</td>\n",
       "      <td>0.0</td>\n",
       "    </tr>\n",
       "    <tr>\n",
       "      <th>ENSG00000000457</th>\n",
       "      <td>1.0</td>\n",
       "      <td>1.0</td>\n",
       "      <td>0.0</td>\n",
       "      <td>0.0</td>\n",
       "      <td>0.0</td>\n",
       "    </tr>\n",
       "    <tr>\n",
       "      <th>ENSG00000000460</th>\n",
       "      <td>1.0</td>\n",
       "      <td>0.0</td>\n",
       "      <td>0.0</td>\n",
       "      <td>1.0</td>\n",
       "      <td>1.0</td>\n",
       "    </tr>\n",
       "  </tbody>\n",
       "</table>\n",
       "</div>"
      ],
      "text/plain": [
       "                 HUNDR  IAGIC  ZDAIV  DCIQI  FRTWY\n",
       "ENSG00000000003    1.0    0.0    1.0    1.0    1.0\n",
       "ENSG00000000005    0.0    1.0    1.0    1.0    1.0\n",
       "ENSG00000000419    1.0    1.0    1.0    0.0    0.0\n",
       "ENSG00000000457    1.0    1.0    0.0    0.0    0.0\n",
       "ENSG00000000460    1.0    0.0    0.0    1.0    1.0"
      ]
     },
     "execution_count": 8,
     "metadata": {},
     "output_type": "execute_result"
    }
   ],
   "source": [
    "good_spreadsheet_name = os.path.join(out_data_dir, 'spreadsheet_A_.G.tsv')\n",
    "rand_names = data_synth.get_rand_unique_name_list(n_names=5, name_length=5)\n",
    "gene_names = ensembl_names[0:n_spreadsheet_rows]\n",
    "spreadsheet_df = pd.DataFrame(spreadsheet_data, index=gene_names, columns=rand_names)\n",
    "spreadsheet_df.to_csv(good_spreadsheet_name, sep='\\t', index=True, header=True)\n",
    "print(good_spreadsheet_name, '\\n')\n",
    "spreadsheet_df"
   ]
  },
  {
   "cell_type": "code",
   "execution_count": 9,
   "metadata": {
    "collapsed": false
   },
   "outputs": [
    {
     "name": "stdout",
     "output_type": "stream",
     "text": [
      "./spreadsheets/spreadsheet_B_df.tsv \n",
      "\n"
     ]
    },
    {
     "data": {
      "text/html": [
       "<div>\n",
       "<table border=\"1\" class=\"dataframe\">\n",
       "  <thead>\n",
       "    <tr style=\"text-align: right;\">\n",
       "      <th></th>\n",
       "      <th>HUNDR</th>\n",
       "      <th>IAGIC</th>\n",
       "      <th>ZDAIV</th>\n",
       "      <th>DCIQI</th>\n",
       "      <th>FRTWY</th>\n",
       "    </tr>\n",
       "  </thead>\n",
       "  <tbody>\n",
       "    <tr>\n",
       "      <th>AAK1</th>\n",
       "      <td>1.0</td>\n",
       "      <td>0.0</td>\n",
       "      <td>1.0</td>\n",
       "      <td>1.0</td>\n",
       "      <td>1.0</td>\n",
       "    </tr>\n",
       "    <tr>\n",
       "      <th>AATK</th>\n",
       "      <td>0.0</td>\n",
       "      <td>1.0</td>\n",
       "      <td>1.0</td>\n",
       "      <td>1.0</td>\n",
       "      <td>1.0</td>\n",
       "    </tr>\n",
       "    <tr>\n",
       "      <th>ENSG00000000419</th>\n",
       "      <td>1.0</td>\n",
       "      <td>1.0</td>\n",
       "      <td>1.0</td>\n",
       "      <td>0.0</td>\n",
       "      <td>0.0</td>\n",
       "    </tr>\n",
       "    <tr>\n",
       "      <th>ENSG00000000457</th>\n",
       "      <td>1.0</td>\n",
       "      <td>1.0</td>\n",
       "      <td>0.0</td>\n",
       "      <td>0.0</td>\n",
       "      <td>0.0</td>\n",
       "    </tr>\n",
       "    <tr>\n",
       "      <th>ENSG00000000460</th>\n",
       "      <td>1.0</td>\n",
       "      <td>0.0</td>\n",
       "      <td>0.0</td>\n",
       "      <td>1.0</td>\n",
       "      <td>1.0</td>\n",
       "    </tr>\n",
       "  </tbody>\n",
       "</table>\n",
       "</div>"
      ],
      "text/plain": [
       "                 HUNDR  IAGIC  ZDAIV  DCIQI  FRTWY\n",
       "AAK1               1.0    0.0    1.0    1.0    1.0\n",
       "AATK               0.0    1.0    1.0    1.0    1.0\n",
       "ENSG00000000419    1.0    1.0    1.0    0.0    0.0\n",
       "ENSG00000000457    1.0    1.0    0.0    0.0    0.0\n",
       "ENSG00000000460    1.0    0.0    0.0    1.0    1.0"
      ]
     },
     "execution_count": 9,
     "metadata": {},
     "output_type": "execute_result"
    }
   ],
   "source": [
    "OK_spreadsheet_name = os.path.join(out_data_dir, 'spreadsheet_B_.G.tsv')\n",
    "gene_names_B = gene_names.copy()\n",
    "gene_names_B[0] = asorted_gene_names[0]\n",
    "gene_names_B[1] = asorted_gene_names[1]\n",
    "spreadsheet_df = pd.DataFrame(spreadsheet_data, index=gene_names_B, columns=rand_names)\n",
    "spreadsheet_df.to_csv(OK_spreadsheet_name, sep='\\t', index=True, header=True)\n",
    "print(OK_spreadsheet_name, '\\n')\n",
    "spreadsheet_df"
   ]
  },
  {
   "cell_type": "code",
   "execution_count": 10,
   "metadata": {
    "collapsed": false
   },
   "outputs": [
    {
     "name": "stdout",
     "output_type": "stream",
     "text": [
      "./spreadsheets/spreadsheet_duplicate_cols_df.tsv \n",
      "\n"
     ]
    },
    {
     "data": {
      "text/html": [
       "<div>\n",
       "<table border=\"1\" class=\"dataframe\">\n",
       "  <thead>\n",
       "    <tr style=\"text-align: right;\">\n",
       "      <th></th>\n",
       "      <th>HUNDR</th>\n",
       "      <th>ZDAIV</th>\n",
       "      <th>ZDAIV</th>\n",
       "      <th>DCIQI</th>\n",
       "      <th>FRTWY</th>\n",
       "    </tr>\n",
       "  </thead>\n",
       "  <tbody>\n",
       "    <tr>\n",
       "      <th>ENSG00000000003</th>\n",
       "      <td>1.0</td>\n",
       "      <td>0.0</td>\n",
       "      <td>1.0</td>\n",
       "      <td>1.0</td>\n",
       "      <td>1.0</td>\n",
       "    </tr>\n",
       "    <tr>\n",
       "      <th>ENSG00000000005</th>\n",
       "      <td>0.0</td>\n",
       "      <td>1.0</td>\n",
       "      <td>1.0</td>\n",
       "      <td>1.0</td>\n",
       "      <td>1.0</td>\n",
       "    </tr>\n",
       "    <tr>\n",
       "      <th>ENSG00000000419</th>\n",
       "      <td>1.0</td>\n",
       "      <td>1.0</td>\n",
       "      <td>1.0</td>\n",
       "      <td>0.0</td>\n",
       "      <td>0.0</td>\n",
       "    </tr>\n",
       "    <tr>\n",
       "      <th>ENSG00000000457</th>\n",
       "      <td>1.0</td>\n",
       "      <td>1.0</td>\n",
       "      <td>0.0</td>\n",
       "      <td>0.0</td>\n",
       "      <td>0.0</td>\n",
       "    </tr>\n",
       "    <tr>\n",
       "      <th>ENSG00000000460</th>\n",
       "      <td>1.0</td>\n",
       "      <td>0.0</td>\n",
       "      <td>0.0</td>\n",
       "      <td>1.0</td>\n",
       "      <td>1.0</td>\n",
       "    </tr>\n",
       "  </tbody>\n",
       "</table>\n",
       "</div>"
      ],
      "text/plain": [
       "                 HUNDR  ZDAIV  ZDAIV  DCIQI  FRTWY\n",
       "ENSG00000000003    1.0    0.0    1.0    1.0    1.0\n",
       "ENSG00000000005    0.0    1.0    1.0    1.0    1.0\n",
       "ENSG00000000419    1.0    1.0    1.0    0.0    0.0\n",
       "ENSG00000000457    1.0    1.0    0.0    0.0    0.0\n",
       "ENSG00000000460    1.0    0.0    0.0    1.0    1.0"
      ]
     },
     "execution_count": 10,
     "metadata": {},
     "output_type": "execute_result"
    }
   ],
   "source": [
    "dup_col_spreadsheet_name = os.path.join(out_data_dir, 'spreadsheet_duplicate_cols_.G.tsv')\n",
    "rand_dup_names = rand_names.copy()\n",
    "rand_dup_names[1] = rand_dup_names[2]\n",
    "spreadsheet_df = pd.DataFrame(spreadsheet_data, index=gene_names, columns=rand_dup_names)\n",
    "spreadsheet_df.to_csv(dup_col_spreadsheet_name, sep='\\t', index=True, header=True)\n",
    "print(dup_col_spreadsheet_name, '\\n')\n",
    "spreadsheet_df"
   ]
  },
  {
   "cell_type": "code",
   "execution_count": 11,
   "metadata": {
    "collapsed": false
   },
   "outputs": [
    {
     "name": "stdout",
     "output_type": "stream",
     "text": [
      "./spreadsheets/spreadsheet_duplicate_rows__df.tsv \n",
      "\n"
     ]
    },
    {
     "data": {
      "text/html": [
       "<div>\n",
       "<table border=\"1\" class=\"dataframe\">\n",
       "  <thead>\n",
       "    <tr style=\"text-align: right;\">\n",
       "      <th></th>\n",
       "      <th>HUNDR</th>\n",
       "      <th>IAGIC</th>\n",
       "      <th>ZDAIV</th>\n",
       "      <th>DCIQI</th>\n",
       "      <th>FRTWY</th>\n",
       "    </tr>\n",
       "  </thead>\n",
       "  <tbody>\n",
       "    <tr>\n",
       "      <th>ENSG00000000003</th>\n",
       "      <td>1.0</td>\n",
       "      <td>0.0</td>\n",
       "      <td>1.0</td>\n",
       "      <td>1.0</td>\n",
       "      <td>1.0</td>\n",
       "    </tr>\n",
       "    <tr>\n",
       "      <th>ENSG00000000419</th>\n",
       "      <td>0.0</td>\n",
       "      <td>1.0</td>\n",
       "      <td>1.0</td>\n",
       "      <td>1.0</td>\n",
       "      <td>1.0</td>\n",
       "    </tr>\n",
       "    <tr>\n",
       "      <th>ENSG00000000419</th>\n",
       "      <td>1.0</td>\n",
       "      <td>1.0</td>\n",
       "      <td>1.0</td>\n",
       "      <td>0.0</td>\n",
       "      <td>0.0</td>\n",
       "    </tr>\n",
       "    <tr>\n",
       "      <th>ENSG00000000457</th>\n",
       "      <td>1.0</td>\n",
       "      <td>1.0</td>\n",
       "      <td>0.0</td>\n",
       "      <td>0.0</td>\n",
       "      <td>0.0</td>\n",
       "    </tr>\n",
       "    <tr>\n",
       "      <th>ENSG00000000460</th>\n",
       "      <td>1.0</td>\n",
       "      <td>0.0</td>\n",
       "      <td>0.0</td>\n",
       "      <td>1.0</td>\n",
       "      <td>1.0</td>\n",
       "    </tr>\n",
       "  </tbody>\n",
       "</table>\n",
       "</div>"
      ],
      "text/plain": [
       "                 HUNDR  IAGIC  ZDAIV  DCIQI  FRTWY\n",
       "ENSG00000000003    1.0    0.0    1.0    1.0    1.0\n",
       "ENSG00000000419    0.0    1.0    1.0    1.0    1.0\n",
       "ENSG00000000419    1.0    1.0    1.0    0.0    0.0\n",
       "ENSG00000000457    1.0    1.0    0.0    0.0    0.0\n",
       "ENSG00000000460    1.0    0.0    0.0    1.0    1.0"
      ]
     },
     "execution_count": 11,
     "metadata": {},
     "output_type": "execute_result"
    }
   ],
   "source": [
    "dup_row_spreadsheet_name = os.path.join(out_data_dir, 'spreadsheet_duplicate_rows__.G.tsv')\n",
    "gene_dup_names = gene_names.copy()\n",
    "gene_dup_names[1] = gene_dup_names[2]\n",
    "spreadsheet_df = pd.DataFrame(spreadsheet_data, index=gene_dup_names, columns=rand_names)\n",
    "spreadsheet_df.to_csv(dup_row_spreadsheet_name, sep='\\t', index=True, header=True)\n",
    "print(dup_row_spreadsheet_name, '\\n')\n",
    "spreadsheet_df"
   ]
  },
  {
   "cell_type": "code",
   "execution_count": 12,
   "metadata": {
    "collapsed": false
   },
   "outputs": [
    {
     "name": "stdout",
     "output_type": "stream",
     "text": [
      "./spreadsheets/spreadsheet_duplicate_rows_AND_cols_df.tsv \n",
      "\n"
     ]
    },
    {
     "data": {
      "text/html": [
       "<div>\n",
       "<table border=\"1\" class=\"dataframe\">\n",
       "  <thead>\n",
       "    <tr style=\"text-align: right;\">\n",
       "      <th></th>\n",
       "      <th>HUNDR</th>\n",
       "      <th>ZDAIV</th>\n",
       "      <th>ZDAIV</th>\n",
       "      <th>DCIQI</th>\n",
       "      <th>FRTWY</th>\n",
       "    </tr>\n",
       "  </thead>\n",
       "  <tbody>\n",
       "    <tr>\n",
       "      <th>ENSG00000000003</th>\n",
       "      <td>1.0</td>\n",
       "      <td>0.0</td>\n",
       "      <td>1.0</td>\n",
       "      <td>1.0</td>\n",
       "      <td>1.0</td>\n",
       "    </tr>\n",
       "    <tr>\n",
       "      <th>ENSG00000000419</th>\n",
       "      <td>0.0</td>\n",
       "      <td>1.0</td>\n",
       "      <td>1.0</td>\n",
       "      <td>1.0</td>\n",
       "      <td>1.0</td>\n",
       "    </tr>\n",
       "    <tr>\n",
       "      <th>ENSG00000000419</th>\n",
       "      <td>1.0</td>\n",
       "      <td>1.0</td>\n",
       "      <td>1.0</td>\n",
       "      <td>0.0</td>\n",
       "      <td>0.0</td>\n",
       "    </tr>\n",
       "    <tr>\n",
       "      <th>ENSG00000000457</th>\n",
       "      <td>1.0</td>\n",
       "      <td>1.0</td>\n",
       "      <td>0.0</td>\n",
       "      <td>0.0</td>\n",
       "      <td>0.0</td>\n",
       "    </tr>\n",
       "    <tr>\n",
       "      <th>ENSG00000000460</th>\n",
       "      <td>1.0</td>\n",
       "      <td>0.0</td>\n",
       "      <td>0.0</td>\n",
       "      <td>1.0</td>\n",
       "      <td>1.0</td>\n",
       "    </tr>\n",
       "  </tbody>\n",
       "</table>\n",
       "</div>"
      ],
      "text/plain": [
       "                 HUNDR  ZDAIV  ZDAIV  DCIQI  FRTWY\n",
       "ENSG00000000003    1.0    0.0    1.0    1.0    1.0\n",
       "ENSG00000000419    0.0    1.0    1.0    1.0    1.0\n",
       "ENSG00000000419    1.0    1.0    1.0    0.0    0.0\n",
       "ENSG00000000457    1.0    1.0    0.0    0.0    0.0\n",
       "ENSG00000000460    1.0    0.0    0.0    1.0    1.0"
      ]
     },
     "execution_count": 12,
     "metadata": {},
     "output_type": "execute_result"
    }
   ],
   "source": [
    "dup_row_and_col_spreadsheet_name = os.path.join(out_data_dir, 'spreadsheet_duplicate_rows_AND_cols_.G.tsv')\n",
    "spreadsheet_df = pd.DataFrame(spreadsheet_data, index=gene_dup_names, columns=rand_dup_names)\n",
    "spreadsheet_df.to_csv(dup_row_and_col_spreadsheet_name, sep='\\t', index=True, header=True)\n",
    "print(dup_row_and_col_spreadsheet_name, '\\n')\n",
    "spreadsheet_df"
   ]
  },
  {
   "cell_type": "code",
   "execution_count": 13,
   "metadata": {
    "collapsed": false
   },
   "outputs": [
    {
     "name": "stdout",
     "output_type": "stream",
     "text": [
      "./spreadsheets/spreadsheet_EMPTY_cols_df.tsv \n",
      "\n"
     ]
    },
    {
     "data": {
      "text/html": [
       "<div>\n",
       "<table border=\"1\" class=\"dataframe\">\n",
       "  <thead>\n",
       "    <tr style=\"text-align: right;\">\n",
       "      <th></th>\n",
       "      <th>HUNDR</th>\n",
       "      <th>IAGIC</th>\n",
       "      <th>ZDAIV</th>\n",
       "      <th>DCIQI</th>\n",
       "      <th>FRTWY</th>\n",
       "    </tr>\n",
       "  </thead>\n",
       "  <tbody>\n",
       "  </tbody>\n",
       "</table>\n",
       "</div>"
      ],
      "text/plain": [
       "Empty DataFrame\n",
       "Columns: [HUNDR, IAGIC, ZDAIV, DCIQI, FRTWY]\n",
       "Index: []"
      ]
     },
     "execution_count": 13,
     "metadata": {},
     "output_type": "execute_result"
    }
   ],
   "source": [
    "empty_col_spreadsheet_name = os.path.join(out_data_dir, 'spreadsheet_EMPTY_cols_.G.tsv')\n",
    "spreadsheet_df = pd.DataFrame(data=None, columns=rand_names)\n",
    "spreadsheet_df.to_csv(empty_col_spreadsheet_name, sep='\\t', index=None, header=True)\n",
    "print(empty_col_spreadsheet_name, '\\n')\n",
    "spreadsheet_df"
   ]
  },
  {
   "cell_type": "code",
   "execution_count": 14,
   "metadata": {
    "collapsed": false
   },
   "outputs": [
    {
     "name": "stdout",
     "output_type": "stream",
     "text": [
      "./spreadsheets/spreadsheet_EMPTY_rows_df.tsv \n",
      "\n"
     ]
    },
    {
     "data": {
      "text/html": [
       "<div>\n",
       "<table border=\"1\" class=\"dataframe\">\n",
       "  <thead>\n",
       "    <tr style=\"text-align: right;\">\n",
       "      <th></th>\n",
       "    </tr>\n",
       "  </thead>\n",
       "  <tbody>\n",
       "    <tr>\n",
       "      <th>ENSG00000000003</th>\n",
       "    </tr>\n",
       "    <tr>\n",
       "      <th>ENSG00000000005</th>\n",
       "    </tr>\n",
       "    <tr>\n",
       "      <th>ENSG00000000419</th>\n",
       "    </tr>\n",
       "    <tr>\n",
       "      <th>ENSG00000000457</th>\n",
       "    </tr>\n",
       "    <tr>\n",
       "      <th>ENSG00000000460</th>\n",
       "    </tr>\n",
       "  </tbody>\n",
       "</table>\n",
       "</div>"
      ],
      "text/plain": [
       "Empty DataFrame\n",
       "Columns: []\n",
       "Index: [ENSG00000000003, ENSG00000000005, ENSG00000000419, ENSG00000000457, ENSG00000000460]"
      ]
     },
     "execution_count": 14,
     "metadata": {},
     "output_type": "execute_result"
    }
   ],
   "source": [
    "empty_row_spreadsheet_name = os.path.join(out_data_dir, 'spreadsheet_EMPTY_rows_.G.tsv')\n",
    "spreadsheet_df = pd.DataFrame(data=None, index=gene_names)\n",
    "spreadsheet_df.to_csv(empty_row_spreadsheet_name, sep='\\t', index=True, header=None)\n",
    "print(empty_row_spreadsheet_name, '\\n')\n",
    "spreadsheet_df"
   ]
  },
  {
   "cell_type": "code",
   "execution_count": 15,
   "metadata": {
    "collapsed": false
   },
   "outputs": [
    {
     "name": "stdout",
     "output_type": "stream",
     "text": [
      "./spreadsheets/spreadsheet_NA_cols_df.tsv \n",
      "\n"
     ]
    },
    {
     "data": {
      "text/html": [
       "<div>\n",
       "<table border=\"1\" class=\"dataframe\">\n",
       "  <thead>\n",
       "    <tr style=\"text-align: right;\">\n",
       "      <th></th>\n",
       "      <th>HUNDR</th>\n",
       "      <th>IAGIC</th>\n",
       "      <th>NA</th>\n",
       "      <th>DCIQI</th>\n",
       "      <th>FRTWY</th>\n",
       "    </tr>\n",
       "  </thead>\n",
       "  <tbody>\n",
       "    <tr>\n",
       "      <th>ENSG00000000003</th>\n",
       "      <td>1.0</td>\n",
       "      <td>0.0</td>\n",
       "      <td>1.0</td>\n",
       "      <td>1.0</td>\n",
       "      <td>1.0</td>\n",
       "    </tr>\n",
       "    <tr>\n",
       "      <th>ENSG00000000005</th>\n",
       "      <td>0.0</td>\n",
       "      <td>1.0</td>\n",
       "      <td>1.0</td>\n",
       "      <td>1.0</td>\n",
       "      <td>1.0</td>\n",
       "    </tr>\n",
       "    <tr>\n",
       "      <th>ENSG00000000419</th>\n",
       "      <td>1.0</td>\n",
       "      <td>1.0</td>\n",
       "      <td>1.0</td>\n",
       "      <td>0.0</td>\n",
       "      <td>0.0</td>\n",
       "    </tr>\n",
       "    <tr>\n",
       "      <th>ENSG00000000457</th>\n",
       "      <td>1.0</td>\n",
       "      <td>1.0</td>\n",
       "      <td>0.0</td>\n",
       "      <td>0.0</td>\n",
       "      <td>0.0</td>\n",
       "    </tr>\n",
       "    <tr>\n",
       "      <th>ENSG00000000460</th>\n",
       "      <td>1.0</td>\n",
       "      <td>0.0</td>\n",
       "      <td>0.0</td>\n",
       "      <td>1.0</td>\n",
       "      <td>1.0</td>\n",
       "    </tr>\n",
       "  </tbody>\n",
       "</table>\n",
       "</div>"
      ],
      "text/plain": [
       "                 HUNDR  IAGIC   NA  DCIQI  FRTWY\n",
       "ENSG00000000003    1.0    0.0  1.0    1.0    1.0\n",
       "ENSG00000000005    0.0    1.0  1.0    1.0    1.0\n",
       "ENSG00000000419    1.0    1.0  1.0    0.0    0.0\n",
       "ENSG00000000457    1.0    1.0  0.0    0.0    0.0\n",
       "ENSG00000000460    1.0    0.0  0.0    1.0    1.0"
      ]
     },
     "execution_count": 15,
     "metadata": {},
     "output_type": "execute_result"
    }
   ],
   "source": [
    "NA_col_spreadsheet_name = os.path.join(out_data_dir, 'spreadsheet_NA_cols_.G.tsv')\n",
    "na_col_names = rand_names.copy()\n",
    "na_col_names[2] = 'NA'\n",
    "na_row_names = gene_names.copy()\n",
    "na_row_names[2] = 'NA'\n",
    "spreadsheet_df = pd.DataFrame(spreadsheet_data, index=gene_names, columns=na_col_names)\n",
    "spreadsheet_df.to_csv(NA_col_spreadsheet_name, sep='\\t', index=True, header=True)\n",
    "print(NA_col_spreadsheet_name, '\\n')\n",
    "spreadsheet_df"
   ]
  },
  {
   "cell_type": "code",
   "execution_count": 16,
   "metadata": {
    "collapsed": false
   },
   "outputs": [
    {
     "name": "stdout",
     "output_type": "stream",
     "text": [
      "./spreadsheets/spreadsheet_NA_rows_df.tsv \n",
      "\n"
     ]
    },
    {
     "data": {
      "text/html": [
       "<div>\n",
       "<table border=\"1\" class=\"dataframe\">\n",
       "  <thead>\n",
       "    <tr style=\"text-align: right;\">\n",
       "      <th></th>\n",
       "      <th>HUNDR</th>\n",
       "      <th>IAGIC</th>\n",
       "      <th>ZDAIV</th>\n",
       "      <th>DCIQI</th>\n",
       "      <th>FRTWY</th>\n",
       "    </tr>\n",
       "  </thead>\n",
       "  <tbody>\n",
       "    <tr>\n",
       "      <th>ENSG00000000003</th>\n",
       "      <td>1.0</td>\n",
       "      <td>0.0</td>\n",
       "      <td>1.0</td>\n",
       "      <td>1.0</td>\n",
       "      <td>1.0</td>\n",
       "    </tr>\n",
       "    <tr>\n",
       "      <th>ENSG00000000005</th>\n",
       "      <td>0.0</td>\n",
       "      <td>1.0</td>\n",
       "      <td>1.0</td>\n",
       "      <td>1.0</td>\n",
       "      <td>1.0</td>\n",
       "    </tr>\n",
       "    <tr>\n",
       "      <th>NA</th>\n",
       "      <td>1.0</td>\n",
       "      <td>1.0</td>\n",
       "      <td>1.0</td>\n",
       "      <td>0.0</td>\n",
       "      <td>0.0</td>\n",
       "    </tr>\n",
       "    <tr>\n",
       "      <th>ENSG00000000457</th>\n",
       "      <td>1.0</td>\n",
       "      <td>1.0</td>\n",
       "      <td>0.0</td>\n",
       "      <td>0.0</td>\n",
       "      <td>0.0</td>\n",
       "    </tr>\n",
       "    <tr>\n",
       "      <th>ENSG00000000460</th>\n",
       "      <td>1.0</td>\n",
       "      <td>0.0</td>\n",
       "      <td>0.0</td>\n",
       "      <td>1.0</td>\n",
       "      <td>1.0</td>\n",
       "    </tr>\n",
       "  </tbody>\n",
       "</table>\n",
       "</div>"
      ],
      "text/plain": [
       "                 HUNDR  IAGIC  ZDAIV  DCIQI  FRTWY\n",
       "ENSG00000000003    1.0    0.0    1.0    1.0    1.0\n",
       "ENSG00000000005    0.0    1.0    1.0    1.0    1.0\n",
       "NA                 1.0    1.0    1.0    0.0    0.0\n",
       "ENSG00000000457    1.0    1.0    0.0    0.0    0.0\n",
       "ENSG00000000460    1.0    0.0    0.0    1.0    1.0"
      ]
     },
     "execution_count": 16,
     "metadata": {},
     "output_type": "execute_result"
    }
   ],
   "source": [
    "NA_rows_spreadsheet_name = os.path.join(out_data_dir, 'spreadsheet_NA_rows_.G.tsv')\n",
    "spreadsheet_df = pd.DataFrame(spreadsheet_data, index=na_row_names, columns=rand_names)\n",
    "spreadsheet_df.to_csv(NA_rows_spreadsheet_name, sep='\\t', index=True, header=True)\n",
    "print(NA_rows_spreadsheet_name, '\\n')\n",
    "spreadsheet_df"
   ]
  },
  {
   "cell_type": "code",
   "execution_count": 17,
   "metadata": {
    "collapsed": false
   },
   "outputs": [
    {
     "name": "stdout",
     "output_type": "stream",
     "text": [
      "./spreadsheets/spreadsheet_NA_rows_and_cols_df.tsv \n",
      "\n"
     ]
    },
    {
     "data": {
      "text/html": [
       "<div>\n",
       "<table border=\"1\" class=\"dataframe\">\n",
       "  <thead>\n",
       "    <tr style=\"text-align: right;\">\n",
       "      <th></th>\n",
       "      <th>HUNDR</th>\n",
       "      <th>IAGIC</th>\n",
       "      <th>NA</th>\n",
       "      <th>DCIQI</th>\n",
       "      <th>FRTWY</th>\n",
       "    </tr>\n",
       "  </thead>\n",
       "  <tbody>\n",
       "    <tr>\n",
       "      <th>ENSG00000000003</th>\n",
       "      <td>1.0</td>\n",
       "      <td>0.0</td>\n",
       "      <td>1.0</td>\n",
       "      <td>1.0</td>\n",
       "      <td>1.0</td>\n",
       "    </tr>\n",
       "    <tr>\n",
       "      <th>ENSG00000000005</th>\n",
       "      <td>0.0</td>\n",
       "      <td>1.0</td>\n",
       "      <td>1.0</td>\n",
       "      <td>1.0</td>\n",
       "      <td>1.0</td>\n",
       "    </tr>\n",
       "    <tr>\n",
       "      <th>NA</th>\n",
       "      <td>1.0</td>\n",
       "      <td>1.0</td>\n",
       "      <td>1.0</td>\n",
       "      <td>0.0</td>\n",
       "      <td>0.0</td>\n",
       "    </tr>\n",
       "    <tr>\n",
       "      <th>ENSG00000000457</th>\n",
       "      <td>1.0</td>\n",
       "      <td>1.0</td>\n",
       "      <td>0.0</td>\n",
       "      <td>0.0</td>\n",
       "      <td>0.0</td>\n",
       "    </tr>\n",
       "    <tr>\n",
       "      <th>ENSG00000000460</th>\n",
       "      <td>1.0</td>\n",
       "      <td>0.0</td>\n",
       "      <td>0.0</td>\n",
       "      <td>1.0</td>\n",
       "      <td>1.0</td>\n",
       "    </tr>\n",
       "  </tbody>\n",
       "</table>\n",
       "</div>"
      ],
      "text/plain": [
       "                 HUNDR  IAGIC   NA  DCIQI  FRTWY\n",
       "ENSG00000000003    1.0    0.0  1.0    1.0    1.0\n",
       "ENSG00000000005    0.0    1.0  1.0    1.0    1.0\n",
       "NA                 1.0    1.0  1.0    0.0    0.0\n",
       "ENSG00000000457    1.0    1.0  0.0    0.0    0.0\n",
       "ENSG00000000460    1.0    0.0  0.0    1.0    1.0"
      ]
     },
     "execution_count": 17,
     "metadata": {},
     "output_type": "execute_result"
    }
   ],
   "source": [
    "NA_row_and_col_spreadsheet_name = os.path.join(out_data_dir, 'spreadsheet_NA_rows_and_cols_.G.tsv')\n",
    "spreadsheet_df = pd.DataFrame(spreadsheet_data, index=na_row_names, columns=na_col_names)\n",
    "spreadsheet_df.to_csv(NA_row_and_col_spreadsheet_name, sep='\\t', index=True, header=True)\n",
    "print(NA_row_and_col_spreadsheet_name, '\\n')\n",
    "spreadsheet_df"
   ]
  },
  {
   "cell_type": "code",
   "execution_count": 18,
   "metadata": {
    "collapsed": false
   },
   "outputs": [
    {
     "name": "stdout",
     "output_type": "stream",
     "text": [
      "./spreadsheets/spreadsheet_NAN_data_df.tsv \n",
      "\n"
     ]
    },
    {
     "data": {
      "text/html": [
       "<div>\n",
       "<table border=\"1\" class=\"dataframe\">\n",
       "  <thead>\n",
       "    <tr style=\"text-align: right;\">\n",
       "      <th></th>\n",
       "      <th>HUNDR</th>\n",
       "      <th>IAGIC</th>\n",
       "      <th>ZDAIV</th>\n",
       "      <th>DCIQI</th>\n",
       "      <th>FRTWY</th>\n",
       "    </tr>\n",
       "  </thead>\n",
       "  <tbody>\n",
       "    <tr>\n",
       "      <th>ENSG00000000003</th>\n",
       "      <td>NaN</td>\n",
       "      <td>0.0</td>\n",
       "      <td>1.0</td>\n",
       "      <td>1.0</td>\n",
       "      <td>1.0</td>\n",
       "    </tr>\n",
       "    <tr>\n",
       "      <th>ENSG00000000005</th>\n",
       "      <td>0.0</td>\n",
       "      <td>1.0</td>\n",
       "      <td>1.0</td>\n",
       "      <td>1.0</td>\n",
       "      <td>1.0</td>\n",
       "    </tr>\n",
       "    <tr>\n",
       "      <th>ENSG00000000419</th>\n",
       "      <td>1.0</td>\n",
       "      <td>1.0</td>\n",
       "      <td>1.0</td>\n",
       "      <td>0.0</td>\n",
       "      <td>0.0</td>\n",
       "    </tr>\n",
       "    <tr>\n",
       "      <th>ENSG00000000457</th>\n",
       "      <td>1.0</td>\n",
       "      <td>1.0</td>\n",
       "      <td>0.0</td>\n",
       "      <td>0.0</td>\n",
       "      <td>0.0</td>\n",
       "    </tr>\n",
       "    <tr>\n",
       "      <th>ENSG00000000460</th>\n",
       "      <td>1.0</td>\n",
       "      <td>0.0</td>\n",
       "      <td>0.0</td>\n",
       "      <td>1.0</td>\n",
       "      <td>1.0</td>\n",
       "    </tr>\n",
       "  </tbody>\n",
       "</table>\n",
       "</div>"
      ],
      "text/plain": [
       "                 HUNDR  IAGIC  ZDAIV  DCIQI  FRTWY\n",
       "ENSG00000000003    NaN    0.0    1.0    1.0    1.0\n",
       "ENSG00000000005    0.0    1.0    1.0    1.0    1.0\n",
       "ENSG00000000419    1.0    1.0    1.0    0.0    0.0\n",
       "ENSG00000000457    1.0    1.0    0.0    0.0    0.0\n",
       "ENSG00000000460    1.0    0.0    0.0    1.0    1.0"
      ]
     },
     "execution_count": 18,
     "metadata": {},
     "output_type": "execute_result"
    }
   ],
   "source": [
    "NAN_spreadsheet_name = os.path.join(out_data_dir, 'spreadsheet_NAN_data_.G.tsv')\n",
    "spreadsheet_df = pd.DataFrame(some_nan_data, index=gene_names, columns=rand_names)\n",
    "spreadsheet_df.to_csv(NAN_spreadsheet_name, sep='\\t', index=True, header=True)\n",
    "print(NAN_spreadsheet_name, '\\n')\n",
    "spreadsheet_df"
   ]
  },
  {
   "cell_type": "code",
   "execution_count": 19,
   "metadata": {
    "collapsed": false
   },
   "outputs": [
    {
     "name": "stdout",
     "output_type": "stream",
     "text": [
      "./spreadsheets/spreadsheet_Negative_data_df.tsv \n",
      "\n"
     ]
    },
    {
     "data": {
      "text/html": [
       "<div>\n",
       "<table border=\"1\" class=\"dataframe\">\n",
       "  <thead>\n",
       "    <tr style=\"text-align: right;\">\n",
       "      <th></th>\n",
       "      <th>HUNDR</th>\n",
       "      <th>IAGIC</th>\n",
       "      <th>ZDAIV</th>\n",
       "      <th>DCIQI</th>\n",
       "      <th>FRTWY</th>\n",
       "    </tr>\n",
       "  </thead>\n",
       "  <tbody>\n",
       "    <tr>\n",
       "      <th>ENSG00000000003</th>\n",
       "      <td>-1.0</td>\n",
       "      <td>0.0</td>\n",
       "      <td>1.0</td>\n",
       "      <td>1.0</td>\n",
       "      <td>1.0</td>\n",
       "    </tr>\n",
       "    <tr>\n",
       "      <th>ENSG00000000005</th>\n",
       "      <td>0.0</td>\n",
       "      <td>1.0</td>\n",
       "      <td>1.0</td>\n",
       "      <td>1.0</td>\n",
       "      <td>1.0</td>\n",
       "    </tr>\n",
       "    <tr>\n",
       "      <th>ENSG00000000419</th>\n",
       "      <td>1.0</td>\n",
       "      <td>1.0</td>\n",
       "      <td>1.0</td>\n",
       "      <td>0.0</td>\n",
       "      <td>0.0</td>\n",
       "    </tr>\n",
       "    <tr>\n",
       "      <th>ENSG00000000457</th>\n",
       "      <td>1.0</td>\n",
       "      <td>1.0</td>\n",
       "      <td>0.0</td>\n",
       "      <td>0.0</td>\n",
       "      <td>0.0</td>\n",
       "    </tr>\n",
       "    <tr>\n",
       "      <th>ENSG00000000460</th>\n",
       "      <td>1.0</td>\n",
       "      <td>0.0</td>\n",
       "      <td>0.0</td>\n",
       "      <td>1.0</td>\n",
       "      <td>1.0</td>\n",
       "    </tr>\n",
       "  </tbody>\n",
       "</table>\n",
       "</div>"
      ],
      "text/plain": [
       "                 HUNDR  IAGIC  ZDAIV  DCIQI  FRTWY\n",
       "ENSG00000000003   -1.0    0.0    1.0    1.0    1.0\n",
       "ENSG00000000005    0.0    1.0    1.0    1.0    1.0\n",
       "ENSG00000000419    1.0    1.0    1.0    0.0    0.0\n",
       "ENSG00000000457    1.0    1.0    0.0    0.0    0.0\n",
       "ENSG00000000460    1.0    0.0    0.0    1.0    1.0"
      ]
     },
     "execution_count": 19,
     "metadata": {},
     "output_type": "execute_result"
    }
   ],
   "source": [
    "NEG_spreadsheet_name = os.path.join(out_data_dir, 'spreadsheet_Negative_data_.G.tsv')\n",
    "spreadsheet_df = pd.DataFrame(some_neg_data, index=gene_names, columns=rand_names)\n",
    "spreadsheet_df.to_csv(NEG_spreadsheet_name, sep='\\t', index=True, header=True)\n",
    "print(NEG_spreadsheet_name, '\\n')\n",
    "spreadsheet_df"
   ]
  },
  {
   "cell_type": "code",
   "execution_count": 20,
   "metadata": {
    "collapsed": false
   },
   "outputs": [
    {
     "name": "stdout",
     "output_type": "stream",
     "text": [
      "./spreadsheets/spreadsheet_ALPHA_data_df.tsv \n",
      "\n"
     ]
    },
    {
     "data": {
      "text/html": [
       "<div>\n",
       "<table border=\"1\" class=\"dataframe\">\n",
       "  <thead>\n",
       "    <tr style=\"text-align: right;\">\n",
       "      <th></th>\n",
       "      <th>HUNDR</th>\n",
       "      <th>IAGIC</th>\n",
       "      <th>ZDAIV</th>\n",
       "      <th>DCIQI</th>\n",
       "      <th>FRTWY</th>\n",
       "    </tr>\n",
       "  </thead>\n",
       "  <tbody>\n",
       "    <tr>\n",
       "      <th>ENSG00000000003</th>\n",
       "      <td>abc</td>\n",
       "      <td>0.0</td>\n",
       "      <td>1.0</td>\n",
       "      <td>1.0</td>\n",
       "      <td>1.0</td>\n",
       "    </tr>\n",
       "    <tr>\n",
       "      <th>ENSG00000000005</th>\n",
       "      <td>0</td>\n",
       "      <td>1.0</td>\n",
       "      <td>1.0</td>\n",
       "      <td>1.0</td>\n",
       "      <td>1.0</td>\n",
       "    </tr>\n",
       "    <tr>\n",
       "      <th>ENSG00000000419</th>\n",
       "      <td>1</td>\n",
       "      <td>1.0</td>\n",
       "      <td>1.0</td>\n",
       "      <td>0.0</td>\n",
       "      <td>0.0</td>\n",
       "    </tr>\n",
       "    <tr>\n",
       "      <th>ENSG00000000457</th>\n",
       "      <td>1</td>\n",
       "      <td>1.0</td>\n",
       "      <td>0.0</td>\n",
       "      <td>0.0</td>\n",
       "      <td>0.0</td>\n",
       "    </tr>\n",
       "    <tr>\n",
       "      <th>ENSG00000000460</th>\n",
       "      <td>1</td>\n",
       "      <td>0.0</td>\n",
       "      <td>0.0</td>\n",
       "      <td>1.0</td>\n",
       "      <td>1.0</td>\n",
       "    </tr>\n",
       "  </tbody>\n",
       "</table>\n",
       "</div>"
      ],
      "text/plain": [
       "                HUNDR  IAGIC  ZDAIV  DCIQI  FRTWY\n",
       "ENSG00000000003   abc    0.0    1.0    1.0    1.0\n",
       "ENSG00000000005     0    1.0    1.0    1.0    1.0\n",
       "ENSG00000000419     1    1.0    1.0    0.0    0.0\n",
       "ENSG00000000457     1    1.0    0.0    0.0    0.0\n",
       "ENSG00000000460     1    0.0    0.0    1.0    1.0"
      ]
     },
     "execution_count": 20,
     "metadata": {},
     "output_type": "execute_result"
    }
   ],
   "source": [
    "alpha_spreadsheet_name = os.path.join(out_data_dir, 'spreadsheet_ALPHA_data_.G.tsv')\n",
    "spreadsheet_df = pd.DataFrame(spreadsheet_data, index=gene_names, columns=rand_names)\n",
    "spreadsheet_df[rand_names[0]].loc[gene_names[0]] = 'abc'\n",
    "spreadsheet_df.to_csv(alpha_spreadsheet_name, sep='\\t', index=True, header=True)\n",
    "print(alpha_spreadsheet_name, '\\n')\n",
    "spreadsheet_df"
   ]
  },
  {
   "cell_type": "code",
   "execution_count": null,
   "metadata": {
    "collapsed": true
   },
   "outputs": [],
   "source": []
  },
  {
   "cell_type": "code",
   "execution_count": null,
   "metadata": {
    "collapsed": true
   },
   "outputs": [],
   "source": []
  },
  {
   "cell_type": "code",
   "execution_count": null,
   "metadata": {
    "collapsed": true
   },
   "outputs": [],
   "source": []
  }
 ],
 "metadata": {
  "anaconda-cloud": {},
  "kernelspec": {
   "display_name": "Python [default]",
   "language": "python",
   "name": "python3"
  },
  "language_info": {
   "codemirror_mode": {
    "name": "ipython",
    "version": 3
   },
   "file_extension": ".py",
   "mimetype": "text/x-python",
   "name": "python",
   "nbconvert_exporter": "python",
   "pygments_lexer": "ipython3",
   "version": "3.5.2"
  }
 },
 "nbformat": 4,
 "nbformat_minor": 1
}
