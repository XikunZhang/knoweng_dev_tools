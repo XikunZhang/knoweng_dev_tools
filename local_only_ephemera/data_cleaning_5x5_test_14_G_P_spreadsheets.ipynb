{
 "cells": [
  {
   "cell_type": "markdown",
   "metadata": {},
   "source": [
    "# Spreadsheets .G.  genes X samples test data files generator\n",
    "* write a small data frame file for all thinkable cases of input spreadsheet data for Samples Clustering\n",
    "* write small data frames for each of those to use as in Gene Prioratization t-test and pearson\n",
    "* naming conventions used to allow directory processing with dcp_test.py module\n"
   ]
  },
  {
   "cell_type": "code",
   "execution_count": 11,
   "metadata": {
    "collapsed": false
   },
   "outputs": [],
   "source": [
    "import os\n",
    "import sys\n",
    "import itertools\n",
    "import time\n",
    "import numpy as np\n",
    "import pandas as pd\n",
    "\n",
    "sys.path.insert(1, '../../KnowEnG_Pipelines_Library')\n",
    "import knpackage.redis_utilities\n",
    "sys.path.insert(1, '../../KnowEnG_Pipelines_Library/knpackage')\n",
    "import knpackage.toolbox as kn\n",
    "\n",
    "sys.path.insert(1, '../src')\n",
    "import data_synth\n",
    "import data_wrangler as dw\n",
    "\n",
    "sys.path.insert(1, '../../Data_Cleanup_Pipeline/src/')\n",
    "import data_cleanup_toolbox as dc"
   ]
  },
  {
   "cell_type": "code",
   "execution_count": 12,
   "metadata": {
    "collapsed": true
   },
   "outputs": [],
   "source": [
    "out_data_dir = './spreadsheets.G.etc'\n",
    "pheno_pearson_data_dir = './phenotypes_pearson.P.etc'\n",
    "pheno_t_test_data_dir = './phenotypes_t_test.P.etc'"
   ]
  },
  {
   "cell_type": "markdown",
   "metadata": {},
   "source": [
    "# data_cleanup_toolbox test: Set of 14 Spreadsheets"
   ]
  },
  {
   "cell_type": "code",
   "execution_count": 13,
   "metadata": {
    "collapsed": false
   },
   "outputs": [
    {
     "data": {
      "text/plain": [
       "array([[ 1.,  0.,  1.,  0.,  1.],\n",
       "       [ 0.,  1.,  0.,  1.,  1.],\n",
       "       [ 0.,  0.,  0.,  0.,  1.],\n",
       "       [ 1.,  0.,  0.,  1.,  1.],\n",
       "       [ 1.,  1.,  0.,  0.,  0.]])"
      ]
     },
     "execution_count": 13,
     "metadata": {},
     "output_type": "execute_result"
    }
   ],
   "source": [
    "n_spreadsheet_rows = 5\n",
    "n_spreadsheet_cols = 5\n",
    "spreadsheet_shape = (n_spreadsheet_rows, n_spreadsheet_cols)\n",
    "\n",
    "spreadsheet_data = np.random.random(spreadsheet_shape)\n",
    "spreadsheet_data[spreadsheet_data < 0.5] = 0.0\n",
    "spreadsheet_data[spreadsheet_data != 0.0] = 1.0\n",
    "spreadsheet_data"
   ]
  },
  {
   "cell_type": "code",
   "execution_count": 14,
   "metadata": {
    "collapsed": false
   },
   "outputs": [
    {
     "name": "stdout",
     "output_type": "stream",
     "text": [
      " pearson data:\n",
      " [[ 0.49980498  0.          0.          0.          0.31744934]\n",
      " [ 0.51935288  0.          0.46879014  0.          0.        ]\n",
      " [ 0.49608264  0.67194818  0.          0.          0.4767176 ]\n",
      " [ 0.52969083  0.56521641  0.75311023  0.51331935  0.        ]\n",
      " [ 0.          0.56587829  0.74051295  0.56616055  0.66029975]]\n",
      "\n",
      " t_test data:\n",
      " [[ 1.  0.  1.  1.  0.]\n",
      " [ 0.  0.  0.  0.  0.]\n",
      " [ 0.  0.  1.  0.  0.]\n",
      " [ 0.  1.  1.  1.  1.]\n",
      " [ 0.  0.  1.  1.  1.]]\n"
     ]
    },
    {
     "data": {
      "text/plain": [
       "['SWLXSSS', 'TJOJYEU', 'XBMQOMR', 'ZQQYKOO', 'LLHLQYY']"
      ]
     },
     "execution_count": 14,
     "metadata": {},
     "output_type": "execute_result"
    }
   ],
   "source": [
    "pheno_pearson_data = np.random.random(spreadsheet_shape)\n",
    "pheno_pearson_data = pheno_pearson_data - 0.24\n",
    "pheno_pearson_data[pheno_pearson_data < 0.26] = 0.0\n",
    "print(' pearson data:\\n', pheno_pearson_data)\n",
    "\n",
    "pheno_t_test_data = np.random.random(spreadsheet_shape)\n",
    "pheno_t_test_data[pheno_t_test_data < 0.5] = 0.0\n",
    "pheno_t_test_data[pheno_t_test_data != 0.0] = 1.0\n",
    "print('\\n t_test data:\\n', pheno_t_test_data)\n",
    "\n",
    "drug_names = data_synth.get_rand_unique_name_list(n_names=n_spreadsheet_rows, name_length=7)\n",
    "drug_names"
   ]
  },
  {
   "cell_type": "code",
   "execution_count": 15,
   "metadata": {
    "collapsed": false
   },
   "outputs": [
    {
     "name": "stdout",
     "output_type": "stream",
     "text": [
      "spreadsheet_DNE_.G.tsv \n",
      "        TPSUSVNT  LVTHVKWJ  OTUQSCHA  SUPBKEEW  SLKMNWVB\n",
      "UGKLP  0.279451  0.150513  0.990819  0.449800  0.054732\n",
      "ZVOUL  0.033592  0.198001  0.656441  0.563804  0.789581\n",
      "RBAKY  0.936109  0.642663  0.281792  0.427561  0.055155\n",
      "MXKVB  0.184696  0.316675  0.674886  0.548009  0.505123\n",
      "PISZQ  0.269313  0.690633  0.425534  0.710203  0.427368\n",
      "\n",
      " spreadsheet_DNE_.P.pearson.tsv \n",
      "          TPSUSVNT  LVTHVKWJ  OTUQSCHA  SUPBKEEW  SLKMNWVB\n",
      "SWLXSSS  0.499805  0.000000  0.000000  0.000000  0.317449\n",
      "TJOJYEU  0.519353  0.000000  0.468790  0.000000  0.000000\n",
      "XBMQOMR  0.496083  0.671948  0.000000  0.000000  0.476718\n",
      "ZQQYKOO  0.529691  0.565216  0.753110  0.513319  0.000000\n",
      "LLHLQYY  0.000000  0.565878  0.740513  0.566161  0.660300\n",
      "\n",
      " spreadsheet_DNE_.P.t_test.tsv \n",
      "          TPSUSVNT  LVTHVKWJ  OTUQSCHA  SUPBKEEW  SLKMNWVB\n",
      "SWLXSSS       1.0       0.0       1.0       1.0       0.0\n",
      "TJOJYEU       0.0       0.0       0.0       0.0       0.0\n",
      "XBMQOMR       0.0       0.0       1.0       0.0       0.0\n",
      "ZQQYKOO       0.0       1.0       1.0       1.0       1.0\n",
      "LLHLQYY       0.0       0.0       1.0       1.0       1.0\n"
     ]
    }
   ],
   "source": [
    "BASE_NAME = 'spreadsheet_DNE_'\n",
    "DNE_spreadsheet_name = os.path.join(out_data_dir, BASE_NAME + '.G.tsv')\n",
    "spreadsheet_df = data_synth.get_rand_dataframe(\n",
    "                    n_spreadsheet_rows, n_spreadsheet_cols, row_name_chars=5, col_name_chars=8)\n",
    "\n",
    "spreadsheet_df.to_csv(DNE_spreadsheet_name, sep='\\t', index=True, header=True)\n",
    "print(BASE_NAME + '.G.tsv', '\\n', spreadsheet_df)\n",
    "\n",
    "drug_names_dict = {spreadsheet_df.index.values[k]: drug_names[k] for k in range(len(drug_names))}\n",
    "\n",
    "spreadsheet_df.rename(index=drug_names_dict, inplace=True)\n",
    "spreadsheet_df[:][:] = pheno_pearson_data\n",
    "\n",
    "spreadsheet_df.to_csv(os.path.join(pheno_pearson_data_dir, BASE_NAME + '.P.pearson.tsv'), sep='\\t', \n",
    "                      index=True, header=True)\n",
    "print('\\n', BASE_NAME + '.P.pearson.tsv', '\\n', spreadsheet_df)\n",
    "spreadsheet_df[:][:] = pheno_t_test_data\n",
    "\n",
    "spreadsheet_df.to_csv(os.path.join(pheno_t_test_data_dir, BASE_NAME + '.P.t_test.tsv'), sep='\\t', \n",
    "                      index=True, header=True)\n",
    "print('\\n', BASE_NAME + '.P.t_test.tsv', '\\n', spreadsheet_df)"
   ]
  },
  {
   "cell_type": "code",
   "execution_count": 16,
   "metadata": {
    "collapsed": false
   },
   "outputs": [
    {
     "data": {
      "text/plain": [
       "array([[-1.,  0.,  1.,  0.,  1.],\n",
       "       [ 0.,  1.,  0.,  1.,  1.],\n",
       "       [ 0.,  0.,  0.,  0.,  1.],\n",
       "       [ 1.,  0.,  0.,  1.,  1.],\n",
       "       [ 1.,  1.,  0.,  0.,  0.]])"
      ]
     },
     "execution_count": 16,
     "metadata": {},
     "output_type": "execute_result"
    }
   ],
   "source": [
    "some_neg_data = spreadsheet_data.copy()\n",
    "some_neg_data[0,0] = -1\n",
    "some_neg_data"
   ]
  },
  {
   "cell_type": "code",
   "execution_count": 17,
   "metadata": {
    "collapsed": false
   },
   "outputs": [
    {
     "data": {
      "text/plain": [
       "array([[ nan,   0.,   1.,   0.,   1.],\n",
       "       [  0.,   1.,   0.,   1.,   1.],\n",
       "       [  0.,   0.,   0.,   0.,   1.],\n",
       "       [  1.,   0.,   0.,   1.,   1.],\n",
       "       [  1.,   1.,   0.,   0.,   0.]])"
      ]
     },
     "execution_count": 17,
     "metadata": {},
     "output_type": "execute_result"
    }
   ],
   "source": [
    "some_nan_data = spreadsheet_data.copy()\n",
    "some_nan_data[0,0] = np.nan\n",
    "some_nan_data"
   ]
  },
  {
   "cell_type": "code",
   "execution_count": 18,
   "metadata": {
    "collapsed": false
   },
   "outputs": [],
   "source": [
    "KnowEnG_GP_dir = '../../Samples_Clustering_Pipeline/data/networks'\n",
    "network_full_file = os.path.join(KnowEnG_GP_dir, 'keg_ST90_4col.edge')\n",
    "adj_mat, ensembl_names = kn.get_sparse_network_matrix(network_full_file)\n",
    "del adj_mat\n",
    "raw_data_dir = '../../'"
   ]
  },
  {
   "cell_type": "code",
   "execution_count": 10,
   "metadata": {
    "collapsed": false
   },
   "outputs": [],
   "source": [
    "raw_data_dir = '../../../BigDataTank/pipeline_spreadsheets/raw'\n",
    "sp_file = 'Hsap.ccle.G.gene_mut.binary.df'\n",
    "sp_4_gene_names_df = pd.read_csv(os.path.join(raw_data_dir,sp_file),sep='\\t',index_col=0,header=0)\n",
    "asorted_gene_names = list(sp_4_gene_names_df.index)\n",
    "del sp_4_gene_names_df"
   ]
  },
  {
   "cell_type": "code",
   "execution_count": 19,
   "metadata": {
    "collapsed": false
   },
   "outputs": [
    {
     "name": "stdout",
     "output_type": "stream",
     "text": [
      "spreadsheet_A_.G.tsv \n",
      "                  LIWLX  WNPQW  OZDEA  PTQJC  GYJTZ\n",
      "ENSG00000000005    1.0    0.0    1.0    0.0    1.0\n",
      "ENSG00000000419    0.0    1.0    0.0    1.0    1.0\n",
      "ENSG00000000457    0.0    0.0    0.0    0.0    1.0\n",
      "ENSG00000000460    1.0    0.0    0.0    1.0    1.0\n",
      "ENSG00000000938    1.0    1.0    0.0    0.0    0.0\n",
      "\n",
      " spreadsheet_A_.P.pearson.tsv \n",
      "             LIWLX     WNPQW     OZDEA     PTQJC     GYJTZ\n",
      "SWLXSSS  0.499805  0.000000  0.000000  0.000000  0.317449\n",
      "TJOJYEU  0.519353  0.000000  0.468790  0.000000  0.000000\n",
      "XBMQOMR  0.496083  0.671948  0.000000  0.000000  0.476718\n",
      "ZQQYKOO  0.529691  0.565216  0.753110  0.513319  0.000000\n",
      "LLHLQYY  0.000000  0.565878  0.740513  0.566161  0.660300\n",
      "\n",
      " spreadsheet_A_.P.t_test.tsv \n",
      "          LIWLX  WNPQW  OZDEA  PTQJC  GYJTZ\n",
      "SWLXSSS    1.0    0.0    1.0    1.0    0.0\n",
      "TJOJYEU    0.0    0.0    0.0    0.0    0.0\n",
      "XBMQOMR    0.0    0.0    1.0    0.0    0.0\n",
      "ZQQYKOO    0.0    1.0    1.0    1.0    1.0\n",
      "LLHLQYY    0.0    0.0    1.0    1.0    1.0\n"
     ]
    }
   ],
   "source": [
    "BASE_NAME = 'spreadsheet_A_'\n",
    "good_spreadsheet_name = os.path.join(out_data_dir, BASE_NAME + '.G.tsv')\n",
    "rand_names = data_synth.get_rand_unique_name_list(n_names=5, name_length=5)\n",
    "gene_names = ensembl_names[0:n_spreadsheet_rows]\n",
    "spreadsheet_df = pd.DataFrame(spreadsheet_data, index=gene_names, columns=rand_names)\n",
    "spreadsheet_df.to_csv(good_spreadsheet_name, sep='\\t', index=True, header=True)\n",
    "print(BASE_NAME + '.G.tsv', '\\n', spreadsheet_df)\n",
    "\n",
    "drug_names_dict = {spreadsheet_df.index.values[k]: drug_names[k] for k in range(len(drug_names))}\n",
    "\n",
    "spreadsheet_df.rename(index=drug_names_dict, inplace=True)\n",
    "spreadsheet_df[:][:] = pheno_pearson_data\n",
    "\n",
    "spreadsheet_df.to_csv(os.path.join(pheno_pearson_data_dir, BASE_NAME + '.P.pearson.tsv'), sep='\\t', \n",
    "                      index=True, header=True)\n",
    "print('\\n', BASE_NAME + '.P.pearson.tsv', '\\n', spreadsheet_df)\n",
    "spreadsheet_df[:][:] = pheno_t_test_data\n",
    "\n",
    "spreadsheet_df.to_csv(os.path.join(pheno_t_test_data_dir, BASE_NAME + '.P.t_test.tsv'), sep='\\t', \n",
    "                      index=True, header=True)\n",
    "print('\\n', BASE_NAME + '.P.t_test.tsv', '\\n', spreadsheet_df)"
   ]
  },
  {
   "cell_type": "code",
   "execution_count": 20,
   "metadata": {
    "collapsed": false
   },
   "outputs": [
    {
     "name": "stdout",
     "output_type": "stream",
     "text": [
      "spreadsheet_B_.G.tsv \n",
      "                  LIWLX  WNPQW  OZDEA  PTQJC  GYJTZ\n",
      "AAK1               1.0    0.0    1.0    0.0    1.0\n",
      "AATK               0.0    1.0    0.0    1.0    1.0\n",
      "ENSG00000000457    0.0    0.0    0.0    0.0    1.0\n",
      "ENSG00000000460    1.0    0.0    0.0    1.0    1.0\n",
      "ENSG00000000938    1.0    1.0    0.0    0.0    0.0\n",
      "\n",
      " spreadsheet_B_.P.pearson.tsv \n",
      "             LIWLX     WNPQW     OZDEA     PTQJC     GYJTZ\n",
      "SWLXSSS  0.499805  0.000000  0.000000  0.000000  0.317449\n",
      "TJOJYEU  0.519353  0.000000  0.468790  0.000000  0.000000\n",
      "XBMQOMR  0.496083  0.671948  0.000000  0.000000  0.476718\n",
      "ZQQYKOO  0.529691  0.565216  0.753110  0.513319  0.000000\n",
      "LLHLQYY  0.000000  0.565878  0.740513  0.566161  0.660300\n",
      "\n",
      " spreadsheet_B_.P.t_test.tsv \n",
      "          LIWLX  WNPQW  OZDEA  PTQJC  GYJTZ\n",
      "SWLXSSS    1.0    0.0    1.0    1.0    0.0\n",
      "TJOJYEU    0.0    0.0    0.0    0.0    0.0\n",
      "XBMQOMR    0.0    0.0    1.0    0.0    0.0\n",
      "ZQQYKOO    0.0    1.0    1.0    1.0    1.0\n",
      "LLHLQYY    0.0    0.0    1.0    1.0    1.0\n"
     ]
    }
   ],
   "source": [
    "BASE_NAME = 'spreadsheet_B_'\n",
    "OK_spreadsheet_name = os.path.join(out_data_dir, BASE_NAME + '.G.tsv')\n",
    "gene_names_B = gene_names.copy()\n",
    "gene_names_B[0] = asorted_gene_names[0]\n",
    "gene_names_B[1] = asorted_gene_names[1]\n",
    "spreadsheet_df = pd.DataFrame(spreadsheet_data, index=gene_names_B, columns=rand_names)\n",
    "spreadsheet_df.to_csv(OK_spreadsheet_name, sep='\\t', index=True, header=True)\n",
    "\n",
    "print(BASE_NAME + '.G.tsv', '\\n', spreadsheet_df)\n",
    "\n",
    "drug_names_dict = {spreadsheet_df.index.values[k]: drug_names[k] for k in range(len(drug_names))}\n",
    "\n",
    "spreadsheet_df.rename(index=drug_names_dict, inplace=True)\n",
    "spreadsheet_df[:][:] = pheno_pearson_data\n",
    "\n",
    "spreadsheet_df.to_csv(os.path.join(pheno_pearson_data_dir, BASE_NAME + '.P.pearson.tsv'), sep='\\t', \n",
    "                      index=True, header=True)\n",
    "print('\\n', BASE_NAME + '.P.pearson.tsv', '\\n', spreadsheet_df)\n",
    "spreadsheet_df[:][:] = pheno_t_test_data\n",
    "\n",
    "spreadsheet_df.to_csv(os.path.join(pheno_t_test_data_dir, BASE_NAME + '.P.t_test.tsv'), sep='\\t', \n",
    "                      index=True, header=True)\n",
    "print('\\n', BASE_NAME + '.P.t_test.tsv', '\\n', spreadsheet_df)"
   ]
  },
  {
   "cell_type": "code",
   "execution_count": 21,
   "metadata": {
    "collapsed": false
   },
   "outputs": [
    {
     "name": "stdout",
     "output_type": "stream",
     "text": [
      "spreadsheet_duplicate_cols_.G.tsv \n",
      "                  LIWLX  OZDEA  OZDEA  PTQJC  GYJTZ\n",
      "ENSG00000000005    1.0    0.0    1.0    0.0    1.0\n",
      "ENSG00000000419    0.0    1.0    0.0    1.0    1.0\n",
      "ENSG00000000457    0.0    0.0    0.0    0.0    1.0\n",
      "ENSG00000000460    1.0    0.0    0.0    1.0    1.0\n",
      "ENSG00000000938    1.0    1.0    0.0    0.0    0.0\n",
      "\n",
      " spreadsheet_duplicate_cols_.P.pearson.tsv \n",
      "             LIWLX     OZDEA     OZDEA     PTQJC     GYJTZ\n",
      "SWLXSSS  0.499805  0.000000  0.000000  0.000000  0.317449\n",
      "TJOJYEU  0.519353  0.000000  0.468790  0.000000  0.000000\n",
      "XBMQOMR  0.496083  0.671948  0.000000  0.000000  0.476718\n",
      "ZQQYKOO  0.529691  0.565216  0.753110  0.513319  0.000000\n",
      "LLHLQYY  0.000000  0.565878  0.740513  0.566161  0.660300\n",
      "\n",
      " spreadsheet_duplicate_cols_.P.t_test.tsv \n",
      "          LIWLX  OZDEA  OZDEA  PTQJC  GYJTZ\n",
      "SWLXSSS    1.0    0.0    1.0    1.0    0.0\n",
      "TJOJYEU    0.0    0.0    0.0    0.0    0.0\n",
      "XBMQOMR    0.0    0.0    1.0    0.0    0.0\n",
      "ZQQYKOO    0.0    1.0    1.0    1.0    1.0\n",
      "LLHLQYY    0.0    0.0    1.0    1.0    1.0\n"
     ]
    }
   ],
   "source": [
    "BASE_NAME = 'spreadsheet_duplicate_cols_'\n",
    "dup_col_spreadsheet_name = os.path.join(out_data_dir, BASE_NAME + '.G.tsv')\n",
    "\n",
    "rand_dup_names = rand_names.copy()\n",
    "rand_dup_names[1] = rand_dup_names[2]\n",
    "spreadsheet_df = pd.DataFrame(spreadsheet_data, index=gene_names, columns=rand_dup_names)\n",
    "spreadsheet_df.to_csv(dup_col_spreadsheet_name, sep='\\t', index=True, header=True)\n",
    "print(BASE_NAME + '.G.tsv', '\\n', spreadsheet_df)\n",
    "\n",
    "drug_names_dict = {spreadsheet_df.index.values[k]: drug_names[k] for k in range(len(drug_names))}\n",
    "\n",
    "spreadsheet_df.rename(index=drug_names_dict, inplace=True)\n",
    "spreadsheet_df[:][:] = pheno_pearson_data\n",
    "\n",
    "spreadsheet_df.to_csv(os.path.join(pheno_pearson_data_dir, BASE_NAME + '.P.pearson.tsv'), sep='\\t', \n",
    "                      index=True, header=True)\n",
    "print('\\n', BASE_NAME + '.P.pearson.tsv', '\\n', spreadsheet_df)\n",
    "spreadsheet_df[:][:] = pheno_t_test_data\n",
    "\n",
    "spreadsheet_df.to_csv(os.path.join(pheno_t_test_data_dir, BASE_NAME + '.P.t_test.tsv'), sep='\\t', \n",
    "                      index=True, header=True)\n",
    "print('\\n', BASE_NAME + '.P.t_test.tsv', '\\n', spreadsheet_df)"
   ]
  },
  {
   "cell_type": "code",
   "execution_count": 22,
   "metadata": {
    "collapsed": false
   },
   "outputs": [
    {
     "name": "stdout",
     "output_type": "stream",
     "text": [
      "spreadsheet_duplicate_rows_.G.tsv \n",
      "                  LIWLX  WNPQW  OZDEA  PTQJC  GYJTZ\n",
      "ENSG00000000005    1.0    0.0    1.0    0.0    1.0\n",
      "ENSG00000000457    0.0    1.0    0.0    1.0    1.0\n",
      "ENSG00000000457    0.0    0.0    0.0    0.0    1.0\n",
      "ENSG00000000460    1.0    0.0    0.0    1.0    1.0\n",
      "ENSG00000000938    1.0    1.0    0.0    0.0    0.0\n",
      "\n",
      " spreadsheet_duplicate_rows_.P.pearson.tsv \n",
      "             LIWLX     WNPQW     OZDEA     PTQJC     GYJTZ\n",
      "SWLXSSS  0.499805  0.000000  0.000000  0.000000  0.317449\n",
      "XBMQOMR  0.519353  0.000000  0.468790  0.000000  0.000000\n",
      "XBMQOMR  0.496083  0.671948  0.000000  0.000000  0.476718\n",
      "ZQQYKOO  0.529691  0.565216  0.753110  0.513319  0.000000\n",
      "LLHLQYY  0.000000  0.565878  0.740513  0.566161  0.660300\n",
      "\n",
      " spreadsheet_duplicate_rows_.P.t_test.tsv \n",
      "          LIWLX  WNPQW  OZDEA  PTQJC  GYJTZ\n",
      "SWLXSSS    1.0    0.0    1.0    1.0    0.0\n",
      "XBMQOMR    0.0    0.0    0.0    0.0    0.0\n",
      "XBMQOMR    0.0    0.0    1.0    0.0    0.0\n",
      "ZQQYKOO    0.0    1.0    1.0    1.0    1.0\n",
      "LLHLQYY    0.0    0.0    1.0    1.0    1.0\n"
     ]
    }
   ],
   "source": [
    "BASE_NAME = 'spreadsheet_duplicate_rows_'\n",
    "dup_row_spreadsheet_name = os.path.join(out_data_dir, BASE_NAME + '.G.tsv')\n",
    "\n",
    "gene_dup_names = gene_names.copy()\n",
    "gene_dup_names[1] = gene_dup_names[2]\n",
    "spreadsheet_df = pd.DataFrame(spreadsheet_data, index=gene_dup_names, columns=rand_names)\n",
    "spreadsheet_df.to_csv(dup_row_spreadsheet_name, sep='\\t', index=True, header=True)\n",
    "print(BASE_NAME + '.G.tsv', '\\n', spreadsheet_df)\n",
    "\n",
    "drug_names_dict = {spreadsheet_df.index.values[k]: drug_names[k] for k in range(len(drug_names))}\n",
    "\n",
    "spreadsheet_df.rename(index=drug_names_dict, inplace=True)\n",
    "spreadsheet_df[:][:] = pheno_pearson_data\n",
    "\n",
    "spreadsheet_df.to_csv(os.path.join(pheno_pearson_data_dir, BASE_NAME + '.P.pearson.tsv'), sep='\\t', \n",
    "                      index=True, header=True)\n",
    "print('\\n', BASE_NAME + '.P.pearson.tsv', '\\n', spreadsheet_df)\n",
    "spreadsheet_df[:][:] = pheno_t_test_data\n",
    "\n",
    "spreadsheet_df.to_csv(os.path.join(pheno_t_test_data_dir, BASE_NAME + '.P.t_test.tsv'), sep='\\t', \n",
    "                      index=True, header=True)\n",
    "print('\\n', BASE_NAME + '.P.t_test.tsv', '\\n', spreadsheet_df)"
   ]
  },
  {
   "cell_type": "code",
   "execution_count": 23,
   "metadata": {
    "collapsed": false
   },
   "outputs": [
    {
     "name": "stdout",
     "output_type": "stream",
     "text": [
      "spreadsheet_duplicate_rows_AND_cols_.G.tsv \n",
      "                  LIWLX  OZDEA  OZDEA  PTQJC  GYJTZ\n",
      "ENSG00000000005    1.0    0.0    1.0    0.0    1.0\n",
      "ENSG00000000457    0.0    1.0    0.0    1.0    1.0\n",
      "ENSG00000000457    0.0    0.0    0.0    0.0    1.0\n",
      "ENSG00000000460    1.0    0.0    0.0    1.0    1.0\n",
      "ENSG00000000938    1.0    1.0    0.0    0.0    0.0\n",
      "\n",
      " spreadsheet_duplicate_rows_AND_cols_.P.pearson.tsv \n",
      "             LIWLX     OZDEA     OZDEA     PTQJC     GYJTZ\n",
      "SWLXSSS  0.499805  0.000000  0.000000  0.000000  0.317449\n",
      "XBMQOMR  0.519353  0.000000  0.468790  0.000000  0.000000\n",
      "XBMQOMR  0.496083  0.671948  0.000000  0.000000  0.476718\n",
      "ZQQYKOO  0.529691  0.565216  0.753110  0.513319  0.000000\n",
      "LLHLQYY  0.000000  0.565878  0.740513  0.566161  0.660300\n",
      "\n",
      " spreadsheet_duplicate_rows_AND_cols_.P.t_test.tsv \n",
      "          LIWLX  OZDEA  OZDEA  PTQJC  GYJTZ\n",
      "SWLXSSS    1.0    0.0    1.0    1.0    0.0\n",
      "XBMQOMR    0.0    0.0    0.0    0.0    0.0\n",
      "XBMQOMR    0.0    0.0    1.0    0.0    0.0\n",
      "ZQQYKOO    0.0    1.0    1.0    1.0    1.0\n",
      "LLHLQYY    0.0    0.0    1.0    1.0    1.0\n"
     ]
    }
   ],
   "source": [
    "BASE_NAME = 'spreadsheet_duplicate_rows_AND_cols_'\n",
    "dup_row_and_col_spreadsheet_name = os.path.join(out_data_dir, BASE_NAME + '.G.tsv')\n",
    "\n",
    "spreadsheet_df = pd.DataFrame(spreadsheet_data, index=gene_dup_names, columns=rand_dup_names)\n",
    "spreadsheet_df.to_csv(dup_row_and_col_spreadsheet_name, sep='\\t', index=True, header=True)\n",
    "print(BASE_NAME + '.G.tsv', '\\n', spreadsheet_df)\n",
    "\n",
    "drug_names_dict = {spreadsheet_df.index.values[k]: drug_names[k] for k in range(len(drug_names))}\n",
    "\n",
    "spreadsheet_df.rename(index=drug_names_dict, inplace=True)\n",
    "spreadsheet_df[:][:] = pheno_pearson_data\n",
    "\n",
    "spreadsheet_df.to_csv(os.path.join(pheno_pearson_data_dir, BASE_NAME + '.P.pearson.tsv'), sep='\\t', \n",
    "                      index=True, header=True)\n",
    "print('\\n', BASE_NAME + '.P.pearson.tsv', '\\n', spreadsheet_df)\n",
    "spreadsheet_df[:][:] = pheno_t_test_data\n",
    "\n",
    "spreadsheet_df.to_csv(os.path.join(pheno_t_test_data_dir, BASE_NAME + '.P.t_test.tsv'), sep='\\t', \n",
    "                      index=True, header=True)\n",
    "print('\\n', BASE_NAME + '.P.t_test.tsv', '\\n', spreadsheet_df)"
   ]
  },
  {
   "cell_type": "code",
   "execution_count": 24,
   "metadata": {
    "collapsed": false
   },
   "outputs": [
    {
     "name": "stdout",
     "output_type": "stream",
     "text": [
      "spreadsheet_EMPTY_cols_.G.tsv \n",
      "\n"
     ]
    },
    {
     "data": {
      "text/html": [
       "<div>\n",
       "<table border=\"1\" class=\"dataframe\">\n",
       "  <thead>\n",
       "    <tr style=\"text-align: right;\">\n",
       "      <th></th>\n",
       "      <th>LIWLX</th>\n",
       "      <th>WNPQW</th>\n",
       "      <th>OZDEA</th>\n",
       "      <th>PTQJC</th>\n",
       "      <th>GYJTZ</th>\n",
       "    </tr>\n",
       "  </thead>\n",
       "  <tbody>\n",
       "  </tbody>\n",
       "</table>\n",
       "</div>"
      ],
      "text/plain": [
       "Empty DataFrame\n",
       "Columns: [LIWLX, WNPQW, OZDEA, PTQJC, GYJTZ]\n",
       "Index: []"
      ]
     },
     "execution_count": 24,
     "metadata": {},
     "output_type": "execute_result"
    }
   ],
   "source": [
    "BASE_NAME = 'spreadsheet_EMPTY_cols_'\n",
    "empty_col_spreadsheet_name = os.path.join(out_data_dir, BASE_NAME + '.G.tsv')\n",
    "\n",
    "spreadsheet_df = pd.DataFrame(data=None, columns=rand_names)\n",
    "spreadsheet_df.to_csv(empty_col_spreadsheet_name, sep='\\t', index=None, header=True)\n",
    "print(BASE_NAME + '.G.tsv', '\\n')\n",
    "spreadsheet_df.to_csv(os.path.join(pheno_pearson_data_dir, BASE_NAME + '.P.pearson.tsv'), sep='\\t', \n",
    "                      index=True, header=True)\n",
    "spreadsheet_df.to_csv(os.path.join(pheno_t_test_data_dir, BASE_NAME + '.P.t_test.tsv'), sep='\\t', \n",
    "                      index=True, header=True)\n",
    "spreadsheet_df"
   ]
  },
  {
   "cell_type": "code",
   "execution_count": 25,
   "metadata": {
    "collapsed": false
   },
   "outputs": [
    {
     "name": "stdout",
     "output_type": "stream",
     "text": [
      "spreadsheet_EMPTY_rows_.G.tsv \n",
      "\n"
     ]
    },
    {
     "data": {
      "text/html": [
       "<div>\n",
       "<table border=\"1\" class=\"dataframe\">\n",
       "  <thead>\n",
       "    <tr style=\"text-align: right;\">\n",
       "      <th></th>\n",
       "    </tr>\n",
       "  </thead>\n",
       "  <tbody>\n",
       "    <tr>\n",
       "      <th>ENSG00000000005</th>\n",
       "    </tr>\n",
       "    <tr>\n",
       "      <th>ENSG00000000419</th>\n",
       "    </tr>\n",
       "    <tr>\n",
       "      <th>ENSG00000000457</th>\n",
       "    </tr>\n",
       "    <tr>\n",
       "      <th>ENSG00000000460</th>\n",
       "    </tr>\n",
       "    <tr>\n",
       "      <th>ENSG00000000938</th>\n",
       "    </tr>\n",
       "  </tbody>\n",
       "</table>\n",
       "</div>"
      ],
      "text/plain": [
       "Empty DataFrame\n",
       "Columns: []\n",
       "Index: [ENSG00000000005, ENSG00000000419, ENSG00000000457, ENSG00000000460, ENSG00000000938]"
      ]
     },
     "execution_count": 25,
     "metadata": {},
     "output_type": "execute_result"
    }
   ],
   "source": [
    "BASE_NAME = 'spreadsheet_EMPTY_rows_'\n",
    "empty_row_spreadsheet_name = os.path.join(out_data_dir, BASE_NAME + '.G.tsv')\n",
    "\n",
    "spreadsheet_df = pd.DataFrame(data=None, index=gene_names)\n",
    "spreadsheet_df.to_csv(empty_row_spreadsheet_name, sep='\\t', index=True, header=None)\n",
    "print(BASE_NAME + '.G.tsv', '\\n')\n",
    "\n",
    "spreadsheet_df.to_csv(os.path.join(pheno_pearson_data_dir, BASE_NAME + '.P.pearson.tsv'), sep='\\t', \n",
    "                      index=True, header=True)\n",
    "spreadsheet_df.to_csv(os.path.join(pheno_t_test_data_dir, BASE_NAME + '.P.t_test.tsv'), sep='\\t', \n",
    "                      index=True, header=True)\n",
    "spreadsheet_df"
   ]
  },
  {
   "cell_type": "code",
   "execution_count": 26,
   "metadata": {
    "collapsed": false
   },
   "outputs": [
    {
     "name": "stdout",
     "output_type": "stream",
     "text": [
      "spreadsheet_NA_cols_.G.tsv \n",
      "                  LIWLX  WNPQW   NA  PTQJC  GYJTZ\n",
      "ENSG00000000005    1.0    0.0  1.0    0.0    1.0\n",
      "ENSG00000000419    0.0    1.0  0.0    1.0    1.0\n",
      "ENSG00000000457    0.0    0.0  0.0    0.0    1.0\n",
      "ENSG00000000460    1.0    0.0  0.0    1.0    1.0\n",
      "ENSG00000000938    1.0    1.0  0.0    0.0    0.0\n",
      "\n",
      " spreadsheet_NA_cols_.P.pearson.tsv \n",
      "             LIWLX     WNPQW        NA     PTQJC     GYJTZ\n",
      "SWLXSSS  0.499805  0.000000  0.000000  0.000000  0.317449\n",
      "TJOJYEU  0.519353  0.000000  0.468790  0.000000  0.000000\n",
      "XBMQOMR  0.496083  0.671948  0.000000  0.000000  0.476718\n",
      "ZQQYKOO  0.529691  0.565216  0.753110  0.513319  0.000000\n",
      "LLHLQYY  0.000000  0.565878  0.740513  0.566161  0.660300\n",
      "\n",
      " spreadsheet_NA_cols_.P.t_test.tsv \n",
      "          LIWLX  WNPQW   NA  PTQJC  GYJTZ\n",
      "SWLXSSS    1.0    0.0  1.0    1.0    0.0\n",
      "TJOJYEU    0.0    0.0  0.0    0.0    0.0\n",
      "XBMQOMR    0.0    0.0  1.0    0.0    0.0\n",
      "ZQQYKOO    0.0    1.0  1.0    1.0    1.0\n",
      "LLHLQYY    0.0    0.0  1.0    1.0    1.0\n"
     ]
    }
   ],
   "source": [
    "BASE_NAME = 'spreadsheet_NA_cols_'\n",
    "NA_col_spreadsheet_name = os.path.join(out_data_dir, BASE_NAME + '.G.tsv')\n",
    "\n",
    "na_col_names = rand_names.copy()\n",
    "na_col_names[2] = 'NA'\n",
    "na_row_names = gene_names.copy()\n",
    "na_row_names[2] = 'NA'\n",
    "spreadsheet_df = pd.DataFrame(spreadsheet_data, index=gene_names, columns=na_col_names)\n",
    "spreadsheet_df.to_csv(NA_col_spreadsheet_name, sep='\\t', index=True, header=True)\n",
    "print(BASE_NAME + '.G.tsv', '\\n', spreadsheet_df)\n",
    "\n",
    "drug_names_dict = {spreadsheet_df.index.values[k]: drug_names[k] for k in range(len(drug_names))}\n",
    "\n",
    "spreadsheet_df.rename(index=drug_names_dict, inplace=True)\n",
    "spreadsheet_df[:][:] = pheno_pearson_data\n",
    "\n",
    "spreadsheet_df.to_csv(os.path.join(pheno_pearson_data_dir, BASE_NAME + '.P.pearson.tsv'), sep='\\t', \n",
    "                      index=True, header=True)\n",
    "print('\\n', BASE_NAME + '.P.pearson.tsv', '\\n', spreadsheet_df)\n",
    "spreadsheet_df[:][:] = pheno_t_test_data\n",
    "\n",
    "spreadsheet_df.to_csv(os.path.join(pheno_t_test_data_dir, BASE_NAME + '.P.t_test.tsv'), sep='\\t', \n",
    "                      index=True, header=True)\n",
    "print('\\n', BASE_NAME + '.P.t_test.tsv', '\\n', spreadsheet_df)"
   ]
  },
  {
   "cell_type": "code",
   "execution_count": 27,
   "metadata": {
    "collapsed": false
   },
   "outputs": [
    {
     "name": "stdout",
     "output_type": "stream",
     "text": [
      "spreadsheet_NA_rows_.G.tsv \n",
      "                  LIWLX  WNPQW  OZDEA  PTQJC  GYJTZ\n",
      "ENSG00000000005    1.0    0.0    1.0    0.0    1.0\n",
      "ENSG00000000419    0.0    1.0    0.0    1.0    1.0\n",
      "NA                 0.0    0.0    0.0    0.0    1.0\n",
      "ENSG00000000460    1.0    0.0    0.0    1.0    1.0\n",
      "ENSG00000000938    1.0    1.0    0.0    0.0    0.0\n",
      "\n",
      " spreadsheet_NA_rows_.P.pearson.tsv \n",
      "             LIWLX     WNPQW     OZDEA     PTQJC     GYJTZ\n",
      "SWLXSSS  0.499805  0.000000  0.000000  0.000000  0.317449\n",
      "TJOJYEU  0.519353  0.000000  0.468790  0.000000  0.000000\n",
      "NA       0.496083  0.671948  0.000000  0.000000  0.476718\n",
      "ZQQYKOO  0.529691  0.565216  0.753110  0.513319  0.000000\n",
      "LLHLQYY  0.000000  0.565878  0.740513  0.566161  0.660300\n",
      "\n",
      " spreadsheet_NA_rows_.P.t_test.tsv \n",
      "          LIWLX  WNPQW  OZDEA  PTQJC  GYJTZ\n",
      "SWLXSSS    1.0    0.0    1.0    1.0    0.0\n",
      "TJOJYEU    0.0    0.0    0.0    0.0    0.0\n",
      "NA         0.0    0.0    1.0    0.0    0.0\n",
      "ZQQYKOO    0.0    1.0    1.0    1.0    1.0\n",
      "LLHLQYY    0.0    0.0    1.0    1.0    1.0\n"
     ]
    }
   ],
   "source": [
    "BASE_NAME = 'spreadsheet_NA_rows_'\n",
    "NA_rows_spreadsheet_name = os.path.join(out_data_dir, BASE_NAME + '.G.tsv')\n",
    "\n",
    "spreadsheet_df = pd.DataFrame(spreadsheet_data, index=na_row_names, columns=rand_names)\n",
    "spreadsheet_df.to_csv(NA_rows_spreadsheet_name, sep='\\t', index=True, header=True)\n",
    "print(BASE_NAME + '.G.tsv', '\\n', spreadsheet_df)\n",
    "\n",
    "drug_names_dict = {spreadsheet_df.index.values[k]: drug_names[k] for k in range(len(drug_names))}\n",
    "\n",
    "spreadsheet_df.rename(index=drug_names_dict, inplace=True)\n",
    "row_names_here = list(spreadsheet_df.index.values)\n",
    "row_na_dict = {row_names_here[2]: 'NA'}\n",
    "spreadsheet_df.rename(index=row_na_dict, inplace=True)\n",
    "spreadsheet_df[:][:] = pheno_pearson_data\n",
    "\n",
    "spreadsheet_df.to_csv(os.path.join(pheno_pearson_data_dir, BASE_NAME + '.P.pearson.tsv'), sep='\\t', \n",
    "                      index=True, header=True)\n",
    "print('\\n', BASE_NAME + '.P.pearson.tsv', '\\n', spreadsheet_df)\n",
    "spreadsheet_df[:][:] = pheno_t_test_data\n",
    "\n",
    "spreadsheet_df.to_csv(os.path.join(pheno_t_test_data_dir, BASE_NAME + '.P.t_test.tsv'), sep='\\t', \n",
    "                      index=True, header=True)\n",
    "print('\\n', BASE_NAME + '.P.t_test.tsv', '\\n', spreadsheet_df)"
   ]
  },
  {
   "cell_type": "code",
   "execution_count": 28,
   "metadata": {
    "collapsed": false
   },
   "outputs": [
    {
     "name": "stdout",
     "output_type": "stream",
     "text": [
      "spreadsheet_NA_rows_and_cols_.G.tsv \n",
      "                  LIWLX  WNPQW   NA  PTQJC  GYJTZ\n",
      "ENSG00000000005    1.0    0.0  1.0    0.0    1.0\n",
      "ENSG00000000419    0.0    1.0  0.0    1.0    1.0\n",
      "NA                 0.0    0.0  0.0    0.0    1.0\n",
      "ENSG00000000460    1.0    0.0  0.0    1.0    1.0\n",
      "ENSG00000000938    1.0    1.0  0.0    0.0    0.0\n",
      "\n",
      " spreadsheet_NA_rows_and_cols_.P.pearson.tsv \n",
      "             LIWLX     WNPQW        NA     PTQJC     GYJTZ\n",
      "SWLXSSS  0.499805  0.000000  0.000000  0.000000  0.317449\n",
      "TJOJYEU  0.519353  0.000000  0.468790  0.000000  0.000000\n",
      "NA       0.496083  0.671948  0.000000  0.000000  0.476718\n",
      "ZQQYKOO  0.529691  0.565216  0.753110  0.513319  0.000000\n",
      "LLHLQYY  0.000000  0.565878  0.740513  0.566161  0.660300\n",
      "\n",
      " spreadsheet_NA_rows_and_cols_.P.t_test.tsv \n",
      "          LIWLX  WNPQW   NA  PTQJC  GYJTZ\n",
      "SWLXSSS    1.0    0.0  1.0    1.0    0.0\n",
      "TJOJYEU    0.0    0.0  0.0    0.0    0.0\n",
      "NA         0.0    0.0  1.0    0.0    0.0\n",
      "ZQQYKOO    0.0    1.0  1.0    1.0    1.0\n",
      "LLHLQYY    0.0    0.0  1.0    1.0    1.0\n"
     ]
    }
   ],
   "source": [
    "BASE_NAME = 'spreadsheet_NA_rows_and_cols_'\n",
    "NA_row_and_col_spreadsheet_name = os.path.join(out_data_dir, BASE_NAME + '.G.tsv')\n",
    "\n",
    "spreadsheet_df = pd.DataFrame(spreadsheet_data, index=na_row_names, columns=na_col_names)\n",
    "spreadsheet_df.to_csv(NA_row_and_col_spreadsheet_name, sep='\\t', index=True, header=True)\n",
    "print(BASE_NAME + '.G.tsv', '\\n', spreadsheet_df)\n",
    "\n",
    "drug_names_dict = {spreadsheet_df.index.values[k]: drug_names[k] for k in range(len(drug_names))}\n",
    "\n",
    "spreadsheet_df.rename(index=drug_names_dict, inplace=True)\n",
    "row_names_here = list(spreadsheet_df.index.values)\n",
    "row_na_dict = {row_names_here[2]: 'NA'}\n",
    "spreadsheet_df.rename(index=row_na_dict, inplace=True)\n",
    "spreadsheet_df[:][:] = pheno_pearson_data\n",
    "\n",
    "spreadsheet_df.to_csv(os.path.join(pheno_pearson_data_dir, BASE_NAME + '.P.pearson.tsv'), sep='\\t', \n",
    "                      index=True, header=True)\n",
    "print('\\n', BASE_NAME + '.P.pearson.tsv', '\\n', spreadsheet_df)\n",
    "spreadsheet_df[:][:] = pheno_t_test_data\n",
    "\n",
    "spreadsheet_df.to_csv(os.path.join(pheno_t_test_data_dir, BASE_NAME + '.P.t_test.tsv'), sep='\\t', \n",
    "                      index=True, header=True)\n",
    "print('\\n', BASE_NAME + '.P.t_test.tsv', '\\n', spreadsheet_df)"
   ]
  },
  {
   "cell_type": "code",
   "execution_count": 29,
   "metadata": {
    "collapsed": false
   },
   "outputs": [
    {
     "name": "stdout",
     "output_type": "stream",
     "text": [
      "spreadsheet_NAN_data_.G.tsv \n",
      "                  LIWLX  WNPQW  OZDEA  PTQJC  GYJTZ\n",
      "ENSG00000000005    NaN    0.0    1.0    0.0    1.0\n",
      "ENSG00000000419    0.0    1.0    0.0    1.0    1.0\n",
      "ENSG00000000457    0.0    0.0    0.0    0.0    1.0\n",
      "ENSG00000000460    1.0    0.0    0.0    1.0    1.0\n",
      "ENSG00000000938    1.0    1.0    0.0    0.0    0.0\n",
      "\n",
      " spreadsheet_NAN_data_.P.pearson.tsv \n",
      "             LIWLX     WNPQW     OZDEA     PTQJC     GYJTZ\n",
      "SWLXSSS       NaN  0.000000  0.000000  0.000000  0.317449\n",
      "TJOJYEU  0.519353  0.000000  0.468790  0.000000  0.000000\n",
      "XBMQOMR  0.496083  0.671948  0.000000  0.000000  0.476718\n",
      "ZQQYKOO  0.529691  0.565216  0.753110  0.513319  0.000000\n",
      "LLHLQYY  0.000000  0.565878  0.740513  0.566161  0.660300\n",
      "\n",
      " spreadsheet_NAN_data_.P.t_test.tsv \n",
      "          LIWLX  WNPQW  OZDEA  PTQJC  GYJTZ\n",
      "SWLXSSS    NaN    0.0    1.0    1.0    0.0\n",
      "TJOJYEU    0.0    0.0    0.0    0.0    0.0\n",
      "XBMQOMR    0.0    0.0    1.0    0.0    0.0\n",
      "ZQQYKOO    0.0    1.0    1.0    1.0    1.0\n",
      "LLHLQYY    0.0    0.0    1.0    1.0    1.0\n"
     ]
    }
   ],
   "source": [
    "BASE_NAME = 'spreadsheet_NAN_data_'\n",
    "NAN_spreadsheet_name = os.path.join(out_data_dir, BASE_NAME + '.G.tsv')\n",
    "\n",
    "spreadsheet_df = pd.DataFrame(some_nan_data, index=gene_names, columns=rand_names)\n",
    "spreadsheet_df.to_csv(NAN_spreadsheet_name, sep='\\t', index=True, header=True)\n",
    "print(BASE_NAME + '.G.tsv', '\\n', spreadsheet_df)\n",
    "\n",
    "drug_names_dict = {spreadsheet_df.index.values[k]: drug_names[k] for k in range(len(drug_names))}\n",
    "pheno_NAN_data = pheno_pearson_data.copy()\n",
    "pheno_NAN_data[0,0] = np.nan\n",
    "spreadsheet_df.rename(index=drug_names_dict, inplace=True)\n",
    "spreadsheet_df[:][:] = pheno_NAN_data\n",
    "\n",
    "spreadsheet_df.to_csv(os.path.join(pheno_pearson_data_dir, BASE_NAME + '.P.pearson.tsv'), sep='\\t', \n",
    "                      index=True, header=True)\n",
    "print('\\n', BASE_NAME + '.P.pearson.tsv', '\\n', spreadsheet_df)\n",
    "\n",
    "pheno_NAN_data = pheno_t_test_data.copy()\n",
    "pheno_NAN_data[0,0] = np.nan\n",
    "spreadsheet_df[:][:] = pheno_NAN_data\n",
    "\n",
    "spreadsheet_df.to_csv(os.path.join(pheno_t_test_data_dir, BASE_NAME + '.P.t_test.tsv'), sep='\\t', \n",
    "                      index=True, header=True)\n",
    "print('\\n', BASE_NAME + '.P.t_test.tsv', '\\n', spreadsheet_df)\n"
   ]
  },
  {
   "cell_type": "code",
   "execution_count": 30,
   "metadata": {
    "collapsed": false
   },
   "outputs": [
    {
     "name": "stdout",
     "output_type": "stream",
     "text": [
      "spreadsheet_Negative_data_.G.tsv \n",
      "                  LIWLX  WNPQW  OZDEA  PTQJC  GYJTZ\n",
      "ENSG00000000005   -1.0    0.0    1.0    0.0    1.0\n",
      "ENSG00000000419    0.0    1.0    0.0    1.0    1.0\n",
      "ENSG00000000457    0.0    0.0    0.0    0.0    1.0\n",
      "ENSG00000000460    1.0    0.0    0.0    1.0    1.0\n",
      "ENSG00000000938    1.0    1.0    0.0    0.0    0.0\n",
      "\n",
      " spreadsheet_Negative_data_.P.pearson.tsv \n",
      "             LIWLX     WNPQW     OZDEA     PTQJC     GYJTZ\n",
      "SWLXSSS -1.000000  0.000000  0.000000  0.000000  0.317449\n",
      "TJOJYEU  0.519353  0.000000  0.468790  0.000000  0.000000\n",
      "XBMQOMR  0.496083  0.671948  0.000000  0.000000  0.476718\n",
      "ZQQYKOO  0.529691  0.565216  0.753110  0.513319  0.000000\n",
      "LLHLQYY  0.000000  0.565878  0.740513  0.566161  0.660300\n",
      "\n",
      " spreadsheet_Negative_data_.P.t_test.tsv \n",
      "          LIWLX  WNPQW  OZDEA  PTQJC  GYJTZ\n",
      "SWLXSSS   -1.0    0.0    1.0    1.0    0.0\n",
      "TJOJYEU    0.0    0.0    0.0    0.0    0.0\n",
      "XBMQOMR    0.0    0.0    1.0    0.0    0.0\n",
      "ZQQYKOO    0.0    1.0    1.0    1.0    1.0\n",
      "LLHLQYY    0.0    0.0    1.0    1.0    1.0\n",
      "\n",
      " spreadsheet_Negative_data_.P.2.t_test.tsv \n",
      "          LIWLX  WNPQW  OZDEA  PTQJC  GYJTZ\n",
      "SWLXSSS    2.0    0.0    1.0    1.0    0.0\n",
      "TJOJYEU    0.0    0.0    0.0    0.0    0.0\n",
      "XBMQOMR    0.0    0.0    1.0    0.0    0.0\n",
      "ZQQYKOO    0.0    1.0    1.0    1.0    1.0\n",
      "LLHLQYY    0.0    0.0    1.0    1.0    1.0\n"
     ]
    }
   ],
   "source": [
    "BASE_NAME = 'spreadsheet_Negative_data_'\n",
    "NEG_spreadsheet_name = os.path.join(out_data_dir, BASE_NAME + '.G.tsv')\n",
    "\n",
    "spreadsheet_df = pd.DataFrame(some_neg_data, index=gene_names, columns=rand_names)\n",
    "spreadsheet_df.to_csv(NEG_spreadsheet_name, sep='\\t', index=True, header=True)\n",
    "\n",
    "print(BASE_NAME + '.G.tsv', '\\n', spreadsheet_df)\n",
    "\n",
    "drug_names_dict = {spreadsheet_df.index.values[k]: drug_names[k] for k in range(len(drug_names))}\n",
    "\n",
    "pheno_neg = pheno_pearson_data.copy()\n",
    "pheno_neg[0,0] = -1\n",
    "spreadsheet_df.rename(index=drug_names_dict, inplace=True)\n",
    "spreadsheet_df[:][:] = pheno_neg\n",
    "\n",
    "spreadsheet_df.to_csv(os.path.join(pheno_pearson_data_dir, BASE_NAME + '.P.pearson.tsv'), sep='\\t', \n",
    "                      index=True, header=True)\n",
    "print('\\n', BASE_NAME + '.P.pearson.tsv', '\\n', spreadsheet_df)\n",
    "\n",
    "pheno_neg = pheno_t_test_data.copy()\n",
    "pheno_neg[0,0] = -1\n",
    "spreadsheet_df[:][:] = pheno_neg\n",
    "\n",
    "spreadsheet_df.to_csv(os.path.join(pheno_t_test_data_dir, BASE_NAME + '.P.t_test.tsv'), sep='\\t', \n",
    "                      index=True, header=True)\n",
    "print('\\n', BASE_NAME + '.P.t_test.tsv', '\\n', spreadsheet_df)\n",
    "\n",
    "pheno_obtuse = pheno_t_test_data.copy()\n",
    "pheno_obtuse[0,0] = 2\n",
    "spreadsheet_df[:][:] = pheno_obtuse\n",
    "\n",
    "spreadsheet_df.to_csv(os.path.join(pheno_t_test_data_dir, BASE_NAME + '.P.2.t_test.tsv'), sep='\\t', \n",
    "                      index=True, header=True)\n",
    "print('\\n', BASE_NAME + '.P.2.t_test.tsv', '\\n', spreadsheet_df)"
   ]
  },
  {
   "cell_type": "code",
   "execution_count": 31,
   "metadata": {
    "collapsed": false
   },
   "outputs": [
    {
     "name": "stdout",
     "output_type": "stream",
     "text": [
      "spreadsheet_ALPHA_data_.G.tsv \n",
      "                 LIWLX  WNPQW  OZDEA  PTQJC  GYJTZ\n",
      "ENSG00000000005   abc    0.0    1.0    0.0    1.0\n",
      "ENSG00000000419     0    1.0    0.0    1.0    1.0\n",
      "ENSG00000000457     0    0.0    0.0    0.0    1.0\n",
      "ENSG00000000460     1    0.0    0.0    1.0    1.0\n",
      "ENSG00000000938     1    1.0    0.0    0.0    0.0\n",
      "\n",
      " spreadsheet_ALPHA_data_.P.pearson.tsv \n",
      "         LIWLX     WNPQW     OZDEA     PTQJC     GYJTZ\n",
      "SWLXSSS   abc  0.000000  0.000000  0.000000  0.317449\n",
      "TJOJYEU     0  0.000000  0.468790  0.000000  0.000000\n",
      "XBMQOMR     0  0.671948  0.000000  0.000000  0.476718\n",
      "ZQQYKOO     1  0.565216  0.753110  0.513319  0.000000\n",
      "LLHLQYY     1  0.565878  0.740513  0.566161  0.660300\n",
      "\n",
      " spreadsheet_ALPHA_data_.P.t_test.tsv \n",
      "         LIWLX  WNPQW  OZDEA  PTQJC  GYJTZ\n",
      "SWLXSSS   abc    0.0    1.0    1.0    0.0\n",
      "TJOJYEU     0    0.0    0.0    0.0    0.0\n",
      "XBMQOMR     0    0.0    1.0    0.0    0.0\n",
      "ZQQYKOO     1    1.0    1.0    1.0    1.0\n",
      "LLHLQYY     1    0.0    1.0    1.0    1.0\n"
     ]
    }
   ],
   "source": [
    "BASE_NAME = 'spreadsheet_ALPHA_data_'\n",
    "alpha_spreadsheet_name = os.path.join(out_data_dir, BASE_NAME + '.G.tsv')\n",
    "\n",
    "spreadsheet_df = pd.DataFrame(spreadsheet_data, index=gene_names, columns=rand_names)\n",
    "spreadsheet_df.loc[gene_names[0], rand_names[0]] = 'abc'\n",
    "\n",
    "spreadsheet_df.to_csv(alpha_spreadsheet_name, sep='\\t', index=True, header=True)\n",
    "print(BASE_NAME + '.G.tsv', '\\n', spreadsheet_df)\n",
    "\n",
    "drug_names_dict = {spreadsheet_df.index.values[k]: drug_names[k] for k in range(len(drug_names))}\n",
    "\n",
    "spreadsheet_df.rename(index=drug_names_dict, inplace=True)\n",
    "spreadsheet_df[:][:] = pheno_pearson_data\n",
    "spreadsheet_df.loc[drug_names[0],rand_names[0]] = 'abc'\n",
    "\n",
    "spreadsheet_df.to_csv(os.path.join(pheno_pearson_data_dir, BASE_NAME + '.P.pearson.tsv'), sep='\\t', \n",
    "                      index=True, header=True)\n",
    "print('\\n', BASE_NAME + '.P.pearson.tsv', '\\n', spreadsheet_df)\n",
    "spreadsheet_df[:][:] = pheno_t_test_data\n",
    "spreadsheet_df.loc[drug_names[0],rand_names[0]] = 'abc'\n",
    "\n",
    "spreadsheet_df.to_csv(os.path.join(pheno_t_test_data_dir, BASE_NAME + '.P.t_test.tsv'), sep='\\t', \n",
    "                      index=True, header=True)\n",
    "print('\\n', BASE_NAME + '.P.t_test.tsv', '\\n', spreadsheet_df)"
   ]
  },
  {
   "cell_type": "code",
   "execution_count": null,
   "metadata": {
    "collapsed": true
   },
   "outputs": [],
   "source": []
  },
  {
   "cell_type": "code",
   "execution_count": null,
   "metadata": {
    "collapsed": true
   },
   "outputs": [],
   "source": []
  },
  {
   "cell_type": "code",
   "execution_count": null,
   "metadata": {
    "collapsed": true
   },
   "outputs": [],
   "source": []
  },
  {
   "cell_type": "code",
   "execution_count": null,
   "metadata": {
    "collapsed": true
   },
   "outputs": [],
   "source": []
  }
 ],
 "metadata": {
  "anaconda-cloud": {},
  "kernelspec": {
   "display_name": "Python [default]",
   "language": "python",
   "name": "python3"
  },
  "language_info": {
   "codemirror_mode": {
    "name": "ipython",
    "version": 3
   },
   "file_extension": ".py",
   "mimetype": "text/x-python",
   "name": "python",
   "nbconvert_exporter": "python",
   "pygments_lexer": "ipython3",
   "version": "3.5.2"
  }
 },
 "nbformat": 4,
 "nbformat_minor": 1
}
