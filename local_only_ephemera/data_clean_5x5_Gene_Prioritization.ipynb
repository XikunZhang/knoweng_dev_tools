{
 "cells": [
  {
   "cell_type": "markdown",
   "metadata": {},
   "source": [
    "# data_cleanup_toolbox test\n",
    "##  Gene Prioritization Spreadsheets with Phenotypes"
   ]
  },
  {
   "cell_type": "code",
   "execution_count": 1,
   "metadata": {
    "collapsed": false
   },
   "outputs": [],
   "source": [
    "import os\n",
    "import sys\n",
    "import itertools\n",
    "import time\n",
    "import numpy as np\n",
    "import pandas as pd\n",
    "\n",
    "import knpackage.toolbox as kn\n",
    "\n",
    "sys.path.insert(1, '../src')\n",
    "import data_synth\n",
    "import data_wrangler as dw\n",
    "\n",
    "sys.path.insert(1, '../../Data_Cleanup_Pipeline/src/')\n",
    "import data_cleanup_toolbox as dc"
   ]
  },
  {
   "cell_type": "code",
   "execution_count": 2,
   "metadata": {
    "collapsed": false
   },
   "outputs": [
    {
     "data": {
      "text/html": [
       "<div>\n",
       "<table border=\"1\" class=\"dataframe\">\n",
       "  <thead>\n",
       "    <tr style=\"text-align: right;\">\n",
       "      <th></th>\n",
       "      <th>HUNDR</th>\n",
       "      <th>IAGIC</th>\n",
       "      <th>ZDAIV</th>\n",
       "      <th>DCIQI</th>\n",
       "      <th>FRTWY</th>\n",
       "    </tr>\n",
       "  </thead>\n",
       "  <tbody>\n",
       "    <tr>\n",
       "      <th>ENSG00000000003</th>\n",
       "      <td>1.0</td>\n",
       "      <td>0.0</td>\n",
       "      <td>1.0</td>\n",
       "      <td>1.0</td>\n",
       "      <td>1.0</td>\n",
       "    </tr>\n",
       "    <tr>\n",
       "      <th>ENSG00000000005</th>\n",
       "      <td>0.0</td>\n",
       "      <td>1.0</td>\n",
       "      <td>1.0</td>\n",
       "      <td>1.0</td>\n",
       "      <td>1.0</td>\n",
       "    </tr>\n",
       "    <tr>\n",
       "      <th>ENSG00000000419</th>\n",
       "      <td>1.0</td>\n",
       "      <td>1.0</td>\n",
       "      <td>1.0</td>\n",
       "      <td>0.0</td>\n",
       "      <td>0.0</td>\n",
       "    </tr>\n",
       "    <tr>\n",
       "      <th>ENSG00000000457</th>\n",
       "      <td>1.0</td>\n",
       "      <td>1.0</td>\n",
       "      <td>0.0</td>\n",
       "      <td>0.0</td>\n",
       "      <td>0.0</td>\n",
       "    </tr>\n",
       "    <tr>\n",
       "      <th>ENSG00000000460</th>\n",
       "      <td>1.0</td>\n",
       "      <td>0.0</td>\n",
       "      <td>0.0</td>\n",
       "      <td>1.0</td>\n",
       "      <td>1.0</td>\n",
       "    </tr>\n",
       "  </tbody>\n",
       "</table>\n",
       "</div>"
      ],
      "text/plain": [
       "                 HUNDR  IAGIC  ZDAIV  DCIQI  FRTWY\n",
       "ENSG00000000003    1.0    0.0    1.0    1.0    1.0\n",
       "ENSG00000000005    0.0    1.0    1.0    1.0    1.0\n",
       "ENSG00000000419    1.0    1.0    1.0    0.0    0.0\n",
       "ENSG00000000457    1.0    1.0    0.0    0.0    0.0\n",
       "ENSG00000000460    1.0    0.0    0.0    1.0    1.0"
      ]
     },
     "execution_count": 2,
     "metadata": {},
     "output_type": "execute_result"
    }
   ],
   "source": [
    "# set source and destination directories\n",
    "spreadsheet_out_dir = './spreadsheets'\n",
    "phenotype_pearson_out_dir = './phenotypes_pearson'\n",
    "phenotype_t_test_out_dir = './phenotypes_t_test'\n",
    "\n",
    "file_list = os.listdir(spreadsheet_out_dir)\n",
    "spreadsheet_file_list = []\n",
    "for f in file_list:\n",
    "    if (f[0] != '.') and (f[-4:] == '.tsv'):\n",
    "        spreadsheet_file_list.append(f)\n",
    "#spreadsheet_file_list\n",
    "\n",
    "spreadsheet_df = kn.get_spreadsheet_df(os.path.join(spreadsheet_out_dir, 'spreadsheet_A_df.tsv'))\n",
    "spreadsheet_df"
   ]
  },
  {
   "cell_type": "code",
   "execution_count": 3,
   "metadata": {
    "collapsed": false
   },
   "outputs": [
    {
     "data": {
      "text/plain": [
       "array([[ 0.51317322,  0.        ,  0.53575632,  0.59583807,  0.        ],\n",
       "       [ 0.        ,  0.6149494 ,  0.        ,  0.49586241,  0.        ],\n",
       "       [ 0.        ,  0.        ,  0.        ,  0.619632  ,  0.        ],\n",
       "       [ 0.        ,  0.        ,  0.62066601,  0.        ,  0.        ],\n",
       "       [ 0.47882796,  0.        ,  0.42050266,  0.        ,  0.63806858]])"
      ]
     },
     "execution_count": 3,
     "metadata": {},
     "output_type": "execute_result"
    }
   ],
   "source": [
    "phenotype_pearson_data = np.random.random(spreadsheet_df.shape)\n",
    "phenotype_pearson_data[phenotype_pearson_data < 0.4] = 0.0\n",
    "phenotype_pearson_data[phenotype_pearson_data > 0.7] = 0.0\n",
    "phenotype_pearson_data"
   ]
  },
  {
   "cell_type": "code",
   "execution_count": 4,
   "metadata": {
    "collapsed": false
   },
   "outputs": [
    {
     "data": {
      "text/plain": [
       "array([[ 0.,  1.,  1.,  0.,  0.],\n",
       "       [ 0.,  0.,  0.,  0.,  0.],\n",
       "       [ 0.,  0.,  0.,  1.,  1.],\n",
       "       [ 0.,  0.,  0.,  0.,  1.],\n",
       "       [ 0.,  0.,  1.,  0.,  1.]])"
      ]
     },
     "execution_count": 4,
     "metadata": {},
     "output_type": "execute_result"
    }
   ],
   "source": [
    "phenotype_t_test_data = np.random.random(spreadsheet_df.shape)\n",
    "phenotype_t_test_data[phenotype_t_test_data < 0.65] = 0.0\n",
    "phenotype_t_test_data[phenotype_t_test_data !=  0.0] = 1.0\n",
    "phenotype_t_test_data"
   ]
  },
  {
   "cell_type": "code",
   "execution_count": 11,
   "metadata": {
    "collapsed": false
   },
   "outputs": [
    {
     "data": {
      "text/html": [
       "<div>\n",
       "<table border=\"1\" class=\"dataframe\">\n",
       "  <thead>\n",
       "    <tr style=\"text-align: right;\">\n",
       "      <th></th>\n",
       "      <th>HUNDR</th>\n",
       "      <th>IAGIC</th>\n",
       "      <th>ZDAIV</th>\n",
       "      <th>DCIQI</th>\n",
       "      <th>FRTWY</th>\n",
       "    </tr>\n",
       "  </thead>\n",
       "  <tbody>\n",
       "    <tr>\n",
       "      <th>OACEIM</th>\n",
       "      <td>0.0</td>\n",
       "      <td>0.0</td>\n",
       "      <td>0.0</td>\n",
       "      <td>0.0</td>\n",
       "      <td>0.0</td>\n",
       "    </tr>\n",
       "    <tr>\n",
       "      <th>XWKGVZ</th>\n",
       "      <td>0.0</td>\n",
       "      <td>0.0</td>\n",
       "      <td>0.0</td>\n",
       "      <td>0.0</td>\n",
       "      <td>0.0</td>\n",
       "    </tr>\n",
       "    <tr>\n",
       "      <th>YAPXMA</th>\n",
       "      <td>0.0</td>\n",
       "      <td>0.0</td>\n",
       "      <td>0.0</td>\n",
       "      <td>0.0</td>\n",
       "      <td>0.0</td>\n",
       "    </tr>\n",
       "    <tr>\n",
       "      <th>IABXWF</th>\n",
       "      <td>0.0</td>\n",
       "      <td>0.0</td>\n",
       "      <td>0.0</td>\n",
       "      <td>0.0</td>\n",
       "      <td>0.0</td>\n",
       "    </tr>\n",
       "    <tr>\n",
       "      <th>WPGYMN</th>\n",
       "      <td>0.0</td>\n",
       "      <td>0.0</td>\n",
       "      <td>0.0</td>\n",
       "      <td>0.0</td>\n",
       "      <td>0.0</td>\n",
       "    </tr>\n",
       "  </tbody>\n",
       "</table>\n",
       "</div>"
      ],
      "text/plain": [
       "        HUNDR  IAGIC  ZDAIV  DCIQI  FRTWY\n",
       "OACEIM    0.0    0.0    0.0    0.0    0.0\n",
       "XWKGVZ    0.0    0.0    0.0    0.0    0.0\n",
       "YAPXMA    0.0    0.0    0.0    0.0    0.0\n",
       "IABXWF    0.0    0.0    0.0    0.0    0.0\n",
       "WPGYMN    0.0    0.0    0.0    0.0    0.0"
      ]
     },
     "execution_count": 11,
     "metadata": {},
     "output_type": "execute_result"
    }
   ],
   "source": [
    "phenotype_TMP_df = spreadsheet_df.copy()\n",
    "col_names = list(phenotype_TMP_df.columns.values)\n",
    "drug_names = data_synth.get_rand_unique_name_list(phenotype_TMP_df.shape[0], name_length=6)\n",
    "name_sub_dict = {phenotype_TMP_df.index.values[k]: drug_names[k] for k in range(0, len(drug_names))}\n",
    "phenotype_TMP_df.rename(index=name_sub_dict, inplace=True)\n",
    "\n",
    "phenotype_TMP_df[:][:] = 0.0\n",
    "phenotype_TMP_df"
   ]
  },
  {
   "cell_type": "code",
   "execution_count": 17,
   "metadata": {
    "collapsed": false
   },
   "outputs": [
    {
     "data": {
      "text/html": [
       "<div>\n",
       "<table border=\"1\" class=\"dataframe\">\n",
       "  <thead>\n",
       "    <tr style=\"text-align: right;\">\n",
       "      <th></th>\n",
       "      <th>HUNDR</th>\n",
       "      <th>IAGIC</th>\n",
       "      <th>ZDAIV</th>\n",
       "      <th>DCIQI</th>\n",
       "      <th>FRTWY</th>\n",
       "    </tr>\n",
       "  </thead>\n",
       "  <tbody>\n",
       "    <tr>\n",
       "      <th>OACEIM</th>\n",
       "      <td>0.513173</td>\n",
       "      <td>0.000000</td>\n",
       "      <td>0.535756</td>\n",
       "      <td>0.595838</td>\n",
       "      <td>0.000000</td>\n",
       "    </tr>\n",
       "    <tr>\n",
       "      <th>XWKGVZ</th>\n",
       "      <td>0.000000</td>\n",
       "      <td>0.614949</td>\n",
       "      <td>0.000000</td>\n",
       "      <td>0.495862</td>\n",
       "      <td>0.000000</td>\n",
       "    </tr>\n",
       "    <tr>\n",
       "      <th>YAPXMA</th>\n",
       "      <td>0.000000</td>\n",
       "      <td>0.000000</td>\n",
       "      <td>0.000000</td>\n",
       "      <td>0.619632</td>\n",
       "      <td>0.000000</td>\n",
       "    </tr>\n",
       "    <tr>\n",
       "      <th>IABXWF</th>\n",
       "      <td>0.000000</td>\n",
       "      <td>0.000000</td>\n",
       "      <td>0.620666</td>\n",
       "      <td>0.000000</td>\n",
       "      <td>0.000000</td>\n",
       "    </tr>\n",
       "    <tr>\n",
       "      <th>WPGYMN</th>\n",
       "      <td>0.478828</td>\n",
       "      <td>0.000000</td>\n",
       "      <td>0.420503</td>\n",
       "      <td>0.000000</td>\n",
       "      <td>0.638069</td>\n",
       "    </tr>\n",
       "  </tbody>\n",
       "</table>\n",
       "</div>"
      ],
      "text/plain": [
       "           HUNDR     IAGIC     ZDAIV     DCIQI     FRTWY\n",
       "OACEIM  0.513173  0.000000  0.535756  0.595838  0.000000\n",
       "XWKGVZ  0.000000  0.614949  0.000000  0.495862  0.000000\n",
       "YAPXMA  0.000000  0.000000  0.000000  0.619632  0.000000\n",
       "IABXWF  0.000000  0.000000  0.620666  0.000000  0.000000\n",
       "WPGYMN  0.478828  0.000000  0.420503  0.000000  0.638069"
      ]
     },
     "execution_count": 17,
     "metadata": {},
     "output_type": "execute_result"
    }
   ],
   "source": [
    "# phenotype_pearson_out_dir = './phenotypes_pearson'\n",
    "phenotype_pearson_df = phenotype_TMP_df.copy()\n",
    "phenotype_pearson_df[:][:] = phenotype_pearson_data\n",
    "phenotype_pearson_df.to_csv(\n",
    "            os.path.join(phenotype_pearson_out_dir, 'phenotype_pearson_A_df.tsv'), sep='\\t', index=True, header=True)\n",
    "phenotype_pearson_df"
   ]
  },
  {
   "cell_type": "code",
   "execution_count": 18,
   "metadata": {
    "collapsed": false
   },
   "outputs": [
    {
     "data": {
      "text/html": [
       "<div>\n",
       "<table border=\"1\" class=\"dataframe\">\n",
       "  <thead>\n",
       "    <tr style=\"text-align: right;\">\n",
       "      <th></th>\n",
       "      <th>HUNDR</th>\n",
       "      <th>ZDAIV</th>\n",
       "      <th>ZDAIV</th>\n",
       "      <th>DCIQI</th>\n",
       "      <th>FRTWY</th>\n",
       "    </tr>\n",
       "  </thead>\n",
       "  <tbody>\n",
       "    <tr>\n",
       "      <th>OACEIM</th>\n",
       "      <td>0.513173</td>\n",
       "      <td>0.000000</td>\n",
       "      <td>0.535756</td>\n",
       "      <td>0.595838</td>\n",
       "      <td>0.000000</td>\n",
       "    </tr>\n",
       "    <tr>\n",
       "      <th>XWKGVZ</th>\n",
       "      <td>0.000000</td>\n",
       "      <td>0.614949</td>\n",
       "      <td>0.000000</td>\n",
       "      <td>0.495862</td>\n",
       "      <td>0.000000</td>\n",
       "    </tr>\n",
       "    <tr>\n",
       "      <th>YAPXMA</th>\n",
       "      <td>0.000000</td>\n",
       "      <td>0.000000</td>\n",
       "      <td>0.000000</td>\n",
       "      <td>0.619632</td>\n",
       "      <td>0.000000</td>\n",
       "    </tr>\n",
       "    <tr>\n",
       "      <th>IABXWF</th>\n",
       "      <td>0.000000</td>\n",
       "      <td>0.000000</td>\n",
       "      <td>0.620666</td>\n",
       "      <td>0.000000</td>\n",
       "      <td>0.000000</td>\n",
       "    </tr>\n",
       "    <tr>\n",
       "      <th>WPGYMN</th>\n",
       "      <td>0.478828</td>\n",
       "      <td>0.000000</td>\n",
       "      <td>0.420503</td>\n",
       "      <td>0.000000</td>\n",
       "      <td>0.638069</td>\n",
       "    </tr>\n",
       "  </tbody>\n",
       "</table>\n",
       "</div>"
      ],
      "text/plain": [
       "           HUNDR     ZDAIV     ZDAIV     DCIQI     FRTWY\n",
       "OACEIM  0.513173  0.000000  0.535756  0.595838  0.000000\n",
       "XWKGVZ  0.000000  0.614949  0.000000  0.495862  0.000000\n",
       "YAPXMA  0.000000  0.000000  0.000000  0.619632  0.000000\n",
       "IABXWF  0.000000  0.000000  0.620666  0.000000  0.000000\n",
       "WPGYMN  0.478828  0.000000  0.420503  0.000000  0.638069"
      ]
     },
     "execution_count": 18,
     "metadata": {},
     "output_type": "execute_result"
    }
   ],
   "source": [
    "dupe_cols_pearson_df = phenotype_pearson_df.copy()\n",
    "col_dict = {col_names[1]: col_names[2]}\n",
    "dupe_cols_pearson_df.rename(columns=col_dict, inplace=True)\n",
    "dupe_cols_pearson_df.to_csv(\n",
    "            os.path.join(phenotype_pearson_out_dir, 'phenotype_pearson_dup_cols_df.tsv'), \n",
    "            sep='\\t', index=True, header=True)\n",
    "\n",
    "dupe_cols_pearson_df"
   ]
  },
  {
   "cell_type": "code",
   "execution_count": 19,
   "metadata": {
    "collapsed": false
   },
   "outputs": [
    {
     "data": {
      "text/html": [
       "<div>\n",
       "<table border=\"1\" class=\"dataframe\">\n",
       "  <thead>\n",
       "    <tr style=\"text-align: right;\">\n",
       "      <th></th>\n",
       "      <th>HUNDR</th>\n",
       "      <th>IAGIC</th>\n",
       "      <th>ZDAIV</th>\n",
       "      <th>DCIQI</th>\n",
       "      <th>FRTWY</th>\n",
       "    </tr>\n",
       "  </thead>\n",
       "  <tbody>\n",
       "    <tr>\n",
       "      <th>OACEIM</th>\n",
       "      <td>0.513173</td>\n",
       "      <td>0.000000</td>\n",
       "      <td>0.535756</td>\n",
       "      <td>0.595838</td>\n",
       "      <td>0.000000</td>\n",
       "    </tr>\n",
       "    <tr>\n",
       "      <th>YAPXMA</th>\n",
       "      <td>0.000000</td>\n",
       "      <td>0.614949</td>\n",
       "      <td>0.000000</td>\n",
       "      <td>0.495862</td>\n",
       "      <td>0.000000</td>\n",
       "    </tr>\n",
       "    <tr>\n",
       "      <th>YAPXMA</th>\n",
       "      <td>0.000000</td>\n",
       "      <td>0.000000</td>\n",
       "      <td>0.000000</td>\n",
       "      <td>0.619632</td>\n",
       "      <td>0.000000</td>\n",
       "    </tr>\n",
       "    <tr>\n",
       "      <th>IABXWF</th>\n",
       "      <td>0.000000</td>\n",
       "      <td>0.000000</td>\n",
       "      <td>0.620666</td>\n",
       "      <td>0.000000</td>\n",
       "      <td>0.000000</td>\n",
       "    </tr>\n",
       "    <tr>\n",
       "      <th>WPGYMN</th>\n",
       "      <td>0.478828</td>\n",
       "      <td>0.000000</td>\n",
       "      <td>0.420503</td>\n",
       "      <td>0.000000</td>\n",
       "      <td>0.638069</td>\n",
       "    </tr>\n",
       "  </tbody>\n",
       "</table>\n",
       "</div>"
      ],
      "text/plain": [
       "           HUNDR     IAGIC     ZDAIV     DCIQI     FRTWY\n",
       "OACEIM  0.513173  0.000000  0.535756  0.595838  0.000000\n",
       "YAPXMA  0.000000  0.614949  0.000000  0.495862  0.000000\n",
       "YAPXMA  0.000000  0.000000  0.000000  0.619632  0.000000\n",
       "IABXWF  0.000000  0.000000  0.620666  0.000000  0.000000\n",
       "WPGYMN  0.478828  0.000000  0.420503  0.000000  0.638069"
      ]
     },
     "execution_count": 19,
     "metadata": {},
     "output_type": "execute_result"
    }
   ],
   "source": [
    "dupe_rows_pearson_df = phenotype_pearson_df.copy()\n",
    "row_dict = {drug_names[1]: drug_names[2]}\n",
    "dupe_rows_pearson_df.rename(index=row_dict, inplace=True)\n",
    "dupe_rows_pearson_df.to_csv(\n",
    "            os.path.join(phenotype_pearson_out_dir, 'phenotype_pearson_dup_rows_df.tsv'), \n",
    "            sep='\\t', index=True, header=True)\n",
    "\n",
    "dupe_rows_pearson_df"
   ]
  },
  {
   "cell_type": "code",
   "execution_count": 20,
   "metadata": {
    "collapsed": false
   },
   "outputs": [
    {
     "data": {
      "text/html": [
       "<div>\n",
       "<table border=\"1\" class=\"dataframe\">\n",
       "  <thead>\n",
       "    <tr style=\"text-align: right;\">\n",
       "      <th></th>\n",
       "      <th>HUNDR</th>\n",
       "      <th>ZDAIV</th>\n",
       "      <th>ZDAIV</th>\n",
       "      <th>DCIQI</th>\n",
       "      <th>FRTWY</th>\n",
       "    </tr>\n",
       "  </thead>\n",
       "  <tbody>\n",
       "    <tr>\n",
       "      <th>OACEIM</th>\n",
       "      <td>0.513173</td>\n",
       "      <td>0.000000</td>\n",
       "      <td>0.535756</td>\n",
       "      <td>0.595838</td>\n",
       "      <td>0.000000</td>\n",
       "    </tr>\n",
       "    <tr>\n",
       "      <th>YAPXMA</th>\n",
       "      <td>0.000000</td>\n",
       "      <td>0.614949</td>\n",
       "      <td>0.000000</td>\n",
       "      <td>0.495862</td>\n",
       "      <td>0.000000</td>\n",
       "    </tr>\n",
       "    <tr>\n",
       "      <th>YAPXMA</th>\n",
       "      <td>0.000000</td>\n",
       "      <td>0.000000</td>\n",
       "      <td>0.000000</td>\n",
       "      <td>0.619632</td>\n",
       "      <td>0.000000</td>\n",
       "    </tr>\n",
       "    <tr>\n",
       "      <th>IABXWF</th>\n",
       "      <td>0.000000</td>\n",
       "      <td>0.000000</td>\n",
       "      <td>0.620666</td>\n",
       "      <td>0.000000</td>\n",
       "      <td>0.000000</td>\n",
       "    </tr>\n",
       "    <tr>\n",
       "      <th>WPGYMN</th>\n",
       "      <td>0.478828</td>\n",
       "      <td>0.000000</td>\n",
       "      <td>0.420503</td>\n",
       "      <td>0.000000</td>\n",
       "      <td>0.638069</td>\n",
       "    </tr>\n",
       "  </tbody>\n",
       "</table>\n",
       "</div>"
      ],
      "text/plain": [
       "           HUNDR     ZDAIV     ZDAIV     DCIQI     FRTWY\n",
       "OACEIM  0.513173  0.000000  0.535756  0.595838  0.000000\n",
       "YAPXMA  0.000000  0.614949  0.000000  0.495862  0.000000\n",
       "YAPXMA  0.000000  0.000000  0.000000  0.619632  0.000000\n",
       "IABXWF  0.000000  0.000000  0.620666  0.000000  0.000000\n",
       "WPGYMN  0.478828  0.000000  0.420503  0.000000  0.638069"
      ]
     },
     "execution_count": 20,
     "metadata": {},
     "output_type": "execute_result"
    }
   ],
   "source": [
    "dupe_rows_and_cols_pearson_df = phenotype_pearson_df.copy()\n",
    "dupe_rows_and_cols_pearson_df.rename(columns=col_dict, inplace=True)\n",
    "dupe_rows_and_cols_pearson_df.rename(index=row_dict, inplace=True)\n",
    "dupe_rows_and_cols_pearson_df.to_csv(\n",
    "            os.path.join(phenotype_pearson_out_dir, 'phenotype_pearson_dup_rows_and_cols_df.tsv'), \n",
    "            sep='\\t', index=True, header=True)\n",
    "\n",
    "dupe_rows_and_cols_pearson_df"
   ]
  },
  {
   "cell_type": "code",
   "execution_count": 23,
   "metadata": {
    "collapsed": false
   },
   "outputs": [
    {
     "data": {
      "text/html": [
       "<div>\n",
       "<table border=\"1\" class=\"dataframe\">\n",
       "  <thead>\n",
       "    <tr style=\"text-align: right;\">\n",
       "      <th></th>\n",
       "      <th>HUNDR</th>\n",
       "      <th>IAGIC</th>\n",
       "      <th>ZDAIV</th>\n",
       "      <th>DCIQI</th>\n",
       "      <th>FRTWY</th>\n",
       "    </tr>\n",
       "  </thead>\n",
       "  <tbody>\n",
       "    <tr>\n",
       "      <th>OACEIM</th>\n",
       "      <td>-1.000000</td>\n",
       "      <td>0.000000</td>\n",
       "      <td>0.535756</td>\n",
       "      <td>0.595838</td>\n",
       "      <td>0.000000</td>\n",
       "    </tr>\n",
       "    <tr>\n",
       "      <th>XWKGVZ</th>\n",
       "      <td>0.000000</td>\n",
       "      <td>0.614949</td>\n",
       "      <td>0.000000</td>\n",
       "      <td>0.495862</td>\n",
       "      <td>0.000000</td>\n",
       "    </tr>\n",
       "    <tr>\n",
       "      <th>YAPXMA</th>\n",
       "      <td>0.000000</td>\n",
       "      <td>0.000000</td>\n",
       "      <td>0.000000</td>\n",
       "      <td>0.619632</td>\n",
       "      <td>0.000000</td>\n",
       "    </tr>\n",
       "    <tr>\n",
       "      <th>IABXWF</th>\n",
       "      <td>0.000000</td>\n",
       "      <td>0.000000</td>\n",
       "      <td>0.620666</td>\n",
       "      <td>0.000000</td>\n",
       "      <td>0.000000</td>\n",
       "    </tr>\n",
       "    <tr>\n",
       "      <th>WPGYMN</th>\n",
       "      <td>0.478828</td>\n",
       "      <td>0.000000</td>\n",
       "      <td>0.420503</td>\n",
       "      <td>0.000000</td>\n",
       "      <td>0.638069</td>\n",
       "    </tr>\n",
       "  </tbody>\n",
       "</table>\n",
       "</div>"
      ],
      "text/plain": [
       "           HUNDR     IAGIC     ZDAIV     DCIQI     FRTWY\n",
       "OACEIM -1.000000  0.000000  0.535756  0.595838  0.000000\n",
       "XWKGVZ  0.000000  0.614949  0.000000  0.495862  0.000000\n",
       "YAPXMA  0.000000  0.000000  0.000000  0.619632  0.000000\n",
       "IABXWF  0.000000  0.000000  0.620666  0.000000  0.000000\n",
       "WPGYMN  0.478828  0.000000  0.420503  0.000000  0.638069"
      ]
     },
     "execution_count": 23,
     "metadata": {},
     "output_type": "execute_result"
    }
   ],
   "source": [
    "negative_values_pearson_df = phenotype_pearson_df.copy()\n",
    "neg_data = phenotype_pearson_data.copy()\n",
    "neg_data[0,0] = -1\n",
    "negative_values_pearson_df[:][:] = neg_data\n",
    "\n",
    "negative_values_pearson_df.to_csv(\n",
    "            os.path.join(phenotype_pearson_out_dir, 'phenotype_pearson_negative_value_df.tsv'), \n",
    "            sep='\\t', index=True, header=True)\n",
    "\n",
    "negative_values_pearson_df"
   ]
  },
  {
   "cell_type": "code",
   "execution_count": 25,
   "metadata": {
    "collapsed": false
   },
   "outputs": [
    {
     "data": {
      "text/html": [
       "<div>\n",
       "<table border=\"1\" class=\"dataframe\">\n",
       "  <thead>\n",
       "    <tr style=\"text-align: right;\">\n",
       "      <th></th>\n",
       "      <th>HUNDR</th>\n",
       "      <th>IAGIC</th>\n",
       "      <th>ZDAIV</th>\n",
       "      <th>DCIQI</th>\n",
       "      <th>FRTWY</th>\n",
       "    </tr>\n",
       "  </thead>\n",
       "  <tbody>\n",
       "    <tr>\n",
       "      <th>OACEIM</th>\n",
       "      <td>NaN</td>\n",
       "      <td>0.000000</td>\n",
       "      <td>0.535756</td>\n",
       "      <td>0.595838</td>\n",
       "      <td>0.000000</td>\n",
       "    </tr>\n",
       "    <tr>\n",
       "      <th>XWKGVZ</th>\n",
       "      <td>0.000000</td>\n",
       "      <td>0.614949</td>\n",
       "      <td>0.000000</td>\n",
       "      <td>0.495862</td>\n",
       "      <td>0.000000</td>\n",
       "    </tr>\n",
       "    <tr>\n",
       "      <th>YAPXMA</th>\n",
       "      <td>0.000000</td>\n",
       "      <td>0.000000</td>\n",
       "      <td>0.000000</td>\n",
       "      <td>0.619632</td>\n",
       "      <td>0.000000</td>\n",
       "    </tr>\n",
       "    <tr>\n",
       "      <th>IABXWF</th>\n",
       "      <td>0.000000</td>\n",
       "      <td>0.000000</td>\n",
       "      <td>0.620666</td>\n",
       "      <td>0.000000</td>\n",
       "      <td>0.000000</td>\n",
       "    </tr>\n",
       "    <tr>\n",
       "      <th>WPGYMN</th>\n",
       "      <td>0.478828</td>\n",
       "      <td>0.000000</td>\n",
       "      <td>0.420503</td>\n",
       "      <td>0.000000</td>\n",
       "      <td>0.638069</td>\n",
       "    </tr>\n",
       "  </tbody>\n",
       "</table>\n",
       "</div>"
      ],
      "text/plain": [
       "           HUNDR     IAGIC     ZDAIV     DCIQI     FRTWY\n",
       "OACEIM       NaN  0.000000  0.535756  0.595838  0.000000\n",
       "XWKGVZ  0.000000  0.614949  0.000000  0.495862  0.000000\n",
       "YAPXMA  0.000000  0.000000  0.000000  0.619632  0.000000\n",
       "IABXWF  0.000000  0.000000  0.620666  0.000000  0.000000\n",
       "WPGYMN  0.478828  0.000000  0.420503  0.000000  0.638069"
      ]
     },
     "execution_count": 25,
     "metadata": {},
     "output_type": "execute_result"
    }
   ],
   "source": [
    "nan_values_pearson_df = phenotype_pearson_df.copy()\n",
    "nan_data = phenotype_pearson_data.copy()\n",
    "nan_data[0,0] = np.nan\n",
    "negative_values_pearson_df[:][:] = nan_data\n",
    "\n",
    "negative_values_pearson_df.to_csv(\n",
    "            os.path.join(phenotype_pearson_out_dir, 'phenotype_pearson_nan_value_df.tsv'), \n",
    "            sep='\\t', index=True, header=True)\n",
    "\n",
    "negative_values_pearson_df"
   ]
  },
  {
   "cell_type": "code",
   "execution_count": 33,
   "metadata": {
    "collapsed": false
   },
   "outputs": [
    {
     "data": {
      "text/html": [
       "<div>\n",
       "<table border=\"1\" class=\"dataframe\">\n",
       "  <thead>\n",
       "    <tr style=\"text-align: right;\">\n",
       "      <th></th>\n",
       "      <th>ZDAIV</th>\n",
       "      <th>HUNDR</th>\n",
       "      <th>DCIQI</th>\n",
       "      <th>EXTRA_COL</th>\n",
       "      <th>IAGIC</th>\n",
       "      <th>FRTWY</th>\n",
       "    </tr>\n",
       "  </thead>\n",
       "  <tbody>\n",
       "    <tr>\n",
       "      <th>OACEIM</th>\n",
       "      <td>0.513173</td>\n",
       "      <td>0.000000</td>\n",
       "      <td>0.535756</td>\n",
       "      <td>0.595838</td>\n",
       "      <td>0.000000</td>\n",
       "      <td>0.513173</td>\n",
       "    </tr>\n",
       "    <tr>\n",
       "      <th>XWKGVZ</th>\n",
       "      <td>0.000000</td>\n",
       "      <td>0.614949</td>\n",
       "      <td>0.000000</td>\n",
       "      <td>0.495862</td>\n",
       "      <td>0.000000</td>\n",
       "      <td>0.000000</td>\n",
       "    </tr>\n",
       "    <tr>\n",
       "      <th>YAPXMA</th>\n",
       "      <td>0.000000</td>\n",
       "      <td>0.000000</td>\n",
       "      <td>0.000000</td>\n",
       "      <td>0.619632</td>\n",
       "      <td>0.000000</td>\n",
       "      <td>0.000000</td>\n",
       "    </tr>\n",
       "    <tr>\n",
       "      <th>IABXWF</th>\n",
       "      <td>0.000000</td>\n",
       "      <td>0.000000</td>\n",
       "      <td>0.620666</td>\n",
       "      <td>0.000000</td>\n",
       "      <td>0.000000</td>\n",
       "      <td>0.000000</td>\n",
       "    </tr>\n",
       "    <tr>\n",
       "      <th>WPGYMN</th>\n",
       "      <td>0.478828</td>\n",
       "      <td>0.000000</td>\n",
       "      <td>0.420503</td>\n",
       "      <td>0.000000</td>\n",
       "      <td>0.638069</td>\n",
       "      <td>0.478828</td>\n",
       "    </tr>\n",
       "  </tbody>\n",
       "</table>\n",
       "</div>"
      ],
      "text/plain": [
       "           ZDAIV     HUNDR     DCIQI  EXTRA_COL     IAGIC     FRTWY\n",
       "OACEIM  0.513173  0.000000  0.535756   0.595838  0.000000  0.513173\n",
       "XWKGVZ  0.000000  0.614949  0.000000   0.495862  0.000000  0.000000\n",
       "YAPXMA  0.000000  0.000000  0.000000   0.619632  0.000000  0.000000\n",
       "IABXWF  0.000000  0.000000  0.620666   0.000000  0.000000  0.000000\n",
       "WPGYMN  0.478828  0.000000  0.420503   0.000000  0.638069  0.478828"
      ]
     },
     "execution_count": 33,
     "metadata": {},
     "output_type": "execute_result"
    }
   ],
   "source": [
    "extra_cols_df = phenotype_pearson_df.copy()\n",
    "extra_cols_df['EXTRA_COL'] = extra_cols_df[col_names[0]].values\n",
    "\n",
    "col_vals = list(extra_cols_df.columns.values)\n",
    "permu = np.random.permutation(len(col_vals))\n",
    "col_perm_dict = {col_vals[k]: col_vals[permu[k]] for k in range(0, len(col_vals))}\n",
    "extra_cols_df.rename(columns=col_perm_dict, inplace=True)\n",
    "extra_cols_df.to_csv(\n",
    "            os.path.join(phenotype_pearson_out_dir, 'phenotype_pearson_extra_cols_df.tsv'), \n",
    "            sep='\\t', index=True, header=True)\n",
    "\n",
    "extra_cols_df"
   ]
  },
  {
   "cell_type": "code",
   "execution_count": null,
   "metadata": {
    "collapsed": true
   },
   "outputs": [],
   "source": []
  },
  {
   "cell_type": "code",
   "execution_count": null,
   "metadata": {
    "collapsed": true
   },
   "outputs": [],
   "source": []
  },
  {
   "cell_type": "code",
   "execution_count": 9,
   "metadata": {
    "collapsed": false
   },
   "outputs": [
    {
     "data": {
      "text/html": [
       "<div>\n",
       "<table border=\"1\" class=\"dataframe\">\n",
       "  <thead>\n",
       "    <tr style=\"text-align: right;\">\n",
       "      <th></th>\n",
       "      <th>HUNDR</th>\n",
       "      <th>IAGIC</th>\n",
       "      <th>ZDAIV</th>\n",
       "      <th>DCIQI</th>\n",
       "      <th>FRTWY</th>\n",
       "    </tr>\n",
       "  </thead>\n",
       "  <tbody>\n",
       "    <tr>\n",
       "      <th>QOMKCK</th>\n",
       "      <td>0.0</td>\n",
       "      <td>1.0</td>\n",
       "      <td>1.0</td>\n",
       "      <td>0.0</td>\n",
       "      <td>0.0</td>\n",
       "    </tr>\n",
       "    <tr>\n",
       "      <th>RYBZHQ</th>\n",
       "      <td>0.0</td>\n",
       "      <td>0.0</td>\n",
       "      <td>0.0</td>\n",
       "      <td>0.0</td>\n",
       "      <td>0.0</td>\n",
       "    </tr>\n",
       "    <tr>\n",
       "      <th>WLSSHH</th>\n",
       "      <td>0.0</td>\n",
       "      <td>0.0</td>\n",
       "      <td>0.0</td>\n",
       "      <td>1.0</td>\n",
       "      <td>1.0</td>\n",
       "    </tr>\n",
       "    <tr>\n",
       "      <th>IZTVBO</th>\n",
       "      <td>0.0</td>\n",
       "      <td>0.0</td>\n",
       "      <td>0.0</td>\n",
       "      <td>0.0</td>\n",
       "      <td>1.0</td>\n",
       "    </tr>\n",
       "    <tr>\n",
       "      <th>BCWUQS</th>\n",
       "      <td>0.0</td>\n",
       "      <td>0.0</td>\n",
       "      <td>1.0</td>\n",
       "      <td>0.0</td>\n",
       "      <td>1.0</td>\n",
       "    </tr>\n",
       "  </tbody>\n",
       "</table>\n",
       "</div>"
      ],
      "text/plain": [
       "        HUNDR  IAGIC  ZDAIV  DCIQI  FRTWY\n",
       "QOMKCK    0.0    1.0    1.0    0.0    0.0\n",
       "RYBZHQ    0.0    0.0    0.0    0.0    0.0\n",
       "WLSSHH    0.0    0.0    0.0    1.0    1.0\n",
       "IZTVBO    0.0    0.0    0.0    0.0    1.0\n",
       "BCWUQS    0.0    0.0    1.0    0.0    1.0"
      ]
     },
     "execution_count": 9,
     "metadata": {},
     "output_type": "execute_result"
    }
   ],
   "source": [
    "# phenotype_t_test_out_dir = './phenotypes_t_test'\n",
    "phenotype_t_test_df = phenotype_TMP_df.copy()\n",
    "phenotype_t_test_df[:][:] = phenotype_t_test_data\n",
    "phenotype_t_test_df"
   ]
  },
  {
   "cell_type": "code",
   "execution_count": 29,
   "metadata": {
    "collapsed": false
   },
   "outputs": [
    {
     "data": {
      "text/plain": [
       "array([2, 4, 0, 1, 3])"
      ]
     },
     "execution_count": 29,
     "metadata": {},
     "output_type": "execute_result"
    }
   ],
   "source": [
    "permu = np.random.permutation(5)\n",
    "permu"
   ]
  },
  {
   "cell_type": "code",
   "execution_count": 12,
   "metadata": {
    "collapsed": false
   },
   "outputs": [
    {
     "data": {
      "text/plain": [
       "['spreadsheet_A_df.tsv',\n",
       " 'spreadsheet_ALPHA_data_df.tsv',\n",
       " 'spreadsheet_B_df.tsv',\n",
       " 'spreadsheet_DNE_df.tsv',\n",
       " 'spreadsheet_duplicate_cols_df.tsv',\n",
       " 'spreadsheet_duplicate_rows__df.tsv',\n",
       " 'spreadsheet_duplicate_rows_AND_cols_df.tsv',\n",
       " 'spreadsheet_EMPTY_cols_df.tsv',\n",
       " 'spreadsheet_EMPTY_rows_df.tsv',\n",
       " 'spreadsheet_NA_cols_df.tsv',\n",
       " 'spreadsheet_NA_rows_and_cols_df.tsv',\n",
       " 'spreadsheet_NA_rows_df.tsv',\n",
       " 'spreadsheet_NAN_data_df.tsv',\n",
       " 'spreadsheet_Negative_data_df.tsv']"
      ]
     },
     "execution_count": 12,
     "metadata": {},
     "output_type": "execute_result"
    }
   ],
   "source": [
    "spreadsheet_file_list"
   ]
  },
  {
   "cell_type": "code",
   "execution_count": null,
   "metadata": {
    "collapsed": true
   },
   "outputs": [],
   "source": []
  },
  {
   "cell_type": "code",
   "execution_count": null,
   "metadata": {
    "collapsed": true
   },
   "outputs": [],
   "source": []
  }
 ],
 "metadata": {
  "anaconda-cloud": {},
  "kernelspec": {
   "display_name": "Python [default]",
   "language": "python",
   "name": "python3"
  },
  "language_info": {
   "codemirror_mode": {
    "name": "ipython",
    "version": 3
   },
   "file_extension": ".py",
   "mimetype": "text/x-python",
   "name": "python",
   "nbconvert_exporter": "python",
   "pygments_lexer": "ipython3",
   "version": "3.5.2"
  }
 },
 "nbformat": 4,
 "nbformat_minor": 1
}
