{
 "cells": [
  {
   "cell_type": "code",
   "execution_count": 1,
   "metadata": {
    "collapsed": false
   },
   "outputs": [],
   "source": [
    "import os\n",
    "import sys\n",
    "import time\n",
    "import numpy as np\n",
    "import pandas as pd\n",
    "\n",
    "import knpackage.toolbox as kn\n",
    "\n",
    "sys.path.insert(1, '../src')\n",
    "import data_synth\n",
    "import data_wrangler as dw\n",
    "\n",
    "sys.path.insert(1, '../../Data_Cleanup_Pipeline/src/')\n",
    "import data_cleanup_toolbox as dc"
   ]
  },
  {
   "cell_type": "markdown",
   "metadata": {},
   "source": [
    "# data_cleanup_toolbox test: Gene Prioritization"
   ]
  },
  {
   "cell_type": "code",
   "execution_count": 3,
   "metadata": {
    "collapsed": false
   },
   "outputs": [],
   "source": [
    "KnowEnG_GP_dir = '../../Gene_Prioritization_Pipeline/data/networks'\n",
    "network_full_file = os.path.join(KnowEnG_GP_dir, 'STRING_experimental_gene_gene.edge')\n",
    "adj_mat, unique_gene_names = kn.get_sparse_network_matrix(network_full_file)"
   ]
  },
  {
   "cell_type": "code",
   "execution_count": 4,
   "metadata": {
    "collapsed": false
   },
   "outputs": [
    {
     "name": "stdout",
     "output_type": "stream",
     "text": [
      "phenotype_full_path :\t ./synth_data/synth_5x5_phenotype.df\n",
      "pipeline_type :\t gene_priorization_pipeline\n",
      "redis_credential :\t {'password': 'KnowEnG', 'port': 6379, 'host': 'knowredis.knowhub.org'}\n",
      "results_directory :\t ./results\n",
      "run_directory :\t ./\n",
      "run_file :\t data_cleanup.yml\n",
      "source_hint :\t \n",
      "spreadsheet_name_full_path :\t ./synth_data/synth_5x5_spreadsheet.df\n",
      "taxonid :\t 9606\n"
     ]
    }
   ],
   "source": [
    "KnowEnG_DC_dir = '../../Data_Cleanup_Pipeline'\n",
    "yml_file_name = 'data_cleanup.yml'\n",
    "yml_dir = os.path.join(KnowEnG_DC_dir, 'data/run_files')\n",
    "run_parameters = kn.get_run_parameters(yml_dir, yml_file_name)    \n",
    "\n",
    "data_dir = './synth_data'\n",
    "run_parameters['spreadsheet_name_full_path'] = os.path.join(data_dir, 'synth_5x5_spreadsheet.df')\n",
    "run_parameters['phenotype_full_path'] = os.path.join(data_dir, 'synth_5x5_phenotype.df')\n",
    "\n",
    "run_parameters['results_directory'] = './results'\n",
    "run_parameters['run_directory'] = './'\n",
    "\n",
    "dw.show_dictionary(run_parameters)"
   ]
  },
  {
   "cell_type": "markdown",
   "metadata": {},
   "source": [
    "## 1) create a spreadsheet and phenotype file that pass"
   ]
  },
  {
   "cell_type": "code",
   "execution_count": 10,
   "metadata": {
    "collapsed": false
   },
   "outputs": [
    {
     "data": {
      "text/html": [
       "<div>\n",
       "<table border=\"1\" class=\"dataframe\">\n",
       "  <thead>\n",
       "    <tr style=\"text-align: right;\">\n",
       "      <th></th>\n",
       "      <th>TDRYMUBC</th>\n",
       "      <th>AEOYLFIB</th>\n",
       "      <th>QWVAGEWV</th>\n",
       "      <th>EKONGXDX</th>\n",
       "      <th>WNZHJLRF</th>\n",
       "    </tr>\n",
       "  </thead>\n",
       "  <tbody>\n",
       "    <tr>\n",
       "      <th>SOIIAZEUCSYQQ</th>\n",
       "      <td>0.264318</td>\n",
       "      <td>0.689766</td>\n",
       "      <td>0.305338</td>\n",
       "      <td>0.778831</td>\n",
       "      <td>0.446985</td>\n",
       "    </tr>\n",
       "    <tr>\n",
       "      <th>ELXLGMFDRLDLO</th>\n",
       "      <td>0.825476</td>\n",
       "      <td>0.330332</td>\n",
       "      <td>0.742672</td>\n",
       "      <td>0.949911</td>\n",
       "      <td>0.490361</td>\n",
       "    </tr>\n",
       "    <tr>\n",
       "      <th>EDYHISYRMWMTS</th>\n",
       "      <td>0.321523</td>\n",
       "      <td>0.549223</td>\n",
       "      <td>0.688870</td>\n",
       "      <td>0.974571</td>\n",
       "      <td>0.722941</td>\n",
       "    </tr>\n",
       "    <tr>\n",
       "      <th>XZHDTSVYXUPFS</th>\n",
       "      <td>0.322256</td>\n",
       "      <td>0.160509</td>\n",
       "      <td>0.358588</td>\n",
       "      <td>0.023793</td>\n",
       "      <td>0.418627</td>\n",
       "    </tr>\n",
       "    <tr>\n",
       "      <th>PBTYFMUZERSEI</th>\n",
       "      <td>0.395000</td>\n",
       "      <td>0.906352</td>\n",
       "      <td>0.514123</td>\n",
       "      <td>0.127407</td>\n",
       "      <td>0.327006</td>\n",
       "    </tr>\n",
       "  </tbody>\n",
       "</table>\n",
       "</div>"
      ],
      "text/plain": [
       "               TDRYMUBC  AEOYLFIB  QWVAGEWV  EKONGXDX  WNZHJLRF\n",
       "SOIIAZEUCSYQQ  0.264318  0.689766  0.305338  0.778831  0.446985\n",
       "ELXLGMFDRLDLO  0.825476  0.330332  0.742672  0.949911  0.490361\n",
       "EDYHISYRMWMTS  0.321523  0.549223  0.688870  0.974571  0.722941\n",
       "XZHDTSVYXUPFS  0.322256  0.160509  0.358588  0.023793  0.418627\n",
       "PBTYFMUZERSEI  0.395000  0.906352  0.514123  0.127407  0.327006"
      ]
     },
     "execution_count": 10,
     "metadata": {},
     "output_type": "execute_result"
    }
   ],
   "source": [
    "random_df = data_synth.get_rand_dataframe(n_rows=5, n_cols=5, row_name_chars=15, col_name_chars=8)\n",
    "random_df.to_csv(run_parameters['phenotype_full_path'], sep='\\t')\n",
    "random_df"
   ]
  },
  {
   "cell_type": "code",
   "execution_count": 11,
   "metadata": {
    "collapsed": false
   },
   "outputs": [
    {
     "data": {
      "text/html": [
       "<div>\n",
       "<table border=\"1\" class=\"dataframe\">\n",
       "  <thead>\n",
       "    <tr style=\"text-align: right;\">\n",
       "      <th></th>\n",
       "      <th>TDRYMUBC</th>\n",
       "      <th>AEOYLFIB</th>\n",
       "      <th>QWVAGEWV</th>\n",
       "      <th>EKONGXDX</th>\n",
       "      <th>WNZHJLRF</th>\n",
       "    </tr>\n",
       "  </thead>\n",
       "  <tbody>\n",
       "    <tr>\n",
       "      <th>ENSG00000000003</th>\n",
       "      <td>0.264318</td>\n",
       "      <td>0.689766</td>\n",
       "      <td>0.305338</td>\n",
       "      <td>0.778831</td>\n",
       "      <td>0.446985</td>\n",
       "    </tr>\n",
       "    <tr>\n",
       "      <th>ENSG00000000005</th>\n",
       "      <td>0.825476</td>\n",
       "      <td>0.330332</td>\n",
       "      <td>0.742672</td>\n",
       "      <td>0.949911</td>\n",
       "      <td>0.490361</td>\n",
       "    </tr>\n",
       "    <tr>\n",
       "      <th>ENSG00000000419</th>\n",
       "      <td>0.321523</td>\n",
       "      <td>0.549223</td>\n",
       "      <td>0.688870</td>\n",
       "      <td>0.974571</td>\n",
       "      <td>0.722941</td>\n",
       "    </tr>\n",
       "    <tr>\n",
       "      <th>ENSG00000000457</th>\n",
       "      <td>0.322256</td>\n",
       "      <td>0.160509</td>\n",
       "      <td>0.358588</td>\n",
       "      <td>0.023793</td>\n",
       "      <td>0.418627</td>\n",
       "    </tr>\n",
       "    <tr>\n",
       "      <th>ENSG00000000460</th>\n",
       "      <td>0.395000</td>\n",
       "      <td>0.906352</td>\n",
       "      <td>0.514123</td>\n",
       "      <td>0.127407</td>\n",
       "      <td>0.327006</td>\n",
       "    </tr>\n",
       "  </tbody>\n",
       "</table>\n",
       "</div>"
      ],
      "text/plain": [
       "                 TDRYMUBC  AEOYLFIB  QWVAGEWV  EKONGXDX  WNZHJLRF\n",
       "ENSG00000000003  0.264318  0.689766  0.305338  0.778831  0.446985\n",
       "ENSG00000000005  0.825476  0.330332  0.742672  0.949911  0.490361\n",
       "ENSG00000000419  0.321523  0.549223  0.688870  0.974571  0.722941\n",
       "ENSG00000000457  0.322256  0.160509  0.358588  0.023793  0.418627\n",
       "ENSG00000000460  0.395000  0.906352  0.514123  0.127407  0.327006"
      ]
     },
     "execution_count": 11,
     "metadata": {},
     "output_type": "execute_result"
    }
   ],
   "source": [
    "ensembl_names_dict = {}\n",
    "start_name = 0\n",
    "for rand_name in list(random_df.index.values):\n",
    "    ensembl_names_dict[rand_name] = unique_gene_names[start_name]\n",
    "    start_name += 1\n",
    "\n",
    "random_df.rename(index=ensembl_names_dict, inplace=True)\n",
    "random_df.to_csv(run_parameters['spreadsheet_name_full_path'], sep='\\t')\n",
    "random_df"
   ]
  },
  {
   "cell_type": "code",
   "execution_count": 12,
   "metadata": {
    "collapsed": false
   },
   "outputs": [
    {
     "name": "stdout",
     "output_type": "stream",
     "text": [
      "This is a valid user spreadsheet. Proceed to next step analysis.\n"
     ]
    }
   ],
   "source": [
    "validation_flag, message = dc.run_gene_priorization_pipeline(run_parameters)\n",
    "print(message)"
   ]
  },
  {
   "cell_type": "markdown",
   "metadata": {},
   "source": [
    "## negative values in spreadsheet - should pass, negative phenotype values - should fail"
   ]
  },
  {
   "cell_type": "code",
   "execution_count": null,
   "metadata": {
    "collapsed": true
   },
   "outputs": [],
   "source": []
  },
  {
   "cell_type": "code",
   "execution_count": null,
   "metadata": {
    "collapsed": true
   },
   "outputs": [],
   "source": []
  },
  {
   "cell_type": "code",
   "execution_count": null,
   "metadata": {
    "collapsed": true
   },
   "outputs": [],
   "source": []
  },
  {
   "cell_type": "markdown",
   "metadata": {},
   "source": [
    "## create a spreadsheet and phenotype file with no intersection - should fail"
   ]
  },
  {
   "cell_type": "code",
   "execution_count": 13,
   "metadata": {
    "collapsed": false
   },
   "outputs": [
    {
     "data": {
      "text/html": [
       "<div>\n",
       "<table border=\"1\" class=\"dataframe\">\n",
       "  <thead>\n",
       "    <tr style=\"text-align: right;\">\n",
       "      <th></th>\n",
       "      <th>WIFSSYBZ</th>\n",
       "      <th>FPLQXFPI</th>\n",
       "      <th>OXVNSFAD</th>\n",
       "      <th>LISGICKC</th>\n",
       "      <th>ADTVIPDC</th>\n",
       "    </tr>\n",
       "  </thead>\n",
       "  <tbody>\n",
       "    <tr>\n",
       "      <th>DBBKXZSZXBDZS</th>\n",
       "      <td>0.607454</td>\n",
       "      <td>0.724054</td>\n",
       "      <td>0.552735</td>\n",
       "      <td>0.126308</td>\n",
       "      <td>0.994306</td>\n",
       "    </tr>\n",
       "    <tr>\n",
       "      <th>YQMBZVYXJFPGQ</th>\n",
       "      <td>0.972533</td>\n",
       "      <td>0.797067</td>\n",
       "      <td>0.857623</td>\n",
       "      <td>0.106495</td>\n",
       "      <td>0.054251</td>\n",
       "    </tr>\n",
       "    <tr>\n",
       "      <th>NUGQXXYLJACHS</th>\n",
       "      <td>0.561656</td>\n",
       "      <td>0.467114</td>\n",
       "      <td>0.992710</td>\n",
       "      <td>0.643279</td>\n",
       "      <td>0.085763</td>\n",
       "    </tr>\n",
       "    <tr>\n",
       "      <th>KUVKEQQJDOIXK</th>\n",
       "      <td>0.174448</td>\n",
       "      <td>0.920479</td>\n",
       "      <td>0.603322</td>\n",
       "      <td>0.456400</td>\n",
       "      <td>0.701734</td>\n",
       "    </tr>\n",
       "    <tr>\n",
       "      <th>BFZRCIZYZIYMI</th>\n",
       "      <td>0.483582</td>\n",
       "      <td>0.209566</td>\n",
       "      <td>0.196854</td>\n",
       "      <td>0.600636</td>\n",
       "      <td>0.065224</td>\n",
       "    </tr>\n",
       "  </tbody>\n",
       "</table>\n",
       "</div>"
      ],
      "text/plain": [
       "               WIFSSYBZ  FPLQXFPI  OXVNSFAD  LISGICKC  ADTVIPDC\n",
       "DBBKXZSZXBDZS  0.607454  0.724054  0.552735  0.126308  0.994306\n",
       "YQMBZVYXJFPGQ  0.972533  0.797067  0.857623  0.106495  0.054251\n",
       "NUGQXXYLJACHS  0.561656  0.467114  0.992710  0.643279  0.085763\n",
       "KUVKEQQJDOIXK  0.174448  0.920479  0.603322  0.456400  0.701734\n",
       "BFZRCIZYZIYMI  0.483582  0.209566  0.196854  0.600636  0.065224"
      ]
     },
     "execution_count": 13,
     "metadata": {},
     "output_type": "execute_result"
    }
   ],
   "source": [
    "random_df = data_synth.get_rand_dataframe(n_rows=5, n_cols=5, row_name_chars=15, col_name_chars=8)\n",
    "random_df.to_csv(run_parameters['phenotype_full_path'], sep='\\t')\n",
    "random_df"
   ]
  },
  {
   "cell_type": "code",
   "execution_count": 14,
   "metadata": {
    "collapsed": false
   },
   "outputs": [
    {
     "name": "stdout",
     "output_type": "stream",
     "text": [
      "Cannot find intersection between user spreadsheet column and phenotype data.\n"
     ]
    }
   ],
   "source": [
    "validation_flag, message = dc.run_gene_priorization_pipeline(run_parameters)\n",
    "print(message)"
   ]
  },
  {
   "cell_type": "code",
   "execution_count": null,
   "metadata": {
    "collapsed": true
   },
   "outputs": [],
   "source": []
  }
 ],
 "metadata": {
  "anaconda-cloud": {},
  "kernelspec": {
   "display_name": "Python [default]",
   "language": "python",
   "name": "python3"
  },
  "language_info": {
   "codemirror_mode": {
    "name": "ipython",
    "version": 3
   },
   "file_extension": ".py",
   "mimetype": "text/x-python",
   "name": "python",
   "nbconvert_exporter": "python",
   "pygments_lexer": "ipython3",
   "version": "3.5.2"
  }
 },
 "nbformat": 4,
 "nbformat_minor": 1
}
